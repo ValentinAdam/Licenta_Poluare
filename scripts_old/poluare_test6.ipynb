{
 "cells": [
  {
   "cell_type": "code",
   "execution_count": 12,
   "metadata": {},
   "outputs": [],
   "source": [
    "import pandas as pd"
   ]
  },
  {
   "cell_type": "code",
   "execution_count": 13,
   "metadata": {},
   "outputs": [],
   "source": [
    "import requests"
   ]
  },
  {
   "cell_type": "code",
   "execution_count": 14,
   "metadata": {},
   "outputs": [],
   "source": [
    "from requests.auth import HTTPBasicAuth\n",
    "auth = HTTPBasicAuth('elastic', 'AWbtmGda2Q7BI2bYpdjyF4qd')\n",
    "url = 'https://8f9677360fc34e2eb943d737b2597c7b.us-east-1.aws.found.io:9243/brasov-dev/_search'\n"
   ]
  },
  {
   "cell_type": "code",
   "execution_count": 15,
   "metadata": {},
   "outputs": [],
   "source": [
    "response = requests.get(url=url, auth=auth)"
   ]
  },
  {
   "cell_type": "code",
   "execution_count": 16,
   "metadata": {},
   "outputs": [
    {
     "data": {
      "text/plain": [
       "<Response [200]>"
      ]
     },
     "execution_count": 16,
     "metadata": {},
     "output_type": "execute_result"
    }
   ],
   "source": [
    "response"
   ]
  },
  {
   "cell_type": "code",
   "execution_count": 17,
   "metadata": {},
   "outputs": [],
   "source": [
    "import json\n",
    "data = json.loads(response.text)"
   ]
  },
  {
   "cell_type": "code",
   "execution_count": 18,
   "metadata": {},
   "outputs": [
    {
     "data": {
      "text/plain": [
       "{'took': 0,\n",
       " 'timed_out': False,\n",
       " '_shards': {'total': 1, 'successful': 1, 'skipped': 0, 'failed': 0},\n",
       " 'hits': {'total': {'value': 10000, 'relation': 'gte'},\n",
       "  'max_score': 1.0,\n",
       "  'hits': [{'_index': 'brasov-dev',\n",
       "    '_type': '_doc',\n",
       "    '_id': 'zWpMNXcBTeKmGB84ekLH',\n",
       "    '_score': 1.0,\n",
       "    '_source': {'Source': 'UradMonitor',\n",
       "     'Sensor': 'pm25',\n",
       "     'Value': 20,\n",
       "     'LocationLat': 45.6568,\n",
       "     'LocationLong': 25.5917,\n",
       "     'TimeStamp': 1611506922000,\n",
       "     'Measurement': 'µg/m3'}},\n",
       "   {'_index': 'brasov-dev',\n",
       "    '_type': '_doc',\n",
       "    '_id': 'z2pMNXcBTeKmGB84ekLI',\n",
       "    '_score': 1.0,\n",
       "    '_source': {'Source': 'UradMonitor',\n",
       "     'Sensor': 'pm25',\n",
       "     'Value': 20,\n",
       "     'LocationLat': 45.670103,\n",
       "     'LocationLong': 25.617966,\n",
       "     'TimeStamp': 1611506907000,\n",
       "     'Measurement': 'µg/m3'}},\n",
       "   {'_index': 'brasov-dev',\n",
       "    '_type': '_doc',\n",
       "    '_id': '0GpMNXcBTeKmGB84ekLJ',\n",
       "    '_score': 1.0,\n",
       "    '_source': {'Source': 'UradMonitor',\n",
       "     'Sensor': 'pm1',\n",
       "     'Value': 15,\n",
       "     'LocationLat': 45.653509,\n",
       "     'LocationLong': 25.56612,\n",
       "     'TimeStamp': 1611506908000,\n",
       "     'Measurement': 'µg/m3'}},\n",
       "   {'_index': 'brasov-dev',\n",
       "    '_type': '_doc',\n",
       "    '_id': '0WpMNXcBTeKmGB84ekLJ',\n",
       "    '_score': 1.0,\n",
       "    '_source': {'Source': 'UradMonitor',\n",
       "     'Sensor': 'pm10',\n",
       "     'Value': 16,\n",
       "     'LocationLat': 45.6536,\n",
       "     'LocationLong': 25.599,\n",
       "     'TimeStamp': 1611506893000,\n",
       "     'Measurement': 'µg/m3'}},\n",
       "   {'_index': 'brasov-dev',\n",
       "    '_type': '_doc',\n",
       "    '_id': '0mpMNXcBTeKmGB84ekLK',\n",
       "    '_score': 1.0,\n",
       "    '_source': {'Source': 'UradMonitor',\n",
       "     'Sensor': 'pm1',\n",
       "     'Value': 12,\n",
       "     'LocationLat': 45.6718,\n",
       "     'LocationLong': 25.6006,\n",
       "     'TimeStamp': 1586291052000,\n",
       "     'Measurement': 'µg/m3'}},\n",
       "   {'_index': 'brasov-dev',\n",
       "    '_type': '_doc',\n",
       "    '_id': '1GpMNXcBTeKmGB84ekLM',\n",
       "    '_score': 1.0,\n",
       "    '_source': {'Source': 'UradMonitor',\n",
       "     'Sensor': 'pm10',\n",
       "     'Value': 2,\n",
       "     'LocationLat': 45.589267,\n",
       "     'LocationLong': 25.46445,\n",
       "     'TimeStamp': 1611506937000,\n",
       "     'Measurement': 'µg/m3'}},\n",
       "   {'_index': 'brasov-dev',\n",
       "    '_type': '_doc',\n",
       "    '_id': '02pMNXcBTeKmGB84ekLM',\n",
       "    '_score': 1.0,\n",
       "    '_source': {'Source': 'UradMonitor',\n",
       "     'Sensor': 'pm25',\n",
       "     'Value': 21,\n",
       "     'LocationLat': 45.6718,\n",
       "     'LocationLong': 25.6006,\n",
       "     'TimeStamp': 1586291052000,\n",
       "     'Measurement': 'µg/m3'}},\n",
       "   {'_index': 'brasov-dev',\n",
       "    '_type': '_doc',\n",
       "    '_id': '1WpMNXcBTeKmGB84ekLM',\n",
       "    '_score': 1.0,\n",
       "    '_source': {'Source': 'UradMonitor',\n",
       "     'Sensor': 'pm1',\n",
       "     'Value': 12,\n",
       "     'LocationLat': 45.670103,\n",
       "     'LocationLong': 25.617966,\n",
       "     'TimeStamp': 1611506907000,\n",
       "     'Measurement': 'µg/m3'}},\n",
       "   {'_index': 'brasov-dev',\n",
       "    '_type': '_doc',\n",
       "    '_id': '1mpMNXcBTeKmGB84ekLM',\n",
       "    '_score': 1.0,\n",
       "    '_source': {'Source': 'UradMonitor',\n",
       "     'Sensor': 'pm25',\n",
       "     'Value': 24,\n",
       "     'LocationLat': 45.653509,\n",
       "     'LocationLong': 25.56612,\n",
       "     'TimeStamp': 1611506908000,\n",
       "     'Measurement': 'µg/m3'}},\n",
       "   {'_index': 'brasov-dev',\n",
       "    '_type': '_doc',\n",
       "    '_id': '12pMNXcBTeKmGB84ekLM',\n",
       "    '_score': 1.0,\n",
       "    '_source': {'Source': 'UradMonitor',\n",
       "     'Sensor': 'pm1',\n",
       "     'Value': 14,\n",
       "     'LocationLat': 45.704032,\n",
       "     'LocationLong': 25.640955,\n",
       "     'TimeStamp': 1611506918000,\n",
       "     'Measurement': 'µg/m3'}}]}}"
      ]
     },
     "execution_count": 18,
     "metadata": {},
     "output_type": "execute_result"
    }
   ],
   "source": [
    "data"
   ]
  },
  {
   "cell_type": "code",
   "execution_count": 19,
   "metadata": {},
   "outputs": [
    {
     "data": {
      "text/plain": [
       "dict_keys(['took', 'timed_out', '_shards', 'hits'])"
      ]
     },
     "execution_count": 19,
     "metadata": {},
     "output_type": "execute_result"
    }
   ],
   "source": [
    "data.keys()"
   ]
  },
  {
   "cell_type": "code",
   "execution_count": 20,
   "metadata": {},
   "outputs": [
    {
     "data": {
      "text/plain": [
       "{'total': {'value': 10000, 'relation': 'gte'},\n",
       " 'max_score': 1.0,\n",
       " 'hits': [{'_index': 'brasov-dev',\n",
       "   '_type': '_doc',\n",
       "   '_id': 'zWpMNXcBTeKmGB84ekLH',\n",
       "   '_score': 1.0,\n",
       "   '_source': {'Source': 'UradMonitor',\n",
       "    'Sensor': 'pm25',\n",
       "    'Value': 20,\n",
       "    'LocationLat': 45.6568,\n",
       "    'LocationLong': 25.5917,\n",
       "    'TimeStamp': 1611506922000,\n",
       "    'Measurement': 'µg/m3'}},\n",
       "  {'_index': 'brasov-dev',\n",
       "   '_type': '_doc',\n",
       "   '_id': 'z2pMNXcBTeKmGB84ekLI',\n",
       "   '_score': 1.0,\n",
       "   '_source': {'Source': 'UradMonitor',\n",
       "    'Sensor': 'pm25',\n",
       "    'Value': 20,\n",
       "    'LocationLat': 45.670103,\n",
       "    'LocationLong': 25.617966,\n",
       "    'TimeStamp': 1611506907000,\n",
       "    'Measurement': 'µg/m3'}},\n",
       "  {'_index': 'brasov-dev',\n",
       "   '_type': '_doc',\n",
       "   '_id': '0GpMNXcBTeKmGB84ekLJ',\n",
       "   '_score': 1.0,\n",
       "   '_source': {'Source': 'UradMonitor',\n",
       "    'Sensor': 'pm1',\n",
       "    'Value': 15,\n",
       "    'LocationLat': 45.653509,\n",
       "    'LocationLong': 25.56612,\n",
       "    'TimeStamp': 1611506908000,\n",
       "    'Measurement': 'µg/m3'}},\n",
       "  {'_index': 'brasov-dev',\n",
       "   '_type': '_doc',\n",
       "   '_id': '0WpMNXcBTeKmGB84ekLJ',\n",
       "   '_score': 1.0,\n",
       "   '_source': {'Source': 'UradMonitor',\n",
       "    'Sensor': 'pm10',\n",
       "    'Value': 16,\n",
       "    'LocationLat': 45.6536,\n",
       "    'LocationLong': 25.599,\n",
       "    'TimeStamp': 1611506893000,\n",
       "    'Measurement': 'µg/m3'}},\n",
       "  {'_index': 'brasov-dev',\n",
       "   '_type': '_doc',\n",
       "   '_id': '0mpMNXcBTeKmGB84ekLK',\n",
       "   '_score': 1.0,\n",
       "   '_source': {'Source': 'UradMonitor',\n",
       "    'Sensor': 'pm1',\n",
       "    'Value': 12,\n",
       "    'LocationLat': 45.6718,\n",
       "    'LocationLong': 25.6006,\n",
       "    'TimeStamp': 1586291052000,\n",
       "    'Measurement': 'µg/m3'}},\n",
       "  {'_index': 'brasov-dev',\n",
       "   '_type': '_doc',\n",
       "   '_id': '1GpMNXcBTeKmGB84ekLM',\n",
       "   '_score': 1.0,\n",
       "   '_source': {'Source': 'UradMonitor',\n",
       "    'Sensor': 'pm10',\n",
       "    'Value': 2,\n",
       "    'LocationLat': 45.589267,\n",
       "    'LocationLong': 25.46445,\n",
       "    'TimeStamp': 1611506937000,\n",
       "    'Measurement': 'µg/m3'}},\n",
       "  {'_index': 'brasov-dev',\n",
       "   '_type': '_doc',\n",
       "   '_id': '02pMNXcBTeKmGB84ekLM',\n",
       "   '_score': 1.0,\n",
       "   '_source': {'Source': 'UradMonitor',\n",
       "    'Sensor': 'pm25',\n",
       "    'Value': 21,\n",
       "    'LocationLat': 45.6718,\n",
       "    'LocationLong': 25.6006,\n",
       "    'TimeStamp': 1586291052000,\n",
       "    'Measurement': 'µg/m3'}},\n",
       "  {'_index': 'brasov-dev',\n",
       "   '_type': '_doc',\n",
       "   '_id': '1WpMNXcBTeKmGB84ekLM',\n",
       "   '_score': 1.0,\n",
       "   '_source': {'Source': 'UradMonitor',\n",
       "    'Sensor': 'pm1',\n",
       "    'Value': 12,\n",
       "    'LocationLat': 45.670103,\n",
       "    'LocationLong': 25.617966,\n",
       "    'TimeStamp': 1611506907000,\n",
       "    'Measurement': 'µg/m3'}},\n",
       "  {'_index': 'brasov-dev',\n",
       "   '_type': '_doc',\n",
       "   '_id': '1mpMNXcBTeKmGB84ekLM',\n",
       "   '_score': 1.0,\n",
       "   '_source': {'Source': 'UradMonitor',\n",
       "    'Sensor': 'pm25',\n",
       "    'Value': 24,\n",
       "    'LocationLat': 45.653509,\n",
       "    'LocationLong': 25.56612,\n",
       "    'TimeStamp': 1611506908000,\n",
       "    'Measurement': 'µg/m3'}},\n",
       "  {'_index': 'brasov-dev',\n",
       "   '_type': '_doc',\n",
       "   '_id': '12pMNXcBTeKmGB84ekLM',\n",
       "   '_score': 1.0,\n",
       "   '_source': {'Source': 'UradMonitor',\n",
       "    'Sensor': 'pm1',\n",
       "    'Value': 14,\n",
       "    'LocationLat': 45.704032,\n",
       "    'LocationLong': 25.640955,\n",
       "    'TimeStamp': 1611506918000,\n",
       "    'Measurement': 'µg/m3'}}]}"
      ]
     },
     "execution_count": 20,
     "metadata": {},
     "output_type": "execute_result"
    }
   ],
   "source": [
    "data['hits']"
   ]
  },
  {
   "cell_type": "code",
   "execution_count": 21,
   "metadata": {},
   "outputs": [],
   "source": [
    "data2 = data['hits']"
   ]
  },
  {
   "cell_type": "code",
   "execution_count": 24,
   "metadata": {},
   "outputs": [
    {
     "data": {
      "text/plain": [
       "dict_keys(['total', 'max_score', 'hits'])"
      ]
     },
     "execution_count": 24,
     "metadata": {},
     "output_type": "execute_result"
    }
   ],
   "source": [
    "data2.keys()"
   ]
  },
  {
   "cell_type": "code",
   "execution_count": 26,
   "metadata": {},
   "outputs": [],
   "source": [
    "data3 = data2['hits']"
   ]
  },
  {
   "cell_type": "code",
   "execution_count": 60,
   "metadata": {},
   "outputs": [],
   "source": [
    "data4 = data3[0]"
   ]
  },
  {
   "cell_type": "code",
   "execution_count": 65,
   "metadata": {},
   "outputs": [],
   "source": [
    "df = pd.DataFrame(data4)"
   ]
  },
  {
   "cell_type": "code",
   "execution_count": 66,
   "metadata": {},
   "outputs": [
    {
     "data": {
      "text/html": [
       "<div>\n",
       "<style scoped>\n",
       "    .dataframe tbody tr th:only-of-type {\n",
       "        vertical-align: middle;\n",
       "    }\n",
       "\n",
       "    .dataframe tbody tr th {\n",
       "        vertical-align: top;\n",
       "    }\n",
       "\n",
       "    .dataframe thead th {\n",
       "        text-align: right;\n",
       "    }\n",
       "</style>\n",
       "<table border=\"1\" class=\"dataframe\">\n",
       "  <thead>\n",
       "    <tr style=\"text-align: right;\">\n",
       "      <th></th>\n",
       "      <th>_index</th>\n",
       "      <th>_type</th>\n",
       "      <th>_id</th>\n",
       "      <th>_score</th>\n",
       "      <th>_source</th>\n",
       "    </tr>\n",
       "  </thead>\n",
       "  <tbody>\n",
       "    <tr>\n",
       "      <th>LocationLat</th>\n",
       "      <td>brasov-dev</td>\n",
       "      <td>_doc</td>\n",
       "      <td>zWpMNXcBTeKmGB84ekLH</td>\n",
       "      <td>1.0</td>\n",
       "      <td>45.6568</td>\n",
       "    </tr>\n",
       "    <tr>\n",
       "      <th>LocationLong</th>\n",
       "      <td>brasov-dev</td>\n",
       "      <td>_doc</td>\n",
       "      <td>zWpMNXcBTeKmGB84ekLH</td>\n",
       "      <td>1.0</td>\n",
       "      <td>25.5917</td>\n",
       "    </tr>\n",
       "    <tr>\n",
       "      <th>Measurement</th>\n",
       "      <td>brasov-dev</td>\n",
       "      <td>_doc</td>\n",
       "      <td>zWpMNXcBTeKmGB84ekLH</td>\n",
       "      <td>1.0</td>\n",
       "      <td>µg/m3</td>\n",
       "    </tr>\n",
       "    <tr>\n",
       "      <th>Sensor</th>\n",
       "      <td>brasov-dev</td>\n",
       "      <td>_doc</td>\n",
       "      <td>zWpMNXcBTeKmGB84ekLH</td>\n",
       "      <td>1.0</td>\n",
       "      <td>pm25</td>\n",
       "    </tr>\n",
       "    <tr>\n",
       "      <th>Source</th>\n",
       "      <td>brasov-dev</td>\n",
       "      <td>_doc</td>\n",
       "      <td>zWpMNXcBTeKmGB84ekLH</td>\n",
       "      <td>1.0</td>\n",
       "      <td>UradMonitor</td>\n",
       "    </tr>\n",
       "    <tr>\n",
       "      <th>TimeStamp</th>\n",
       "      <td>brasov-dev</td>\n",
       "      <td>_doc</td>\n",
       "      <td>zWpMNXcBTeKmGB84ekLH</td>\n",
       "      <td>1.0</td>\n",
       "      <td>1611506922000</td>\n",
       "    </tr>\n",
       "    <tr>\n",
       "      <th>Value</th>\n",
       "      <td>brasov-dev</td>\n",
       "      <td>_doc</td>\n",
       "      <td>zWpMNXcBTeKmGB84ekLH</td>\n",
       "      <td>1.0</td>\n",
       "      <td>20</td>\n",
       "    </tr>\n",
       "  </tbody>\n",
       "</table>\n",
       "</div>"
      ],
      "text/plain": [
       "                  _index _type                   _id  _score        _source\n",
       "LocationLat   brasov-dev  _doc  zWpMNXcBTeKmGB84ekLH     1.0        45.6568\n",
       "LocationLong  brasov-dev  _doc  zWpMNXcBTeKmGB84ekLH     1.0        25.5917\n",
       "Measurement   brasov-dev  _doc  zWpMNXcBTeKmGB84ekLH     1.0          µg/m3\n",
       "Sensor        brasov-dev  _doc  zWpMNXcBTeKmGB84ekLH     1.0           pm25\n",
       "Source        brasov-dev  _doc  zWpMNXcBTeKmGB84ekLH     1.0    UradMonitor\n",
       "TimeStamp     brasov-dev  _doc  zWpMNXcBTeKmGB84ekLH     1.0  1611506922000\n",
       "Value         brasov-dev  _doc  zWpMNXcBTeKmGB84ekLH     1.0             20"
      ]
     },
     "execution_count": 66,
     "metadata": {},
     "output_type": "execute_result"
    }
   ],
   "source": [
    "df"
   ]
  }
 ],
 "metadata": {
  "interpreter": {
   "hash": "b89b5cfaba6639976dc87ff2fec6d58faec662063367e2c229c520fe71072417"
  },
  "kernelspec": {
   "display_name": "Python 3.10.1 64-bit",
   "language": "python",
   "name": "python3"
  },
  "language_info": {
   "codemirror_mode": {
    "name": "ipython",
    "version": 3
   },
   "file_extension": ".py",
   "mimetype": "text/x-python",
   "name": "python",
   "nbconvert_exporter": "python",
   "pygments_lexer": "ipython3",
   "version": "3.9.7"
  },
  "orig_nbformat": 4
 },
 "nbformat": 4,
 "nbformat_minor": 2
}
