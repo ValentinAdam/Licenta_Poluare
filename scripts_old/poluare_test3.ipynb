{
 "cells": [
  {
   "cell_type": "code",
   "execution_count": 1,
   "metadata": {},
   "outputs": [],
   "source": [
    "import pandas as pd"
   ]
  },
  {
   "cell_type": "code",
   "execution_count": 2,
   "metadata": {},
   "outputs": [],
   "source": [
    "import requests"
   ]
  },
  {
   "cell_type": "code",
   "execution_count": 3,
   "metadata": {},
   "outputs": [],
   "source": [
    "from requests.auth import HTTPBasicAuth\n",
    "auth = HTTPBasicAuth('elastic', 'AWbtmGda2Q7BI2bYpdjyF4qd')\n",
    "url = 'https://8f9677360fc34e2eb943d737b2597c7b.us-east-1.aws.found.io:9243/brasov-dev/_search'\n"
   ]
  },
  {
   "cell_type": "code",
   "execution_count": 4,
   "metadata": {},
   "outputs": [],
   "source": [
    "response = requests.get(url=url, auth=auth)"
   ]
  },
  {
   "cell_type": "code",
   "execution_count": 7,
   "metadata": {},
   "outputs": [
    {
     "data": {
      "text/plain": [
       "<Response [200]>"
      ]
     },
     "execution_count": 7,
     "metadata": {},
     "output_type": "execute_result"
    }
   ],
   "source": [
    "response"
   ]
  },
  {
   "cell_type": "code",
   "execution_count": 8,
   "metadata": {},
   "outputs": [],
   "source": [
    "import json\n",
    "data = json.loads(response.text)"
   ]
  },
  {
   "cell_type": "code",
   "execution_count": 9,
   "metadata": {},
   "outputs": [
    {
     "data": {
      "text/plain": [
       "{'took': 0,\n",
       " 'timed_out': False,\n",
       " '_shards': {'total': 1, 'successful': 1, 'skipped': 0, 'failed': 0},\n",
       " 'hits': {'total': {'value': 10000, 'relation': 'gte'},\n",
       "  'max_score': 1.0,\n",
       "  'hits': [{'_index': 'brasov-dev',\n",
       "    '_type': '_doc',\n",
       "    '_id': 'zWpMNXcBTeKmGB84ekLH',\n",
       "    '_score': 1.0,\n",
       "    '_source': {'Source': 'UradMonitor',\n",
       "     'Sensor': 'pm25',\n",
       "     'Value': 20,\n",
       "     'LocationLat': 45.6568,\n",
       "     'LocationLong': 25.5917,\n",
       "     'TimeStamp': 1611506922000,\n",
       "     'Measurement': 'µg/m3'}},\n",
       "   {'_index': 'brasov-dev',\n",
       "    '_type': '_doc',\n",
       "    '_id': 'z2pMNXcBTeKmGB84ekLI',\n",
       "    '_score': 1.0,\n",
       "    '_source': {'Source': 'UradMonitor',\n",
       "     'Sensor': 'pm25',\n",
       "     'Value': 20,\n",
       "     'LocationLat': 45.670103,\n",
       "     'LocationLong': 25.617966,\n",
       "     'TimeStamp': 1611506907000,\n",
       "     'Measurement': 'µg/m3'}},\n",
       "   {'_index': 'brasov-dev',\n",
       "    '_type': '_doc',\n",
       "    '_id': '0GpMNXcBTeKmGB84ekLJ',\n",
       "    '_score': 1.0,\n",
       "    '_source': {'Source': 'UradMonitor',\n",
       "     'Sensor': 'pm1',\n",
       "     'Value': 15,\n",
       "     'LocationLat': 45.653509,\n",
       "     'LocationLong': 25.56612,\n",
       "     'TimeStamp': 1611506908000,\n",
       "     'Measurement': 'µg/m3'}},\n",
       "   {'_index': 'brasov-dev',\n",
       "    '_type': '_doc',\n",
       "    '_id': '0WpMNXcBTeKmGB84ekLJ',\n",
       "    '_score': 1.0,\n",
       "    '_source': {'Source': 'UradMonitor',\n",
       "     'Sensor': 'pm10',\n",
       "     'Value': 16,\n",
       "     'LocationLat': 45.6536,\n",
       "     'LocationLong': 25.599,\n",
       "     'TimeStamp': 1611506893000,\n",
       "     'Measurement': 'µg/m3'}},\n",
       "   {'_index': 'brasov-dev',\n",
       "    '_type': '_doc',\n",
       "    '_id': '0mpMNXcBTeKmGB84ekLK',\n",
       "    '_score': 1.0,\n",
       "    '_source': {'Source': 'UradMonitor',\n",
       "     'Sensor': 'pm1',\n",
       "     'Value': 12,\n",
       "     'LocationLat': 45.6718,\n",
       "     'LocationLong': 25.6006,\n",
       "     'TimeStamp': 1586291052000,\n",
       "     'Measurement': 'µg/m3'}},\n",
       "   {'_index': 'brasov-dev',\n",
       "    '_type': '_doc',\n",
       "    '_id': '1GpMNXcBTeKmGB84ekLM',\n",
       "    '_score': 1.0,\n",
       "    '_source': {'Source': 'UradMonitor',\n",
       "     'Sensor': 'pm10',\n",
       "     'Value': 2,\n",
       "     'LocationLat': 45.589267,\n",
       "     'LocationLong': 25.46445,\n",
       "     'TimeStamp': 1611506937000,\n",
       "     'Measurement': 'µg/m3'}},\n",
       "   {'_index': 'brasov-dev',\n",
       "    '_type': '_doc',\n",
       "    '_id': '02pMNXcBTeKmGB84ekLM',\n",
       "    '_score': 1.0,\n",
       "    '_source': {'Source': 'UradMonitor',\n",
       "     'Sensor': 'pm25',\n",
       "     'Value': 21,\n",
       "     'LocationLat': 45.6718,\n",
       "     'LocationLong': 25.6006,\n",
       "     'TimeStamp': 1586291052000,\n",
       "     'Measurement': 'µg/m3'}},\n",
       "   {'_index': 'brasov-dev',\n",
       "    '_type': '_doc',\n",
       "    '_id': '1WpMNXcBTeKmGB84ekLM',\n",
       "    '_score': 1.0,\n",
       "    '_source': {'Source': 'UradMonitor',\n",
       "     'Sensor': 'pm1',\n",
       "     'Value': 12,\n",
       "     'LocationLat': 45.670103,\n",
       "     'LocationLong': 25.617966,\n",
       "     'TimeStamp': 1611506907000,\n",
       "     'Measurement': 'µg/m3'}},\n",
       "   {'_index': 'brasov-dev',\n",
       "    '_type': '_doc',\n",
       "    '_id': '1mpMNXcBTeKmGB84ekLM',\n",
       "    '_score': 1.0,\n",
       "    '_source': {'Source': 'UradMonitor',\n",
       "     'Sensor': 'pm25',\n",
       "     'Value': 24,\n",
       "     'LocationLat': 45.653509,\n",
       "     'LocationLong': 25.56612,\n",
       "     'TimeStamp': 1611506908000,\n",
       "     'Measurement': 'µg/m3'}},\n",
       "   {'_index': 'brasov-dev',\n",
       "    '_type': '_doc',\n",
       "    '_id': '12pMNXcBTeKmGB84ekLM',\n",
       "    '_score': 1.0,\n",
       "    '_source': {'Source': 'UradMonitor',\n",
       "     'Sensor': 'pm1',\n",
       "     'Value': 14,\n",
       "     'LocationLat': 45.704032,\n",
       "     'LocationLong': 25.640955,\n",
       "     'TimeStamp': 1611506918000,\n",
       "     'Measurement': 'µg/m3'}}]}}"
      ]
     },
     "execution_count": 9,
     "metadata": {},
     "output_type": "execute_result"
    }
   ],
   "source": [
    "data"
   ]
  },
  {
   "cell_type": "code",
   "execution_count": 10,
   "metadata": {},
   "outputs": [
    {
     "data": {
      "text/plain": [
       "dict_keys(['took', 'timed_out', '_shards', 'hits'])"
      ]
     },
     "execution_count": 10,
     "metadata": {},
     "output_type": "execute_result"
    }
   ],
   "source": [
    "data.keys()"
   ]
  },
  {
   "cell_type": "code",
   "execution_count": 11,
   "metadata": {},
   "outputs": [
    {
     "data": {
      "text/plain": [
       "{'total': {'value': 10000, 'relation': 'gte'},\n",
       " 'max_score': 1.0,\n",
       " 'hits': [{'_index': 'brasov-dev',\n",
       "   '_type': '_doc',\n",
       "   '_id': 'zWpMNXcBTeKmGB84ekLH',\n",
       "   '_score': 1.0,\n",
       "   '_source': {'Source': 'UradMonitor',\n",
       "    'Sensor': 'pm25',\n",
       "    'Value': 20,\n",
       "    'LocationLat': 45.6568,\n",
       "    'LocationLong': 25.5917,\n",
       "    'TimeStamp': 1611506922000,\n",
       "    'Measurement': 'µg/m3'}},\n",
       "  {'_index': 'brasov-dev',\n",
       "   '_type': '_doc',\n",
       "   '_id': 'z2pMNXcBTeKmGB84ekLI',\n",
       "   '_score': 1.0,\n",
       "   '_source': {'Source': 'UradMonitor',\n",
       "    'Sensor': 'pm25',\n",
       "    'Value': 20,\n",
       "    'LocationLat': 45.670103,\n",
       "    'LocationLong': 25.617966,\n",
       "    'TimeStamp': 1611506907000,\n",
       "    'Measurement': 'µg/m3'}},\n",
       "  {'_index': 'brasov-dev',\n",
       "   '_type': '_doc',\n",
       "   '_id': '0GpMNXcBTeKmGB84ekLJ',\n",
       "   '_score': 1.0,\n",
       "   '_source': {'Source': 'UradMonitor',\n",
       "    'Sensor': 'pm1',\n",
       "    'Value': 15,\n",
       "    'LocationLat': 45.653509,\n",
       "    'LocationLong': 25.56612,\n",
       "    'TimeStamp': 1611506908000,\n",
       "    'Measurement': 'µg/m3'}},\n",
       "  {'_index': 'brasov-dev',\n",
       "   '_type': '_doc',\n",
       "   '_id': '0WpMNXcBTeKmGB84ekLJ',\n",
       "   '_score': 1.0,\n",
       "   '_source': {'Source': 'UradMonitor',\n",
       "    'Sensor': 'pm10',\n",
       "    'Value': 16,\n",
       "    'LocationLat': 45.6536,\n",
       "    'LocationLong': 25.599,\n",
       "    'TimeStamp': 1611506893000,\n",
       "    'Measurement': 'µg/m3'}},\n",
       "  {'_index': 'brasov-dev',\n",
       "   '_type': '_doc',\n",
       "   '_id': '0mpMNXcBTeKmGB84ekLK',\n",
       "   '_score': 1.0,\n",
       "   '_source': {'Source': 'UradMonitor',\n",
       "    'Sensor': 'pm1',\n",
       "    'Value': 12,\n",
       "    'LocationLat': 45.6718,\n",
       "    'LocationLong': 25.6006,\n",
       "    'TimeStamp': 1586291052000,\n",
       "    'Measurement': 'µg/m3'}},\n",
       "  {'_index': 'brasov-dev',\n",
       "   '_type': '_doc',\n",
       "   '_id': '1GpMNXcBTeKmGB84ekLM',\n",
       "   '_score': 1.0,\n",
       "   '_source': {'Source': 'UradMonitor',\n",
       "    'Sensor': 'pm10',\n",
       "    'Value': 2,\n",
       "    'LocationLat': 45.589267,\n",
       "    'LocationLong': 25.46445,\n",
       "    'TimeStamp': 1611506937000,\n",
       "    'Measurement': 'µg/m3'}},\n",
       "  {'_index': 'brasov-dev',\n",
       "   '_type': '_doc',\n",
       "   '_id': '02pMNXcBTeKmGB84ekLM',\n",
       "   '_score': 1.0,\n",
       "   '_source': {'Source': 'UradMonitor',\n",
       "    'Sensor': 'pm25',\n",
       "    'Value': 21,\n",
       "    'LocationLat': 45.6718,\n",
       "    'LocationLong': 25.6006,\n",
       "    'TimeStamp': 1586291052000,\n",
       "    'Measurement': 'µg/m3'}},\n",
       "  {'_index': 'brasov-dev',\n",
       "   '_type': '_doc',\n",
       "   '_id': '1WpMNXcBTeKmGB84ekLM',\n",
       "   '_score': 1.0,\n",
       "   '_source': {'Source': 'UradMonitor',\n",
       "    'Sensor': 'pm1',\n",
       "    'Value': 12,\n",
       "    'LocationLat': 45.670103,\n",
       "    'LocationLong': 25.617966,\n",
       "    'TimeStamp': 1611506907000,\n",
       "    'Measurement': 'µg/m3'}},\n",
       "  {'_index': 'brasov-dev',\n",
       "   '_type': '_doc',\n",
       "   '_id': '1mpMNXcBTeKmGB84ekLM',\n",
       "   '_score': 1.0,\n",
       "   '_source': {'Source': 'UradMonitor',\n",
       "    'Sensor': 'pm25',\n",
       "    'Value': 24,\n",
       "    'LocationLat': 45.653509,\n",
       "    'LocationLong': 25.56612,\n",
       "    'TimeStamp': 1611506908000,\n",
       "    'Measurement': 'µg/m3'}},\n",
       "  {'_index': 'brasov-dev',\n",
       "   '_type': '_doc',\n",
       "   '_id': '12pMNXcBTeKmGB84ekLM',\n",
       "   '_score': 1.0,\n",
       "   '_source': {'Source': 'UradMonitor',\n",
       "    'Sensor': 'pm1',\n",
       "    'Value': 14,\n",
       "    'LocationLat': 45.704032,\n",
       "    'LocationLong': 25.640955,\n",
       "    'TimeStamp': 1611506918000,\n",
       "    'Measurement': 'µg/m3'}}]}"
      ]
     },
     "execution_count": 11,
     "metadata": {},
     "output_type": "execute_result"
    }
   ],
   "source": [
    "data['hits']"
   ]
  },
  {
   "cell_type": "code",
   "execution_count": 14,
   "metadata": {},
   "outputs": [
    {
     "ename": "ValueError",
     "evalue": "Mixing dicts with non-Series may lead to ambiguous ordering.",
     "output_type": "error",
     "traceback": [
      "\u001b[1;31m---------------------------------------------------------------------------\u001b[0m",
      "\u001b[1;31mValueError\u001b[0m                                Traceback (most recent call last)",
      "\u001b[1;32md:\\SIEMENS\\Siemens_Stuff\\Licenta\\hello_ds\\poluare_test3.ipynb Cell 10'\u001b[0m in \u001b[0;36m<cell line: 1>\u001b[1;34m()\u001b[0m\n\u001b[1;32m----> <a href='vscode-notebook-cell:/d%3A/SIEMENS/Siemens_Stuff/Licenta/hello_ds/poluare_test3.ipynb#ch0000009?line=0'>1</a>\u001b[0m df \u001b[39m=\u001b[39m pd\u001b[39m.\u001b[39;49mDataFrame(data[\u001b[39m'\u001b[39;49m\u001b[39mhits\u001b[39;49m\u001b[39m'\u001b[39;49m])\n",
      "File \u001b[1;32m~\\AppData\\Roaming\\Python\\Python310\\site-packages\\pandas\\core\\frame.py:636\u001b[0m, in \u001b[0;36mDataFrame.__init__\u001b[1;34m(self, data, index, columns, dtype, copy)\u001b[0m\n\u001b[0;32m    <a href='file:///~/AppData/Roaming/Python/Python310/site-packages/pandas/core/frame.py?line=629'>630</a>\u001b[0m     mgr \u001b[39m=\u001b[39m \u001b[39mself\u001b[39m\u001b[39m.\u001b[39m_init_mgr(\n\u001b[0;32m    <a href='file:///~/AppData/Roaming/Python/Python310/site-packages/pandas/core/frame.py?line=630'>631</a>\u001b[0m         data, axes\u001b[39m=\u001b[39m{\u001b[39m\"\u001b[39m\u001b[39mindex\u001b[39m\u001b[39m\"\u001b[39m: index, \u001b[39m\"\u001b[39m\u001b[39mcolumns\u001b[39m\u001b[39m\"\u001b[39m: columns}, dtype\u001b[39m=\u001b[39mdtype, copy\u001b[39m=\u001b[39mcopy\n\u001b[0;32m    <a href='file:///~/AppData/Roaming/Python/Python310/site-packages/pandas/core/frame.py?line=631'>632</a>\u001b[0m     )\n\u001b[0;32m    <a href='file:///~/AppData/Roaming/Python/Python310/site-packages/pandas/core/frame.py?line=633'>634</a>\u001b[0m \u001b[39melif\u001b[39;00m \u001b[39misinstance\u001b[39m(data, \u001b[39mdict\u001b[39m):\n\u001b[0;32m    <a href='file:///~/AppData/Roaming/Python/Python310/site-packages/pandas/core/frame.py?line=634'>635</a>\u001b[0m     \u001b[39m# GH#38939 de facto copy defaults to False only in non-dict cases\u001b[39;00m\n\u001b[1;32m--> <a href='file:///~/AppData/Roaming/Python/Python310/site-packages/pandas/core/frame.py?line=635'>636</a>\u001b[0m     mgr \u001b[39m=\u001b[39m dict_to_mgr(data, index, columns, dtype\u001b[39m=\u001b[39;49mdtype, copy\u001b[39m=\u001b[39;49mcopy, typ\u001b[39m=\u001b[39;49mmanager)\n\u001b[0;32m    <a href='file:///~/AppData/Roaming/Python/Python310/site-packages/pandas/core/frame.py?line=636'>637</a>\u001b[0m \u001b[39melif\u001b[39;00m \u001b[39misinstance\u001b[39m(data, ma\u001b[39m.\u001b[39mMaskedArray):\n\u001b[0;32m    <a href='file:///~/AppData/Roaming/Python/Python310/site-packages/pandas/core/frame.py?line=637'>638</a>\u001b[0m     \u001b[39mimport\u001b[39;00m \u001b[39mnumpy\u001b[39;00m\u001b[39m.\u001b[39;00m\u001b[39mma\u001b[39;00m\u001b[39m.\u001b[39;00m\u001b[39mmrecords\u001b[39;00m \u001b[39mas\u001b[39;00m \u001b[39mmrecords\u001b[39;00m\n",
      "File \u001b[1;32m~\\AppData\\Roaming\\Python\\Python310\\site-packages\\pandas\\core\\internals\\construction.py:502\u001b[0m, in \u001b[0;36mdict_to_mgr\u001b[1;34m(data, index, columns, dtype, typ, copy)\u001b[0m\n\u001b[0;32m    <a href='file:///~/AppData/Roaming/Python/Python310/site-packages/pandas/core/internals/construction.py?line=493'>494</a>\u001b[0m     arrays \u001b[39m=\u001b[39m [\n\u001b[0;32m    <a href='file:///~/AppData/Roaming/Python/Python310/site-packages/pandas/core/internals/construction.py?line=494'>495</a>\u001b[0m         x\n\u001b[0;32m    <a href='file:///~/AppData/Roaming/Python/Python310/site-packages/pandas/core/internals/construction.py?line=495'>496</a>\u001b[0m         \u001b[39mif\u001b[39;00m \u001b[39mnot\u001b[39;00m \u001b[39mhasattr\u001b[39m(x, \u001b[39m\"\u001b[39m\u001b[39mdtype\u001b[39m\u001b[39m\"\u001b[39m) \u001b[39mor\u001b[39;00m \u001b[39mnot\u001b[39;00m \u001b[39misinstance\u001b[39m(x\u001b[39m.\u001b[39mdtype, ExtensionDtype)\n\u001b[0;32m    <a href='file:///~/AppData/Roaming/Python/Python310/site-packages/pandas/core/internals/construction.py?line=496'>497</a>\u001b[0m         \u001b[39melse\u001b[39;00m x\u001b[39m.\u001b[39mcopy()\n\u001b[0;32m    <a href='file:///~/AppData/Roaming/Python/Python310/site-packages/pandas/core/internals/construction.py?line=497'>498</a>\u001b[0m         \u001b[39mfor\u001b[39;00m x \u001b[39min\u001b[39;00m arrays\n\u001b[0;32m    <a href='file:///~/AppData/Roaming/Python/Python310/site-packages/pandas/core/internals/construction.py?line=498'>499</a>\u001b[0m     ]\n\u001b[0;32m    <a href='file:///~/AppData/Roaming/Python/Python310/site-packages/pandas/core/internals/construction.py?line=499'>500</a>\u001b[0m     \u001b[39m# TODO: can we get rid of the dt64tz special case above?\u001b[39;00m\n\u001b[1;32m--> <a href='file:///~/AppData/Roaming/Python/Python310/site-packages/pandas/core/internals/construction.py?line=501'>502</a>\u001b[0m \u001b[39mreturn\u001b[39;00m arrays_to_mgr(arrays, columns, index, dtype\u001b[39m=\u001b[39;49mdtype, typ\u001b[39m=\u001b[39;49mtyp, consolidate\u001b[39m=\u001b[39;49mcopy)\n",
      "File \u001b[1;32m~\\AppData\\Roaming\\Python\\Python310\\site-packages\\pandas\\core\\internals\\construction.py:120\u001b[0m, in \u001b[0;36marrays_to_mgr\u001b[1;34m(arrays, columns, index, dtype, verify_integrity, typ, consolidate)\u001b[0m\n\u001b[0;32m    <a href='file:///~/AppData/Roaming/Python/Python310/site-packages/pandas/core/internals/construction.py?line=116'>117</a>\u001b[0m \u001b[39mif\u001b[39;00m verify_integrity:\n\u001b[0;32m    <a href='file:///~/AppData/Roaming/Python/Python310/site-packages/pandas/core/internals/construction.py?line=117'>118</a>\u001b[0m     \u001b[39m# figure out the index, if necessary\u001b[39;00m\n\u001b[0;32m    <a href='file:///~/AppData/Roaming/Python/Python310/site-packages/pandas/core/internals/construction.py?line=118'>119</a>\u001b[0m     \u001b[39mif\u001b[39;00m index \u001b[39mis\u001b[39;00m \u001b[39mNone\u001b[39;00m:\n\u001b[1;32m--> <a href='file:///~/AppData/Roaming/Python/Python310/site-packages/pandas/core/internals/construction.py?line=119'>120</a>\u001b[0m         index \u001b[39m=\u001b[39m _extract_index(arrays)\n\u001b[0;32m    <a href='file:///~/AppData/Roaming/Python/Python310/site-packages/pandas/core/internals/construction.py?line=120'>121</a>\u001b[0m     \u001b[39melse\u001b[39;00m:\n\u001b[0;32m    <a href='file:///~/AppData/Roaming/Python/Python310/site-packages/pandas/core/internals/construction.py?line=121'>122</a>\u001b[0m         index \u001b[39m=\u001b[39m ensure_index(index)\n",
      "File \u001b[1;32m~\\AppData\\Roaming\\Python\\Python310\\site-packages\\pandas\\core\\internals\\construction.py:677\u001b[0m, in \u001b[0;36m_extract_index\u001b[1;34m(data)\u001b[0m\n\u001b[0;32m    <a href='file:///~/AppData/Roaming/Python/Python310/site-packages/pandas/core/internals/construction.py?line=673'>674</a>\u001b[0m     \u001b[39mraise\u001b[39;00m \u001b[39mValueError\u001b[39;00m(\u001b[39m\"\u001b[39m\u001b[39mAll arrays must be of the same length\u001b[39m\u001b[39m\"\u001b[39m)\n\u001b[0;32m    <a href='file:///~/AppData/Roaming/Python/Python310/site-packages/pandas/core/internals/construction.py?line=675'>676</a>\u001b[0m \u001b[39mif\u001b[39;00m have_dicts:\n\u001b[1;32m--> <a href='file:///~/AppData/Roaming/Python/Python310/site-packages/pandas/core/internals/construction.py?line=676'>677</a>\u001b[0m     \u001b[39mraise\u001b[39;00m \u001b[39mValueError\u001b[39;00m(\n\u001b[0;32m    <a href='file:///~/AppData/Roaming/Python/Python310/site-packages/pandas/core/internals/construction.py?line=677'>678</a>\u001b[0m         \u001b[39m\"\u001b[39m\u001b[39mMixing dicts with non-Series may lead to ambiguous ordering.\u001b[39m\u001b[39m\"\u001b[39m\n\u001b[0;32m    <a href='file:///~/AppData/Roaming/Python/Python310/site-packages/pandas/core/internals/construction.py?line=678'>679</a>\u001b[0m     )\n\u001b[0;32m    <a href='file:///~/AppData/Roaming/Python/Python310/site-packages/pandas/core/internals/construction.py?line=680'>681</a>\u001b[0m \u001b[39mif\u001b[39;00m have_series:\n\u001b[0;32m    <a href='file:///~/AppData/Roaming/Python/Python310/site-packages/pandas/core/internals/construction.py?line=681'>682</a>\u001b[0m     \u001b[39massert\u001b[39;00m index \u001b[39mis\u001b[39;00m \u001b[39mnot\u001b[39;00m \u001b[39mNone\u001b[39;00m  \u001b[39m# for mypy\u001b[39;00m\n",
      "\u001b[1;31mValueError\u001b[0m: Mixing dicts with non-Series may lead to ambiguous ordering."
     ]
    }
   ],
   "source": [
    "df = pd.DataFrame(data['hits'])"
   ]
  },
  {
   "cell_type": "code",
   "execution_count": null,
   "metadata": {},
   "outputs": [],
   "source": []
  }
 ],
 "metadata": {
  "interpreter": {
   "hash": "b89b5cfaba6639976dc87ff2fec6d58faec662063367e2c229c520fe71072417"
  },
  "kernelspec": {
   "display_name": "Python 3.10.1 64-bit",
   "language": "python",
   "name": "python3"
  },
  "language_info": {
   "codemirror_mode": {
    "name": "ipython",
    "version": 3
   },
   "file_extension": ".py",
   "mimetype": "text/x-python",
   "name": "python",
   "nbconvert_exporter": "python",
   "pygments_lexer": "ipython3",
   "version": "3.10.1"
  },
  "orig_nbformat": 4
 },
 "nbformat": 4,
 "nbformat_minor": 2
}
