{
 "cells": [
  {
   "cell_type": "code",
   "execution_count": 2,
   "metadata": {},
   "outputs": [],
   "source": [
    "import pandas as pd\n",
    "import numpy as np\n",
    "import datetime\n",
    "import matplotlib\n",
    "import matplotlib.pyplot as plt\n",
    "import seaborn as sns\n",
    "# from prophet import Prophet\n",
    "from fbprophet import Prophet\n",
    "from scalecast.Forecaster import Forecaster\n",
    "from scalecast.MVForecaster import MVForecaster\n",
    "from scalecast import GridGenerator\n",
    "from scalecast.notebook import tune_test_forecast\n",
    "# import prophet"
   ]
  },
  {
   "cell_type": "code",
   "execution_count": 3,
   "metadata": {},
   "outputs": [],
   "source": [
    "# read in data\n",
    "data = pd.read_csv('csv/82000278_Toamnei_CO2_2021_03.csv')"
   ]
  },
  {
   "cell_type": "code",
   "execution_count": 4,
   "metadata": {},
   "outputs": [],
   "source": [
    "# set graph sizes\n",
    "sns.set(rc={'figure.figsize':(30,15)})"
   ]
  },
  {
   "cell_type": "code",
   "execution_count": 5,
   "metadata": {},
   "outputs": [
    {
     "data": {
      "text/html": [
       "<div>\n",
       "<style scoped>\n",
       "    .dataframe tbody tr th:only-of-type {\n",
       "        vertical-align: middle;\n",
       "    }\n",
       "\n",
       "    .dataframe tbody tr th {\n",
       "        vertical-align: top;\n",
       "    }\n",
       "\n",
       "    .dataframe thead th {\n",
       "        text-align: right;\n",
       "    }\n",
       "</style>\n",
       "<table border=\"1\" class=\"dataframe\">\n",
       "  <thead>\n",
       "    <tr style=\"text-align: right;\">\n",
       "      <th></th>\n",
       "      <th>time</th>\n",
       "      <th>latitude</th>\n",
       "      <th>longitude</th>\n",
       "      <th>altitude</th>\n",
       "      <th>co2</th>\n",
       "    </tr>\n",
       "  </thead>\n",
       "  <tbody>\n",
       "    <tr>\n",
       "      <th>0</th>\n",
       "      <td>1614549656</td>\n",
       "      <td>45.651464</td>\n",
       "      <td>25.615426</td>\n",
       "      <td>100</td>\n",
       "      <td>536</td>\n",
       "    </tr>\n",
       "    <tr>\n",
       "      <th>1</th>\n",
       "      <td>1614549716</td>\n",
       "      <td>45.651464</td>\n",
       "      <td>25.615426</td>\n",
       "      <td>100</td>\n",
       "      <td>536</td>\n",
       "    </tr>\n",
       "    <tr>\n",
       "      <th>2</th>\n",
       "      <td>1614549776</td>\n",
       "      <td>45.651464</td>\n",
       "      <td>25.615426</td>\n",
       "      <td>100</td>\n",
       "      <td>536</td>\n",
       "    </tr>\n",
       "    <tr>\n",
       "      <th>3</th>\n",
       "      <td>1614549836</td>\n",
       "      <td>45.651464</td>\n",
       "      <td>25.615426</td>\n",
       "      <td>100</td>\n",
       "      <td>532</td>\n",
       "    </tr>\n",
       "    <tr>\n",
       "      <th>4</th>\n",
       "      <td>1614549896</td>\n",
       "      <td>45.651464</td>\n",
       "      <td>25.615426</td>\n",
       "      <td>100</td>\n",
       "      <td>531</td>\n",
       "    </tr>\n",
       "  </tbody>\n",
       "</table>\n",
       "</div>"
      ],
      "text/plain": [
       "         time   latitude  longitude  altitude  co2\n",
       "0  1614549656  45.651464  25.615426       100  536\n",
       "1  1614549716  45.651464  25.615426       100  536\n",
       "2  1614549776  45.651464  25.615426       100  536\n",
       "3  1614549836  45.651464  25.615426       100  532\n",
       "4  1614549896  45.651464  25.615426       100  531"
      ]
     },
     "execution_count": 5,
     "metadata": {},
     "output_type": "execute_result"
    }
   ],
   "source": [
    "data.head()"
   ]
  },
  {
   "cell_type": "code",
   "execution_count": 6,
   "metadata": {},
   "outputs": [],
   "source": [
    "# the dataset is in sequential order\n",
    "data = data.sort_values('time')"
   ]
  },
  {
   "cell_type": "code",
   "execution_count": 7,
   "metadata": {},
   "outputs": [
    {
     "data": {
      "text/html": [
       "<div>\n",
       "<style scoped>\n",
       "    .dataframe tbody tr th:only-of-type {\n",
       "        vertical-align: middle;\n",
       "    }\n",
       "\n",
       "    .dataframe tbody tr th {\n",
       "        vertical-align: top;\n",
       "    }\n",
       "\n",
       "    .dataframe thead th {\n",
       "        text-align: right;\n",
       "    }\n",
       "</style>\n",
       "<table border=\"1\" class=\"dataframe\">\n",
       "  <thead>\n",
       "    <tr style=\"text-align: right;\">\n",
       "      <th></th>\n",
       "      <th>count</th>\n",
       "      <th>mean</th>\n",
       "      <th>std</th>\n",
       "      <th>min</th>\n",
       "      <th>25%</th>\n",
       "      <th>50%</th>\n",
       "      <th>75%</th>\n",
       "      <th>max</th>\n",
       "    </tr>\n",
       "  </thead>\n",
       "  <tbody>\n",
       "    <tr>\n",
       "      <th>latitude</th>\n",
       "      <td>44569.0</td>\n",
       "      <td>45.651464</td>\n",
       "      <td>7.105507e-15</td>\n",
       "      <td>45.651464</td>\n",
       "      <td>45.651464</td>\n",
       "      <td>45.651464</td>\n",
       "      <td>45.651464</td>\n",
       "      <td>45.651464</td>\n",
       "    </tr>\n",
       "    <tr>\n",
       "      <th>longitude</th>\n",
       "      <td>44569.0</td>\n",
       "      <td>25.615426</td>\n",
       "      <td>7.105507e-15</td>\n",
       "      <td>25.615426</td>\n",
       "      <td>25.615426</td>\n",
       "      <td>25.615426</td>\n",
       "      <td>25.615426</td>\n",
       "      <td>25.615426</td>\n",
       "    </tr>\n",
       "    <tr>\n",
       "      <th>altitude</th>\n",
       "      <td>44569.0</td>\n",
       "      <td>100.000000</td>\n",
       "      <td>0.000000e+00</td>\n",
       "      <td>100.000000</td>\n",
       "      <td>100.000000</td>\n",
       "      <td>100.000000</td>\n",
       "      <td>100.000000</td>\n",
       "      <td>100.000000</td>\n",
       "    </tr>\n",
       "    <tr>\n",
       "      <th>co2</th>\n",
       "      <td>44569.0</td>\n",
       "      <td>520.448585</td>\n",
       "      <td>5.503296e+01</td>\n",
       "      <td>400.000000</td>\n",
       "      <td>481.000000</td>\n",
       "      <td>516.000000</td>\n",
       "      <td>564.000000</td>\n",
       "      <td>673.000000</td>\n",
       "    </tr>\n",
       "  </tbody>\n",
       "</table>\n",
       "</div>"
      ],
      "text/plain": [
       "             count        mean           std         min         25%  \\\n",
       "latitude   44569.0   45.651464  7.105507e-15   45.651464   45.651464   \n",
       "longitude  44569.0   25.615426  7.105507e-15   25.615426   25.615426   \n",
       "altitude   44569.0  100.000000  0.000000e+00  100.000000  100.000000   \n",
       "co2        44569.0  520.448585  5.503296e+01  400.000000  481.000000   \n",
       "\n",
       "                  50%         75%         max  \n",
       "latitude    45.651464   45.651464   45.651464  \n",
       "longitude   25.615426   25.615426   25.615426  \n",
       "altitude   100.000000  100.000000  100.000000  \n",
       "co2        516.000000  564.000000  673.000000  "
      ]
     },
     "execution_count": 7,
     "metadata": {},
     "output_type": "execute_result"
    }
   ],
   "source": [
    "data.drop(['time'],axis=1).describe(include='all').T"
   ]
  },
  {
   "cell_type": "code",
   "execution_count": 8,
   "metadata": {},
   "outputs": [
    {
     "data": {
      "text/plain": [
       "Forecaster(\n",
       "    DateStartActuals=1970-01-01T00:00:01.614549656\n",
       "    DateEndActuals=1970-01-01T00:00:01.617224357\n",
       "    Freq=None\n",
       "    N_actuals=44569\n",
       "    ForecastLength=0\n",
       "    Xvars=[]\n",
       "    Differenced=0\n",
       "    TestLength=1\n",
       "    ValidationLength=1\n",
       "    ValidationMetric=rmse\n",
       "    ForecastsEvaluated=[]\n",
       "    CILevel=0.95\n",
       "    BootstrapSamples=100\n",
       "    CurrentEstimator=None\n",
       ")"
      ]
     },
     "execution_count": 8,
     "metadata": {},
     "output_type": "execute_result"
    }
   ],
   "source": [
    "#Let’s load the series we want to predict, Unique Visits, into a Forecaster object:\n",
    "f = Forecaster(y=data['co2'],current_dates=data['time'])\n",
    "f"
   ]
  },
  {
   "cell_type": "code",
   "execution_count": 9,
   "metadata": {},
   "outputs": [],
   "source": [
    "#This shows we have 2,167 daily observations from 9/14/2014 through 8/19/2020 to forecast with.\n",
    "#The first thing we should do after initializing the object is set its test length. We can choose a number of observations to use by passing an int to the function below,\n",
    "#or split the data fractionally by passing a float between 0 and 1.\n",
    "f.set_test_length(.2)"
   ]
  },
  {
   "cell_type": "code",
   "execution_count": 10,
   "metadata": {},
   "outputs": [
    {
     "data": {
      "image/png": "[encoded data removed]",
      "text/plain": [
       "<Figure size 432x288 with 1 Axes>"
      ]
     },
     "metadata": {
      "needs_background": "light"
     },
     "output_type": "display_data"
    }
   ],
   "source": [
    "#Before beginning the forecasting process, we should get a better idea of the signals within the time series itself. \n",
    "#Using ACF, PACF, and Periodogram plots, we can observe how the series is auto-correlated. We can leave the test set out of all visualizations (train_only=True) \n",
    "#to not leak data when making decisions about which signals exist in the data.\n",
    "f.plot_acf(train_only=True,lags=35)\n",
    "plt.show()"
   ]
  },
  {
   "cell_type": "code",
   "execution_count": 11,
   "metadata": {},
   "outputs": [
    {
     "data": {
      "image/png": "[encoded data removed]",
      "text/plain": [
       "<Figure size 432x288 with 1 Axes>"
      ]
     },
     "metadata": {
      "needs_background": "light"
     },
     "output_type": "display_data"
    }
   ],
   "source": [
    "f.plot_pacf(train_only=True,lags=35)\n",
    "plt.show()"
   ]
  },
  {
   "cell_type": "code",
   "execution_count": 12,
   "metadata": {},
   "outputs": [
    {
     "data": {
      "image/png": "[encoded data removed]",
      "text/plain": [
       "<Figure size 432x288 with 1 Axes>"
      ]
     },
     "metadata": {
      "needs_background": "light"
     },
     "output_type": "display_data"
    }
   ],
   "source": [
    "a, b = f.plot_periodogram(train_only=True)\n",
    "plt.semilogy(a, b)\n",
    "plt.show()"
   ]
  },
  {
   "cell_type": "code",
   "execution_count": 14,
   "metadata": {},
   "outputs": [],
   "source": [
    "#There might be some drift in the data.\n",
    "# f.seasonal_decompose(train_only=True).plot()\n",
    "# plt.show()"
   ]
  },
  {
   "cell_type": "code",
   "execution_count": 15,
   "metadata": {},
   "outputs": [
    {
     "name": "stdout",
     "output_type": "stream",
     "text": [
      "----------------------------------------------------------------------------------------------------\n",
      "Augmented Dickey-Fuller results:\n",
      "the test-stat value is: -4.97\n",
      "the p-value is 0.0000\n",
      "the series is stationary\n",
      "----------------------------------------------------------------------------------------------------\n"
     ]
    }
   ],
   "source": [
    "critical_pval = 0.05\n",
    "print('-'*100)\n",
    "print('Augmented Dickey-Fuller results:')\n",
    "stat, pval, _, _, _, _ = f.adf_test(full_res=True)\n",
    "print('the test-stat value is: {:.2f}'.format(stat))\n",
    "print('the p-value is {:.4f}'.format(pval))\n",
    "print('the series is {}'.format('stationary' if pval < critical_pval else 'not stationary'))\n",
    "print('-'*100)"
   ]
  },
  {
   "cell_type": "code",
   "execution_count": 16,
   "metadata": {},
   "outputs": [
    {
     "data": {
      "text/plain": [
       "Forecaster(\n",
       "    DateStartActuals=1970-01-01T00:00:01.614549656\n",
       "    DateEndActuals=1970-01-01T00:00:01.617224357\n",
       "    Freq=None\n",
       "    N_actuals=44569\n",
       "    ForecastLength=60\n",
       "    Xvars=['AR1', 'AR2', 'AR3', 'AR4', 'AR5', 'AR6', 'AR7', 'AR14', 'AR21', 'AR28', 'AR35', 'monthsin', 'monthcos', 'quartersin', 'quartercos', 'weeksin', 'weekcos', 'dayofyearsin', 'dayofyearcos', 'year']\n",
       "    Differenced=0\n",
       "    TestLength=8913\n",
       "    ValidationLength=60\n",
       "    ValidationMetric=rmse\n",
       "    ForecastsEvaluated=[]\n",
       "    CILevel=0.95\n",
       "    BootstrapSamples=100\n",
       "    CurrentEstimator=None\n",
       ")"
      ]
     },
     "execution_count": 16,
     "metadata": {},
     "output_type": "execute_result"
    }
   ],
   "source": [
    "f.generate_future_dates(60) # forecast horizon\n",
    "f.set_validation_length(60) # validation set length for tuning hyperparameters\n",
    "f.add_ar_terms(7) # 7 dep variable lags\n",
    "f.add_AR_terms((5,7)) # 5 weekly seasonaly dep variable lags\n",
    "f.add_seasonal_regressors(\n",
    "    'month',\n",
    "    'quarter',\n",
    "    'week',\n",
    "    'dayofyear',\n",
    "    raw=False,\n",
    "    sincos=True) # wave-form seasonality\n",
    "f.add_seasonal_regressors(\n",
    "    'dayofweek',\n",
    "    'week',\n",
    "    raw=False,\n",
    "    dummy=True,\n",
    "    drop_first=True\n",
    ") # dummy variable seasonality\n",
    "f.add_seasonal_regressors('year') # yearly trend\n",
    "f"
   ]
  },
  {
   "cell_type": "code",
   "execution_count": 17,
   "metadata": {},
   "outputs": [
    {
     "ename": "ValueError",
     "evalue": "lam value too large",
     "output_type": "error",
     "traceback": [
      "\u001b[1;31m---------------------------------------------------------------------------\u001b[0m",
      "\u001b[1;31mValueError\u001b[0m                                Traceback (most recent call last)",
      "\u001b[1;32mc:\\VALI\\Repos\\Licenta_Poluare\\poluare_test20_prophet_senzori.ipynb Cell 15'\u001b[0m in \u001b[0;36m<cell line: 2>\u001b[1;34m()\u001b[0m\n\u001b[0;32m      <a href='vscode-notebook-cell:/c%3A/VALI/Repos/Licenta_Poluare/poluare_test20_prophet_senzori.ipynb#ch0000014?line=0'>1</a>\u001b[0m f\u001b[39m.\u001b[39mset_estimator(\u001b[39m'\u001b[39m\u001b[39mprophet\u001b[39m\u001b[39m'\u001b[39m)\n\u001b[1;32m----> <a href='vscode-notebook-cell:/c%3A/VALI/Repos/Licenta_Poluare/poluare_test20_prophet_senzori.ipynb#ch0000014?line=1'>2</a>\u001b[0m f\u001b[39m.\u001b[39;49mmanual_forecast()\n",
      "File \u001b[1;32mc:\\VALI\\Programs\\Miniconda3\\envs\\myenv\\lib\\site-packages\\scalecast\\Forecaster.py:2773\u001b[0m, in \u001b[0;36mForecaster.manual_forecast\u001b[1;34m(self, call_me, dynamic_testing, test_only, **kwargs)\u001b[0m\n\u001b[0;32m   <a href='file:///c%3A/VALI/Programs/Miniconda3/envs/myenv/lib/site-packages/scalecast/Forecaster.py?line=2767'>2768</a>\u001b[0m \u001b[39mself\u001b[39m\u001b[39m.\u001b[39mdynamic_testing \u001b[39m=\u001b[39m dynamic_testing\n\u001b[0;32m   <a href='file:///c%3A/VALI/Programs/Miniconda3/envs/myenv/lib/site-packages/scalecast/Forecaster.py?line=2768'>2769</a>\u001b[0m \u001b[39mself\u001b[39m\u001b[39m.\u001b[39mcall_me \u001b[39m=\u001b[39m \u001b[39mself\u001b[39m\u001b[39m.\u001b[39mestimator \u001b[39mif\u001b[39;00m call_me \u001b[39mis\u001b[39;00m \u001b[39mNone\u001b[39;00m \u001b[39melse\u001b[39;00m call_me\n\u001b[0;32m   <a href='file:///c%3A/VALI/Programs/Miniconda3/envs/myenv/lib/site-packages/scalecast/Forecaster.py?line=2769'>2770</a>\u001b[0m result \u001b[39m=\u001b[39m (\n\u001b[0;32m   <a href='file:///c%3A/VALI/Programs/Miniconda3/envs/myenv/lib/site-packages/scalecast/Forecaster.py?line=2770'>2771</a>\u001b[0m     \u001b[39mself\u001b[39m\u001b[39m.\u001b[39m_forecast_sklearn(fcster\u001b[39m=\u001b[39m\u001b[39mself\u001b[39m\u001b[39m.\u001b[39mestimator, dynamic_testing\u001b[39m=\u001b[39mdynamic_testing, test_only\u001b[39m=\u001b[39mtest_only, \u001b[39m*\u001b[39m\u001b[39m*\u001b[39mkwargs)\n\u001b[0;32m   <a href='file:///c%3A/VALI/Programs/Miniconda3/envs/myenv/lib/site-packages/scalecast/Forecaster.py?line=2771'>2772</a>\u001b[0m     \u001b[39mif\u001b[39;00m \u001b[39mself\u001b[39m\u001b[39m.\u001b[39mestimator \u001b[39min\u001b[39;00m _sklearn_estimators_\n\u001b[1;32m-> <a href='file:///c%3A/VALI/Programs/Miniconda3/envs/myenv/lib/site-packages/scalecast/Forecaster.py?line=2772'>2773</a>\u001b[0m     \u001b[39melse\u001b[39;00m \u001b[39mgetattr\u001b[39;49m(\u001b[39mself\u001b[39;49m, \u001b[39mf\u001b[39;49m\u001b[39m\"\u001b[39;49m\u001b[39m_forecast_\u001b[39;49m\u001b[39m{\u001b[39;49;00m\u001b[39mself\u001b[39;49m\u001b[39m.\u001b[39;49mestimator\u001b[39m}\u001b[39;49;00m\u001b[39m\"\u001b[39;49m)(dynamic_testing\u001b[39m=\u001b[39;49mdynamic_testing, test_only\u001b[39m=\u001b[39;49mtest_only, \u001b[39m*\u001b[39;49m\u001b[39m*\u001b[39;49mkwargs)\n\u001b[0;32m   <a href='file:///c%3A/VALI/Programs/Miniconda3/envs/myenv/lib/site-packages/scalecast/Forecaster.py?line=2773'>2774</a>\u001b[0m ) \u001b[39m# 0 - forecast, 1 - fitted vals, 2 - Xvars, 3 - regr\u001b[39;00m\n\u001b[0;32m   <a href='file:///c%3A/VALI/Programs/Miniconda3/envs/myenv/lib/site-packages/scalecast/Forecaster.py?line=2774'>2775</a>\u001b[0m \u001b[39mself\u001b[39m\u001b[39m.\u001b[39mforecast \u001b[39m=\u001b[39m [i \u001b[39mfor\u001b[39;00m i \u001b[39min\u001b[39;00m result[\u001b[39m0\u001b[39m]]\n\u001b[0;32m   <a href='file:///c%3A/VALI/Programs/Miniconda3/envs/myenv/lib/site-packages/scalecast/Forecaster.py?line=2775'>2776</a>\u001b[0m \u001b[39mself\u001b[39m\u001b[39m.\u001b[39mfitted_values \u001b[39m=\u001b[39m [i \u001b[39mfor\u001b[39;00m i \u001b[39min\u001b[39;00m result[\u001b[39m1\u001b[39m]]\n",
      "File \u001b[1;32mc:\\VALI\\Programs\\Miniconda3\\envs\\myenv\\lib\\site-packages\\scalecast\\Forecaster.py:853\u001b[0m, in \u001b[0;36mForecaster._forecast_prophet\u001b[1;34m(self, tune, Xvars, dynamic_testing, cap, floor, test_only, **kwargs)\u001b[0m\n\u001b[0;32m    <a href='file:///c%3A/VALI/Programs/Miniconda3/envs/myenv/lib/site-packages/scalecast/Forecaster.py?line=850'>851</a>\u001b[0m regr \u001b[39m=\u001b[39m Prophet(\u001b[39m*\u001b[39m\u001b[39m*\u001b[39mkwargs)\n\u001b[0;32m    <a href='file:///c%3A/VALI/Programs/Miniconda3/envs/myenv/lib/site-packages/scalecast/Forecaster.py?line=851'>852</a>\u001b[0m regr\u001b[39m.\u001b[39mfit(X)\n\u001b[1;32m--> <a href='file:///c%3A/VALI/Programs/Miniconda3/envs/myenv/lib/site-packages/scalecast/Forecaster.py?line=852'>853</a>\u001b[0m fcst \u001b[39m=\u001b[39m regr\u001b[39m.\u001b[39;49mpredict(p)\n\u001b[0;32m    <a href='file:///c%3A/VALI/Programs/Miniconda3/envs/myenv/lib/site-packages/scalecast/Forecaster.py?line=853'>854</a>\u001b[0m \u001b[39mreturn\u001b[39;00m (fcst[\u001b[39m\"\u001b[39m\u001b[39myhat\u001b[39m\u001b[39m\"\u001b[39m],regr\u001b[39m.\u001b[39mpredict(X)[\u001b[39m\"\u001b[39m\u001b[39myhat\u001b[39m\u001b[39m\"\u001b[39m],Xvars,regr)\n",
      "File \u001b[1;32mc:\\VALI\\Programs\\Miniconda3\\envs\\myenv\\lib\\site-packages\\fbprophet\\forecaster.py:1204\u001b[0m, in \u001b[0;36mProphet.predict\u001b[1;34m(self, df)\u001b[0m\n\u001b[0;32m   <a href='file:///c%3A/VALI/Programs/Miniconda3/envs/myenv/lib/site-packages/fbprophet/forecaster.py?line=1201'>1202</a>\u001b[0m seasonal_components \u001b[39m=\u001b[39m \u001b[39mself\u001b[39m\u001b[39m.\u001b[39mpredict_seasonal_components(df)\n\u001b[0;32m   <a href='file:///c%3A/VALI/Programs/Miniconda3/envs/myenv/lib/site-packages/fbprophet/forecaster.py?line=1202'>1203</a>\u001b[0m \u001b[39mif\u001b[39;00m \u001b[39mself\u001b[39m\u001b[39m.\u001b[39muncertainty_samples:\n\u001b[1;32m-> <a href='file:///c%3A/VALI/Programs/Miniconda3/envs/myenv/lib/site-packages/fbprophet/forecaster.py?line=1203'>1204</a>\u001b[0m     intervals \u001b[39m=\u001b[39m \u001b[39mself\u001b[39;49m\u001b[39m.\u001b[39;49mpredict_uncertainty(df)\n\u001b[0;32m   <a href='file:///c%3A/VALI/Programs/Miniconda3/envs/myenv/lib/site-packages/fbprophet/forecaster.py?line=1204'>1205</a>\u001b[0m \u001b[39melse\u001b[39;00m:\n\u001b[0;32m   <a href='file:///c%3A/VALI/Programs/Miniconda3/envs/myenv/lib/site-packages/fbprophet/forecaster.py?line=1205'>1206</a>\u001b[0m     intervals \u001b[39m=\u001b[39m \u001b[39mNone\u001b[39;00m\n",
      "File \u001b[1;32mc:\\VALI\\Programs\\Miniconda3\\envs\\myenv\\lib\\site-packages\\fbprophet\\forecaster.py:1435\u001b[0m, in \u001b[0;36mProphet.predict_uncertainty\u001b[1;34m(self, df)\u001b[0m\n\u001b[0;32m   <a href='file:///c%3A/VALI/Programs/Miniconda3/envs/myenv/lib/site-packages/fbprophet/forecaster.py?line=1423'>1424</a>\u001b[0m \u001b[39mdef\u001b[39;00m \u001b[39mpredict_uncertainty\u001b[39m(\u001b[39mself\u001b[39m, df):\n\u001b[0;32m   <a href='file:///c%3A/VALI/Programs/Miniconda3/envs/myenv/lib/site-packages/fbprophet/forecaster.py?line=1424'>1425</a>\u001b[0m     \u001b[39m\"\"\"Prediction intervals for yhat and trend.\u001b[39;00m\n\u001b[0;32m   <a href='file:///c%3A/VALI/Programs/Miniconda3/envs/myenv/lib/site-packages/fbprophet/forecaster.py?line=1425'>1426</a>\u001b[0m \n\u001b[0;32m   <a href='file:///c%3A/VALI/Programs/Miniconda3/envs/myenv/lib/site-packages/fbprophet/forecaster.py?line=1426'>1427</a>\u001b[0m \u001b[39m    Parameters\u001b[39;00m\n\u001b[1;32m   (...)\u001b[0m\n\u001b[0;32m   <a href='file:///c%3A/VALI/Programs/Miniconda3/envs/myenv/lib/site-packages/fbprophet/forecaster.py?line=1432'>1433</a>\u001b[0m \u001b[39m    Dataframe with uncertainty intervals.\u001b[39;00m\n\u001b[0;32m   <a href='file:///c%3A/VALI/Programs/Miniconda3/envs/myenv/lib/site-packages/fbprophet/forecaster.py?line=1433'>1434</a>\u001b[0m \u001b[39m    \"\"\"\u001b[39;00m\n\u001b[1;32m-> <a href='file:///c%3A/VALI/Programs/Miniconda3/envs/myenv/lib/site-packages/fbprophet/forecaster.py?line=1434'>1435</a>\u001b[0m     sim_values \u001b[39m=\u001b[39m \u001b[39mself\u001b[39;49m\u001b[39m.\u001b[39;49msample_posterior_predictive(df)\n\u001b[0;32m   <a href='file:///c%3A/VALI/Programs/Miniconda3/envs/myenv/lib/site-packages/fbprophet/forecaster.py?line=1436'>1437</a>\u001b[0m     lower_p \u001b[39m=\u001b[39m \u001b[39m100\u001b[39m \u001b[39m*\u001b[39m (\u001b[39m1.0\u001b[39m \u001b[39m-\u001b[39m \u001b[39mself\u001b[39m\u001b[39m.\u001b[39minterval_width) \u001b[39m/\u001b[39m \u001b[39m2\u001b[39m\n\u001b[0;32m   <a href='file:///c%3A/VALI/Programs/Miniconda3/envs/myenv/lib/site-packages/fbprophet/forecaster.py?line=1437'>1438</a>\u001b[0m     upper_p \u001b[39m=\u001b[39m \u001b[39m100\u001b[39m \u001b[39m*\u001b[39m (\u001b[39m1.0\u001b[39m \u001b[39m+\u001b[39m \u001b[39mself\u001b[39m\u001b[39m.\u001b[39minterval_width) \u001b[39m/\u001b[39m \u001b[39m2\u001b[39m\n",
      "File \u001b[1;32mc:\\VALI\\Programs\\Miniconda3\\envs\\myenv\\lib\\site-packages\\fbprophet\\forecaster.py:1388\u001b[0m, in \u001b[0;36mProphet.sample_posterior_predictive\u001b[1;34m(self, df)\u001b[0m\n\u001b[0;32m   <a href='file:///c%3A/VALI/Programs/Miniconda3/envs/myenv/lib/site-packages/fbprophet/forecaster.py?line=1385'>1386</a>\u001b[0m \u001b[39mfor\u001b[39;00m i \u001b[39min\u001b[39;00m \u001b[39mrange\u001b[39m(n_iterations):\n\u001b[0;32m   <a href='file:///c%3A/VALI/Programs/Miniconda3/envs/myenv/lib/site-packages/fbprophet/forecaster.py?line=1386'>1387</a>\u001b[0m     \u001b[39mfor\u001b[39;00m _j \u001b[39min\u001b[39;00m \u001b[39mrange\u001b[39m(samp_per_iter):\n\u001b[1;32m-> <a href='file:///c%3A/VALI/Programs/Miniconda3/envs/myenv/lib/site-packages/fbprophet/forecaster.py?line=1387'>1388</a>\u001b[0m         sim \u001b[39m=\u001b[39m \u001b[39mself\u001b[39;49m\u001b[39m.\u001b[39;49msample_model(\n\u001b[0;32m   <a href='file:///c%3A/VALI/Programs/Miniconda3/envs/myenv/lib/site-packages/fbprophet/forecaster.py?line=1388'>1389</a>\u001b[0m             df\u001b[39m=\u001b[39;49mdf,\n\u001b[0;32m   <a href='file:///c%3A/VALI/Programs/Miniconda3/envs/myenv/lib/site-packages/fbprophet/forecaster.py?line=1389'>1390</a>\u001b[0m             seasonal_features\u001b[39m=\u001b[39;49mseasonal_features,\n\u001b[0;32m   <a href='file:///c%3A/VALI/Programs/Miniconda3/envs/myenv/lib/site-packages/fbprophet/forecaster.py?line=1390'>1391</a>\u001b[0m             iteration\u001b[39m=\u001b[39;49mi,\n\u001b[0;32m   <a href='file:///c%3A/VALI/Programs/Miniconda3/envs/myenv/lib/site-packages/fbprophet/forecaster.py?line=1391'>1392</a>\u001b[0m             s_a\u001b[39m=\u001b[39;49mcomponent_cols[\u001b[39m'\u001b[39;49m\u001b[39madditive_terms\u001b[39;49m\u001b[39m'\u001b[39;49m],\n\u001b[0;32m   <a href='file:///c%3A/VALI/Programs/Miniconda3/envs/myenv/lib/site-packages/fbprophet/forecaster.py?line=1392'>1393</a>\u001b[0m             s_m\u001b[39m=\u001b[39;49mcomponent_cols[\u001b[39m'\u001b[39;49m\u001b[39mmultiplicative_terms\u001b[39;49m\u001b[39m'\u001b[39;49m],\n\u001b[0;32m   <a href='file:///c%3A/VALI/Programs/Miniconda3/envs/myenv/lib/site-packages/fbprophet/forecaster.py?line=1393'>1394</a>\u001b[0m         )\n\u001b[0;32m   <a href='file:///c%3A/VALI/Programs/Miniconda3/envs/myenv/lib/site-packages/fbprophet/forecaster.py?line=1394'>1395</a>\u001b[0m         \u001b[39mfor\u001b[39;00m key \u001b[39min\u001b[39;00m sim_values:\n\u001b[0;32m   <a href='file:///c%3A/VALI/Programs/Miniconda3/envs/myenv/lib/site-packages/fbprophet/forecaster.py?line=1395'>1396</a>\u001b[0m             sim_values[key]\u001b[39m.\u001b[39mappend(sim[key])\n",
      "File \u001b[1;32mc:\\VALI\\Programs\\Miniconda3\\envs\\myenv\\lib\\site-packages\\fbprophet\\forecaster.py:1464\u001b[0m, in \u001b[0;36mProphet.sample_model\u001b[1;34m(self, df, seasonal_features, iteration, s_a, s_m)\u001b[0m\n\u001b[0;32m   <a href='file:///c%3A/VALI/Programs/Miniconda3/envs/myenv/lib/site-packages/fbprophet/forecaster.py?line=1448'>1449</a>\u001b[0m \u001b[39mdef\u001b[39;00m \u001b[39msample_model\u001b[39m(\u001b[39mself\u001b[39m, df, seasonal_features, iteration, s_a, s_m):\n\u001b[0;32m   <a href='file:///c%3A/VALI/Programs/Miniconda3/envs/myenv/lib/site-packages/fbprophet/forecaster.py?line=1449'>1450</a>\u001b[0m     \u001b[39m\"\"\"Simulate observations from the extrapolated generative model.\u001b[39;00m\n\u001b[0;32m   <a href='file:///c%3A/VALI/Programs/Miniconda3/envs/myenv/lib/site-packages/fbprophet/forecaster.py?line=1450'>1451</a>\u001b[0m \n\u001b[0;32m   <a href='file:///c%3A/VALI/Programs/Miniconda3/envs/myenv/lib/site-packages/fbprophet/forecaster.py?line=1451'>1452</a>\u001b[0m \u001b[39m    Parameters\u001b[39;00m\n\u001b[1;32m   (...)\u001b[0m\n\u001b[0;32m   <a href='file:///c%3A/VALI/Programs/Miniconda3/envs/myenv/lib/site-packages/fbprophet/forecaster.py?line=1461'>1462</a>\u001b[0m \u001b[39m    Dataframe with trend and yhat, each like df['t'].\u001b[39;00m\n\u001b[0;32m   <a href='file:///c%3A/VALI/Programs/Miniconda3/envs/myenv/lib/site-packages/fbprophet/forecaster.py?line=1462'>1463</a>\u001b[0m \u001b[39m    \"\"\"\u001b[39;00m\n\u001b[1;32m-> <a href='file:///c%3A/VALI/Programs/Miniconda3/envs/myenv/lib/site-packages/fbprophet/forecaster.py?line=1463'>1464</a>\u001b[0m     trend \u001b[39m=\u001b[39m \u001b[39mself\u001b[39;49m\u001b[39m.\u001b[39;49msample_predictive_trend(df, iteration)\n\u001b[0;32m   <a href='file:///c%3A/VALI/Programs/Miniconda3/envs/myenv/lib/site-packages/fbprophet/forecaster.py?line=1465'>1466</a>\u001b[0m     beta \u001b[39m=\u001b[39m \u001b[39mself\u001b[39m\u001b[39m.\u001b[39mparams[\u001b[39m'\u001b[39m\u001b[39mbeta\u001b[39m\u001b[39m'\u001b[39m][iteration]\n\u001b[0;32m   <a href='file:///c%3A/VALI/Programs/Miniconda3/envs/myenv/lib/site-packages/fbprophet/forecaster.py?line=1466'>1467</a>\u001b[0m     Xb_a \u001b[39m=\u001b[39m np\u001b[39m.\u001b[39mmatmul(seasonal_features\u001b[39m.\u001b[39mvalues,\n\u001b[0;32m   <a href='file:///c%3A/VALI/Programs/Miniconda3/envs/myenv/lib/site-packages/fbprophet/forecaster.py?line=1467'>1468</a>\u001b[0m                      beta \u001b[39m*\u001b[39m s_a\u001b[39m.\u001b[39mvalues) \u001b[39m*\u001b[39m \u001b[39mself\u001b[39m\u001b[39m.\u001b[39my_scale\n",
      "File \u001b[1;32mc:\\VALI\\Programs\\Miniconda3\\envs\\myenv\\lib\\site-packages\\fbprophet\\forecaster.py:1501\u001b[0m, in \u001b[0;36mProphet.sample_predictive_trend\u001b[1;34m(self, df, iteration)\u001b[0m\n\u001b[0;32m   <a href='file:///c%3A/VALI/Programs/Miniconda3/envs/myenv/lib/site-packages/fbprophet/forecaster.py?line=1498'>1499</a>\u001b[0m \u001b[39mif\u001b[39;00m T \u001b[39m>\u001b[39m \u001b[39m1\u001b[39m:\n\u001b[0;32m   <a href='file:///c%3A/VALI/Programs/Miniconda3/envs/myenv/lib/site-packages/fbprophet/forecaster.py?line=1499'>1500</a>\u001b[0m     S \u001b[39m=\u001b[39m \u001b[39mlen\u001b[39m(\u001b[39mself\u001b[39m\u001b[39m.\u001b[39mchangepoints_t)\n\u001b[1;32m-> <a href='file:///c%3A/VALI/Programs/Miniconda3/envs/myenv/lib/site-packages/fbprophet/forecaster.py?line=1500'>1501</a>\u001b[0m     n_changes \u001b[39m=\u001b[39m np\u001b[39m.\u001b[39;49mrandom\u001b[39m.\u001b[39;49mpoisson(S \u001b[39m*\u001b[39;49m (T \u001b[39m-\u001b[39;49m \u001b[39m1\u001b[39;49m))\n\u001b[0;32m   <a href='file:///c%3A/VALI/Programs/Miniconda3/envs/myenv/lib/site-packages/fbprophet/forecaster.py?line=1501'>1502</a>\u001b[0m \u001b[39melse\u001b[39;00m:\n\u001b[0;32m   <a href='file:///c%3A/VALI/Programs/Miniconda3/envs/myenv/lib/site-packages/fbprophet/forecaster.py?line=1502'>1503</a>\u001b[0m     n_changes \u001b[39m=\u001b[39m \u001b[39m0\u001b[39m\n",
      "File \u001b[1;32mmtrand.pyx:3595\u001b[0m, in \u001b[0;36mnumpy.random.mtrand.RandomState.poisson\u001b[1;34m()\u001b[0m\n",
      "File \u001b[1;32m_common.pyx:882\u001b[0m, in \u001b[0;36mnumpy.random._common.disc\u001b[1;34m()\u001b[0m\n",
      "File \u001b[1;32m_common.pyx:431\u001b[0m, in \u001b[0;36mnumpy.random._common.check_constraint\u001b[1;34m()\u001b[0m\n",
      "\u001b[1;31mValueError\u001b[0m: lam value too large"
     ]
    }
   ],
   "source": [
    "f.set_estimator('prophet')\n",
    "f.manual_forecast()"
   ]
  },
  {
   "cell_type": "code",
   "execution_count": null,
   "metadata": {},
   "outputs": [],
   "source": [
    "f.plot_test_set(ci=True,models='prophet')\n",
    "plt.show()"
   ]
  }
 ],
 "metadata": {
  "interpreter": {
   "hash": "849485514d9dddafe09fed9138dee4c541e2b3a3bca84d80af14cdace2d88e2f"
  },
  "kernelspec": {
   "display_name": "Python 3.8.13 ('myenv')",
   "language": "python",
   "name": "python3"
  },
  "language_info": {
   "codemirror_mode": {
    "name": "ipython",
    "version": 3
   },
   "file_extension": ".py",
   "mimetype": "text/x-python",
   "name": "python",
   "nbconvert_exporter": "python",
   "pygments_lexer": "ipython3",
   "version": "3.8.13"
  },
  "orig_nbformat": 4
 },
 "nbformat": 4,
 "nbformat_minor": 2
}
