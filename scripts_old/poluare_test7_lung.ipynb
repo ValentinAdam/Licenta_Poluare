{
 "cells": [
  {
   "cell_type": "code",
   "execution_count": 102,
   "metadata": {},
   "outputs": [],
   "source": [
    "import pandas as pd"
   ]
  },
  {
   "cell_type": "code",
   "execution_count": 103,
   "metadata": {},
   "outputs": [],
   "source": [
    "import requests"
   ]
  },
  {
   "cell_type": "code",
   "execution_count": 104,
   "metadata": {},
   "outputs": [],
   "source": [
    "from requests.auth import HTTPBasicAuth\n",
    "auth = HTTPBasicAuth('elastic', 'AWbtmGda2Q7BI2bYpdjyF4qd')\n",
    "url = 'https://8f9677360fc34e2eb943d737b2597c7b.us-east-1.aws.found.io:9243/brasov-dev/_search'\n"
   ]
  },
  {
   "cell_type": "code",
   "execution_count": 105,
   "metadata": {},
   "outputs": [],
   "source": [
    "response = requests.get(url=url, auth=auth)"
   ]
  },
  {
   "cell_type": "code",
   "execution_count": 106,
   "metadata": {},
   "outputs": [
    {
     "data": {
      "text/plain": [
       "<Response [200]>"
      ]
     },
     "execution_count": 106,
     "metadata": {},
     "output_type": "execute_result"
    }
   ],
   "source": [
    "response"
   ]
  },
  {
   "cell_type": "code",
   "execution_count": 107,
   "metadata": {},
   "outputs": [],
   "source": [
    "import json\n",
    "data = json.loads(response.text)"
   ]
  },
  {
   "cell_type": "code",
   "execution_count": 108,
   "metadata": {},
   "outputs": [
    {
     "data": {
      "text/plain": [
       "{'took': 0,\n",
       " 'timed_out': False,\n",
       " '_shards': {'total': 1, 'successful': 1, 'skipped': 0, 'failed': 0},\n",
       " 'hits': {'total': {'value': 10000, 'relation': 'gte'},\n",
       "  'max_score': 1.0,\n",
       "  'hits': [{'_index': 'brasov-dev',\n",
       "    '_type': '_doc',\n",
       "    '_id': 'zWpMNXcBTeKmGB84ekLH',\n",
       "    '_score': 1.0,\n",
       "    '_source': {'Source': 'UradMonitor',\n",
       "     'Sensor': 'pm25',\n",
       "     'Value': 20,\n",
       "     'LocationLat': 45.6568,\n",
       "     'LocationLong': 25.5917,\n",
       "     'TimeStamp': 1611506922000,\n",
       "     'Measurement': 'µg/m3'}},\n",
       "   {'_index': 'brasov-dev',\n",
       "    '_type': '_doc',\n",
       "    '_id': 'z2pMNXcBTeKmGB84ekLI',\n",
       "    '_score': 1.0,\n",
       "    '_source': {'Source': 'UradMonitor',\n",
       "     'Sensor': 'pm25',\n",
       "     'Value': 20,\n",
       "     'LocationLat': 45.670103,\n",
       "     'LocationLong': 25.617966,\n",
       "     'TimeStamp': 1611506907000,\n",
       "     'Measurement': 'µg/m3'}},\n",
       "   {'_index': 'brasov-dev',\n",
       "    '_type': '_doc',\n",
       "    '_id': '0GpMNXcBTeKmGB84ekLJ',\n",
       "    '_score': 1.0,\n",
       "    '_source': {'Source': 'UradMonitor',\n",
       "     'Sensor': 'pm1',\n",
       "     'Value': 15,\n",
       "     'LocationLat': 45.653509,\n",
       "     'LocationLong': 25.56612,\n",
       "     'TimeStamp': 1611506908000,\n",
       "     'Measurement': 'µg/m3'}},\n",
       "   {'_index': 'brasov-dev',\n",
       "    '_type': '_doc',\n",
       "    '_id': '0WpMNXcBTeKmGB84ekLJ',\n",
       "    '_score': 1.0,\n",
       "    '_source': {'Source': 'UradMonitor',\n",
       "     'Sensor': 'pm10',\n",
       "     'Value': 16,\n",
       "     'LocationLat': 45.6536,\n",
       "     'LocationLong': 25.599,\n",
       "     'TimeStamp': 1611506893000,\n",
       "     'Measurement': 'µg/m3'}},\n",
       "   {'_index': 'brasov-dev',\n",
       "    '_type': '_doc',\n",
       "    '_id': '0mpMNXcBTeKmGB84ekLK',\n",
       "    '_score': 1.0,\n",
       "    '_source': {'Source': 'UradMonitor',\n",
       "     'Sensor': 'pm1',\n",
       "     'Value': 12,\n",
       "     'LocationLat': 45.6718,\n",
       "     'LocationLong': 25.6006,\n",
       "     'TimeStamp': 1586291052000,\n",
       "     'Measurement': 'µg/m3'}},\n",
       "   {'_index': 'brasov-dev',\n",
       "    '_type': '_doc',\n",
       "    '_id': '1GpMNXcBTeKmGB84ekLM',\n",
       "    '_score': 1.0,\n",
       "    '_source': {'Source': 'UradMonitor',\n",
       "     'Sensor': 'pm10',\n",
       "     'Value': 2,\n",
       "     'LocationLat': 45.589267,\n",
       "     'LocationLong': 25.46445,\n",
       "     'TimeStamp': 1611506937000,\n",
       "     'Measurement': 'µg/m3'}},\n",
       "   {'_index': 'brasov-dev',\n",
       "    '_type': '_doc',\n",
       "    '_id': '02pMNXcBTeKmGB84ekLM',\n",
       "    '_score': 1.0,\n",
       "    '_source': {'Source': 'UradMonitor',\n",
       "     'Sensor': 'pm25',\n",
       "     'Value': 21,\n",
       "     'LocationLat': 45.6718,\n",
       "     'LocationLong': 25.6006,\n",
       "     'TimeStamp': 1586291052000,\n",
       "     'Measurement': 'µg/m3'}},\n",
       "   {'_index': 'brasov-dev',\n",
       "    '_type': '_doc',\n",
       "    '_id': '1WpMNXcBTeKmGB84ekLM',\n",
       "    '_score': 1.0,\n",
       "    '_source': {'Source': 'UradMonitor',\n",
       "     'Sensor': 'pm1',\n",
       "     'Value': 12,\n",
       "     'LocationLat': 45.670103,\n",
       "     'LocationLong': 25.617966,\n",
       "     'TimeStamp': 1611506907000,\n",
       "     'Measurement': 'µg/m3'}},\n",
       "   {'_index': 'brasov-dev',\n",
       "    '_type': '_doc',\n",
       "    '_id': '1mpMNXcBTeKmGB84ekLM',\n",
       "    '_score': 1.0,\n",
       "    '_source': {'Source': 'UradMonitor',\n",
       "     'Sensor': 'pm25',\n",
       "     'Value': 24,\n",
       "     'LocationLat': 45.653509,\n",
       "     'LocationLong': 25.56612,\n",
       "     'TimeStamp': 1611506908000,\n",
       "     'Measurement': 'µg/m3'}},\n",
       "   {'_index': 'brasov-dev',\n",
       "    '_type': '_doc',\n",
       "    '_id': '12pMNXcBTeKmGB84ekLM',\n",
       "    '_score': 1.0,\n",
       "    '_source': {'Source': 'UradMonitor',\n",
       "     'Sensor': 'pm1',\n",
       "     'Value': 14,\n",
       "     'LocationLat': 45.704032,\n",
       "     'LocationLong': 25.640955,\n",
       "     'TimeStamp': 1611506918000,\n",
       "     'Measurement': 'µg/m3'}}]}}"
      ]
     },
     "execution_count": 108,
     "metadata": {},
     "output_type": "execute_result"
    }
   ],
   "source": [
    "data"
   ]
  },
  {
   "cell_type": "code",
   "execution_count": 109,
   "metadata": {},
   "outputs": [
    {
     "data": {
      "text/plain": [
       "dict_keys(['took', 'timed_out', '_shards', 'hits'])"
      ]
     },
     "execution_count": 109,
     "metadata": {},
     "output_type": "execute_result"
    }
   ],
   "source": [
    "data.keys()"
   ]
  },
  {
   "cell_type": "code",
   "execution_count": 110,
   "metadata": {},
   "outputs": [
    {
     "data": {
      "text/plain": [
       "{'total': {'value': 10000, 'relation': 'gte'},\n",
       " 'max_score': 1.0,\n",
       " 'hits': [{'_index': 'brasov-dev',\n",
       "   '_type': '_doc',\n",
       "   '_id': 'zWpMNXcBTeKmGB84ekLH',\n",
       "   '_score': 1.0,\n",
       "   '_source': {'Source': 'UradMonitor',\n",
       "    'Sensor': 'pm25',\n",
       "    'Value': 20,\n",
       "    'LocationLat': 45.6568,\n",
       "    'LocationLong': 25.5917,\n",
       "    'TimeStamp': 1611506922000,\n",
       "    'Measurement': 'µg/m3'}},\n",
       "  {'_index': 'brasov-dev',\n",
       "   '_type': '_doc',\n",
       "   '_id': 'z2pMNXcBTeKmGB84ekLI',\n",
       "   '_score': 1.0,\n",
       "   '_source': {'Source': 'UradMonitor',\n",
       "    'Sensor': 'pm25',\n",
       "    'Value': 20,\n",
       "    'LocationLat': 45.670103,\n",
       "    'LocationLong': 25.617966,\n",
       "    'TimeStamp': 1611506907000,\n",
       "    'Measurement': 'µg/m3'}},\n",
       "  {'_index': 'brasov-dev',\n",
       "   '_type': '_doc',\n",
       "   '_id': '0GpMNXcBTeKmGB84ekLJ',\n",
       "   '_score': 1.0,\n",
       "   '_source': {'Source': 'UradMonitor',\n",
       "    'Sensor': 'pm1',\n",
       "    'Value': 15,\n",
       "    'LocationLat': 45.653509,\n",
       "    'LocationLong': 25.56612,\n",
       "    'TimeStamp': 1611506908000,\n",
       "    'Measurement': 'µg/m3'}},\n",
       "  {'_index': 'brasov-dev',\n",
       "   '_type': '_doc',\n",
       "   '_id': '0WpMNXcBTeKmGB84ekLJ',\n",
       "   '_score': 1.0,\n",
       "   '_source': {'Source': 'UradMonitor',\n",
       "    'Sensor': 'pm10',\n",
       "    'Value': 16,\n",
       "    'LocationLat': 45.6536,\n",
       "    'LocationLong': 25.599,\n",
       "    'TimeStamp': 1611506893000,\n",
       "    'Measurement': 'µg/m3'}},\n",
       "  {'_index': 'brasov-dev',\n",
       "   '_type': '_doc',\n",
       "   '_id': '0mpMNXcBTeKmGB84ekLK',\n",
       "   '_score': 1.0,\n",
       "   '_source': {'Source': 'UradMonitor',\n",
       "    'Sensor': 'pm1',\n",
       "    'Value': 12,\n",
       "    'LocationLat': 45.6718,\n",
       "    'LocationLong': 25.6006,\n",
       "    'TimeStamp': 1586291052000,\n",
       "    'Measurement': 'µg/m3'}},\n",
       "  {'_index': 'brasov-dev',\n",
       "   '_type': '_doc',\n",
       "   '_id': '1GpMNXcBTeKmGB84ekLM',\n",
       "   '_score': 1.0,\n",
       "   '_source': {'Source': 'UradMonitor',\n",
       "    'Sensor': 'pm10',\n",
       "    'Value': 2,\n",
       "    'LocationLat': 45.589267,\n",
       "    'LocationLong': 25.46445,\n",
       "    'TimeStamp': 1611506937000,\n",
       "    'Measurement': 'µg/m3'}},\n",
       "  {'_index': 'brasov-dev',\n",
       "   '_type': '_doc',\n",
       "   '_id': '02pMNXcBTeKmGB84ekLM',\n",
       "   '_score': 1.0,\n",
       "   '_source': {'Source': 'UradMonitor',\n",
       "    'Sensor': 'pm25',\n",
       "    'Value': 21,\n",
       "    'LocationLat': 45.6718,\n",
       "    'LocationLong': 25.6006,\n",
       "    'TimeStamp': 1586291052000,\n",
       "    'Measurement': 'µg/m3'}},\n",
       "  {'_index': 'brasov-dev',\n",
       "   '_type': '_doc',\n",
       "   '_id': '1WpMNXcBTeKmGB84ekLM',\n",
       "   '_score': 1.0,\n",
       "   '_source': {'Source': 'UradMonitor',\n",
       "    'Sensor': 'pm1',\n",
       "    'Value': 12,\n",
       "    'LocationLat': 45.670103,\n",
       "    'LocationLong': 25.617966,\n",
       "    'TimeStamp': 1611506907000,\n",
       "    'Measurement': 'µg/m3'}},\n",
       "  {'_index': 'brasov-dev',\n",
       "   '_type': '_doc',\n",
       "   '_id': '1mpMNXcBTeKmGB84ekLM',\n",
       "   '_score': 1.0,\n",
       "   '_source': {'Source': 'UradMonitor',\n",
       "    'Sensor': 'pm25',\n",
       "    'Value': 24,\n",
       "    'LocationLat': 45.653509,\n",
       "    'LocationLong': 25.56612,\n",
       "    'TimeStamp': 1611506908000,\n",
       "    'Measurement': 'µg/m3'}},\n",
       "  {'_index': 'brasov-dev',\n",
       "   '_type': '_doc',\n",
       "   '_id': '12pMNXcBTeKmGB84ekLM',\n",
       "   '_score': 1.0,\n",
       "   '_source': {'Source': 'UradMonitor',\n",
       "    'Sensor': 'pm1',\n",
       "    'Value': 14,\n",
       "    'LocationLat': 45.704032,\n",
       "    'LocationLong': 25.640955,\n",
       "    'TimeStamp': 1611506918000,\n",
       "    'Measurement': 'µg/m3'}}]}"
      ]
     },
     "execution_count": 110,
     "metadata": {},
     "output_type": "execute_result"
    }
   ],
   "source": [
    "data['hits']"
   ]
  },
  {
   "cell_type": "code",
   "execution_count": 111,
   "metadata": {},
   "outputs": [],
   "source": [
    "data2 = data['hits']"
   ]
  },
  {
   "cell_type": "code",
   "execution_count": 112,
   "metadata": {},
   "outputs": [
    {
     "data": {
      "text/plain": [
       "dict_keys(['total', 'max_score', 'hits'])"
      ]
     },
     "execution_count": 112,
     "metadata": {},
     "output_type": "execute_result"
    }
   ],
   "source": [
    "data2.keys()"
   ]
  },
  {
   "cell_type": "code",
   "execution_count": 113,
   "metadata": {},
   "outputs": [],
   "source": [
    "data3 = data2['hits']"
   ]
  },
  {
   "cell_type": "code",
   "execution_count": 114,
   "metadata": {},
   "outputs": [],
   "source": [
    "df = pd.concat(map(pd.DataFrame.from_dict, data3), axis=1)['_source'].T"
   ]
  },
  {
   "cell_type": "code",
   "execution_count": 120,
   "metadata": {},
   "outputs": [
    {
     "data": {
      "text/html": [
       "<div>\n",
       "<style scoped>\n",
       "    .dataframe tbody tr th:only-of-type {\n",
       "        vertical-align: middle;\n",
       "    }\n",
       "\n",
       "    .dataframe tbody tr th {\n",
       "        vertical-align: top;\n",
       "    }\n",
       "\n",
       "    .dataframe thead th {\n",
       "        text-align: right;\n",
       "    }\n",
       "</style>\n",
       "<table border=\"1\" class=\"dataframe\">\n",
       "  <thead>\n",
       "    <tr style=\"text-align: right;\">\n",
       "      <th></th>\n",
       "      <th>LocationLat</th>\n",
       "      <th>LocationLong</th>\n",
       "      <th>Measurement</th>\n",
       "      <th>Sensor</th>\n",
       "      <th>Source</th>\n",
       "      <th>TimeStamp</th>\n",
       "      <th>Value</th>\n",
       "    </tr>\n",
       "  </thead>\n",
       "  <tbody>\n",
       "    <tr>\n",
       "      <th>_source</th>\n",
       "      <td>45.6568</td>\n",
       "      <td>25.5917</td>\n",
       "      <td>µg/m3</td>\n",
       "      <td>pm25</td>\n",
       "      <td>UradMonitor</td>\n",
       "      <td>1611506922000</td>\n",
       "      <td>20</td>\n",
       "    </tr>\n",
       "    <tr>\n",
       "      <th>_source</th>\n",
       "      <td>45.670103</td>\n",
       "      <td>25.617966</td>\n",
       "      <td>µg/m3</td>\n",
       "      <td>pm25</td>\n",
       "      <td>UradMonitor</td>\n",
       "      <td>1611506907000</td>\n",
       "      <td>20</td>\n",
       "    </tr>\n",
       "    <tr>\n",
       "      <th>_source</th>\n",
       "      <td>45.653509</td>\n",
       "      <td>25.56612</td>\n",
       "      <td>µg/m3</td>\n",
       "      <td>pm1</td>\n",
       "      <td>UradMonitor</td>\n",
       "      <td>1611506908000</td>\n",
       "      <td>15</td>\n",
       "    </tr>\n",
       "    <tr>\n",
       "      <th>_source</th>\n",
       "      <td>45.6536</td>\n",
       "      <td>25.599</td>\n",
       "      <td>µg/m3</td>\n",
       "      <td>pm10</td>\n",
       "      <td>UradMonitor</td>\n",
       "      <td>1611506893000</td>\n",
       "      <td>16</td>\n",
       "    </tr>\n",
       "    <tr>\n",
       "      <th>_source</th>\n",
       "      <td>45.6718</td>\n",
       "      <td>25.6006</td>\n",
       "      <td>µg/m3</td>\n",
       "      <td>pm1</td>\n",
       "      <td>UradMonitor</td>\n",
       "      <td>1586291052000</td>\n",
       "      <td>12</td>\n",
       "    </tr>\n",
       "    <tr>\n",
       "      <th>_source</th>\n",
       "      <td>45.589267</td>\n",
       "      <td>25.46445</td>\n",
       "      <td>µg/m3</td>\n",
       "      <td>pm10</td>\n",
       "      <td>UradMonitor</td>\n",
       "      <td>1611506937000</td>\n",
       "      <td>2</td>\n",
       "    </tr>\n",
       "    <tr>\n",
       "      <th>_source</th>\n",
       "      <td>45.6718</td>\n",
       "      <td>25.6006</td>\n",
       "      <td>µg/m3</td>\n",
       "      <td>pm25</td>\n",
       "      <td>UradMonitor</td>\n",
       "      <td>1586291052000</td>\n",
       "      <td>21</td>\n",
       "    </tr>\n",
       "    <tr>\n",
       "      <th>_source</th>\n",
       "      <td>45.670103</td>\n",
       "      <td>25.617966</td>\n",
       "      <td>µg/m3</td>\n",
       "      <td>pm1</td>\n",
       "      <td>UradMonitor</td>\n",
       "      <td>1611506907000</td>\n",
       "      <td>12</td>\n",
       "    </tr>\n",
       "    <tr>\n",
       "      <th>_source</th>\n",
       "      <td>45.653509</td>\n",
       "      <td>25.56612</td>\n",
       "      <td>µg/m3</td>\n",
       "      <td>pm25</td>\n",
       "      <td>UradMonitor</td>\n",
       "      <td>1611506908000</td>\n",
       "      <td>24</td>\n",
       "    </tr>\n",
       "    <tr>\n",
       "      <th>_source</th>\n",
       "      <td>45.704032</td>\n",
       "      <td>25.640955</td>\n",
       "      <td>µg/m3</td>\n",
       "      <td>pm1</td>\n",
       "      <td>UradMonitor</td>\n",
       "      <td>1611506918000</td>\n",
       "      <td>14</td>\n",
       "    </tr>\n",
       "  </tbody>\n",
       "</table>\n",
       "</div>"
      ],
      "text/plain": [
       "        LocationLat LocationLong Measurement Sensor       Source  \\\n",
       "_source     45.6568      25.5917       µg/m3   pm25  UradMonitor   \n",
       "_source   45.670103    25.617966       µg/m3   pm25  UradMonitor   \n",
       "_source   45.653509     25.56612       µg/m3    pm1  UradMonitor   \n",
       "_source     45.6536       25.599       µg/m3   pm10  UradMonitor   \n",
       "_source     45.6718      25.6006       µg/m3    pm1  UradMonitor   \n",
       "_source   45.589267     25.46445       µg/m3   pm10  UradMonitor   \n",
       "_source     45.6718      25.6006       µg/m3   pm25  UradMonitor   \n",
       "_source   45.670103    25.617966       µg/m3    pm1  UradMonitor   \n",
       "_source   45.653509     25.56612       µg/m3   pm25  UradMonitor   \n",
       "_source   45.704032    25.640955       µg/m3    pm1  UradMonitor   \n",
       "\n",
       "             TimeStamp Value  \n",
       "_source  1611506922000    20  \n",
       "_source  1611506907000    20  \n",
       "_source  1611506908000    15  \n",
       "_source  1611506893000    16  \n",
       "_source  1586291052000    12  \n",
       "_source  1611506937000     2  \n",
       "_source  1586291052000    21  \n",
       "_source  1611506907000    12  \n",
       "_source  1611506908000    24  \n",
       "_source  1611506918000    14  "
      ]
     },
     "execution_count": 120,
     "metadata": {},
     "output_type": "execute_result"
    }
   ],
   "source": [
    "df"
   ]
  },
  {
   "cell_type": "code",
   "execution_count": 122,
   "metadata": {},
   "outputs": [
    {
     "name": "stdout",
     "output_type": "stream",
     "text": [
      "        LocationLat LocationLong Measurement Sensor       Source  \\\n",
      "_source     45.6568      25.5917       µg/m3   pm25  UradMonitor   \n",
      "_source   45.670103    25.617966       µg/m3   pm25  UradMonitor   \n",
      "_source   45.653509     25.56612       µg/m3    pm1  UradMonitor   \n",
      "_source     45.6536       25.599       µg/m3   pm10  UradMonitor   \n",
      "_source     45.6718      25.6006       µg/m3    pm1  UradMonitor   \n",
      "_source   45.589267     25.46445       µg/m3   pm10  UradMonitor   \n",
      "_source     45.6718      25.6006       µg/m3   pm25  UradMonitor   \n",
      "_source   45.670103    25.617966       µg/m3    pm1  UradMonitor   \n",
      "_source   45.653509     25.56612       µg/m3   pm25  UradMonitor   \n",
      "_source   45.704032    25.640955       µg/m3    pm1  UradMonitor   \n",
      "\n",
      "             TimeStamp Value  \n",
      "_source  1611506922000    20  \n",
      "_source  1611506907000    20  \n",
      "_source  1611506908000    15  \n",
      "_source  1611506893000    16  \n",
      "_source  1586291052000    12  \n",
      "_source  1611506937000     2  \n",
      "_source  1586291052000    21  \n",
      "_source  1611506907000    12  \n",
      "_source  1611506908000    24  \n",
      "_source  1611506918000    14  \n"
     ]
    }
   ],
   "source": [
    "pd.set_option(\"display.max_rows\", None, \"display.max_columns\", None)\n",
    "print(df)"
   ]
  },
  {
   "cell_type": "code",
   "execution_count": 116,
   "metadata": {},
   "outputs": [
    {
     "data": {
      "image/png": "[encoded data removed]",
      "text/plain": [
       "<Figure size 432x288 with 1 Axes>"
      ]
     },
     "metadata": {
      "needs_background": "light"
     },
     "output_type": "display_data"
    }
   ],
   "source": [
    "hist = df.get('LocationLat').hist()"
   ]
  },
  {
   "cell_type": "code",
   "execution_count": 117,
   "metadata": {},
   "outputs": [
    {
     "data": {
      "text/plain": [
       "array([[45.6568, 25.5917, 'µg/m3', 'pm25', 'UradMonitor', 1611506922000,\n",
       "        20],\n",
       "       [45.670103, 25.617966, 'µg/m3', 'pm25', 'UradMonitor',\n",
       "        1611506907000, 20],\n",
       "       [45.653509, 25.56612, 'µg/m3', 'pm1', 'UradMonitor',\n",
       "        1611506908000, 15],\n",
       "       [45.6536, 25.599, 'µg/m3', 'pm10', 'UradMonitor', 1611506893000,\n",
       "        16],\n",
       "       [45.6718, 25.6006, 'µg/m3', 'pm1', 'UradMonitor', 1586291052000,\n",
       "        12],\n",
       "       [45.589267, 25.46445, 'µg/m3', 'pm10', 'UradMonitor',\n",
       "        1611506937000, 2],\n",
       "       [45.6718, 25.6006, 'µg/m3', 'pm25', 'UradMonitor', 1586291052000,\n",
       "        21],\n",
       "       [45.670103, 25.617966, 'µg/m3', 'pm1', 'UradMonitor',\n",
       "        1611506907000, 12],\n",
       "       [45.653509, 25.56612, 'µg/m3', 'pm25', 'UradMonitor',\n",
       "        1611506908000, 24],\n",
       "       [45.704032, 25.640955, 'µg/m3', 'pm1', 'UradMonitor',\n",
       "        1611506918000, 14]], dtype=object)"
      ]
     },
     "execution_count": 117,
     "metadata": {},
     "output_type": "execute_result"
    }
   ],
   "source": [
    "df.values"
   ]
  },
  {
   "cell_type": "code",
   "execution_count": 118,
   "metadata": {},
   "outputs": [
    {
     "data": {
      "text/plain": [
       "10"
      ]
     },
     "execution_count": 118,
     "metadata": {},
     "output_type": "execute_result"
    }
   ],
   "source": [
    "len(df)"
   ]
  },
  {
   "cell_type": "code",
   "execution_count": 119,
   "metadata": {},
   "outputs": [
    {
     "data": {
      "text/html": [
       "<div>\n",
       "<style scoped>\n",
       "    .dataframe tbody tr th:only-of-type {\n",
       "        vertical-align: middle;\n",
       "    }\n",
       "\n",
       "    .dataframe tbody tr th {\n",
       "        vertical-align: top;\n",
       "    }\n",
       "\n",
       "    .dataframe thead th {\n",
       "        text-align: right;\n",
       "    }\n",
       "</style>\n",
       "<table border=\"1\" class=\"dataframe\">\n",
       "  <thead>\n",
       "    <tr style=\"text-align: right;\">\n",
       "      <th></th>\n",
       "      <th>LocationLat</th>\n",
       "      <th>LocationLong</th>\n",
       "      <th>Measurement</th>\n",
       "      <th>Sensor</th>\n",
       "      <th>Source</th>\n",
       "      <th>TimeStamp</th>\n",
       "      <th>Value</th>\n",
       "    </tr>\n",
       "  </thead>\n",
       "  <tbody>\n",
       "    <tr>\n",
       "      <th>_source</th>\n",
       "      <td>45.6568</td>\n",
       "      <td>25.5917</td>\n",
       "      <td>µg/m3</td>\n",
       "      <td>pm25</td>\n",
       "      <td>UradMonitor</td>\n",
       "      <td>1611506922000</td>\n",
       "      <td>20</td>\n",
       "    </tr>\n",
       "    <tr>\n",
       "      <th>_source</th>\n",
       "      <td>45.670103</td>\n",
       "      <td>25.617966</td>\n",
       "      <td>µg/m3</td>\n",
       "      <td>pm25</td>\n",
       "      <td>UradMonitor</td>\n",
       "      <td>1611506907000</td>\n",
       "      <td>20</td>\n",
       "    </tr>\n",
       "    <tr>\n",
       "      <th>_source</th>\n",
       "      <td>45.653509</td>\n",
       "      <td>25.56612</td>\n",
       "      <td>µg/m3</td>\n",
       "      <td>pm1</td>\n",
       "      <td>UradMonitor</td>\n",
       "      <td>1611506908000</td>\n",
       "      <td>15</td>\n",
       "    </tr>\n",
       "    <tr>\n",
       "      <th>_source</th>\n",
       "      <td>45.6536</td>\n",
       "      <td>25.599</td>\n",
       "      <td>µg/m3</td>\n",
       "      <td>pm10</td>\n",
       "      <td>UradMonitor</td>\n",
       "      <td>1611506893000</td>\n",
       "      <td>16</td>\n",
       "    </tr>\n",
       "    <tr>\n",
       "      <th>_source</th>\n",
       "      <td>45.6718</td>\n",
       "      <td>25.6006</td>\n",
       "      <td>µg/m3</td>\n",
       "      <td>pm1</td>\n",
       "      <td>UradMonitor</td>\n",
       "      <td>1586291052000</td>\n",
       "      <td>12</td>\n",
       "    </tr>\n",
       "    <tr>\n",
       "      <th>_source</th>\n",
       "      <td>45.589267</td>\n",
       "      <td>25.46445</td>\n",
       "      <td>µg/m3</td>\n",
       "      <td>pm10</td>\n",
       "      <td>UradMonitor</td>\n",
       "      <td>1611506937000</td>\n",
       "      <td>2</td>\n",
       "    </tr>\n",
       "    <tr>\n",
       "      <th>_source</th>\n",
       "      <td>45.6718</td>\n",
       "      <td>25.6006</td>\n",
       "      <td>µg/m3</td>\n",
       "      <td>pm25</td>\n",
       "      <td>UradMonitor</td>\n",
       "      <td>1586291052000</td>\n",
       "      <td>21</td>\n",
       "    </tr>\n",
       "    <tr>\n",
       "      <th>_source</th>\n",
       "      <td>45.670103</td>\n",
       "      <td>25.617966</td>\n",
       "      <td>µg/m3</td>\n",
       "      <td>pm1</td>\n",
       "      <td>UradMonitor</td>\n",
       "      <td>1611506907000</td>\n",
       "      <td>12</td>\n",
       "    </tr>\n",
       "    <tr>\n",
       "      <th>_source</th>\n",
       "      <td>45.653509</td>\n",
       "      <td>25.56612</td>\n",
       "      <td>µg/m3</td>\n",
       "      <td>pm25</td>\n",
       "      <td>UradMonitor</td>\n",
       "      <td>1611506908000</td>\n",
       "      <td>24</td>\n",
       "    </tr>\n",
       "    <tr>\n",
       "      <th>_source</th>\n",
       "      <td>45.704032</td>\n",
       "      <td>25.640955</td>\n",
       "      <td>µg/m3</td>\n",
       "      <td>pm1</td>\n",
       "      <td>UradMonitor</td>\n",
       "      <td>1611506918000</td>\n",
       "      <td>14</td>\n",
       "    </tr>\n",
       "  </tbody>\n",
       "</table>\n",
       "</div>"
      ],
      "text/plain": [
       "        LocationLat LocationLong Measurement Sensor       Source  \\\n",
       "_source     45.6568      25.5917       µg/m3   pm25  UradMonitor   \n",
       "_source   45.670103    25.617966       µg/m3   pm25  UradMonitor   \n",
       "_source   45.653509     25.56612       µg/m3    pm1  UradMonitor   \n",
       "_source     45.6536       25.599       µg/m3   pm10  UradMonitor   \n",
       "_source     45.6718      25.6006       µg/m3    pm1  UradMonitor   \n",
       "_source   45.589267     25.46445       µg/m3   pm10  UradMonitor   \n",
       "_source     45.6718      25.6006       µg/m3   pm25  UradMonitor   \n",
       "_source   45.670103    25.617966       µg/m3    pm1  UradMonitor   \n",
       "_source   45.653509     25.56612       µg/m3   pm25  UradMonitor   \n",
       "_source   45.704032    25.640955       µg/m3    pm1  UradMonitor   \n",
       "\n",
       "             TimeStamp Value  \n",
       "_source  1611506922000    20  \n",
       "_source  1611506907000    20  \n",
       "_source  1611506908000    15  \n",
       "_source  1611506893000    16  \n",
       "_source  1586291052000    12  \n",
       "_source  1611506937000     2  \n",
       "_source  1586291052000    21  \n",
       "_source  1611506907000    12  \n",
       "_source  1611506908000    24  \n",
       "_source  1611506918000    14  "
      ]
     },
     "execution_count": 119,
     "metadata": {},
     "output_type": "execute_result"
    }
   ],
   "source": [
    "df.tail(100)"
   ]
  }
 ],
 "metadata": {
  "interpreter": {
   "hash": "b89b5cfaba6639976dc87ff2fec6d58faec662063367e2c229c520fe71072417"
  },
  "kernelspec": {
   "display_name": "Python 3.10.1 64-bit",
   "language": "python",
   "name": "python3"
  },
  "language_info": {
   "codemirror_mode": {
    "name": "ipython",
    "version": 3
   },
   "file_extension": ".py",
   "mimetype": "text/x-python",
   "name": "python",
   "nbconvert_exporter": "python",
   "pygments_lexer": "ipython3",
   "version": "3.9.7"
  },
  "orig_nbformat": 4
 },
 "nbformat": 4,
 "nbformat_minor": 2
}
