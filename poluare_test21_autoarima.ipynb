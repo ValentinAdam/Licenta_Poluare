{
 "cells": [
  {
   "cell_type": "code",
   "execution_count": 1,
   "metadata": {},
   "outputs": [],
   "source": [
    "import matplotlib.pyplot as plt\n",
    "import pandas as pd\n",
    "import numpy as np"
   ]
  },
  {
   "cell_type": "code",
   "execution_count": 15,
   "metadata": {},
   "outputs": [],
   "source": [
    "dataframe = pd.read_csv(\"csv/82000278_Toamnei_2022_05.csv\")\n",
    "dataframe_size = len(dataframe.index)\n",
    "train = dataframe[dataframe.index < dataframe_size*(85/100)]\n",
    "test = dataframe[dataframe.index >= dataframe_size*(85/100)]\n",
    "\n",
    "\n",
    "y_train = train['co2']\n",
    "y_test = test['co2']\n",
    "x_train = train['time']\n",
    "x_test = test['time']\n",
    "# Convert to numpy array\n",
    "x_train = np.array(x_train)\n",
    "x_test = np.array(x_test)\n",
    "y_train = np.array(y_train)\n",
    "y_test = np.array(y_test)\n",
    "# Reshape\n",
    "x_train = np.reshape(x_train, (-1,1))\n",
    "x_test = np.reshape(x_test, (-1,1))\n",
    "y_train = np.reshape(y_train, (-1,1))\n",
    "y_test = np.reshape(y_test, (-1,1))"
   ]
  },
  {
   "cell_type": "code",
   "execution_count": null,
   "metadata": {},
   "outputs": [],
   "source": [
    "from statsmodels.tsa.statespace.sarimax import SARIMAX\n",
    "from statsmodels.tsa.arima.model import ARIMA\n",
    "y = train['co2']\n",
    "\n",
    "ARMAmodel = ARIMA(y, order=(2,2,2))\n",
    "ARMAmodel = ARMAmodel.fit()\n",
    "y_pred = ARMAmodel.get_forecast(len(test.index))\n",
    "y_pred_df = y_pred.conf_int(alpha=0.05)\n",
    "y_pred_df['Predictions'] = ARMAmodel.predict(start = y_pred_df.index[0], end = y_pred_df.index[-1])\n",
    "y_pred_df.index = test.index\n",
    "y_pred_out = y_pred_df[\"Predictions\"]\n",
    "\n",
    "\n",
    "import matplotlib.pyplot as plt\n",
    "plt.close(\"all\")\n",
    "plt.figure(figsize=(30,15))\n",
    "# plt.plot(train.index, train.get('pm10'), color = \"black\", label = \"Training set\")\n",
    "plt.plot(train.index, train.get('co2'), color = \"black\", label = \"Training set\")\n",
    "# plt.plot(test.index, test.get('pm10'), color = \"red\", label = \"Testing set\")\n",
    "plt.plot(test.index, test.get('co2'), color = \"red\", label = \"Testing set\")\n",
    "plt.xlabel(\"Index\", fontsize=16)\n",
    "plt.ylabel(\"Value\", fontsize=16)\n",
    "# plt.title(\"Training/Testing/Predictions for PM10 on 1 month\", fontsize=18)\n",
    "plt.title(\"Training/Testing/Predictions for CO2 on 1 month\", fontsize=18)\n",
    "plt.plot(y_pred_out, color='purple', label = 'ARIMA Predictions')\n",
    "plt.legend(fontsize=16)\n",
    "plt.savefig('plots_from_csv/CSV_Tests_1month_ARIMA', bbox_inches = 'tight')\n",
    "plt.show()\n",
    "\n",
    "\n",
    "import numpy as np\n",
    "from sklearn.metrics import mean_squared_error\n",
    "\n",
    "# arima_rmse2 = np.sqrt(mean_squared_error(test[\"pm10\"].values, y_pred_df[\"Predictions\"]))\n",
    "arima_rmse2 = np.sqrt(mean_squared_error(test[\"co2\"].values, y_pred_df[\"Predictions\"]))\n",
    "print(\"RMSE: \", arima_rmse2)"
   ]
  },
  {
   "cell_type": "code",
   "execution_count": 22,
   "metadata": {},
   "outputs": [],
   "source": [
    "# %%time\n",
    "\n",
    "# Fit a base model\n",
    "ARMAmodel = ARIMA(y_train)"
   ]
  },
  {
   "cell_type": "code",
   "execution_count": 25,
   "metadata": {},
   "outputs": [
    {
     "data": {
      "text/plain": [
       "['const', 'sigma2']"
      ]
     },
     "execution_count": 25,
     "metadata": {},
     "output_type": "execute_result"
    }
   ],
   "source": [
    "ARMAmodel.param_names"
   ]
  },
  {
   "cell_type": "code",
   "execution_count": 8,
   "metadata": {},
   "outputs": [
    {
     "data": {
      "text/plain": [
       "{'n_estimators': array([ 100,  200,  300,  400,  500,  600,  700,  800,  900, 1000, 1100,\n",
       "        1200, 1300, 1400, 1500, 1600, 1700, 1800, 1900]),\n",
       " 'max_features': ['auto', 'sqrt', 'log2'],\n",
       " 'max_depth': [10, 20, 30, 40, 50, 60, 70, 80, 90, None],\n",
       " 'min_samples_split': array([2, 4, 6, 8]),\n",
       " 'min_samples_leaf': [1, 2, 4],\n",
       " 'bootstrap': [True, False]}"
      ]
     },
     "execution_count": 8,
     "metadata": {},
     "output_type": "execute_result"
    }
   ],
   "source": [
    "n_estimators = np.arange(100, 2000, step=100)\n",
    "max_features = [\"auto\", \"sqrt\", \"log2\"]\n",
    "max_depth = list(np.arange(10, 100, step=10)) + [None]\n",
    "min_samples_split = np.arange(2, 10, step=2)\n",
    "min_samples_leaf = [1, 2, 4]\n",
    "bootstrap = [True, False]\n",
    "\n",
    "param_grid = {\n",
    "    \"n_estimators\": n_estimators,\n",
    "    \"max_features\": max_features,\n",
    "    \"max_depth\": max_depth,\n",
    "    \"min_samples_split\": min_samples_split,\n",
    "    \"min_samples_leaf\": min_samples_leaf,\n",
    "    \"bootstrap\": bootstrap,\n",
    "}\n",
    "\n",
    "param_grid"
   ]
  },
  {
   "cell_type": "code",
   "execution_count": 9,
   "metadata": {},
   "outputs": [],
   "source": [
    "from sklearn.model_selection import RandomizedSearchCV\n",
    "\n",
    "forest = RandomForestRegressor()\n",
    "\n",
    "random_cv = RandomizedSearchCV(\n",
    "    forest, param_grid, n_iter=100, cv=3, scoring=\"r2\", n_jobs=-1\n",
    ")"
   ]
  },
  {
   "cell_type": "code",
   "execution_count": 10,
   "metadata": {},
   "outputs": [
    {
     "name": "stdout",
     "output_type": "stream",
     "text": [
      "Best params:\n",
      "\n",
      "{'n_estimators': 700, 'min_samples_split': 6, 'min_samples_leaf': 4, 'max_features': 'sqrt', 'max_depth': 60, 'bootstrap': True}\n",
      "CPU times: total: 7.47 s\n",
      "Wall time: 11min 37s\n"
     ]
    },
    {
     "data": {
      "text/plain": [
       "-1.1387588318038444"
      ]
     },
     "execution_count": 10,
     "metadata": {},
     "output_type": "execute_result"
    }
   ],
   "source": [
    "%%time\n",
    "\n",
    "_ = random_cv.fit(X, y)\n",
    "\n",
    "print(\"Best params:\\n\")\n",
    "print(random_cv.best_params_)\n",
    "\n",
    "random_cv.best_score_"
   ]
  },
  {
   "cell_type": "code",
   "execution_count": 11,
   "metadata": {},
   "outputs": [
    {
     "data": {
      "text/plain": [
       "13680"
      ]
     },
     "execution_count": 11,
     "metadata": {},
     "output_type": "execute_result"
    }
   ],
   "source": [
    "n_iterations = 1\n",
    "\n",
    "for value in param_grid.values():\n",
    "    n_iterations *= len(value)\n",
    "    \n",
    "n_iterations"
   ]
  },
  {
   "cell_type": "code",
   "execution_count": 32,
   "metadata": {},
   "outputs": [
    {
     "data": {
      "text/plain": [
       "{'n_estimators': [600, 700, 800],\n",
       " 'max_features': ['sqrt'],\n",
       " 'max_depth': [55, 60, 65],\n",
       " 'min_samples_split': [4, 6, 8],\n",
       " 'min_samples_leaf': [3, 4, 5],\n",
       " 'bootstrap': [True]}"
      ]
     },
     "execution_count": 32,
     "metadata": {},
     "output_type": "execute_result"
    }
   ],
   "source": [
    "new_params = {\n",
    "    \"n_estimators\": [600, 700, 800],\n",
    "    \"max_features\": ['sqrt'],\n",
    "    \"max_depth\": [55, 60, 65],\n",
    "    \"min_samples_split\": [4, 6, 8],\n",
    "    \"min_samples_leaf\": [3, 4, 5],\n",
    "    \"bootstrap\": [True],\n",
    "}\n",
    "\n",
    "new_params"
   ]
  },
  {
   "cell_type": "code",
   "execution_count": 16,
   "metadata": {},
   "outputs": [
    {
     "data": {
      "text/plain": [
       "81"
      ]
     },
     "execution_count": 16,
     "metadata": {},
     "output_type": "execute_result"
    }
   ],
   "source": [
    "n_iterations = 1\n",
    "\n",
    "for value in new_params.values():\n",
    "    n_iterations *= len(value)\n",
    "    \n",
    "n_iterations"
   ]
  },
  {
   "cell_type": "code",
   "execution_count": 17,
   "metadata": {},
   "outputs": [],
   "source": [
    "from sklearn.model_selection import GridSearchCV\n",
    "\n",
    "forest = RandomForestRegressor()\n",
    "\n",
    "grid_cv = GridSearchCV(forest, new_params, n_jobs=-1)"
   ]
  },
  {
   "cell_type": "code",
   "execution_count": 18,
   "metadata": {},
   "outputs": [
    {
     "name": "stdout",
     "output_type": "stream",
     "text": [
      "Best params:\n",
      "\n",
      "{'bootstrap': True, 'max_depth': 55, 'max_features': 'sqrt', 'min_samples_leaf': 5, 'min_samples_split': 6, 'n_estimators': 600} \n",
      "\n",
      "CPU times: total: 6.36 s\n",
      "Wall time: 8min 38s\n"
     ]
    }
   ],
   "source": [
    "%%time\n",
    "\n",
    "_ = grid_cv.fit(X, y)\n",
    "\n",
    "print('Best params:\\n')\n",
    "print(grid_cv.best_params_, '\\n')"
   ]
  },
  {
   "cell_type": "code",
   "execution_count": 19,
   "metadata": {},
   "outputs": [
    {
     "data": {
      "text/plain": [
       "-1.2896261762348877"
      ]
     },
     "execution_count": 19,
     "metadata": {},
     "output_type": "execute_result"
    }
   ],
   "source": [
    "grid_cv.best_score_"
   ]
  }
 ],
 "metadata": {
  "kernelspec": {
   "display_name": "Python 3.8.13 ('myenv')",
   "language": "python",
   "name": "python3"
  },
  "language_info": {
   "codemirror_mode": {
    "name": "ipython",
    "version": 3
   },
   "file_extension": ".py",
   "mimetype": "text/x-python",
   "name": "python",
   "nbconvert_exporter": "python",
   "pygments_lexer": "ipython3",
   "version": "3.8.13"
  },
  "orig_nbformat": 4,
  "vscode": {
   "interpreter": {
    "hash": "849485514d9dddafe09fed9138dee4c541e2b3a3bca84d80af14cdace2d88e2f"
   }
  }
 },
 "nbformat": 4,
 "nbformat_minor": 2
}
