{
 "cells": [
  {
   "cell_type": "code",
   "execution_count": 1,
   "metadata": {},
   "outputs": [],
   "source": [
    "import logging\n",
    "import numpy as np\n",
    "import pandas as pd\n",
    "from fbprophet import Prophet\n",
    "from fbprophet.plot import plot_plotly, plot_components_plotly\n",
    "from plotly import graph_objs as go\n",
    "from sklearn.metrics import mean_squared_error, r2_score\n",
    "from sklearn.model_selection import train_test_split"
   ]
  },
  {
   "cell_type": "code",
   "execution_count": 2,
   "metadata": {},
   "outputs": [
    {
     "data": {
      "text/html": [
       "<div>\n",
       "<style scoped>\n",
       "    .dataframe tbody tr th:only-of-type {\n",
       "        vertical-align: middle;\n",
       "    }\n",
       "\n",
       "    .dataframe tbody tr th {\n",
       "        vertical-align: top;\n",
       "    }\n",
       "\n",
       "    .dataframe thead th {\n",
       "        text-align: right;\n",
       "    }\n",
       "</style>\n",
       "<table border=\"1\" class=\"dataframe\">\n",
       "  <thead>\n",
       "    <tr style=\"text-align: right;\">\n",
       "      <th></th>\n",
       "      <th>time</th>\n",
       "      <th>latitude</th>\n",
       "      <th>longitude</th>\n",
       "      <th>altitude</th>\n",
       "      <th>timelocal</th>\n",
       "      <th>temperature</th>\n",
       "      <th>pressure</th>\n",
       "      <th>humidity</th>\n",
       "      <th>voc</th>\n",
       "      <th>noise</th>\n",
       "      <th>co2</th>\n",
       "      <th>ch2o</th>\n",
       "      <th>o3</th>\n",
       "      <th>pm1</th>\n",
       "      <th>pm25</th>\n",
       "      <th>pm10</th>\n",
       "      <th>readable time</th>\n",
       "      <th>day</th>\n",
       "    </tr>\n",
       "  </thead>\n",
       "  <tbody>\n",
       "    <tr>\n",
       "      <th>0</th>\n",
       "      <td>1651363204</td>\n",
       "      <td>45.651464</td>\n",
       "      <td>25.615426</td>\n",
       "      <td>538</td>\n",
       "      <td>914160</td>\n",
       "      <td>6.73</td>\n",
       "      <td>95569</td>\n",
       "      <td>76</td>\n",
       "      <td>215841</td>\n",
       "      <td>43</td>\n",
       "      <td>599</td>\n",
       "      <td>7</td>\n",
       "      <td>20</td>\n",
       "      <td>7</td>\n",
       "      <td>9</td>\n",
       "      <td>10</td>\n",
       "      <td>01-05-22 00:00</td>\n",
       "      <td>01-05-22</td>\n",
       "    </tr>\n",
       "    <tr>\n",
       "      <th>1</th>\n",
       "      <td>1651363264</td>\n",
       "      <td>45.651464</td>\n",
       "      <td>25.615426</td>\n",
       "      <td>538</td>\n",
       "      <td>914220</td>\n",
       "      <td>6.71</td>\n",
       "      <td>95569</td>\n",
       "      <td>76</td>\n",
       "      <td>213691</td>\n",
       "      <td>50</td>\n",
       "      <td>601</td>\n",
       "      <td>7</td>\n",
       "      <td>20</td>\n",
       "      <td>7</td>\n",
       "      <td>9</td>\n",
       "      <td>10</td>\n",
       "      <td>01-05-22 00:01</td>\n",
       "      <td>01-05-22</td>\n",
       "    </tr>\n",
       "    <tr>\n",
       "      <th>2</th>\n",
       "      <td>1651363324</td>\n",
       "      <td>45.651464</td>\n",
       "      <td>25.615426</td>\n",
       "      <td>538</td>\n",
       "      <td>914280</td>\n",
       "      <td>6.70</td>\n",
       "      <td>95570</td>\n",
       "      <td>76</td>\n",
       "      <td>211822</td>\n",
       "      <td>43</td>\n",
       "      <td>601</td>\n",
       "      <td>7</td>\n",
       "      <td>20</td>\n",
       "      <td>7</td>\n",
       "      <td>9</td>\n",
       "      <td>10</td>\n",
       "      <td>01-05-22 00:02</td>\n",
       "      <td>01-05-22</td>\n",
       "    </tr>\n",
       "    <tr>\n",
       "      <th>3</th>\n",
       "      <td>1651363384</td>\n",
       "      <td>45.651464</td>\n",
       "      <td>25.615426</td>\n",
       "      <td>538</td>\n",
       "      <td>914340</td>\n",
       "      <td>6.69</td>\n",
       "      <td>95568</td>\n",
       "      <td>76</td>\n",
       "      <td>206437</td>\n",
       "      <td>42</td>\n",
       "      <td>600</td>\n",
       "      <td>7</td>\n",
       "      <td>20</td>\n",
       "      <td>7</td>\n",
       "      <td>9</td>\n",
       "      <td>10</td>\n",
       "      <td>01-05-22 00:03</td>\n",
       "      <td>01-05-22</td>\n",
       "    </tr>\n",
       "    <tr>\n",
       "      <th>4</th>\n",
       "      <td>1651363444</td>\n",
       "      <td>45.651464</td>\n",
       "      <td>25.615426</td>\n",
       "      <td>538</td>\n",
       "      <td>914400</td>\n",
       "      <td>6.67</td>\n",
       "      <td>95568</td>\n",
       "      <td>77</td>\n",
       "      <td>206428</td>\n",
       "      <td>45</td>\n",
       "      <td>602</td>\n",
       "      <td>7</td>\n",
       "      <td>20</td>\n",
       "      <td>7</td>\n",
       "      <td>9</td>\n",
       "      <td>10</td>\n",
       "      <td>01-05-22 00:04</td>\n",
       "      <td>01-05-22</td>\n",
       "    </tr>\n",
       "    <tr>\n",
       "      <th>...</th>\n",
       "      <td>...</td>\n",
       "      <td>...</td>\n",
       "      <td>...</td>\n",
       "      <td>...</td>\n",
       "      <td>...</td>\n",
       "      <td>...</td>\n",
       "      <td>...</td>\n",
       "      <td>...</td>\n",
       "      <td>...</td>\n",
       "      <td>...</td>\n",
       "      <td>...</td>\n",
       "      <td>...</td>\n",
       "      <td>...</td>\n",
       "      <td>...</td>\n",
       "      <td>...</td>\n",
       "      <td>...</td>\n",
       "      <td>...</td>\n",
       "      <td>...</td>\n",
       "    </tr>\n",
       "    <tr>\n",
       "      <th>44511</th>\n",
       "      <td>1654041310</td>\n",
       "      <td>45.651464</td>\n",
       "      <td>25.615426</td>\n",
       "      <td>538</td>\n",
       "      <td>1585140</td>\n",
       "      <td>13.53</td>\n",
       "      <td>95191</td>\n",
       "      <td>83</td>\n",
       "      <td>208469</td>\n",
       "      <td>43</td>\n",
       "      <td>590</td>\n",
       "      <td>7</td>\n",
       "      <td>20</td>\n",
       "      <td>8</td>\n",
       "      <td>10</td>\n",
       "      <td>11</td>\n",
       "      <td>31-05-22 23:55</td>\n",
       "      <td>31-05-22</td>\n",
       "    </tr>\n",
       "    <tr>\n",
       "      <th>44512</th>\n",
       "      <td>1654041370</td>\n",
       "      <td>45.651464</td>\n",
       "      <td>25.615426</td>\n",
       "      <td>538</td>\n",
       "      <td>1585200</td>\n",
       "      <td>13.52</td>\n",
       "      <td>95188</td>\n",
       "      <td>83</td>\n",
       "      <td>207676</td>\n",
       "      <td>45</td>\n",
       "      <td>595</td>\n",
       "      <td>7</td>\n",
       "      <td>20</td>\n",
       "      <td>8</td>\n",
       "      <td>10</td>\n",
       "      <td>11</td>\n",
       "      <td>31-05-22 23:56</td>\n",
       "      <td>31-05-22</td>\n",
       "    </tr>\n",
       "    <tr>\n",
       "      <th>44513</th>\n",
       "      <td>1654041430</td>\n",
       "      <td>45.651464</td>\n",
       "      <td>25.615426</td>\n",
       "      <td>538</td>\n",
       "      <td>1585260</td>\n",
       "      <td>13.52</td>\n",
       "      <td>95190</td>\n",
       "      <td>83</td>\n",
       "      <td>206661</td>\n",
       "      <td>37</td>\n",
       "      <td>590</td>\n",
       "      <td>7</td>\n",
       "      <td>20</td>\n",
       "      <td>7</td>\n",
       "      <td>9</td>\n",
       "      <td>10</td>\n",
       "      <td>31-05-22 23:57</td>\n",
       "      <td>31-05-22</td>\n",
       "    </tr>\n",
       "    <tr>\n",
       "      <th>44514</th>\n",
       "      <td>1654041490</td>\n",
       "      <td>45.651464</td>\n",
       "      <td>25.615426</td>\n",
       "      <td>538</td>\n",
       "      <td>1585320</td>\n",
       "      <td>13.52</td>\n",
       "      <td>95192</td>\n",
       "      <td>83</td>\n",
       "      <td>205206</td>\n",
       "      <td>43</td>\n",
       "      <td>592</td>\n",
       "      <td>7</td>\n",
       "      <td>20</td>\n",
       "      <td>7</td>\n",
       "      <td>9</td>\n",
       "      <td>10</td>\n",
       "      <td>31-05-22 23:58</td>\n",
       "      <td>31-05-22</td>\n",
       "    </tr>\n",
       "    <tr>\n",
       "      <th>44515</th>\n",
       "      <td>1654041550</td>\n",
       "      <td>45.651464</td>\n",
       "      <td>25.615426</td>\n",
       "      <td>538</td>\n",
       "      <td>1585380</td>\n",
       "      <td>13.51</td>\n",
       "      <td>95194</td>\n",
       "      <td>83</td>\n",
       "      <td>204976</td>\n",
       "      <td>38</td>\n",
       "      <td>598</td>\n",
       "      <td>7</td>\n",
       "      <td>20</td>\n",
       "      <td>8</td>\n",
       "      <td>10</td>\n",
       "      <td>11</td>\n",
       "      <td>31-05-22 23:59</td>\n",
       "      <td>31-05-22</td>\n",
       "    </tr>\n",
       "  </tbody>\n",
       "</table>\n",
       "<p>44516 rows × 18 columns</p>\n",
       "</div>"
      ],
      "text/plain": [
       "             time   latitude  longitude  altitude  timelocal  temperature  \\\n",
       "0      1651363204  45.651464  25.615426       538     914160         6.73   \n",
       "1      1651363264  45.651464  25.615426       538     914220         6.71   \n",
       "2      1651363324  45.651464  25.615426       538     914280         6.70   \n",
       "3      1651363384  45.651464  25.615426       538     914340         6.69   \n",
       "4      1651363444  45.651464  25.615426       538     914400         6.67   \n",
       "...           ...        ...        ...       ...        ...          ...   \n",
       "44511  1654041310  45.651464  25.615426       538    1585140        13.53   \n",
       "44512  1654041370  45.651464  25.615426       538    1585200        13.52   \n",
       "44513  1654041430  45.651464  25.615426       538    1585260        13.52   \n",
       "44514  1654041490  45.651464  25.615426       538    1585320        13.52   \n",
       "44515  1654041550  45.651464  25.615426       538    1585380        13.51   \n",
       "\n",
       "       pressure  humidity     voc  noise  co2  ch2o  o3  pm1  pm25  pm10  \\\n",
       "0         95569        76  215841     43  599     7  20    7     9    10   \n",
       "1         95569        76  213691     50  601     7  20    7     9    10   \n",
       "2         95570        76  211822     43  601     7  20    7     9    10   \n",
       "3         95568        76  206437     42  600     7  20    7     9    10   \n",
       "4         95568        77  206428     45  602     7  20    7     9    10   \n",
       "...         ...       ...     ...    ...  ...   ...  ..  ...   ...   ...   \n",
       "44511     95191        83  208469     43  590     7  20    8    10    11   \n",
       "44512     95188        83  207676     45  595     7  20    8    10    11   \n",
       "44513     95190        83  206661     37  590     7  20    7     9    10   \n",
       "44514     95192        83  205206     43  592     7  20    7     9    10   \n",
       "44515     95194        83  204976     38  598     7  20    8    10    11   \n",
       "\n",
       "        readable time       day  \n",
       "0      01-05-22 00:00  01-05-22  \n",
       "1      01-05-22 00:01  01-05-22  \n",
       "2      01-05-22 00:02  01-05-22  \n",
       "3      01-05-22 00:03  01-05-22  \n",
       "4      01-05-22 00:04  01-05-22  \n",
       "...               ...       ...  \n",
       "44511  31-05-22 23:55  31-05-22  \n",
       "44512  31-05-22 23:56  31-05-22  \n",
       "44513  31-05-22 23:57  31-05-22  \n",
       "44514  31-05-22 23:58  31-05-22  \n",
       "44515  31-05-22 23:59  31-05-22  \n",
       "\n",
       "[44516 rows x 18 columns]"
      ]
     },
     "execution_count": 2,
     "metadata": {},
     "output_type": "execute_result"
    }
   ],
   "source": [
    "pd.options.mode.chained_assignment = None\n",
    "data = pd.read_csv(\"csv/82000278_Toamnei_2022_05.csv\")\n",
    "data"
   ]
  },
  {
   "cell_type": "code",
   "execution_count": 3,
   "metadata": {},
   "outputs": [
    {
     "data": {
      "text/html": [
       "<div>\n",
       "<style scoped>\n",
       "    .dataframe tbody tr th:only-of-type {\n",
       "        vertical-align: middle;\n",
       "    }\n",
       "\n",
       "    .dataframe tbody tr th {\n",
       "        vertical-align: top;\n",
       "    }\n",
       "\n",
       "    .dataframe thead th {\n",
       "        text-align: right;\n",
       "    }\n",
       "</style>\n",
       "<table border=\"1\" class=\"dataframe\">\n",
       "  <thead>\n",
       "    <tr style=\"text-align: right;\">\n",
       "      <th></th>\n",
       "      <th>time</th>\n",
       "      <th>latitude</th>\n",
       "      <th>longitude</th>\n",
       "      <th>altitude</th>\n",
       "      <th>timelocal</th>\n",
       "      <th>temperature</th>\n",
       "      <th>pressure</th>\n",
       "      <th>humidity</th>\n",
       "      <th>voc</th>\n",
       "      <th>noise</th>\n",
       "      <th>co2</th>\n",
       "      <th>ch2o</th>\n",
       "      <th>o3</th>\n",
       "      <th>pm1</th>\n",
       "      <th>pm25</th>\n",
       "      <th>pm10</th>\n",
       "      <th>readable time</th>\n",
       "      <th>day</th>\n",
       "    </tr>\n",
       "  </thead>\n",
       "  <tbody>\n",
       "    <tr>\n",
       "      <th>0</th>\n",
       "      <td>1651363204</td>\n",
       "      <td>45.651464</td>\n",
       "      <td>25.615426</td>\n",
       "      <td>538</td>\n",
       "      <td>914160</td>\n",
       "      <td>6.73</td>\n",
       "      <td>95569</td>\n",
       "      <td>76</td>\n",
       "      <td>215841</td>\n",
       "      <td>43</td>\n",
       "      <td>599</td>\n",
       "      <td>7</td>\n",
       "      <td>20</td>\n",
       "      <td>7</td>\n",
       "      <td>9</td>\n",
       "      <td>10</td>\n",
       "      <td>01-05-22 00:00</td>\n",
       "      <td>01-05-22</td>\n",
       "    </tr>\n",
       "    <tr>\n",
       "      <th>1</th>\n",
       "      <td>1651363264</td>\n",
       "      <td>45.651464</td>\n",
       "      <td>25.615426</td>\n",
       "      <td>538</td>\n",
       "      <td>914220</td>\n",
       "      <td>6.71</td>\n",
       "      <td>95569</td>\n",
       "      <td>76</td>\n",
       "      <td>213691</td>\n",
       "      <td>50</td>\n",
       "      <td>601</td>\n",
       "      <td>7</td>\n",
       "      <td>20</td>\n",
       "      <td>7</td>\n",
       "      <td>9</td>\n",
       "      <td>10</td>\n",
       "      <td>01-05-22 00:01</td>\n",
       "      <td>01-05-22</td>\n",
       "    </tr>\n",
       "    <tr>\n",
       "      <th>2</th>\n",
       "      <td>1651363324</td>\n",
       "      <td>45.651464</td>\n",
       "      <td>25.615426</td>\n",
       "      <td>538</td>\n",
       "      <td>914280</td>\n",
       "      <td>6.70</td>\n",
       "      <td>95570</td>\n",
       "      <td>76</td>\n",
       "      <td>211822</td>\n",
       "      <td>43</td>\n",
       "      <td>601</td>\n",
       "      <td>7</td>\n",
       "      <td>20</td>\n",
       "      <td>7</td>\n",
       "      <td>9</td>\n",
       "      <td>10</td>\n",
       "      <td>01-05-22 00:02</td>\n",
       "      <td>01-05-22</td>\n",
       "    </tr>\n",
       "    <tr>\n",
       "      <th>3</th>\n",
       "      <td>1651363384</td>\n",
       "      <td>45.651464</td>\n",
       "      <td>25.615426</td>\n",
       "      <td>538</td>\n",
       "      <td>914340</td>\n",
       "      <td>6.69</td>\n",
       "      <td>95568</td>\n",
       "      <td>76</td>\n",
       "      <td>206437</td>\n",
       "      <td>42</td>\n",
       "      <td>600</td>\n",
       "      <td>7</td>\n",
       "      <td>20</td>\n",
       "      <td>7</td>\n",
       "      <td>9</td>\n",
       "      <td>10</td>\n",
       "      <td>01-05-22 00:03</td>\n",
       "      <td>01-05-22</td>\n",
       "    </tr>\n",
       "    <tr>\n",
       "      <th>4</th>\n",
       "      <td>1651363444</td>\n",
       "      <td>45.651464</td>\n",
       "      <td>25.615426</td>\n",
       "      <td>538</td>\n",
       "      <td>914400</td>\n",
       "      <td>6.67</td>\n",
       "      <td>95568</td>\n",
       "      <td>77</td>\n",
       "      <td>206428</td>\n",
       "      <td>45</td>\n",
       "      <td>602</td>\n",
       "      <td>7</td>\n",
       "      <td>20</td>\n",
       "      <td>7</td>\n",
       "      <td>9</td>\n",
       "      <td>10</td>\n",
       "      <td>01-05-22 00:04</td>\n",
       "      <td>01-05-22</td>\n",
       "    </tr>\n",
       "    <tr>\n",
       "      <th>...</th>\n",
       "      <td>...</td>\n",
       "      <td>...</td>\n",
       "      <td>...</td>\n",
       "      <td>...</td>\n",
       "      <td>...</td>\n",
       "      <td>...</td>\n",
       "      <td>...</td>\n",
       "      <td>...</td>\n",
       "      <td>...</td>\n",
       "      <td>...</td>\n",
       "      <td>...</td>\n",
       "      <td>...</td>\n",
       "      <td>...</td>\n",
       "      <td>...</td>\n",
       "      <td>...</td>\n",
       "      <td>...</td>\n",
       "      <td>...</td>\n",
       "      <td>...</td>\n",
       "    </tr>\n",
       "    <tr>\n",
       "      <th>44511</th>\n",
       "      <td>1654041310</td>\n",
       "      <td>45.651464</td>\n",
       "      <td>25.615426</td>\n",
       "      <td>538</td>\n",
       "      <td>1585140</td>\n",
       "      <td>13.53</td>\n",
       "      <td>95191</td>\n",
       "      <td>83</td>\n",
       "      <td>208469</td>\n",
       "      <td>43</td>\n",
       "      <td>590</td>\n",
       "      <td>7</td>\n",
       "      <td>20</td>\n",
       "      <td>8</td>\n",
       "      <td>10</td>\n",
       "      <td>11</td>\n",
       "      <td>31-05-22 23:55</td>\n",
       "      <td>31-05-22</td>\n",
       "    </tr>\n",
       "    <tr>\n",
       "      <th>44512</th>\n",
       "      <td>1654041370</td>\n",
       "      <td>45.651464</td>\n",
       "      <td>25.615426</td>\n",
       "      <td>538</td>\n",
       "      <td>1585200</td>\n",
       "      <td>13.52</td>\n",
       "      <td>95188</td>\n",
       "      <td>83</td>\n",
       "      <td>207676</td>\n",
       "      <td>45</td>\n",
       "      <td>595</td>\n",
       "      <td>7</td>\n",
       "      <td>20</td>\n",
       "      <td>8</td>\n",
       "      <td>10</td>\n",
       "      <td>11</td>\n",
       "      <td>31-05-22 23:56</td>\n",
       "      <td>31-05-22</td>\n",
       "    </tr>\n",
       "    <tr>\n",
       "      <th>44513</th>\n",
       "      <td>1654041430</td>\n",
       "      <td>45.651464</td>\n",
       "      <td>25.615426</td>\n",
       "      <td>538</td>\n",
       "      <td>1585260</td>\n",
       "      <td>13.52</td>\n",
       "      <td>95190</td>\n",
       "      <td>83</td>\n",
       "      <td>206661</td>\n",
       "      <td>37</td>\n",
       "      <td>590</td>\n",
       "      <td>7</td>\n",
       "      <td>20</td>\n",
       "      <td>7</td>\n",
       "      <td>9</td>\n",
       "      <td>10</td>\n",
       "      <td>31-05-22 23:57</td>\n",
       "      <td>31-05-22</td>\n",
       "    </tr>\n",
       "    <tr>\n",
       "      <th>44514</th>\n",
       "      <td>1654041490</td>\n",
       "      <td>45.651464</td>\n",
       "      <td>25.615426</td>\n",
       "      <td>538</td>\n",
       "      <td>1585320</td>\n",
       "      <td>13.52</td>\n",
       "      <td>95192</td>\n",
       "      <td>83</td>\n",
       "      <td>205206</td>\n",
       "      <td>43</td>\n",
       "      <td>592</td>\n",
       "      <td>7</td>\n",
       "      <td>20</td>\n",
       "      <td>7</td>\n",
       "      <td>9</td>\n",
       "      <td>10</td>\n",
       "      <td>31-05-22 23:58</td>\n",
       "      <td>31-05-22</td>\n",
       "    </tr>\n",
       "    <tr>\n",
       "      <th>44515</th>\n",
       "      <td>1654041550</td>\n",
       "      <td>45.651464</td>\n",
       "      <td>25.615426</td>\n",
       "      <td>538</td>\n",
       "      <td>1585380</td>\n",
       "      <td>13.51</td>\n",
       "      <td>95194</td>\n",
       "      <td>83</td>\n",
       "      <td>204976</td>\n",
       "      <td>38</td>\n",
       "      <td>598</td>\n",
       "      <td>7</td>\n",
       "      <td>20</td>\n",
       "      <td>8</td>\n",
       "      <td>10</td>\n",
       "      <td>11</td>\n",
       "      <td>31-05-22 23:59</td>\n",
       "      <td>31-05-22</td>\n",
       "    </tr>\n",
       "  </tbody>\n",
       "</table>\n",
       "<p>44516 rows × 18 columns</p>\n",
       "</div>"
      ],
      "text/plain": [
       "             time   latitude  longitude  altitude  timelocal  temperature  \\\n",
       "0      1651363204  45.651464  25.615426       538     914160         6.73   \n",
       "1      1651363264  45.651464  25.615426       538     914220         6.71   \n",
       "2      1651363324  45.651464  25.615426       538     914280         6.70   \n",
       "3      1651363384  45.651464  25.615426       538     914340         6.69   \n",
       "4      1651363444  45.651464  25.615426       538     914400         6.67   \n",
       "...           ...        ...        ...       ...        ...          ...   \n",
       "44511  1654041310  45.651464  25.615426       538    1585140        13.53   \n",
       "44512  1654041370  45.651464  25.615426       538    1585200        13.52   \n",
       "44513  1654041430  45.651464  25.615426       538    1585260        13.52   \n",
       "44514  1654041490  45.651464  25.615426       538    1585320        13.52   \n",
       "44515  1654041550  45.651464  25.615426       538    1585380        13.51   \n",
       "\n",
       "       pressure  humidity     voc  noise  co2  ch2o  o3  pm1  pm25  pm10  \\\n",
       "0         95569        76  215841     43  599     7  20    7     9    10   \n",
       "1         95569        76  213691     50  601     7  20    7     9    10   \n",
       "2         95570        76  211822     43  601     7  20    7     9    10   \n",
       "3         95568        76  206437     42  600     7  20    7     9    10   \n",
       "4         95568        77  206428     45  602     7  20    7     9    10   \n",
       "...         ...       ...     ...    ...  ...   ...  ..  ...   ...   ...   \n",
       "44511     95191        83  208469     43  590     7  20    8    10    11   \n",
       "44512     95188        83  207676     45  595     7  20    8    10    11   \n",
       "44513     95190        83  206661     37  590     7  20    7     9    10   \n",
       "44514     95192        83  205206     43  592     7  20    7     9    10   \n",
       "44515     95194        83  204976     38  598     7  20    8    10    11   \n",
       "\n",
       "        readable time       day  \n",
       "0      01-05-22 00:00  01-05-22  \n",
       "1      01-05-22 00:01  01-05-22  \n",
       "2      01-05-22 00:02  01-05-22  \n",
       "3      01-05-22 00:03  01-05-22  \n",
       "4      01-05-22 00:04  01-05-22  \n",
       "...               ...       ...  \n",
       "44511  31-05-22 23:55  31-05-22  \n",
       "44512  31-05-22 23:56  31-05-22  \n",
       "44513  31-05-22 23:57  31-05-22  \n",
       "44514  31-05-22 23:58  31-05-22  \n",
       "44515  31-05-22 23:59  31-05-22  \n",
       "\n",
       "[44516 rows x 18 columns]"
      ]
     },
     "execution_count": 3,
     "metadata": {},
     "output_type": "execute_result"
    }
   ],
   "source": [
    "# drop Nan columns and indexes\n",
    "data.dropna(axis='columns', how='all', inplace=True)\n",
    "data.dropna(axis='index', how='all', inplace=True)\n",
    "data"
   ]
  },
  {
   "cell_type": "code",
   "execution_count": 4,
   "metadata": {},
   "outputs": [
    {
     "data": {
      "text/html": [
       "<div>\n",
       "<style scoped>\n",
       "    .dataframe tbody tr th:only-of-type {\n",
       "        vertical-align: middle;\n",
       "    }\n",
       "\n",
       "    .dataframe tbody tr th {\n",
       "        vertical-align: top;\n",
       "    }\n",
       "\n",
       "    .dataframe thead th {\n",
       "        text-align: right;\n",
       "    }\n",
       "</style>\n",
       "<table border=\"1\" class=\"dataframe\">\n",
       "  <thead>\n",
       "    <tr style=\"text-align: right;\">\n",
       "      <th></th>\n",
       "      <th>time</th>\n",
       "      <th>latitude</th>\n",
       "      <th>longitude</th>\n",
       "      <th>altitude</th>\n",
       "      <th>timelocal</th>\n",
       "      <th>temperature</th>\n",
       "      <th>pressure</th>\n",
       "      <th>humidity</th>\n",
       "      <th>voc</th>\n",
       "      <th>noise</th>\n",
       "      <th>co2</th>\n",
       "      <th>ch2o</th>\n",
       "      <th>o3</th>\n",
       "      <th>pm1</th>\n",
       "      <th>pm25</th>\n",
       "      <th>pm10</th>\n",
       "      <th>readable time</th>\n",
       "      <th>day</th>\n",
       "    </tr>\n",
       "  </thead>\n",
       "  <tbody>\n",
       "    <tr>\n",
       "      <th>0</th>\n",
       "      <td>1651363204</td>\n",
       "      <td>45.651464</td>\n",
       "      <td>25.615426</td>\n",
       "      <td>538</td>\n",
       "      <td>914160</td>\n",
       "      <td>6.73</td>\n",
       "      <td>95569</td>\n",
       "      <td>76</td>\n",
       "      <td>215841</td>\n",
       "      <td>43</td>\n",
       "      <td>599</td>\n",
       "      <td>7</td>\n",
       "      <td>20</td>\n",
       "      <td>7</td>\n",
       "      <td>9</td>\n",
       "      <td>10</td>\n",
       "      <td>01-05-22 00:00</td>\n",
       "      <td>2022-05-01</td>\n",
       "    </tr>\n",
       "    <tr>\n",
       "      <th>1</th>\n",
       "      <td>1651363264</td>\n",
       "      <td>45.651464</td>\n",
       "      <td>25.615426</td>\n",
       "      <td>538</td>\n",
       "      <td>914220</td>\n",
       "      <td>6.71</td>\n",
       "      <td>95569</td>\n",
       "      <td>76</td>\n",
       "      <td>213691</td>\n",
       "      <td>50</td>\n",
       "      <td>601</td>\n",
       "      <td>7</td>\n",
       "      <td>20</td>\n",
       "      <td>7</td>\n",
       "      <td>9</td>\n",
       "      <td>10</td>\n",
       "      <td>01-05-22 00:01</td>\n",
       "      <td>2022-05-01</td>\n",
       "    </tr>\n",
       "    <tr>\n",
       "      <th>2</th>\n",
       "      <td>1651363324</td>\n",
       "      <td>45.651464</td>\n",
       "      <td>25.615426</td>\n",
       "      <td>538</td>\n",
       "      <td>914280</td>\n",
       "      <td>6.70</td>\n",
       "      <td>95570</td>\n",
       "      <td>76</td>\n",
       "      <td>211822</td>\n",
       "      <td>43</td>\n",
       "      <td>601</td>\n",
       "      <td>7</td>\n",
       "      <td>20</td>\n",
       "      <td>7</td>\n",
       "      <td>9</td>\n",
       "      <td>10</td>\n",
       "      <td>01-05-22 00:02</td>\n",
       "      <td>2022-05-01</td>\n",
       "    </tr>\n",
       "    <tr>\n",
       "      <th>3</th>\n",
       "      <td>1651363384</td>\n",
       "      <td>45.651464</td>\n",
       "      <td>25.615426</td>\n",
       "      <td>538</td>\n",
       "      <td>914340</td>\n",
       "      <td>6.69</td>\n",
       "      <td>95568</td>\n",
       "      <td>76</td>\n",
       "      <td>206437</td>\n",
       "      <td>42</td>\n",
       "      <td>600</td>\n",
       "      <td>7</td>\n",
       "      <td>20</td>\n",
       "      <td>7</td>\n",
       "      <td>9</td>\n",
       "      <td>10</td>\n",
       "      <td>01-05-22 00:03</td>\n",
       "      <td>2022-05-01</td>\n",
       "    </tr>\n",
       "    <tr>\n",
       "      <th>4</th>\n",
       "      <td>1651363444</td>\n",
       "      <td>45.651464</td>\n",
       "      <td>25.615426</td>\n",
       "      <td>538</td>\n",
       "      <td>914400</td>\n",
       "      <td>6.67</td>\n",
       "      <td>95568</td>\n",
       "      <td>77</td>\n",
       "      <td>206428</td>\n",
       "      <td>45</td>\n",
       "      <td>602</td>\n",
       "      <td>7</td>\n",
       "      <td>20</td>\n",
       "      <td>7</td>\n",
       "      <td>9</td>\n",
       "      <td>10</td>\n",
       "      <td>01-05-22 00:04</td>\n",
       "      <td>2022-05-01</td>\n",
       "    </tr>\n",
       "    <tr>\n",
       "      <th>...</th>\n",
       "      <td>...</td>\n",
       "      <td>...</td>\n",
       "      <td>...</td>\n",
       "      <td>...</td>\n",
       "      <td>...</td>\n",
       "      <td>...</td>\n",
       "      <td>...</td>\n",
       "      <td>...</td>\n",
       "      <td>...</td>\n",
       "      <td>...</td>\n",
       "      <td>...</td>\n",
       "      <td>...</td>\n",
       "      <td>...</td>\n",
       "      <td>...</td>\n",
       "      <td>...</td>\n",
       "      <td>...</td>\n",
       "      <td>...</td>\n",
       "      <td>...</td>\n",
       "    </tr>\n",
       "    <tr>\n",
       "      <th>44511</th>\n",
       "      <td>1654041310</td>\n",
       "      <td>45.651464</td>\n",
       "      <td>25.615426</td>\n",
       "      <td>538</td>\n",
       "      <td>1585140</td>\n",
       "      <td>13.53</td>\n",
       "      <td>95191</td>\n",
       "      <td>83</td>\n",
       "      <td>208469</td>\n",
       "      <td>43</td>\n",
       "      <td>590</td>\n",
       "      <td>7</td>\n",
       "      <td>20</td>\n",
       "      <td>8</td>\n",
       "      <td>10</td>\n",
       "      <td>11</td>\n",
       "      <td>31-05-22 23:55</td>\n",
       "      <td>2022-05-31</td>\n",
       "    </tr>\n",
       "    <tr>\n",
       "      <th>44512</th>\n",
       "      <td>1654041370</td>\n",
       "      <td>45.651464</td>\n",
       "      <td>25.615426</td>\n",
       "      <td>538</td>\n",
       "      <td>1585200</td>\n",
       "      <td>13.52</td>\n",
       "      <td>95188</td>\n",
       "      <td>83</td>\n",
       "      <td>207676</td>\n",
       "      <td>45</td>\n",
       "      <td>595</td>\n",
       "      <td>7</td>\n",
       "      <td>20</td>\n",
       "      <td>8</td>\n",
       "      <td>10</td>\n",
       "      <td>11</td>\n",
       "      <td>31-05-22 23:56</td>\n",
       "      <td>2022-05-31</td>\n",
       "    </tr>\n",
       "    <tr>\n",
       "      <th>44513</th>\n",
       "      <td>1654041430</td>\n",
       "      <td>45.651464</td>\n",
       "      <td>25.615426</td>\n",
       "      <td>538</td>\n",
       "      <td>1585260</td>\n",
       "      <td>13.52</td>\n",
       "      <td>95190</td>\n",
       "      <td>83</td>\n",
       "      <td>206661</td>\n",
       "      <td>37</td>\n",
       "      <td>590</td>\n",
       "      <td>7</td>\n",
       "      <td>20</td>\n",
       "      <td>7</td>\n",
       "      <td>9</td>\n",
       "      <td>10</td>\n",
       "      <td>31-05-22 23:57</td>\n",
       "      <td>2022-05-31</td>\n",
       "    </tr>\n",
       "    <tr>\n",
       "      <th>44514</th>\n",
       "      <td>1654041490</td>\n",
       "      <td>45.651464</td>\n",
       "      <td>25.615426</td>\n",
       "      <td>538</td>\n",
       "      <td>1585320</td>\n",
       "      <td>13.52</td>\n",
       "      <td>95192</td>\n",
       "      <td>83</td>\n",
       "      <td>205206</td>\n",
       "      <td>43</td>\n",
       "      <td>592</td>\n",
       "      <td>7</td>\n",
       "      <td>20</td>\n",
       "      <td>7</td>\n",
       "      <td>9</td>\n",
       "      <td>10</td>\n",
       "      <td>31-05-22 23:58</td>\n",
       "      <td>2022-05-31</td>\n",
       "    </tr>\n",
       "    <tr>\n",
       "      <th>44515</th>\n",
       "      <td>1654041550</td>\n",
       "      <td>45.651464</td>\n",
       "      <td>25.615426</td>\n",
       "      <td>538</td>\n",
       "      <td>1585380</td>\n",
       "      <td>13.51</td>\n",
       "      <td>95194</td>\n",
       "      <td>83</td>\n",
       "      <td>204976</td>\n",
       "      <td>38</td>\n",
       "      <td>598</td>\n",
       "      <td>7</td>\n",
       "      <td>20</td>\n",
       "      <td>8</td>\n",
       "      <td>10</td>\n",
       "      <td>11</td>\n",
       "      <td>31-05-22 23:59</td>\n",
       "      <td>2022-05-31</td>\n",
       "    </tr>\n",
       "  </tbody>\n",
       "</table>\n",
       "<p>44516 rows × 18 columns</p>\n",
       "</div>"
      ],
      "text/plain": [
       "             time   latitude  longitude  altitude  timelocal  temperature  \\\n",
       "0      1651363204  45.651464  25.615426       538     914160         6.73   \n",
       "1      1651363264  45.651464  25.615426       538     914220         6.71   \n",
       "2      1651363324  45.651464  25.615426       538     914280         6.70   \n",
       "3      1651363384  45.651464  25.615426       538     914340         6.69   \n",
       "4      1651363444  45.651464  25.615426       538     914400         6.67   \n",
       "...           ...        ...        ...       ...        ...          ...   \n",
       "44511  1654041310  45.651464  25.615426       538    1585140        13.53   \n",
       "44512  1654041370  45.651464  25.615426       538    1585200        13.52   \n",
       "44513  1654041430  45.651464  25.615426       538    1585260        13.52   \n",
       "44514  1654041490  45.651464  25.615426       538    1585320        13.52   \n",
       "44515  1654041550  45.651464  25.615426       538    1585380        13.51   \n",
       "\n",
       "       pressure  humidity     voc  noise  co2  ch2o  o3  pm1  pm25  pm10  \\\n",
       "0         95569        76  215841     43  599     7  20    7     9    10   \n",
       "1         95569        76  213691     50  601     7  20    7     9    10   \n",
       "2         95570        76  211822     43  601     7  20    7     9    10   \n",
       "3         95568        76  206437     42  600     7  20    7     9    10   \n",
       "4         95568        77  206428     45  602     7  20    7     9    10   \n",
       "...         ...       ...     ...    ...  ...   ...  ..  ...   ...   ...   \n",
       "44511     95191        83  208469     43  590     7  20    8    10    11   \n",
       "44512     95188        83  207676     45  595     7  20    8    10    11   \n",
       "44513     95190        83  206661     37  590     7  20    7     9    10   \n",
       "44514     95192        83  205206     43  592     7  20    7     9    10   \n",
       "44515     95194        83  204976     38  598     7  20    8    10    11   \n",
       "\n",
       "        readable time        day  \n",
       "0      01-05-22 00:00 2022-05-01  \n",
       "1      01-05-22 00:01 2022-05-01  \n",
       "2      01-05-22 00:02 2022-05-01  \n",
       "3      01-05-22 00:03 2022-05-01  \n",
       "4      01-05-22 00:04 2022-05-01  \n",
       "...               ...        ...  \n",
       "44511  31-05-22 23:55 2022-05-31  \n",
       "44512  31-05-22 23:56 2022-05-31  \n",
       "44513  31-05-22 23:57 2022-05-31  \n",
       "44514  31-05-22 23:58 2022-05-31  \n",
       "44515  31-05-22 23:59 2022-05-31  \n",
       "\n",
       "[44516 rows x 18 columns]"
      ]
     },
     "execution_count": 4,
     "metadata": {},
     "output_type": "execute_result"
    }
   ],
   "source": [
    "# convert to date format\n",
    "data['day'] = pd.to_datetime(data['day'], dayfirst=True)\n",
    "data"
   ]
  },
  {
   "cell_type": "code",
   "execution_count": 5,
   "metadata": {},
   "outputs": [],
   "source": [
    "# modify name with any sensor name from df\n",
    "sensor_name = 'pm10'"
   ]
  },
  {
   "cell_type": "code",
   "execution_count": 6,
   "metadata": {},
   "outputs": [
    {
     "name": "stdout",
     "output_type": "stream",
     "text": [
      "sorted days 0       2022-05-01\n",
      "964     2022-05-01\n",
      "963     2022-05-01\n",
      "962     2022-05-01\n",
      "961     2022-05-01\n",
      "           ...    \n",
      "43551   2022-05-31\n",
      "43550   2022-05-31\n",
      "43549   2022-05-31\n",
      "43547   2022-05-31\n",
      "44515   2022-05-31\n",
      "Name: day, Length: 44516, dtype: datetime64[ns]\n"
     ]
    }
   ],
   "source": [
    "# sort dates by day\n",
    "data = data.sort_values(by=['day'])\n",
    "print(\"sorted days\", data.day)"
   ]
  },
  {
   "cell_type": "code",
   "execution_count": 7,
   "metadata": {},
   "outputs": [
    {
     "name": "stderr",
     "output_type": "stream",
     "text": [
      "C:\\Users\\Valentin.Adam\\AppData\\Local\\Temp\\ipykernel_16556\\3478699423.py:2: FutureWarning: DataFrame.mean and DataFrame.median with numeric_only=None will include datetime64 and datetime64tz columns in a future version.\n",
      "  [name, group.mean()[sensor_name]] for name, group in data.groupby('day')\n",
      "C:\\Users\\Valentin.Adam\\AppData\\Local\\Temp\\ipykernel_16556\\3478699423.py:2: FutureWarning: Dropping of nuisance columns in DataFrame reductions (with 'numeric_only=None') is deprecated; in a future version this will raise TypeError.  Select only valid columns before calling the reduction.\n",
      "  [name, group.mean()[sensor_name]] for name, group in data.groupby('day')\n"
     ]
    },
    {
     "data": {
      "text/html": [
       "<div>\n",
       "<style scoped>\n",
       "    .dataframe tbody tr th:only-of-type {\n",
       "        vertical-align: middle;\n",
       "    }\n",
       "\n",
       "    .dataframe tbody tr th {\n",
       "        vertical-align: top;\n",
       "    }\n",
       "\n",
       "    .dataframe thead th {\n",
       "        text-align: right;\n",
       "    }\n",
       "</style>\n",
       "<table border=\"1\" class=\"dataframe\">\n",
       "  <thead>\n",
       "    <tr style=\"text-align: right;\">\n",
       "      <th></th>\n",
       "      <th>day</th>\n",
       "      <th>pm10</th>\n",
       "    </tr>\n",
       "  </thead>\n",
       "  <tbody>\n",
       "    <tr>\n",
       "      <th>0</th>\n",
       "      <td>2022-05-01</td>\n",
       "      <td>9.133333</td>\n",
       "    </tr>\n",
       "    <tr>\n",
       "      <th>1</th>\n",
       "      <td>2022-05-02</td>\n",
       "      <td>10.127689</td>\n",
       "    </tr>\n",
       "    <tr>\n",
       "      <th>2</th>\n",
       "      <td>2022-05-03</td>\n",
       "      <td>12.832981</td>\n",
       "    </tr>\n",
       "    <tr>\n",
       "      <th>3</th>\n",
       "      <td>2022-05-04</td>\n",
       "      <td>13.408419</td>\n",
       "    </tr>\n",
       "    <tr>\n",
       "      <th>4</th>\n",
       "      <td>2022-05-05</td>\n",
       "      <td>16.205698</td>\n",
       "    </tr>\n",
       "    <tr>\n",
       "      <th>5</th>\n",
       "      <td>2022-05-06</td>\n",
       "      <td>13.217573</td>\n",
       "    </tr>\n",
       "    <tr>\n",
       "      <th>6</th>\n",
       "      <td>2022-05-07</td>\n",
       "      <td>14.511111</td>\n",
       "    </tr>\n",
       "    <tr>\n",
       "      <th>7</th>\n",
       "      <td>2022-05-08</td>\n",
       "      <td>13.686806</td>\n",
       "    </tr>\n",
       "    <tr>\n",
       "      <th>8</th>\n",
       "      <td>2022-05-09</td>\n",
       "      <td>13.878472</td>\n",
       "    </tr>\n",
       "    <tr>\n",
       "      <th>9</th>\n",
       "      <td>2022-05-10</td>\n",
       "      <td>10.299514</td>\n",
       "    </tr>\n",
       "    <tr>\n",
       "      <th>10</th>\n",
       "      <td>2022-05-11</td>\n",
       "      <td>10.430556</td>\n",
       "    </tr>\n",
       "    <tr>\n",
       "      <th>11</th>\n",
       "      <td>2022-05-12</td>\n",
       "      <td>13.337266</td>\n",
       "    </tr>\n",
       "    <tr>\n",
       "      <th>12</th>\n",
       "      <td>2022-05-13</td>\n",
       "      <td>16.961057</td>\n",
       "    </tr>\n",
       "    <tr>\n",
       "      <th>13</th>\n",
       "      <td>2022-05-14</td>\n",
       "      <td>10.860125</td>\n",
       "    </tr>\n",
       "    <tr>\n",
       "      <th>14</th>\n",
       "      <td>2022-05-15</td>\n",
       "      <td>10.702778</td>\n",
       "    </tr>\n",
       "    <tr>\n",
       "      <th>15</th>\n",
       "      <td>2022-05-16</td>\n",
       "      <td>12.968728</td>\n",
       "    </tr>\n",
       "    <tr>\n",
       "      <th>16</th>\n",
       "      <td>2022-05-17</td>\n",
       "      <td>15.097917</td>\n",
       "    </tr>\n",
       "    <tr>\n",
       "      <th>17</th>\n",
       "      <td>2022-05-18</td>\n",
       "      <td>4.164583</td>\n",
       "    </tr>\n",
       "    <tr>\n",
       "      <th>18</th>\n",
       "      <td>2022-05-19</td>\n",
       "      <td>4.411397</td>\n",
       "    </tr>\n",
       "    <tr>\n",
       "      <th>19</th>\n",
       "      <td>2022-05-20</td>\n",
       "      <td>6.315753</td>\n",
       "    </tr>\n",
       "    <tr>\n",
       "      <th>20</th>\n",
       "      <td>2022-05-21</td>\n",
       "      <td>7.715972</td>\n",
       "    </tr>\n",
       "    <tr>\n",
       "      <th>21</th>\n",
       "      <td>2022-05-22</td>\n",
       "      <td>4.626129</td>\n",
       "    </tr>\n",
       "    <tr>\n",
       "      <th>22</th>\n",
       "      <td>2022-05-23</td>\n",
       "      <td>6.012500</td>\n",
       "    </tr>\n",
       "    <tr>\n",
       "      <th>23</th>\n",
       "      <td>2022-05-24</td>\n",
       "      <td>11.139777</td>\n",
       "    </tr>\n",
       "    <tr>\n",
       "      <th>24</th>\n",
       "      <td>2022-05-25</td>\n",
       "      <td>15.414465</td>\n",
       "    </tr>\n",
       "    <tr>\n",
       "      <th>25</th>\n",
       "      <td>2022-05-26</td>\n",
       "      <td>6.605556</td>\n",
       "    </tr>\n",
       "    <tr>\n",
       "      <th>26</th>\n",
       "      <td>2022-05-27</td>\n",
       "      <td>7.048611</td>\n",
       "    </tr>\n",
       "    <tr>\n",
       "      <th>27</th>\n",
       "      <td>2022-05-28</td>\n",
       "      <td>9.288194</td>\n",
       "    </tr>\n",
       "    <tr>\n",
       "      <th>28</th>\n",
       "      <td>2022-05-29</td>\n",
       "      <td>5.781250</td>\n",
       "    </tr>\n",
       "    <tr>\n",
       "      <th>29</th>\n",
       "      <td>2022-05-30</td>\n",
       "      <td>7.974306</td>\n",
       "    </tr>\n",
       "    <tr>\n",
       "      <th>30</th>\n",
       "      <td>2022-05-31</td>\n",
       "      <td>11.398611</td>\n",
       "    </tr>\n",
       "  </tbody>\n",
       "</table>\n",
       "</div>"
      ],
      "text/plain": [
       "          day       pm10\n",
       "0  2022-05-01   9.133333\n",
       "1  2022-05-02  10.127689\n",
       "2  2022-05-03  12.832981\n",
       "3  2022-05-04  13.408419\n",
       "4  2022-05-05  16.205698\n",
       "5  2022-05-06  13.217573\n",
       "6  2022-05-07  14.511111\n",
       "7  2022-05-08  13.686806\n",
       "8  2022-05-09  13.878472\n",
       "9  2022-05-10  10.299514\n",
       "10 2022-05-11  10.430556\n",
       "11 2022-05-12  13.337266\n",
       "12 2022-05-13  16.961057\n",
       "13 2022-05-14  10.860125\n",
       "14 2022-05-15  10.702778\n",
       "15 2022-05-16  12.968728\n",
       "16 2022-05-17  15.097917\n",
       "17 2022-05-18   4.164583\n",
       "18 2022-05-19   4.411397\n",
       "19 2022-05-20   6.315753\n",
       "20 2022-05-21   7.715972\n",
       "21 2022-05-22   4.626129\n",
       "22 2022-05-23   6.012500\n",
       "23 2022-05-24  11.139777\n",
       "24 2022-05-25  15.414465\n",
       "25 2022-05-26   6.605556\n",
       "26 2022-05-27   7.048611\n",
       "27 2022-05-28   9.288194\n",
       "28 2022-05-29   5.781250\n",
       "29 2022-05-30   7.974306\n",
       "30 2022-05-31  11.398611"
      ]
     },
     "execution_count": 7,
     "metadata": {},
     "output_type": "execute_result"
    }
   ],
   "source": [
    "group_by_df = pd.DataFrame(\n",
    "    [name, group.mean()[sensor_name]] for name, group in data.groupby('day')\n",
    ")\n",
    "\n",
    "group_by_df.columns = ['day', sensor_name]\n",
    "group_by_df"
   ]
  },
  {
   "cell_type": "code",
   "execution_count": 8,
   "metadata": {},
   "outputs": [
    {
     "name": "stdout",
     "output_type": "stream",
     "text": [
      "MEAN pm10 values by day\n",
      " day\n",
      "2022-05-01     9.133333\n",
      "2022-05-02    10.127689\n",
      "2022-05-03    12.832981\n",
      "2022-05-04    13.408419\n",
      "2022-05-05    16.205698\n",
      "2022-05-06    13.217573\n",
      "2022-05-07    14.511111\n",
      "2022-05-08    13.686806\n",
      "2022-05-09    13.878472\n",
      "2022-05-10    10.299514\n",
      "2022-05-11    10.430556\n",
      "2022-05-12    13.337266\n",
      "2022-05-13    16.961057\n",
      "2022-05-14    10.860125\n",
      "2022-05-15    10.702778\n",
      "2022-05-16    12.968728\n",
      "2022-05-17    15.097917\n",
      "2022-05-18     4.164583\n",
      "2022-05-19     4.411397\n",
      "2022-05-20     6.315753\n",
      "2022-05-21     7.715972\n",
      "2022-05-22     4.626129\n",
      "2022-05-23     6.012500\n",
      "2022-05-24    11.139777\n",
      "2022-05-25    15.414465\n",
      "2022-05-26     6.605556\n",
      "2022-05-27     7.048611\n",
      "2022-05-28     9.288194\n",
      "2022-05-29     5.781250\n",
      "2022-05-30     7.974306\n",
      "2022-05-31    11.398611\n",
      "Name: pm10, dtype: float64\n"
     ]
    }
   ],
   "source": [
    "# group df by day\n",
    "grp_date = data.groupby('day')\n",
    "# calculate mean value  for every given day\n",
    "data = pd.DataFrame(grp_date.mean())\n",
    "print(\"MEAN \" + sensor_name + \" values by day\\n\", data[sensor_name])"
   ]
  },
  {
   "cell_type": "code",
   "execution_count": 9,
   "metadata": {},
   "outputs": [
    {
     "data": {
      "text/html": [
       "<div>\n",
       "<style scoped>\n",
       "    .dataframe tbody tr th:only-of-type {\n",
       "        vertical-align: middle;\n",
       "    }\n",
       "\n",
       "    .dataframe tbody tr th {\n",
       "        vertical-align: top;\n",
       "    }\n",
       "\n",
       "    .dataframe thead th {\n",
       "        text-align: right;\n",
       "    }\n",
       "</style>\n",
       "<table border=\"1\" class=\"dataframe\">\n",
       "  <thead>\n",
       "    <tr style=\"text-align: right;\">\n",
       "      <th></th>\n",
       "      <th>pm10</th>\n",
       "    </tr>\n",
       "    <tr>\n",
       "      <th>day</th>\n",
       "      <th></th>\n",
       "    </tr>\n",
       "  </thead>\n",
       "  <tbody>\n",
       "    <tr>\n",
       "      <th>2022-05-01</th>\n",
       "      <td>9.133333</td>\n",
       "    </tr>\n",
       "    <tr>\n",
       "      <th>2022-05-02</th>\n",
       "      <td>10.127689</td>\n",
       "    </tr>\n",
       "    <tr>\n",
       "      <th>2022-05-03</th>\n",
       "      <td>12.832981</td>\n",
       "    </tr>\n",
       "    <tr>\n",
       "      <th>2022-05-04</th>\n",
       "      <td>13.408419</td>\n",
       "    </tr>\n",
       "    <tr>\n",
       "      <th>2022-05-05</th>\n",
       "      <td>16.205698</td>\n",
       "    </tr>\n",
       "    <tr>\n",
       "      <th>2022-05-06</th>\n",
       "      <td>13.217573</td>\n",
       "    </tr>\n",
       "    <tr>\n",
       "      <th>2022-05-07</th>\n",
       "      <td>14.511111</td>\n",
       "    </tr>\n",
       "    <tr>\n",
       "      <th>2022-05-08</th>\n",
       "      <td>13.686806</td>\n",
       "    </tr>\n",
       "    <tr>\n",
       "      <th>2022-05-09</th>\n",
       "      <td>13.878472</td>\n",
       "    </tr>\n",
       "    <tr>\n",
       "      <th>2022-05-10</th>\n",
       "      <td>10.299514</td>\n",
       "    </tr>\n",
       "    <tr>\n",
       "      <th>2022-05-11</th>\n",
       "      <td>10.430556</td>\n",
       "    </tr>\n",
       "    <tr>\n",
       "      <th>2022-05-12</th>\n",
       "      <td>13.337266</td>\n",
       "    </tr>\n",
       "    <tr>\n",
       "      <th>2022-05-13</th>\n",
       "      <td>16.961057</td>\n",
       "    </tr>\n",
       "    <tr>\n",
       "      <th>2022-05-14</th>\n",
       "      <td>10.860125</td>\n",
       "    </tr>\n",
       "    <tr>\n",
       "      <th>2022-05-15</th>\n",
       "      <td>10.702778</td>\n",
       "    </tr>\n",
       "    <tr>\n",
       "      <th>2022-05-16</th>\n",
       "      <td>12.968728</td>\n",
       "    </tr>\n",
       "    <tr>\n",
       "      <th>2022-05-17</th>\n",
       "      <td>15.097917</td>\n",
       "    </tr>\n",
       "    <tr>\n",
       "      <th>2022-05-18</th>\n",
       "      <td>4.164583</td>\n",
       "    </tr>\n",
       "    <tr>\n",
       "      <th>2022-05-19</th>\n",
       "      <td>4.411397</td>\n",
       "    </tr>\n",
       "    <tr>\n",
       "      <th>2022-05-20</th>\n",
       "      <td>6.315753</td>\n",
       "    </tr>\n",
       "    <tr>\n",
       "      <th>2022-05-21</th>\n",
       "      <td>7.715972</td>\n",
       "    </tr>\n",
       "    <tr>\n",
       "      <th>2022-05-22</th>\n",
       "      <td>4.626129</td>\n",
       "    </tr>\n",
       "    <tr>\n",
       "      <th>2022-05-23</th>\n",
       "      <td>6.012500</td>\n",
       "    </tr>\n",
       "    <tr>\n",
       "      <th>2022-05-24</th>\n",
       "      <td>11.139777</td>\n",
       "    </tr>\n",
       "    <tr>\n",
       "      <th>2022-05-25</th>\n",
       "      <td>15.414465</td>\n",
       "    </tr>\n",
       "    <tr>\n",
       "      <th>2022-05-26</th>\n",
       "      <td>6.605556</td>\n",
       "    </tr>\n",
       "    <tr>\n",
       "      <th>2022-05-27</th>\n",
       "      <td>7.048611</td>\n",
       "    </tr>\n",
       "    <tr>\n",
       "      <th>2022-05-28</th>\n",
       "      <td>9.288194</td>\n",
       "    </tr>\n",
       "    <tr>\n",
       "      <th>2022-05-29</th>\n",
       "      <td>5.781250</td>\n",
       "    </tr>\n",
       "    <tr>\n",
       "      <th>2022-05-30</th>\n",
       "      <td>7.974306</td>\n",
       "    </tr>\n",
       "    <tr>\n",
       "      <th>2022-05-31</th>\n",
       "      <td>11.398611</td>\n",
       "    </tr>\n",
       "  </tbody>\n",
       "</table>\n",
       "</div>"
      ],
      "text/plain": [
       "                 pm10\n",
       "day                  \n",
       "2022-05-01   9.133333\n",
       "2022-05-02  10.127689\n",
       "2022-05-03  12.832981\n",
       "2022-05-04  13.408419\n",
       "2022-05-05  16.205698\n",
       "2022-05-06  13.217573\n",
       "2022-05-07  14.511111\n",
       "2022-05-08  13.686806\n",
       "2022-05-09  13.878472\n",
       "2022-05-10  10.299514\n",
       "2022-05-11  10.430556\n",
       "2022-05-12  13.337266\n",
       "2022-05-13  16.961057\n",
       "2022-05-14  10.860125\n",
       "2022-05-15  10.702778\n",
       "2022-05-16  12.968728\n",
       "2022-05-17  15.097917\n",
       "2022-05-18   4.164583\n",
       "2022-05-19   4.411397\n",
       "2022-05-20   6.315753\n",
       "2022-05-21   7.715972\n",
       "2022-05-22   4.626129\n",
       "2022-05-23   6.012500\n",
       "2022-05-24  11.139777\n",
       "2022-05-25  15.414465\n",
       "2022-05-26   6.605556\n",
       "2022-05-27   7.048611\n",
       "2022-05-28   9.288194\n",
       "2022-05-29   5.781250\n",
       "2022-05-30   7.974306\n",
       "2022-05-31  11.398611"
      ]
     },
     "execution_count": 9,
     "metadata": {},
     "output_type": "execute_result"
    }
   ],
   "source": [
    "# select needed data\n",
    "data = data[[sensor_name]]\n",
    "data"
   ]
  },
  {
   "cell_type": "code",
   "execution_count": 10,
   "metadata": {},
   "outputs": [],
   "source": [
    "# boxplot values to eliminate outliers\n",
    "upper_quartile = np.percentile(data[sensor_name], 75)\n",
    "lower_quartile = np.percentile(data[sensor_name], 25)\n",
    "iqr = upper_quartile - lower_quartile\n",
    "upper_whisker = data[sensor_name][data[sensor_name] <= upper_quartile + 1.5 * iqr].max()\n",
    "lower_whisker = data[sensor_name][data[sensor_name] >= lower_quartile - 1.5 * iqr].min()"
   ]
  },
  {
   "cell_type": "code",
   "execution_count": 11,
   "metadata": {},
   "outputs": [
    {
     "name": "stdout",
     "output_type": "stream",
     "text": [
      "13.372842642715906\n",
      "7.382291666666666\n",
      "5.9905509760492395\n",
      "16.96105702364395\n",
      "4.164583333333334\n"
     ]
    }
   ],
   "source": [
    "print(upper_quartile)\n",
    "print(lower_quartile)\n",
    "print(iqr)\n",
    "print(upper_whisker)\n",
    "print(lower_whisker)"
   ]
  },
  {
   "cell_type": "code",
   "execution_count": 12,
   "metadata": {},
   "outputs": [],
   "source": [
    "# start using prophet\n",
    "logging.getLogger().setLevel(logging.ERROR)"
   ]
  },
  {
   "cell_type": "code",
   "execution_count": 13,
   "metadata": {},
   "outputs": [
    {
     "data": {
      "text/html": [
       "<div>\n",
       "<style scoped>\n",
       "    .dataframe tbody tr th:only-of-type {\n",
       "        vertical-align: middle;\n",
       "    }\n",
       "\n",
       "    .dataframe tbody tr th {\n",
       "        vertical-align: top;\n",
       "    }\n",
       "\n",
       "    .dataframe thead th {\n",
       "        text-align: right;\n",
       "    }\n",
       "</style>\n",
       "<table border=\"1\" class=\"dataframe\">\n",
       "  <thead>\n",
       "    <tr style=\"text-align: right;\">\n",
       "      <th></th>\n",
       "      <th>ds</th>\n",
       "      <th>y</th>\n",
       "    </tr>\n",
       "  </thead>\n",
       "  <tbody>\n",
       "    <tr>\n",
       "      <th>0</th>\n",
       "      <td>2022-05-01</td>\n",
       "      <td>9.133333</td>\n",
       "    </tr>\n",
       "    <tr>\n",
       "      <th>1</th>\n",
       "      <td>2022-05-02</td>\n",
       "      <td>10.127689</td>\n",
       "    </tr>\n",
       "    <tr>\n",
       "      <th>2</th>\n",
       "      <td>2022-05-03</td>\n",
       "      <td>12.832981</td>\n",
       "    </tr>\n",
       "    <tr>\n",
       "      <th>3</th>\n",
       "      <td>2022-05-04</td>\n",
       "      <td>13.408419</td>\n",
       "    </tr>\n",
       "    <tr>\n",
       "      <th>4</th>\n",
       "      <td>2022-05-05</td>\n",
       "      <td>16.205698</td>\n",
       "    </tr>\n",
       "    <tr>\n",
       "      <th>5</th>\n",
       "      <td>2022-05-06</td>\n",
       "      <td>13.217573</td>\n",
       "    </tr>\n",
       "    <tr>\n",
       "      <th>6</th>\n",
       "      <td>2022-05-07</td>\n",
       "      <td>14.511111</td>\n",
       "    </tr>\n",
       "    <tr>\n",
       "      <th>7</th>\n",
       "      <td>2022-05-08</td>\n",
       "      <td>13.686806</td>\n",
       "    </tr>\n",
       "    <tr>\n",
       "      <th>8</th>\n",
       "      <td>2022-05-09</td>\n",
       "      <td>13.878472</td>\n",
       "    </tr>\n",
       "    <tr>\n",
       "      <th>9</th>\n",
       "      <td>2022-05-10</td>\n",
       "      <td>10.299514</td>\n",
       "    </tr>\n",
       "    <tr>\n",
       "      <th>10</th>\n",
       "      <td>2022-05-11</td>\n",
       "      <td>10.430556</td>\n",
       "    </tr>\n",
       "    <tr>\n",
       "      <th>11</th>\n",
       "      <td>2022-05-12</td>\n",
       "      <td>13.337266</td>\n",
       "    </tr>\n",
       "    <tr>\n",
       "      <th>12</th>\n",
       "      <td>2022-05-13</td>\n",
       "      <td>16.961057</td>\n",
       "    </tr>\n",
       "    <tr>\n",
       "      <th>13</th>\n",
       "      <td>2022-05-14</td>\n",
       "      <td>10.860125</td>\n",
       "    </tr>\n",
       "    <tr>\n",
       "      <th>14</th>\n",
       "      <td>2022-05-15</td>\n",
       "      <td>10.702778</td>\n",
       "    </tr>\n",
       "    <tr>\n",
       "      <th>15</th>\n",
       "      <td>2022-05-16</td>\n",
       "      <td>12.968728</td>\n",
       "    </tr>\n",
       "    <tr>\n",
       "      <th>16</th>\n",
       "      <td>2022-05-17</td>\n",
       "      <td>15.097917</td>\n",
       "    </tr>\n",
       "    <tr>\n",
       "      <th>17</th>\n",
       "      <td>2022-05-18</td>\n",
       "      <td>4.164583</td>\n",
       "    </tr>\n",
       "    <tr>\n",
       "      <th>18</th>\n",
       "      <td>2022-05-19</td>\n",
       "      <td>4.411397</td>\n",
       "    </tr>\n",
       "    <tr>\n",
       "      <th>19</th>\n",
       "      <td>2022-05-20</td>\n",
       "      <td>6.315753</td>\n",
       "    </tr>\n",
       "    <tr>\n",
       "      <th>20</th>\n",
       "      <td>2022-05-21</td>\n",
       "      <td>7.715972</td>\n",
       "    </tr>\n",
       "    <tr>\n",
       "      <th>21</th>\n",
       "      <td>2022-05-22</td>\n",
       "      <td>4.626129</td>\n",
       "    </tr>\n",
       "    <tr>\n",
       "      <th>22</th>\n",
       "      <td>2022-05-23</td>\n",
       "      <td>6.012500</td>\n",
       "    </tr>\n",
       "    <tr>\n",
       "      <th>23</th>\n",
       "      <td>2022-05-24</td>\n",
       "      <td>11.139777</td>\n",
       "    </tr>\n",
       "    <tr>\n",
       "      <th>24</th>\n",
       "      <td>2022-05-25</td>\n",
       "      <td>15.414465</td>\n",
       "    </tr>\n",
       "    <tr>\n",
       "      <th>25</th>\n",
       "      <td>2022-05-26</td>\n",
       "      <td>6.605556</td>\n",
       "    </tr>\n",
       "    <tr>\n",
       "      <th>26</th>\n",
       "      <td>2022-05-27</td>\n",
       "      <td>7.048611</td>\n",
       "    </tr>\n",
       "    <tr>\n",
       "      <th>27</th>\n",
       "      <td>2022-05-28</td>\n",
       "      <td>9.288194</td>\n",
       "    </tr>\n",
       "    <tr>\n",
       "      <th>28</th>\n",
       "      <td>2022-05-29</td>\n",
       "      <td>5.781250</td>\n",
       "    </tr>\n",
       "    <tr>\n",
       "      <th>29</th>\n",
       "      <td>2022-05-30</td>\n",
       "      <td>7.974306</td>\n",
       "    </tr>\n",
       "    <tr>\n",
       "      <th>30</th>\n",
       "      <td>2022-05-31</td>\n",
       "      <td>11.398611</td>\n",
       "    </tr>\n",
       "  </tbody>\n",
       "</table>\n",
       "</div>"
      ],
      "text/plain": [
       "           ds          y\n",
       "0  2022-05-01   9.133333\n",
       "1  2022-05-02  10.127689\n",
       "2  2022-05-03  12.832981\n",
       "3  2022-05-04  13.408419\n",
       "4  2022-05-05  16.205698\n",
       "5  2022-05-06  13.217573\n",
       "6  2022-05-07  14.511111\n",
       "7  2022-05-08  13.686806\n",
       "8  2022-05-09  13.878472\n",
       "9  2022-05-10  10.299514\n",
       "10 2022-05-11  10.430556\n",
       "11 2022-05-12  13.337266\n",
       "12 2022-05-13  16.961057\n",
       "13 2022-05-14  10.860125\n",
       "14 2022-05-15  10.702778\n",
       "15 2022-05-16  12.968728\n",
       "16 2022-05-17  15.097917\n",
       "17 2022-05-18   4.164583\n",
       "18 2022-05-19   4.411397\n",
       "19 2022-05-20   6.315753\n",
       "20 2022-05-21   7.715972\n",
       "21 2022-05-22   4.626129\n",
       "22 2022-05-23   6.012500\n",
       "23 2022-05-24  11.139777\n",
       "24 2022-05-25  15.414465\n",
       "25 2022-05-26   6.605556\n",
       "26 2022-05-27   7.048611\n",
       "27 2022-05-28   9.288194\n",
       "28 2022-05-29   5.781250\n",
       "29 2022-05-30   7.974306\n",
       "30 2022-05-31  11.398611"
      ]
     },
     "execution_count": 13,
     "metadata": {},
     "output_type": "execute_result"
    }
   ],
   "source": [
    "# create df for prophet\n",
    "df = data.reset_index()\n",
    "df.columns = ['ds', 'y']\n",
    "df"
   ]
  },
  {
   "cell_type": "code",
   "execution_count": 14,
   "metadata": {},
   "outputs": [],
   "source": [
    "X = group_by_df[['day']].values\n",
    "y = group_by_df[[sensor_name]].values\n",
    "X_train, X_test, y_train, y_test = train_test_split(X, y, test_size=0.15, shuffle=False)"
   ]
  },
  {
   "cell_type": "code",
   "execution_count": 15,
   "metadata": {},
   "outputs": [],
   "source": [
    "# X\n",
    "# y\n",
    "# X_train\n",
    "# X_test\n",
    "# y_train\n",
    "# y_test"
   ]
  },
  {
   "cell_type": "code",
   "execution_count": 16,
   "metadata": {},
   "outputs": [
    {
     "data": {
      "text/html": [
       "<div>\n",
       "<style scoped>\n",
       "    .dataframe tbody tr th:only-of-type {\n",
       "        vertical-align: middle;\n",
       "    }\n",
       "\n",
       "    .dataframe tbody tr th {\n",
       "        vertical-align: top;\n",
       "    }\n",
       "\n",
       "    .dataframe thead th {\n",
       "        text-align: right;\n",
       "    }\n",
       "</style>\n",
       "<table border=\"1\" class=\"dataframe\">\n",
       "  <thead>\n",
       "    <tr style=\"text-align: right;\">\n",
       "      <th></th>\n",
       "      <th>ds</th>\n",
       "      <th>y</th>\n",
       "    </tr>\n",
       "  </thead>\n",
       "  <tbody>\n",
       "    <tr>\n",
       "      <th>0</th>\n",
       "      <td>2022-05-01</td>\n",
       "      <td>9.133333</td>\n",
       "    </tr>\n",
       "    <tr>\n",
       "      <th>1</th>\n",
       "      <td>2022-05-02</td>\n",
       "      <td>10.127689</td>\n",
       "    </tr>\n",
       "    <tr>\n",
       "      <th>2</th>\n",
       "      <td>2022-05-03</td>\n",
       "      <td>12.832981</td>\n",
       "    </tr>\n",
       "    <tr>\n",
       "      <th>3</th>\n",
       "      <td>2022-05-04</td>\n",
       "      <td>13.408419</td>\n",
       "    </tr>\n",
       "    <tr>\n",
       "      <th>4</th>\n",
       "      <td>2022-05-05</td>\n",
       "      <td>16.205698</td>\n",
       "    </tr>\n",
       "    <tr>\n",
       "      <th>5</th>\n",
       "      <td>2022-05-06</td>\n",
       "      <td>13.217573</td>\n",
       "    </tr>\n",
       "    <tr>\n",
       "      <th>6</th>\n",
       "      <td>2022-05-07</td>\n",
       "      <td>14.511111</td>\n",
       "    </tr>\n",
       "    <tr>\n",
       "      <th>7</th>\n",
       "      <td>2022-05-08</td>\n",
       "      <td>13.686806</td>\n",
       "    </tr>\n",
       "    <tr>\n",
       "      <th>8</th>\n",
       "      <td>2022-05-09</td>\n",
       "      <td>13.878472</td>\n",
       "    </tr>\n",
       "    <tr>\n",
       "      <th>9</th>\n",
       "      <td>2022-05-10</td>\n",
       "      <td>10.299514</td>\n",
       "    </tr>\n",
       "    <tr>\n",
       "      <th>10</th>\n",
       "      <td>2022-05-11</td>\n",
       "      <td>10.430556</td>\n",
       "    </tr>\n",
       "    <tr>\n",
       "      <th>11</th>\n",
       "      <td>2022-05-12</td>\n",
       "      <td>13.337266</td>\n",
       "    </tr>\n",
       "    <tr>\n",
       "      <th>12</th>\n",
       "      <td>2022-05-13</td>\n",
       "      <td>16.961057</td>\n",
       "    </tr>\n",
       "    <tr>\n",
       "      <th>13</th>\n",
       "      <td>2022-05-14</td>\n",
       "      <td>10.860125</td>\n",
       "    </tr>\n",
       "    <tr>\n",
       "      <th>14</th>\n",
       "      <td>2022-05-15</td>\n",
       "      <td>10.702778</td>\n",
       "    </tr>\n",
       "    <tr>\n",
       "      <th>15</th>\n",
       "      <td>2022-05-16</td>\n",
       "      <td>12.968728</td>\n",
       "    </tr>\n",
       "    <tr>\n",
       "      <th>16</th>\n",
       "      <td>2022-05-17</td>\n",
       "      <td>15.097917</td>\n",
       "    </tr>\n",
       "    <tr>\n",
       "      <th>17</th>\n",
       "      <td>2022-05-18</td>\n",
       "      <td>4.164583</td>\n",
       "    </tr>\n",
       "    <tr>\n",
       "      <th>18</th>\n",
       "      <td>2022-05-19</td>\n",
       "      <td>4.411397</td>\n",
       "    </tr>\n",
       "    <tr>\n",
       "      <th>19</th>\n",
       "      <td>2022-05-20</td>\n",
       "      <td>6.315753</td>\n",
       "    </tr>\n",
       "    <tr>\n",
       "      <th>20</th>\n",
       "      <td>2022-05-21</td>\n",
       "      <td>7.715972</td>\n",
       "    </tr>\n",
       "    <tr>\n",
       "      <th>21</th>\n",
       "      <td>2022-05-22</td>\n",
       "      <td>4.626129</td>\n",
       "    </tr>\n",
       "    <tr>\n",
       "      <th>22</th>\n",
       "      <td>2022-05-23</td>\n",
       "      <td>6.012500</td>\n",
       "    </tr>\n",
       "    <tr>\n",
       "      <th>23</th>\n",
       "      <td>2022-05-24</td>\n",
       "      <td>11.139777</td>\n",
       "    </tr>\n",
       "    <tr>\n",
       "      <th>24</th>\n",
       "      <td>2022-05-25</td>\n",
       "      <td>15.414465</td>\n",
       "    </tr>\n",
       "    <tr>\n",
       "      <th>25</th>\n",
       "      <td>2022-05-26</td>\n",
       "      <td>6.605556</td>\n",
       "    </tr>\n",
       "  </tbody>\n",
       "</table>\n",
       "</div>"
      ],
      "text/plain": [
       "           ds          y\n",
       "0  2022-05-01   9.133333\n",
       "1  2022-05-02  10.127689\n",
       "2  2022-05-03  12.832981\n",
       "3  2022-05-04  13.408419\n",
       "4  2022-05-05  16.205698\n",
       "5  2022-05-06  13.217573\n",
       "6  2022-05-07  14.511111\n",
       "7  2022-05-08  13.686806\n",
       "8  2022-05-09  13.878472\n",
       "9  2022-05-10  10.299514\n",
       "10 2022-05-11  10.430556\n",
       "11 2022-05-12  13.337266\n",
       "12 2022-05-13  16.961057\n",
       "13 2022-05-14  10.860125\n",
       "14 2022-05-15  10.702778\n",
       "15 2022-05-16  12.968728\n",
       "16 2022-05-17  15.097917\n",
       "17 2022-05-18   4.164583\n",
       "18 2022-05-19   4.411397\n",
       "19 2022-05-20   6.315753\n",
       "20 2022-05-21   7.715972\n",
       "21 2022-05-22   4.626129\n",
       "22 2022-05-23   6.012500\n",
       "23 2022-05-24  11.139777\n",
       "24 2022-05-25  15.414465\n",
       "25 2022-05-26   6.605556"
      ]
     },
     "execution_count": 16,
     "metadata": {},
     "output_type": "execute_result"
    }
   ],
   "source": [
    "# create dataframe containing only train values\n",
    "dff = pd.DataFrame(index=range(0, len(y_train)))\n",
    "\n",
    "dff['ds'] = group_by_df['day'][:len(y_train)]\n",
    "dff['y'] = group_by_df[sensor_name][:len(y_train)]\n",
    "dff"
   ]
  },
  {
   "cell_type": "code",
   "execution_count": 17,
   "metadata": {},
   "outputs": [
    {
     "name": "stderr",
     "output_type": "stream",
     "text": [
      "INFO:fbprophet:Disabling yearly seasonality. Run prophet with yearly_seasonality=True to override this.\n",
      "INFO:fbprophet:Disabling daily seasonality. Run prophet with daily_seasonality=True to override this.\n",
      "c:\\VALI\\Programs\\Miniconda3\\envs\\myenv\\lib\\site-packages\\fbprophet\\forecaster.py:891: FutureWarning: The frame.append method is deprecated and will be removed from pandas in a future version. Use pandas.concat instead.\n",
      "  components = components.append(new_comp)\n",
      "INFO:fbprophet:n_changepoints greater than number of observations. Using 19.\n"
     ]
    },
    {
     "data": {
      "text/plain": [
       "<fbprophet.forecaster.Prophet at 0x288e7a8baf0>"
      ]
     },
     "execution_count": 17,
     "metadata": {},
     "output_type": "execute_result"
    }
   ],
   "source": [
    "m = Prophet()\n",
    "# fit train values to prophet\n",
    "m.fit(dff)"
   ]
  },
  {
   "cell_type": "code",
   "execution_count": 18,
   "metadata": {},
   "outputs": [
    {
     "name": "stderr",
     "output_type": "stream",
     "text": [
      "c:\\VALI\\Programs\\Miniconda3\\envs\\myenv\\lib\\site-packages\\fbprophet\\forecaster.py:891: FutureWarning: The frame.append method is deprecated and will be removed from pandas in a future version. Use pandas.concat instead.\n",
      "  components = components.append(new_comp)\n",
      "c:\\VALI\\Programs\\Miniconda3\\envs\\myenv\\lib\\site-packages\\fbprophet\\forecaster.py:891: FutureWarning: The frame.append method is deprecated and will be removed from pandas in a future version. Use pandas.concat instead.\n",
      "  components = components.append(new_comp)\n"
     ]
    },
    {
     "name": "stdout",
     "output_type": "stream",
     "text": [
      "forecast            ds      trend  yhat_lower  yhat_upper  trend_lower  trend_upper  \\\n",
      "0  2022-05-01  13.902499    7.840502   15.882593    13.902499    13.902499   \n",
      "1  2022-05-02  13.668065    9.228000   17.244428    13.668065    13.668065   \n",
      "2  2022-05-03  13.433631   10.748548   18.970358    13.433631    13.433631   \n",
      "3  2022-05-04  13.199197    9.113521   17.138742    13.199197    13.199197   \n",
      "4  2022-05-05  12.964763    8.919347   16.804979    12.964763    12.964763   \n",
      "5  2022-05-06  12.730330    9.951107   17.963050    12.730330    12.730330   \n",
      "6  2022-05-07  12.495896    8.831365   16.486287    12.495896    12.495896   \n",
      "7  2022-05-08  12.261462    6.238693   14.397748    12.261462    12.261462   \n",
      "8  2022-05-09  12.027028    7.540384   15.435195    12.027028    12.027028   \n",
      "9  2022-05-10  11.792594    9.048116   17.000943    11.792594    11.792594   \n",
      "10 2022-05-11  11.558160    7.533838   15.500849    11.558160    11.558160   \n",
      "11 2022-05-12  11.323727    6.816343   14.978120    11.323727    11.323727   \n",
      "12 2022-05-13  11.089293    7.805906   15.946637    11.089293    11.089293   \n",
      "13 2022-05-14  10.854859    7.159503   15.289042    10.854859    10.854859   \n",
      "14 2022-05-15  10.620425    4.583035   12.825189    10.620425    10.620425   \n",
      "15 2022-05-16  10.385991    6.045972   14.135944    10.385991    10.385991   \n",
      "16 2022-05-17  10.151558    7.534177   15.563675    10.151558    10.151558   \n",
      "17 2022-05-18   9.917124    5.877753   13.916138     9.917124     9.917124   \n",
      "18 2022-05-19   9.682690    4.976684   13.473266     9.682690     9.682690   \n",
      "19 2022-05-20   9.448256    6.169235   14.751035     9.448256     9.448256   \n",
      "20 2022-05-21   9.213822    5.097638   13.515250     9.213822     9.213822   \n",
      "21 2022-05-22   8.979388    3.143295   10.958792     8.979388     8.979388   \n",
      "22 2022-05-23   8.744955    4.255493   12.248301     8.744955     8.744955   \n",
      "23 2022-05-24   8.510521    6.099793   13.790178     8.510521     8.510521   \n",
      "24 2022-05-25   8.276087    4.265591   12.424462     8.276087     8.276087   \n",
      "25 2022-05-26   8.041653    3.723431   11.770664     8.041653     8.041653   \n",
      "26 2022-05-27   7.807219    4.857530   12.793772     7.807219     7.807219   \n",
      "27 2022-05-28   7.572785    3.816478   11.993229     7.572785     7.572785   \n",
      "28 2022-05-29   7.338352    1.439936    9.401554     7.338351     7.338352   \n",
      "29 2022-05-30   7.103918    2.735135   10.616456     7.103918     7.103918   \n",
      "30 2022-05-31   6.869484    4.153257   12.015736     6.869484     6.869484   \n",
      "\n",
      "    additive_terms  additive_terms_lower  additive_terms_upper    weekly  \\\n",
      "0        -1.904523             -1.904523             -1.904523 -1.904523   \n",
      "1        -0.460917             -0.460917             -0.460917 -0.460917   \n",
      "2         1.368687              1.368687              1.368687  1.368687   \n",
      "3         0.115468              0.115468              0.115468  0.115468   \n",
      "4        -0.364466             -0.364466             -0.364466 -0.364466   \n",
      "5         1.073346              1.073346              1.073346  1.073346   \n",
      "6         0.172405              0.172405              0.172405  0.172405   \n",
      "7        -1.904523             -1.904523             -1.904523 -1.904523   \n",
      "8        -0.460917             -0.460917             -0.460917 -0.460917   \n",
      "9         1.368687              1.368687              1.368687  1.368687   \n",
      "10        0.115468              0.115468              0.115468  0.115468   \n",
      "11       -0.364466             -0.364466             -0.364466 -0.364466   \n",
      "12        1.073346              1.073346              1.073346  1.073346   \n",
      "13        0.172405              0.172405              0.172405  0.172405   \n",
      "14       -1.904523             -1.904523             -1.904523 -1.904523   \n",
      "15       -0.460917             -0.460917             -0.460917 -0.460917   \n",
      "16        1.368687              1.368687              1.368687  1.368687   \n",
      "17        0.115468              0.115468              0.115468  0.115468   \n",
      "18       -0.364466             -0.364466             -0.364466 -0.364466   \n",
      "19        1.073346              1.073346              1.073346  1.073346   \n",
      "20        0.172405              0.172405              0.172405  0.172405   \n",
      "21       -1.904523             -1.904523             -1.904523 -1.904523   \n",
      "22       -0.460917             -0.460917             -0.460917 -0.460917   \n",
      "23        1.368687              1.368687              1.368687  1.368687   \n",
      "24        0.115468              0.115468              0.115468  0.115468   \n",
      "25       -0.364466             -0.364466             -0.364466 -0.364466   \n",
      "26        1.073346              1.073346              1.073346  1.073346   \n",
      "27        0.172405              0.172405              0.172405  0.172405   \n",
      "28       -1.904523             -1.904523             -1.904523 -1.904523   \n",
      "29       -0.460917             -0.460917             -0.460917 -0.460917   \n",
      "30        1.368687              1.368687              1.368687  1.368687   \n",
      "\n",
      "    weekly_lower  weekly_upper  multiplicative_terms  \\\n",
      "0      -1.904523     -1.904523                   0.0   \n",
      "1      -0.460917     -0.460917                   0.0   \n",
      "2       1.368687      1.368687                   0.0   \n",
      "3       0.115468      0.115468                   0.0   \n",
      "4      -0.364466     -0.364466                   0.0   \n",
      "5       1.073346      1.073346                   0.0   \n",
      "6       0.172405      0.172405                   0.0   \n",
      "7      -1.904523     -1.904523                   0.0   \n",
      "8      -0.460917     -0.460917                   0.0   \n",
      "9       1.368687      1.368687                   0.0   \n",
      "10      0.115468      0.115468                   0.0   \n",
      "11     -0.364466     -0.364466                   0.0   \n",
      "12      1.073346      1.073346                   0.0   \n",
      "13      0.172405      0.172405                   0.0   \n",
      "14     -1.904523     -1.904523                   0.0   \n",
      "15     -0.460917     -0.460917                   0.0   \n",
      "16      1.368687      1.368687                   0.0   \n",
      "17      0.115468      0.115468                   0.0   \n",
      "18     -0.364466     -0.364466                   0.0   \n",
      "19      1.073346      1.073346                   0.0   \n",
      "20      0.172405      0.172405                   0.0   \n",
      "21     -1.904523     -1.904523                   0.0   \n",
      "22     -0.460917     -0.460917                   0.0   \n",
      "23      1.368687      1.368687                   0.0   \n",
      "24      0.115468      0.115468                   0.0   \n",
      "25     -0.364466     -0.364466                   0.0   \n",
      "26      1.073346      1.073346                   0.0   \n",
      "27      0.172405      0.172405                   0.0   \n",
      "28     -1.904523     -1.904523                   0.0   \n",
      "29     -0.460917     -0.460917                   0.0   \n",
      "30      1.368687      1.368687                   0.0   \n",
      "\n",
      "    multiplicative_terms_lower  multiplicative_terms_upper       yhat  \n",
      "0                          0.0                         0.0  11.997976  \n",
      "1                          0.0                         0.0  13.207147  \n",
      "2                          0.0                         0.0  14.802318  \n",
      "3                          0.0                         0.0  13.314665  \n",
      "4                          0.0                         0.0  12.600297  \n",
      "5                          0.0                         0.0  13.803676  \n",
      "6                          0.0                         0.0  12.668301  \n",
      "7                          0.0                         0.0  10.356939  \n",
      "8                          0.0                         0.0  11.566111  \n",
      "9                          0.0                         0.0  13.161281  \n",
      "10                         0.0                         0.0  11.673628  \n",
      "11                         0.0                         0.0  10.959260  \n",
      "12                         0.0                         0.0  12.162639  \n",
      "13                         0.0                         0.0  11.027264  \n",
      "14                         0.0                         0.0   8.715902  \n",
      "15                         0.0                         0.0   9.925074  \n",
      "16                         0.0                         0.0  11.520245  \n",
      "17                         0.0                         0.0  10.032592  \n",
      "18                         0.0                         0.0   9.318223  \n",
      "19                         0.0                         0.0  10.521602  \n",
      "20                         0.0                         0.0   9.386227  \n",
      "21                         0.0                         0.0   7.074866  \n",
      "22                         0.0                         0.0   8.284037  \n",
      "23                         0.0                         0.0   9.879208  \n",
      "24                         0.0                         0.0   8.391555  \n",
      "25                         0.0                         0.0   7.677187  \n",
      "26                         0.0                         0.0   8.880566  \n",
      "27                         0.0                         0.0   7.745191  \n",
      "28                         0.0                         0.0   5.433829  \n",
      "29                         0.0                         0.0   6.643000  \n",
      "30                         0.0                         0.0   8.238171  \n"
     ]
    }
   ],
   "source": [
    "# predict whole month\n",
    "future = m.make_future_dataframe(periods=len(y_test))\n",
    "forecast = m.predict(future)\n",
    "print('forecast', forecast)"
   ]
  },
  {
   "cell_type": "code",
   "execution_count": 19,
   "metadata": {},
   "outputs": [
    {
     "name": "stdout",
     "output_type": "stream",
     "text": [
      "           ds       yhat  yhat_lower  yhat_upper\n",
      "0  2022-05-01  11.997976    7.840502   15.882593\n",
      "1  2022-05-02  13.207147    9.228000   17.244428\n",
      "2  2022-05-03  14.802318   10.748548   18.970358\n",
      "3  2022-05-04  13.314665    9.113521   17.138742\n",
      "4  2022-05-05  12.600297    8.919347   16.804979\n",
      "5  2022-05-06  13.803676    9.951107   17.963050\n",
      "6  2022-05-07  12.668301    8.831365   16.486287\n",
      "7  2022-05-08  10.356939    6.238693   14.397748\n",
      "8  2022-05-09  11.566111    7.540384   15.435195\n",
      "9  2022-05-10  13.161281    9.048116   17.000943\n",
      "10 2022-05-11  11.673628    7.533838   15.500849\n",
      "11 2022-05-12  10.959260    6.816343   14.978120\n",
      "12 2022-05-13  12.162639    7.805906   15.946637\n",
      "13 2022-05-14  11.027264    7.159503   15.289042\n",
      "14 2022-05-15   8.715902    4.583035   12.825189\n",
      "15 2022-05-16   9.925074    6.045972   14.135944\n",
      "16 2022-05-17  11.520245    7.534177   15.563675\n",
      "17 2022-05-18  10.032592    5.877753   13.916138\n",
      "18 2022-05-19   9.318223    4.976684   13.473266\n",
      "19 2022-05-20  10.521602    6.169235   14.751035\n",
      "20 2022-05-21   9.386227    5.097638   13.515250\n",
      "21 2022-05-22   7.074866    3.143295   10.958792\n",
      "22 2022-05-23   8.284037    4.255493   12.248301\n",
      "23 2022-05-24   9.879208    6.099793   13.790178\n",
      "24 2022-05-25   8.391555    4.265591   12.424462\n",
      "25 2022-05-26   7.677187    3.723431   11.770664\n",
      "26 2022-05-27   8.880566    4.857530   12.793772\n",
      "27 2022-05-28   7.745191    3.816478   11.993229\n",
      "28 2022-05-29   5.433829    1.439936    9.401554\n",
      "29 2022-05-30   6.643000    2.735135   10.616456\n",
      "30 2022-05-31   8.238171    4.153257   12.015736\n"
     ]
    }
   ],
   "source": [
    "# print only values of interest\n",
    "print(forecast[['ds', 'yhat', 'yhat_lower', 'yhat_upper']])"
   ]
  },
  {
   "cell_type": "code",
   "execution_count": 20,
   "metadata": {},
   "outputs": [
    {
     "data": {
      "application/vnd.plotly.v1+json": {
       "config": {
        "plotlyServerURL": "https://plot.ly"
       },
       "data": [
        {
         "marker": {
          "color": "black",
          "size": 4
         },
         "mode": "markers",
         "name": "Actual",
         "type": "scatter",
         "x": [
          "2022-05-01T00:00:00",
          "2022-05-02T00:00:00",
          "2022-05-03T00:00:00",
          "2022-05-04T00:00:00",
          "2022-05-05T00:00:00",
          "2022-05-06T00:00:00",
          "2022-05-07T00:00:00",
          "2022-05-08T00:00:00",
          "2022-05-09T00:00:00",
          "2022-05-10T00:00:00",
          "2022-05-11T00:00:00",
          "2022-05-12T00:00:00",
          "2022-05-13T00:00:00",
          "2022-05-14T00:00:00",
          "2022-05-15T00:00:00",
          "2022-05-16T00:00:00",
          "2022-05-17T00:00:00",
          "2022-05-18T00:00:00",
          "2022-05-19T00:00:00",
          "2022-05-20T00:00:00",
          "2022-05-21T00:00:00",
          "2022-05-22T00:00:00",
          "2022-05-23T00:00:00",
          "2022-05-24T00:00:00",
          "2022-05-25T00:00:00",
          "2022-05-26T00:00:00"
         ],
         "y": [
          9.133333333333333,
          10.127689104788342,
          12.832980972515855,
          13.408419497784342,
          16.205698401667824,
          13.217573221757322,
          14.511111111111111,
          13.686805555555555,
          13.878472222222221,
          10.299513551077137,
          10.430555555555555,
          13.337265787647468,
          16.96105702364395,
          10.860125260960334,
          10.702777777777778,
          12.968728283530229,
          15.097916666666666,
          4.164583333333334,
          4.411396803335649,
          6.315752949340736,
          7.715972222222222,
          4.626129256428075,
          6.0125,
          11.139777468706537,
          15.414464534075105,
          6.605555555555555
         ]
        },
        {
         "hoverinfo": "skip",
         "line": {
          "width": 0
         },
         "mode": "lines",
         "type": "scatter",
         "x": [
          "2022-05-01T00:00:00",
          "2022-05-02T00:00:00",
          "2022-05-03T00:00:00",
          "2022-05-04T00:00:00",
          "2022-05-05T00:00:00",
          "2022-05-06T00:00:00",
          "2022-05-07T00:00:00",
          "2022-05-08T00:00:00",
          "2022-05-09T00:00:00",
          "2022-05-10T00:00:00",
          "2022-05-11T00:00:00",
          "2022-05-12T00:00:00",
          "2022-05-13T00:00:00",
          "2022-05-14T00:00:00",
          "2022-05-15T00:00:00",
          "2022-05-16T00:00:00",
          "2022-05-17T00:00:00",
          "2022-05-18T00:00:00",
          "2022-05-19T00:00:00",
          "2022-05-20T00:00:00",
          "2022-05-21T00:00:00",
          "2022-05-22T00:00:00",
          "2022-05-23T00:00:00",
          "2022-05-24T00:00:00",
          "2022-05-25T00:00:00",
          "2022-05-26T00:00:00",
          "2022-05-27T00:00:00",
          "2022-05-28T00:00:00",
          "2022-05-29T00:00:00",
          "2022-05-30T00:00:00",
          "2022-05-31T00:00:00"
         ],
         "y": [
          7.840502228042428,
          9.228000262150667,
          10.748547514255518,
          9.11352132636862,
          8.919346747542505,
          9.951106614766166,
          8.831365231958303,
          6.238692924274097,
          7.540384082864816,
          9.048116094686065,
          7.533837857033113,
          6.816343347062842,
          7.805906219080285,
          7.159502948175432,
          4.583034632154813,
          6.045971764618169,
          7.534176668561909,
          5.877752957883757,
          4.976683655997388,
          6.169234612658609,
          5.097638138018423,
          3.1432951336498935,
          4.25549324422867,
          6.099793390551093,
          4.26559051534105,
          3.7234314168135985,
          4.8575300488904505,
          3.8164782628272698,
          1.4399361452467383,
          2.7351347204354055,
          4.153257343889881
         ]
        },
        {
         "fill": "tonexty",
         "fillcolor": "rgba(0, 114, 178, 0.2)",
         "line": {
          "color": "#0072B2",
          "width": 2
         },
         "mode": "lines",
         "name": "Predicted",
         "type": "scatter",
         "x": [
          "2022-05-01T00:00:00",
          "2022-05-02T00:00:00",
          "2022-05-03T00:00:00",
          "2022-05-04T00:00:00",
          "2022-05-05T00:00:00",
          "2022-05-06T00:00:00",
          "2022-05-07T00:00:00",
          "2022-05-08T00:00:00",
          "2022-05-09T00:00:00",
          "2022-05-10T00:00:00",
          "2022-05-11T00:00:00",
          "2022-05-12T00:00:00",
          "2022-05-13T00:00:00",
          "2022-05-14T00:00:00",
          "2022-05-15T00:00:00",
          "2022-05-16T00:00:00",
          "2022-05-17T00:00:00",
          "2022-05-18T00:00:00",
          "2022-05-19T00:00:00",
          "2022-05-20T00:00:00",
          "2022-05-21T00:00:00",
          "2022-05-22T00:00:00",
          "2022-05-23T00:00:00",
          "2022-05-24T00:00:00",
          "2022-05-25T00:00:00",
          "2022-05-26T00:00:00",
          "2022-05-27T00:00:00",
          "2022-05-28T00:00:00",
          "2022-05-29T00:00:00",
          "2022-05-30T00:00:00",
          "2022-05-31T00:00:00"
         ],
         "y": [
          11.99797581430209,
          13.207147473889886,
          14.802318080098367,
          13.314665163348455,
          12.600296894598019,
          13.803675924691449,
          12.668300889886558,
          10.35693913289267,
          11.566110763651565,
          13.16128133775733,
          11.673628408986703,
          10.959260140075795,
          12.16263917272337,
          11.027264156460253,
          8.71590242433738,
          9.925074078326446,
          11.520244655487982,
          10.03259170527218,
          9.318223415048232,
          10.521602432030159,
          9.386227382519987,
          7.074865614345244,
          8.284037240902947,
          9.879207805697433,
          8.391554860278628,
          7.67718656128038,
          8.880565562532725,
          7.745190513020123,
          5.433828744849041,
          6.643000371406733,
          8.238170936199399
         ]
        },
        {
         "fill": "tonexty",
         "fillcolor": "rgba(0, 114, 178, 0.2)",
         "hoverinfo": "skip",
         "line": {
          "width": 0
         },
         "mode": "lines",
         "type": "scatter",
         "x": [
          "2022-05-01T00:00:00",
          "2022-05-02T00:00:00",
          "2022-05-03T00:00:00",
          "2022-05-04T00:00:00",
          "2022-05-05T00:00:00",
          "2022-05-06T00:00:00",
          "2022-05-07T00:00:00",
          "2022-05-08T00:00:00",
          "2022-05-09T00:00:00",
          "2022-05-10T00:00:00",
          "2022-05-11T00:00:00",
          "2022-05-12T00:00:00",
          "2022-05-13T00:00:00",
          "2022-05-14T00:00:00",
          "2022-05-15T00:00:00",
          "2022-05-16T00:00:00",
          "2022-05-17T00:00:00",
          "2022-05-18T00:00:00",
          "2022-05-19T00:00:00",
          "2022-05-20T00:00:00",
          "2022-05-21T00:00:00",
          "2022-05-22T00:00:00",
          "2022-05-23T00:00:00",
          "2022-05-24T00:00:00",
          "2022-05-25T00:00:00",
          "2022-05-26T00:00:00",
          "2022-05-27T00:00:00",
          "2022-05-28T00:00:00",
          "2022-05-29T00:00:00",
          "2022-05-30T00:00:00",
          "2022-05-31T00:00:00"
         ],
         "y": [
          15.882592889338767,
          17.244427906287733,
          18.970357505362838,
          17.138742363915437,
          16.80497941716126,
          17.963049821361302,
          16.486286993959727,
          14.397748423182772,
          15.435194995063938,
          17.000943074840674,
          15.50084937131431,
          14.97811966305477,
          15.946636722807845,
          15.289041962146872,
          12.82518946475595,
          14.135943873859919,
          15.563675011555231,
          13.916137890042954,
          13.473266458873983,
          14.751035170080723,
          13.515250057164497,
          10.9587924465568,
          12.248300976815605,
          13.790178482497954,
          12.424462023855208,
          11.77066400974255,
          12.793772220408623,
          11.993229399942674,
          9.401553988273816,
          10.61645641963412,
          12.015736034353107
         ]
        }
       ],
       "layout": {
        "height": 600,
        "showlegend": false,
        "template": {
         "data": {
          "bar": [
           {
            "error_x": {
             "color": "#2a3f5f"
            },
            "error_y": {
             "color": "#2a3f5f"
            },
            "marker": {
             "line": {
              "color": "#E5ECF6",
              "width": 0.5
             },
             "pattern": {
              "fillmode": "overlay",
              "size": 10,
              "solidity": 0.2
             }
            },
            "type": "bar"
           }
          ],
          "barpolar": [
           {
            "marker": {
             "line": {
              "color": "#E5ECF6",
              "width": 0.5
             },
             "pattern": {
              "fillmode": "overlay",
              "size": 10,
              "solidity": 0.2
             }
            },
            "type": "barpolar"
           }
          ],
          "carpet": [
           {
            "aaxis": {
             "endlinecolor": "#2a3f5f",
             "gridcolor": "white",
             "linecolor": "white",
             "minorgridcolor": "white",
             "startlinecolor": "#2a3f5f"
            },
            "baxis": {
             "endlinecolor": "#2a3f5f",
             "gridcolor": "white",
             "linecolor": "white",
             "minorgridcolor": "white",
             "startlinecolor": "#2a3f5f"
            },
            "type": "carpet"
           }
          ],
          "choropleth": [
           {
            "colorbar": {
             "outlinewidth": 0,
             "ticks": ""
            },
            "type": "choropleth"
           }
          ],
          "contour": [
           {
            "colorbar": {
             "outlinewidth": 0,
             "ticks": ""
            },
            "colorscale": [
             [
              0,
              "#0d0887"
             ],
             [
              0.1111111111111111,
              "#46039f"
             ],
             [
              0.2222222222222222,
              "#7201a8"
             ],
             [
              0.3333333333333333,
              "#9c179e"
             ],
             [
              0.4444444444444444,
              "#bd3786"
             ],
             [
              0.5555555555555556,
              "#d8576b"
             ],
             [
              0.6666666666666666,
              "#ed7953"
             ],
             [
              0.7777777777777778,
              "#fb9f3a"
             ],
             [
              0.8888888888888888,
              "#fdca26"
             ],
             [
              1,
              "#f0f921"
             ]
            ],
            "type": "contour"
           }
          ],
          "contourcarpet": [
           {
            "colorbar": {
             "outlinewidth": 0,
             "ticks": ""
            },
            "type": "contourcarpet"
           }
          ],
          "heatmap": [
           {
            "colorbar": {
             "outlinewidth": 0,
             "ticks": ""
            },
            "colorscale": [
             [
              0,
              "#0d0887"
             ],
             [
              0.1111111111111111,
              "#46039f"
             ],
             [
              0.2222222222222222,
              "#7201a8"
             ],
             [
              0.3333333333333333,
              "#9c179e"
             ],
             [
              0.4444444444444444,
              "#bd3786"
             ],
             [
              0.5555555555555556,
              "#d8576b"
             ],
             [
              0.6666666666666666,
              "#ed7953"
             ],
             [
              0.7777777777777778,
              "#fb9f3a"
             ],
             [
              0.8888888888888888,
              "#fdca26"
             ],
             [
              1,
              "#f0f921"
             ]
            ],
            "type": "heatmap"
           }
          ],
          "heatmapgl": [
           {
            "colorbar": {
             "outlinewidth": 0,
             "ticks": ""
            },
            "colorscale": [
             [
              0,
              "#0d0887"
             ],
             [
              0.1111111111111111,
              "#46039f"
             ],
             [
              0.2222222222222222,
              "#7201a8"
             ],
             [
              0.3333333333333333,
              "#9c179e"
             ],
             [
              0.4444444444444444,
              "#bd3786"
             ],
             [
              0.5555555555555556,
              "#d8576b"
             ],
             [
              0.6666666666666666,
              "#ed7953"
             ],
             [
              0.7777777777777778,
              "#fb9f3a"
             ],
             [
              0.8888888888888888,
              "#fdca26"
             ],
             [
              1,
              "#f0f921"
             ]
            ],
            "type": "heatmapgl"
           }
          ],
          "histogram": [
           {
            "marker": {
             "pattern": {
              "fillmode": "overlay",
              "size": 10,
              "solidity": 0.2
             }
            },
            "type": "histogram"
           }
          ],
          "histogram2d": [
           {
            "colorbar": {
             "outlinewidth": 0,
             "ticks": ""
            },
            "colorscale": [
             [
              0,
              "#0d0887"
             ],
             [
              0.1111111111111111,
              "#46039f"
             ],
             [
              0.2222222222222222,
              "#7201a8"
             ],
             [
              0.3333333333333333,
              "#9c179e"
             ],
             [
              0.4444444444444444,
              "#bd3786"
             ],
             [
              0.5555555555555556,
              "#d8576b"
             ],
             [
              0.6666666666666666,
              "#ed7953"
             ],
             [
              0.7777777777777778,
              "#fb9f3a"
             ],
             [
              0.8888888888888888,
              "#fdca26"
             ],
             [
              1,
              "#f0f921"
             ]
            ],
            "type": "histogram2d"
           }
          ],
          "histogram2dcontour": [
           {
            "colorbar": {
             "outlinewidth": 0,
             "ticks": ""
            },
            "colorscale": [
             [
              0,
              "#0d0887"
             ],
             [
              0.1111111111111111,
              "#46039f"
             ],
             [
              0.2222222222222222,
              "#7201a8"
             ],
             [
              0.3333333333333333,
              "#9c179e"
             ],
             [
              0.4444444444444444,
              "#bd3786"
             ],
             [
              0.5555555555555556,
              "#d8576b"
             ],
             [
              0.6666666666666666,
              "#ed7953"
             ],
             [
              0.7777777777777778,
              "#fb9f3a"
             ],
             [
              0.8888888888888888,
              "#fdca26"
             ],
             [
              1,
              "#f0f921"
             ]
            ],
            "type": "histogram2dcontour"
           }
          ],
          "mesh3d": [
           {
            "colorbar": {
             "outlinewidth": 0,
             "ticks": ""
            },
            "type": "mesh3d"
           }
          ],
          "parcoords": [
           {
            "line": {
             "colorbar": {
              "outlinewidth": 0,
              "ticks": ""
             }
            },
            "type": "parcoords"
           }
          ],
          "pie": [
           {
            "automargin": true,
            "type": "pie"
           }
          ],
          "scatter": [
           {
            "fillpattern": {
             "fillmode": "overlay",
             "size": 10,
             "solidity": 0.2
            },
            "type": "scatter"
           }
          ],
          "scatter3d": [
           {
            "line": {
             "colorbar": {
              "outlinewidth": 0,
              "ticks": ""
             }
            },
            "marker": {
             "colorbar": {
              "outlinewidth": 0,
              "ticks": ""
             }
            },
            "type": "scatter3d"
           }
          ],
          "scattercarpet": [
           {
            "marker": {
             "colorbar": {
              "outlinewidth": 0,
              "ticks": ""
             }
            },
            "type": "scattercarpet"
           }
          ],
          "scattergeo": [
           {
            "marker": {
             "colorbar": {
              "outlinewidth": 0,
              "ticks": ""
             }
            },
            "type": "scattergeo"
           }
          ],
          "scattergl": [
           {
            "marker": {
             "colorbar": {
              "outlinewidth": 0,
              "ticks": ""
             }
            },
            "type": "scattergl"
           }
          ],
          "scattermapbox": [
           {
            "marker": {
             "colorbar": {
              "outlinewidth": 0,
              "ticks": ""
             }
            },
            "type": "scattermapbox"
           }
          ],
          "scatterpolar": [
           {
            "marker": {
             "colorbar": {
              "outlinewidth": 0,
              "ticks": ""
             }
            },
            "type": "scatterpolar"
           }
          ],
          "scatterpolargl": [
           {
            "marker": {
             "colorbar": {
              "outlinewidth": 0,
              "ticks": ""
             }
            },
            "type": "scatterpolargl"
           }
          ],
          "scatterternary": [
           {
            "marker": {
             "colorbar": {
              "outlinewidth": 0,
              "ticks": ""
             }
            },
            "type": "scatterternary"
           }
          ],
          "surface": [
           {
            "colorbar": {
             "outlinewidth": 0,
             "ticks": ""
            },
            "colorscale": [
             [
              0,
              "#0d0887"
             ],
             [
              0.1111111111111111,
              "#46039f"
             ],
             [
              0.2222222222222222,
              "#7201a8"
             ],
             [
              0.3333333333333333,
              "#9c179e"
             ],
             [
              0.4444444444444444,
              "#bd3786"
             ],
             [
              0.5555555555555556,
              "#d8576b"
             ],
             [
              0.6666666666666666,
              "#ed7953"
             ],
             [
              0.7777777777777778,
              "#fb9f3a"
             ],
             [
              0.8888888888888888,
              "#fdca26"
             ],
             [
              1,
              "#f0f921"
             ]
            ],
            "type": "surface"
           }
          ],
          "table": [
           {
            "cells": {
             "fill": {
              "color": "#EBF0F8"
             },
             "line": {
              "color": "white"
             }
            },
            "header": {
             "fill": {
              "color": "#C8D4E3"
             },
             "line": {
              "color": "white"
             }
            },
            "type": "table"
           }
          ]
         },
         "layout": {
          "annotationdefaults": {
           "arrowcolor": "#2a3f5f",
           "arrowhead": 0,
           "arrowwidth": 1
          },
          "autotypenumbers": "strict",
          "coloraxis": {
           "colorbar": {
            "outlinewidth": 0,
            "ticks": ""
           }
          },
          "colorscale": {
           "diverging": [
            [
             0,
             "#8e0152"
            ],
            [
             0.1,
             "#c51b7d"
            ],
            [
             0.2,
             "#de77ae"
            ],
            [
             0.3,
             "#f1b6da"
            ],
            [
             0.4,
             "#fde0ef"
            ],
            [
             0.5,
             "#f7f7f7"
            ],
            [
             0.6,
             "#e6f5d0"
            ],
            [
             0.7,
             "#b8e186"
            ],
            [
             0.8,
             "#7fbc41"
            ],
            [
             0.9,
             "#4d9221"
            ],
            [
             1,
             "#276419"
            ]
           ],
           "sequential": [
            [
             0,
             "#0d0887"
            ],
            [
             0.1111111111111111,
             "#46039f"
            ],
            [
             0.2222222222222222,
             "#7201a8"
            ],
            [
             0.3333333333333333,
             "#9c179e"
            ],
            [
             0.4444444444444444,
             "#bd3786"
            ],
            [
             0.5555555555555556,
             "#d8576b"
            ],
            [
             0.6666666666666666,
             "#ed7953"
            ],
            [
             0.7777777777777778,
             "#fb9f3a"
            ],
            [
             0.8888888888888888,
             "#fdca26"
            ],
            [
             1,
             "#f0f921"
            ]
           ],
           "sequentialminus": [
            [
             0,
             "#0d0887"
            ],
            [
             0.1111111111111111,
             "#46039f"
            ],
            [
             0.2222222222222222,
             "#7201a8"
            ],
            [
             0.3333333333333333,
             "#9c179e"
            ],
            [
             0.4444444444444444,
             "#bd3786"
            ],
            [
             0.5555555555555556,
             "#d8576b"
            ],
            [
             0.6666666666666666,
             "#ed7953"
            ],
            [
             0.7777777777777778,
             "#fb9f3a"
            ],
            [
             0.8888888888888888,
             "#fdca26"
            ],
            [
             1,
             "#f0f921"
            ]
           ]
          },
          "colorway": [
           "#636efa",
           "#EF553B",
           "#00cc96",
           "#ab63fa",
           "#FFA15A",
           "#19d3f3",
           "#FF6692",
           "#B6E880",
           "#FF97FF",
           "#FECB52"
          ],
          "font": {
           "color": "#2a3f5f"
          },
          "geo": {
           "bgcolor": "white",
           "lakecolor": "white",
           "landcolor": "#E5ECF6",
           "showlakes": true,
           "showland": true,
           "subunitcolor": "white"
          },
          "hoverlabel": {
           "align": "left"
          },
          "hovermode": "closest",
          "mapbox": {
           "style": "light"
          },
          "paper_bgcolor": "white",
          "plot_bgcolor": "#E5ECF6",
          "polar": {
           "angularaxis": {
            "gridcolor": "white",
            "linecolor": "white",
            "ticks": ""
           },
           "bgcolor": "#E5ECF6",
           "radialaxis": {
            "gridcolor": "white",
            "linecolor": "white",
            "ticks": ""
           }
          },
          "scene": {
           "xaxis": {
            "backgroundcolor": "#E5ECF6",
            "gridcolor": "white",
            "gridwidth": 2,
            "linecolor": "white",
            "showbackground": true,
            "ticks": "",
            "zerolinecolor": "white"
           },
           "yaxis": {
            "backgroundcolor": "#E5ECF6",
            "gridcolor": "white",
            "gridwidth": 2,
            "linecolor": "white",
            "showbackground": true,
            "ticks": "",
            "zerolinecolor": "white"
           },
           "zaxis": {
            "backgroundcolor": "#E5ECF6",
            "gridcolor": "white",
            "gridwidth": 2,
            "linecolor": "white",
            "showbackground": true,
            "ticks": "",
            "zerolinecolor": "white"
           }
          },
          "shapedefaults": {
           "line": {
            "color": "#2a3f5f"
           }
          },
          "ternary": {
           "aaxis": {
            "gridcolor": "white",
            "linecolor": "white",
            "ticks": ""
           },
           "baxis": {
            "gridcolor": "white",
            "linecolor": "white",
            "ticks": ""
           },
           "bgcolor": "#E5ECF6",
           "caxis": {
            "gridcolor": "white",
            "linecolor": "white",
            "ticks": ""
           }
          },
          "title": {
           "x": 0.05
          },
          "xaxis": {
           "automargin": true,
           "gridcolor": "white",
           "linecolor": "white",
           "ticks": "",
           "title": {
            "standoff": 15
           },
           "zerolinecolor": "white",
           "zerolinewidth": 2
          },
          "yaxis": {
           "automargin": true,
           "gridcolor": "white",
           "linecolor": "white",
           "ticks": "",
           "title": {
            "standoff": 15
           },
           "zerolinecolor": "white",
           "zerolinewidth": 2
          }
         }
        },
        "title": {
         "text": "pm10 forecast for May 2022"
        },
        "width": 900,
        "xaxis": {
         "rangeselector": {
          "buttons": [
           {
            "count": 7,
            "label": "1w",
            "step": "day",
            "stepmode": "backward"
           },
           {
            "count": 1,
            "label": "1m",
            "step": "month",
            "stepmode": "backward"
           },
           {
            "count": 6,
            "label": "6m",
            "step": "month",
            "stepmode": "backward"
           },
           {
            "count": 1,
            "label": "1y",
            "step": "year",
            "stepmode": "backward"
           },
           {
            "step": "all"
           }
          ]
         },
         "rangeslider": {
          "visible": true
         },
         "title": {
          "text": "Day"
         },
         "type": "date"
        },
        "yaxis": {
         "title": {
          "text": "pm10"
         }
        }
       }
      }
     },
     "metadata": {},
     "output_type": "display_data"
    }
   ],
   "source": [
    "# plot predictions\n",
    "fig = plot_plotly(m, forecast)\n",
    "fig.update_layout(\n",
    "    title=sensor_name + ' forecast for May 2022',\n",
    "    xaxis_title=\"Day\",\n",
    "    yaxis_title=sensor_name)\n",
    "fig.show()"
   ]
  },
  {
   "cell_type": "code",
   "execution_count": 21,
   "metadata": {},
   "outputs": [
    {
     "name": "stderr",
     "output_type": "stream",
     "text": [
      "c:\\VALI\\Programs\\Miniconda3\\envs\\myenv\\lib\\site-packages\\fbprophet\\forecaster.py:891: FutureWarning:\n",
      "\n",
      "The frame.append method is deprecated and will be removed from pandas in a future version. Use pandas.concat instead.\n",
      "\n"
     ]
    },
    {
     "data": {
      "application/vnd.plotly.v1+json": {
       "config": {
        "plotlyServerURL": "https://plot.ly"
       },
       "data": [
        {
         "line": {
          "color": "#0072B2",
          "width": 2
         },
         "mode": "lines",
         "name": "trend",
         "type": "scatter",
         "x": [
          "2022-05-01T00:00:00",
          "2022-05-02T00:00:00",
          "2022-05-03T00:00:00",
          "2022-05-04T00:00:00",
          "2022-05-05T00:00:00",
          "2022-05-06T00:00:00",
          "2022-05-07T00:00:00",
          "2022-05-08T00:00:00",
          "2022-05-09T00:00:00",
          "2022-05-10T00:00:00",
          "2022-05-11T00:00:00",
          "2022-05-12T00:00:00",
          "2022-05-13T00:00:00",
          "2022-05-14T00:00:00",
          "2022-05-15T00:00:00",
          "2022-05-16T00:00:00",
          "2022-05-17T00:00:00",
          "2022-05-18T00:00:00",
          "2022-05-19T00:00:00",
          "2022-05-20T00:00:00",
          "2022-05-21T00:00:00",
          "2022-05-22T00:00:00",
          "2022-05-23T00:00:00",
          "2022-05-24T00:00:00",
          "2022-05-25T00:00:00",
          "2022-05-26T00:00:00",
          "2022-05-27T00:00:00",
          "2022-05-28T00:00:00",
          "2022-05-29T00:00:00",
          "2022-05-30T00:00:00",
          "2022-05-31T00:00:00"
         ],
         "xaxis": "x",
         "y": [
          13.902498595178491,
          13.668064789705124,
          13.433630992624712,
          13.199197182796693,
          12.96476337453963,
          12.730329564884816,
          12.495895741085548,
          12.261461913769477,
          12.02702807946484,
          11.792594250283662,
          11.558160428436436,
          11.323726620016718,
          11.089292812916185,
          10.85485900766105,
          10.62042520521467,
          10.385991394137756,
          10.151557568014297,
          9.91712372471591,
          9.682689894988352,
          9.448256072222302,
          9.213822233722581,
          8.97938839522286,
          8.74495455672314,
          8.51052071822342,
          8.276086879723698,
          8.041653041223977,
          7.807219202724255,
          7.572785364224535,
          7.338351525724812,
          7.103917687225093,
          6.8694838487253715
         ],
         "yaxis": "y"
        },
        {
         "line": {
          "color": "rgba(0, 114, 178, 0.2)",
          "width": 0
         },
         "mode": "lines",
         "name": "trend_upper",
         "type": "scatter",
         "x": [
          "2022-05-01T00:00:00",
          "2022-05-02T00:00:00",
          "2022-05-03T00:00:00",
          "2022-05-04T00:00:00",
          "2022-05-05T00:00:00",
          "2022-05-06T00:00:00",
          "2022-05-07T00:00:00",
          "2022-05-08T00:00:00",
          "2022-05-09T00:00:00",
          "2022-05-10T00:00:00",
          "2022-05-11T00:00:00",
          "2022-05-12T00:00:00",
          "2022-05-13T00:00:00",
          "2022-05-14T00:00:00",
          "2022-05-15T00:00:00",
          "2022-05-16T00:00:00",
          "2022-05-17T00:00:00",
          "2022-05-18T00:00:00",
          "2022-05-19T00:00:00",
          "2022-05-20T00:00:00",
          "2022-05-21T00:00:00",
          "2022-05-22T00:00:00",
          "2022-05-23T00:00:00",
          "2022-05-24T00:00:00",
          "2022-05-25T00:00:00",
          "2022-05-26T00:00:00",
          "2022-05-27T00:00:00",
          "2022-05-28T00:00:00",
          "2022-05-29T00:00:00",
          "2022-05-30T00:00:00",
          "2022-05-31T00:00:00"
         ],
         "xaxis": "x",
         "y": [
          13.902498595178491,
          13.668064789705124,
          13.433630992624712,
          13.199197182796693,
          12.96476337453963,
          12.730329564884816,
          12.495895741085548,
          12.261461913769477,
          12.02702807946484,
          11.792594250283662,
          11.558160428436436,
          11.323726620016718,
          11.089292812916185,
          10.85485900766105,
          10.62042520521467,
          10.385991394137756,
          10.151557568014297,
          9.91712372471591,
          9.682689894988352,
          9.448256072222302,
          9.213822233722581,
          8.97938839522286,
          8.74495455672314,
          8.51052071822342,
          8.276086879723698,
          8.041653041223977,
          7.8072192104552895,
          7.572785391183761,
          7.338351578244827,
          7.103917774288341,
          6.869483971311766
         ],
         "yaxis": "y"
        },
        {
         "fill": "tonexty",
         "fillcolor": "rgba(0, 114, 178, 0.2)",
         "line": {
          "color": "rgba(0, 114, 178, 0.2)",
          "width": 0
         },
         "mode": "lines",
         "name": "trend_lower",
         "type": "scatter",
         "x": [
          "2022-05-01T00:00:00",
          "2022-05-02T00:00:00",
          "2022-05-03T00:00:00",
          "2022-05-04T00:00:00",
          "2022-05-05T00:00:00",
          "2022-05-06T00:00:00",
          "2022-05-07T00:00:00",
          "2022-05-08T00:00:00",
          "2022-05-09T00:00:00",
          "2022-05-10T00:00:00",
          "2022-05-11T00:00:00",
          "2022-05-12T00:00:00",
          "2022-05-13T00:00:00",
          "2022-05-14T00:00:00",
          "2022-05-15T00:00:00",
          "2022-05-16T00:00:00",
          "2022-05-17T00:00:00",
          "2022-05-18T00:00:00",
          "2022-05-19T00:00:00",
          "2022-05-20T00:00:00",
          "2022-05-21T00:00:00",
          "2022-05-22T00:00:00",
          "2022-05-23T00:00:00",
          "2022-05-24T00:00:00",
          "2022-05-25T00:00:00",
          "2022-05-26T00:00:00",
          "2022-05-27T00:00:00",
          "2022-05-28T00:00:00",
          "2022-05-29T00:00:00",
          "2022-05-30T00:00:00",
          "2022-05-31T00:00:00"
         ],
         "xaxis": "x",
         "y": [
          13.902498595178491,
          13.668064789705124,
          13.433630992624712,
          13.199197182796693,
          12.96476337453963,
          12.730329564884816,
          12.495895741085548,
          12.261461913769477,
          12.02702807946484,
          11.792594250283662,
          11.558160428436436,
          11.323726620016718,
          11.089292812916185,
          10.85485900766105,
          10.62042520521467,
          10.385991394137756,
          10.151557568014297,
          9.91712372471591,
          9.682689894988352,
          9.448256072222302,
          9.213822233722581,
          8.97938839522286,
          8.74495455672314,
          8.51052071822342,
          8.276086879723698,
          8.041653041223977,
          7.80721919511117,
          7.572785332670827,
          7.338351461617505,
          7.103917587118247,
          6.869483705069357
         ],
         "yaxis": "y"
        },
        {
         "line": {
          "color": "#0072B2",
          "width": 2
         },
         "mode": "lines",
         "name": "weekly",
         "type": "scatter",
         "x": [
          "2017-01-01T00:00:00",
          "2017-01-02T00:00:00",
          "2017-01-03T00:00:00",
          "2017-01-04T00:00:00",
          "2017-01-05T00:00:00",
          "2017-01-06T00:00:00",
          "2017-01-07T00:00:00"
         ],
         "xaxis": "x2",
         "y": [
          -1.904522780876477,
          -0.4609173158150824,
          1.3686870874738448,
          0.11546798055148877,
          -0.36446647994154663,
          1.0733463598066684,
          0.17240514879581897
         ],
         "yaxis": "y2"
        }
       ],
       "layout": {
        "height": 400,
        "showlegend": false,
        "template": {
         "data": {
          "bar": [
           {
            "error_x": {
             "color": "#2a3f5f"
            },
            "error_y": {
             "color": "#2a3f5f"
            },
            "marker": {
             "line": {
              "color": "#E5ECF6",
              "width": 0.5
             },
             "pattern": {
              "fillmode": "overlay",
              "size": 10,
              "solidity": 0.2
             }
            },
            "type": "bar"
           }
          ],
          "barpolar": [
           {
            "marker": {
             "line": {
              "color": "#E5ECF6",
              "width": 0.5
             },
             "pattern": {
              "fillmode": "overlay",
              "size": 10,
              "solidity": 0.2
             }
            },
            "type": "barpolar"
           }
          ],
          "carpet": [
           {
            "aaxis": {
             "endlinecolor": "#2a3f5f",
             "gridcolor": "white",
             "linecolor": "white",
             "minorgridcolor": "white",
             "startlinecolor": "#2a3f5f"
            },
            "baxis": {
             "endlinecolor": "#2a3f5f",
             "gridcolor": "white",
             "linecolor": "white",
             "minorgridcolor": "white",
             "startlinecolor": "#2a3f5f"
            },
            "type": "carpet"
           }
          ],
          "choropleth": [
           {
            "colorbar": {
             "outlinewidth": 0,
             "ticks": ""
            },
            "type": "choropleth"
           }
          ],
          "contour": [
           {
            "colorbar": {
             "outlinewidth": 0,
             "ticks": ""
            },
            "colorscale": [
             [
              0,
              "#0d0887"
             ],
             [
              0.1111111111111111,
              "#46039f"
             ],
             [
              0.2222222222222222,
              "#7201a8"
             ],
             [
              0.3333333333333333,
              "#9c179e"
             ],
             [
              0.4444444444444444,
              "#bd3786"
             ],
             [
              0.5555555555555556,
              "#d8576b"
             ],
             [
              0.6666666666666666,
              "#ed7953"
             ],
             [
              0.7777777777777778,
              "#fb9f3a"
             ],
             [
              0.8888888888888888,
              "#fdca26"
             ],
             [
              1,
              "#f0f921"
             ]
            ],
            "type": "contour"
           }
          ],
          "contourcarpet": [
           {
            "colorbar": {
             "outlinewidth": 0,
             "ticks": ""
            },
            "type": "contourcarpet"
           }
          ],
          "heatmap": [
           {
            "colorbar": {
             "outlinewidth": 0,
             "ticks": ""
            },
            "colorscale": [
             [
              0,
              "#0d0887"
             ],
             [
              0.1111111111111111,
              "#46039f"
             ],
             [
              0.2222222222222222,
              "#7201a8"
             ],
             [
              0.3333333333333333,
              "#9c179e"
             ],
             [
              0.4444444444444444,
              "#bd3786"
             ],
             [
              0.5555555555555556,
              "#d8576b"
             ],
             [
              0.6666666666666666,
              "#ed7953"
             ],
             [
              0.7777777777777778,
              "#fb9f3a"
             ],
             [
              0.8888888888888888,
              "#fdca26"
             ],
             [
              1,
              "#f0f921"
             ]
            ],
            "type": "heatmap"
           }
          ],
          "heatmapgl": [
           {
            "colorbar": {
             "outlinewidth": 0,
             "ticks": ""
            },
            "colorscale": [
             [
              0,
              "#0d0887"
             ],
             [
              0.1111111111111111,
              "#46039f"
             ],
             [
              0.2222222222222222,
              "#7201a8"
             ],
             [
              0.3333333333333333,
              "#9c179e"
             ],
             [
              0.4444444444444444,
              "#bd3786"
             ],
             [
              0.5555555555555556,
              "#d8576b"
             ],
             [
              0.6666666666666666,
              "#ed7953"
             ],
             [
              0.7777777777777778,
              "#fb9f3a"
             ],
             [
              0.8888888888888888,
              "#fdca26"
             ],
             [
              1,
              "#f0f921"
             ]
            ],
            "type": "heatmapgl"
           }
          ],
          "histogram": [
           {
            "marker": {
             "pattern": {
              "fillmode": "overlay",
              "size": 10,
              "solidity": 0.2
             }
            },
            "type": "histogram"
           }
          ],
          "histogram2d": [
           {
            "colorbar": {
             "outlinewidth": 0,
             "ticks": ""
            },
            "colorscale": [
             [
              0,
              "#0d0887"
             ],
             [
              0.1111111111111111,
              "#46039f"
             ],
             [
              0.2222222222222222,
              "#7201a8"
             ],
             [
              0.3333333333333333,
              "#9c179e"
             ],
             [
              0.4444444444444444,
              "#bd3786"
             ],
             [
              0.5555555555555556,
              "#d8576b"
             ],
             [
              0.6666666666666666,
              "#ed7953"
             ],
             [
              0.7777777777777778,
              "#fb9f3a"
             ],
             [
              0.8888888888888888,
              "#fdca26"
             ],
             [
              1,
              "#f0f921"
             ]
            ],
            "type": "histogram2d"
           }
          ],
          "histogram2dcontour": [
           {
            "colorbar": {
             "outlinewidth": 0,
             "ticks": ""
            },
            "colorscale": [
             [
              0,
              "#0d0887"
             ],
             [
              0.1111111111111111,
              "#46039f"
             ],
             [
              0.2222222222222222,
              "#7201a8"
             ],
             [
              0.3333333333333333,
              "#9c179e"
             ],
             [
              0.4444444444444444,
              "#bd3786"
             ],
             [
              0.5555555555555556,
              "#d8576b"
             ],
             [
              0.6666666666666666,
              "#ed7953"
             ],
             [
              0.7777777777777778,
              "#fb9f3a"
             ],
             [
              0.8888888888888888,
              "#fdca26"
             ],
             [
              1,
              "#f0f921"
             ]
            ],
            "type": "histogram2dcontour"
           }
          ],
          "mesh3d": [
           {
            "colorbar": {
             "outlinewidth": 0,
             "ticks": ""
            },
            "type": "mesh3d"
           }
          ],
          "parcoords": [
           {
            "line": {
             "colorbar": {
              "outlinewidth": 0,
              "ticks": ""
             }
            },
            "type": "parcoords"
           }
          ],
          "pie": [
           {
            "automargin": true,
            "type": "pie"
           }
          ],
          "scatter": [
           {
            "fillpattern": {
             "fillmode": "overlay",
             "size": 10,
             "solidity": 0.2
            },
            "type": "scatter"
           }
          ],
          "scatter3d": [
           {
            "line": {
             "colorbar": {
              "outlinewidth": 0,
              "ticks": ""
             }
            },
            "marker": {
             "colorbar": {
              "outlinewidth": 0,
              "ticks": ""
             }
            },
            "type": "scatter3d"
           }
          ],
          "scattercarpet": [
           {
            "marker": {
             "colorbar": {
              "outlinewidth": 0,
              "ticks": ""
             }
            },
            "type": "scattercarpet"
           }
          ],
          "scattergeo": [
           {
            "marker": {
             "colorbar": {
              "outlinewidth": 0,
              "ticks": ""
             }
            },
            "type": "scattergeo"
           }
          ],
          "scattergl": [
           {
            "marker": {
             "colorbar": {
              "outlinewidth": 0,
              "ticks": ""
             }
            },
            "type": "scattergl"
           }
          ],
          "scattermapbox": [
           {
            "marker": {
             "colorbar": {
              "outlinewidth": 0,
              "ticks": ""
             }
            },
            "type": "scattermapbox"
           }
          ],
          "scatterpolar": [
           {
            "marker": {
             "colorbar": {
              "outlinewidth": 0,
              "ticks": ""
             }
            },
            "type": "scatterpolar"
           }
          ],
          "scatterpolargl": [
           {
            "marker": {
             "colorbar": {
              "outlinewidth": 0,
              "ticks": ""
             }
            },
            "type": "scatterpolargl"
           }
          ],
          "scatterternary": [
           {
            "marker": {
             "colorbar": {
              "outlinewidth": 0,
              "ticks": ""
             }
            },
            "type": "scatterternary"
           }
          ],
          "surface": [
           {
            "colorbar": {
             "outlinewidth": 0,
             "ticks": ""
            },
            "colorscale": [
             [
              0,
              "#0d0887"
             ],
             [
              0.1111111111111111,
              "#46039f"
             ],
             [
              0.2222222222222222,
              "#7201a8"
             ],
             [
              0.3333333333333333,
              "#9c179e"
             ],
             [
              0.4444444444444444,
              "#bd3786"
             ],
             [
              0.5555555555555556,
              "#d8576b"
             ],
             [
              0.6666666666666666,
              "#ed7953"
             ],
             [
              0.7777777777777778,
              "#fb9f3a"
             ],
             [
              0.8888888888888888,
              "#fdca26"
             ],
             [
              1,
              "#f0f921"
             ]
            ],
            "type": "surface"
           }
          ],
          "table": [
           {
            "cells": {
             "fill": {
              "color": "#EBF0F8"
             },
             "line": {
              "color": "white"
             }
            },
            "header": {
             "fill": {
              "color": "#C8D4E3"
             },
             "line": {
              "color": "white"
             }
            },
            "type": "table"
           }
          ]
         },
         "layout": {
          "annotationdefaults": {
           "arrowcolor": "#2a3f5f",
           "arrowhead": 0,
           "arrowwidth": 1
          },
          "autotypenumbers": "strict",
          "coloraxis": {
           "colorbar": {
            "outlinewidth": 0,
            "ticks": ""
           }
          },
          "colorscale": {
           "diverging": [
            [
             0,
             "#8e0152"
            ],
            [
             0.1,
             "#c51b7d"
            ],
            [
             0.2,
             "#de77ae"
            ],
            [
             0.3,
             "#f1b6da"
            ],
            [
             0.4,
             "#fde0ef"
            ],
            [
             0.5,
             "#f7f7f7"
            ],
            [
             0.6,
             "#e6f5d0"
            ],
            [
             0.7,
             "#b8e186"
            ],
            [
             0.8,
             "#7fbc41"
            ],
            [
             0.9,
             "#4d9221"
            ],
            [
             1,
             "#276419"
            ]
           ],
           "sequential": [
            [
             0,
             "#0d0887"
            ],
            [
             0.1111111111111111,
             "#46039f"
            ],
            [
             0.2222222222222222,
             "#7201a8"
            ],
            [
             0.3333333333333333,
             "#9c179e"
            ],
            [
             0.4444444444444444,
             "#bd3786"
            ],
            [
             0.5555555555555556,
             "#d8576b"
            ],
            [
             0.6666666666666666,
             "#ed7953"
            ],
            [
             0.7777777777777778,
             "#fb9f3a"
            ],
            [
             0.8888888888888888,
             "#fdca26"
            ],
            [
             1,
             "#f0f921"
            ]
           ],
           "sequentialminus": [
            [
             0,
             "#0d0887"
            ],
            [
             0.1111111111111111,
             "#46039f"
            ],
            [
             0.2222222222222222,
             "#7201a8"
            ],
            [
             0.3333333333333333,
             "#9c179e"
            ],
            [
             0.4444444444444444,
             "#bd3786"
            ],
            [
             0.5555555555555556,
             "#d8576b"
            ],
            [
             0.6666666666666666,
             "#ed7953"
            ],
            [
             0.7777777777777778,
             "#fb9f3a"
            ],
            [
             0.8888888888888888,
             "#fdca26"
            ],
            [
             1,
             "#f0f921"
            ]
           ]
          },
          "colorway": [
           "#636efa",
           "#EF553B",
           "#00cc96",
           "#ab63fa",
           "#FFA15A",
           "#19d3f3",
           "#FF6692",
           "#B6E880",
           "#FF97FF",
           "#FECB52"
          ],
          "font": {
           "color": "#2a3f5f"
          },
          "geo": {
           "bgcolor": "white",
           "lakecolor": "white",
           "landcolor": "#E5ECF6",
           "showlakes": true,
           "showland": true,
           "subunitcolor": "white"
          },
          "hoverlabel": {
           "align": "left"
          },
          "hovermode": "closest",
          "mapbox": {
           "style": "light"
          },
          "paper_bgcolor": "white",
          "plot_bgcolor": "#E5ECF6",
          "polar": {
           "angularaxis": {
            "gridcolor": "white",
            "linecolor": "white",
            "ticks": ""
           },
           "bgcolor": "#E5ECF6",
           "radialaxis": {
            "gridcolor": "white",
            "linecolor": "white",
            "ticks": ""
           }
          },
          "scene": {
           "xaxis": {
            "backgroundcolor": "#E5ECF6",
            "gridcolor": "white",
            "gridwidth": 2,
            "linecolor": "white",
            "showbackground": true,
            "ticks": "",
            "zerolinecolor": "white"
           },
           "yaxis": {
            "backgroundcolor": "#E5ECF6",
            "gridcolor": "white",
            "gridwidth": 2,
            "linecolor": "white",
            "showbackground": true,
            "ticks": "",
            "zerolinecolor": "white"
           },
           "zaxis": {
            "backgroundcolor": "#E5ECF6",
            "gridcolor": "white",
            "gridwidth": 2,
            "linecolor": "white",
            "showbackground": true,
            "ticks": "",
            "zerolinecolor": "white"
           }
          },
          "shapedefaults": {
           "line": {
            "color": "#2a3f5f"
           }
          },
          "ternary": {
           "aaxis": {
            "gridcolor": "white",
            "linecolor": "white",
            "ticks": ""
           },
           "baxis": {
            "gridcolor": "white",
            "linecolor": "white",
            "ticks": ""
           },
           "bgcolor": "#E5ECF6",
           "caxis": {
            "gridcolor": "white",
            "linecolor": "white",
            "ticks": ""
           }
          },
          "title": {
           "x": 0.05
          },
          "xaxis": {
           "automargin": true,
           "gridcolor": "white",
           "linecolor": "white",
           "ticks": "",
           "title": {
            "standoff": 15
           },
           "zerolinecolor": "white",
           "zerolinewidth": 2
          },
          "yaxis": {
           "automargin": true,
           "gridcolor": "white",
           "linecolor": "white",
           "ticks": "",
           "title": {
            "standoff": 15
           },
           "zerolinecolor": "white",
           "zerolinewidth": 2
          }
         }
        },
        "title": {
         "text": "pm10 seasonality"
        },
        "width": 900,
        "xaxis": {
         "anchor": "y",
         "domain": [
          0,
          1
         ],
         "range": [
          "2022-04-29T12:00:00",
          "2022-06-01T12:00:00"
         ],
         "type": "date"
        },
        "xaxis2": {
         "anchor": "y2",
         "domain": [
          0,
          1
         ],
         "range": [
          "2016-12-31T16:48:00",
          "2017-01-07T07:12:00"
         ],
         "tickformat": "%A",
         "type": "date"
        },
        "yaxis": {
         "anchor": "x",
         "domain": [
          0.575,
          1
         ],
         "rangemode": "normal",
         "title": {
          "text": "trend"
         },
         "zerolinecolor": "#AAA"
        },
        "yaxis2": {
         "anchor": "x2",
         "domain": [
          0,
          0.425
         ],
         "title": {
          "text": "weekly"
         },
         "zerolinecolor": "#AAA"
        }
       }
      }
     },
     "metadata": {},
     "output_type": "display_data"
    }
   ],
   "source": [
    "# check if there is seasonality+trend\n",
    "fig = plot_components_plotly(m, forecast)\n",
    "fig.update_layout(\n",
    "    title=sensor_name + \" seasonality\"\n",
    ")\n",
    "fig.show()"
   ]
  },
  {
   "cell_type": "code",
   "execution_count": 22,
   "metadata": {},
   "outputs": [],
   "source": [
    "# define a function to make a df containing the prediction and the actual values\n",
    "def make_comparison_dataframe(historical, forecast):\n",
    "    return forecast.set_index('ds')[['yhat', 'yhat_lower', 'yhat_upper']].join(historical.set_index('ds'))"
   ]
  },
  {
   "cell_type": "code",
   "execution_count": 23,
   "metadata": {},
   "outputs": [
    {
     "data": {
      "text/html": [
       "<div>\n",
       "<style scoped>\n",
       "    .dataframe tbody tr th:only-of-type {\n",
       "        vertical-align: middle;\n",
       "    }\n",
       "\n",
       "    .dataframe tbody tr th {\n",
       "        vertical-align: top;\n",
       "    }\n",
       "\n",
       "    .dataframe thead th {\n",
       "        text-align: right;\n",
       "    }\n",
       "</style>\n",
       "<table border=\"1\" class=\"dataframe\">\n",
       "  <thead>\n",
       "    <tr style=\"text-align: right;\">\n",
       "      <th></th>\n",
       "      <th>ds</th>\n",
       "      <th>y</th>\n",
       "    </tr>\n",
       "  </thead>\n",
       "  <tbody>\n",
       "    <tr>\n",
       "      <th>0</th>\n",
       "      <td>2022-05-01</td>\n",
       "      <td>9.133333</td>\n",
       "    </tr>\n",
       "    <tr>\n",
       "      <th>1</th>\n",
       "      <td>2022-05-02</td>\n",
       "      <td>10.127689</td>\n",
       "    </tr>\n",
       "    <tr>\n",
       "      <th>2</th>\n",
       "      <td>2022-05-03</td>\n",
       "      <td>12.832981</td>\n",
       "    </tr>\n",
       "    <tr>\n",
       "      <th>3</th>\n",
       "      <td>2022-05-04</td>\n",
       "      <td>13.408419</td>\n",
       "    </tr>\n",
       "    <tr>\n",
       "      <th>4</th>\n",
       "      <td>2022-05-05</td>\n",
       "      <td>16.205698</td>\n",
       "    </tr>\n",
       "    <tr>\n",
       "      <th>5</th>\n",
       "      <td>2022-05-06</td>\n",
       "      <td>13.217573</td>\n",
       "    </tr>\n",
       "    <tr>\n",
       "      <th>6</th>\n",
       "      <td>2022-05-07</td>\n",
       "      <td>14.511111</td>\n",
       "    </tr>\n",
       "    <tr>\n",
       "      <th>7</th>\n",
       "      <td>2022-05-08</td>\n",
       "      <td>13.686806</td>\n",
       "    </tr>\n",
       "    <tr>\n",
       "      <th>8</th>\n",
       "      <td>2022-05-09</td>\n",
       "      <td>13.878472</td>\n",
       "    </tr>\n",
       "    <tr>\n",
       "      <th>9</th>\n",
       "      <td>2022-05-10</td>\n",
       "      <td>10.299514</td>\n",
       "    </tr>\n",
       "    <tr>\n",
       "      <th>10</th>\n",
       "      <td>2022-05-11</td>\n",
       "      <td>10.430556</td>\n",
       "    </tr>\n",
       "    <tr>\n",
       "      <th>11</th>\n",
       "      <td>2022-05-12</td>\n",
       "      <td>13.337266</td>\n",
       "    </tr>\n",
       "    <tr>\n",
       "      <th>12</th>\n",
       "      <td>2022-05-13</td>\n",
       "      <td>16.961057</td>\n",
       "    </tr>\n",
       "    <tr>\n",
       "      <th>13</th>\n",
       "      <td>2022-05-14</td>\n",
       "      <td>10.860125</td>\n",
       "    </tr>\n",
       "    <tr>\n",
       "      <th>14</th>\n",
       "      <td>2022-05-15</td>\n",
       "      <td>10.702778</td>\n",
       "    </tr>\n",
       "    <tr>\n",
       "      <th>15</th>\n",
       "      <td>2022-05-16</td>\n",
       "      <td>12.968728</td>\n",
       "    </tr>\n",
       "    <tr>\n",
       "      <th>16</th>\n",
       "      <td>2022-05-17</td>\n",
       "      <td>15.097917</td>\n",
       "    </tr>\n",
       "    <tr>\n",
       "      <th>17</th>\n",
       "      <td>2022-05-18</td>\n",
       "      <td>4.164583</td>\n",
       "    </tr>\n",
       "    <tr>\n",
       "      <th>18</th>\n",
       "      <td>2022-05-19</td>\n",
       "      <td>4.411397</td>\n",
       "    </tr>\n",
       "    <tr>\n",
       "      <th>19</th>\n",
       "      <td>2022-05-20</td>\n",
       "      <td>6.315753</td>\n",
       "    </tr>\n",
       "    <tr>\n",
       "      <th>20</th>\n",
       "      <td>2022-05-21</td>\n",
       "      <td>7.715972</td>\n",
       "    </tr>\n",
       "    <tr>\n",
       "      <th>21</th>\n",
       "      <td>2022-05-22</td>\n",
       "      <td>4.626129</td>\n",
       "    </tr>\n",
       "    <tr>\n",
       "      <th>22</th>\n",
       "      <td>2022-05-23</td>\n",
       "      <td>6.012500</td>\n",
       "    </tr>\n",
       "    <tr>\n",
       "      <th>23</th>\n",
       "      <td>2022-05-24</td>\n",
       "      <td>11.139777</td>\n",
       "    </tr>\n",
       "    <tr>\n",
       "      <th>24</th>\n",
       "      <td>2022-05-25</td>\n",
       "      <td>15.414465</td>\n",
       "    </tr>\n",
       "    <tr>\n",
       "      <th>25</th>\n",
       "      <td>2022-05-26</td>\n",
       "      <td>6.605556</td>\n",
       "    </tr>\n",
       "  </tbody>\n",
       "</table>\n",
       "</div>"
      ],
      "text/plain": [
       "           ds          y\n",
       "0  2022-05-01   9.133333\n",
       "1  2022-05-02  10.127689\n",
       "2  2022-05-03  12.832981\n",
       "3  2022-05-04  13.408419\n",
       "4  2022-05-05  16.205698\n",
       "5  2022-05-06  13.217573\n",
       "6  2022-05-07  14.511111\n",
       "7  2022-05-08  13.686806\n",
       "8  2022-05-09  13.878472\n",
       "9  2022-05-10  10.299514\n",
       "10 2022-05-11  10.430556\n",
       "11 2022-05-12  13.337266\n",
       "12 2022-05-13  16.961057\n",
       "13 2022-05-14  10.860125\n",
       "14 2022-05-15  10.702778\n",
       "15 2022-05-16  12.968728\n",
       "16 2022-05-17  15.097917\n",
       "17 2022-05-18   4.164583\n",
       "18 2022-05-19   4.411397\n",
       "19 2022-05-20   6.315753\n",
       "20 2022-05-21   7.715972\n",
       "21 2022-05-22   4.626129\n",
       "22 2022-05-23   6.012500\n",
       "23 2022-05-24  11.139777\n",
       "24 2022-05-25  15.414465\n",
       "25 2022-05-26   6.605556"
      ]
     },
     "execution_count": 23,
     "metadata": {},
     "output_type": "execute_result"
    }
   ],
   "source": [
    "# modify dff so that mse can be calculated for each value of the dataframe\n",
    "dff['ds'] = group_by_df['day']\n",
    "dff['y'] = group_by_df[sensor_name]\n",
    "dff"
   ]
  },
  {
   "cell_type": "code",
   "execution_count": 24,
   "metadata": {},
   "outputs": [
    {
     "data": {
      "text/html": [
       "<div>\n",
       "<style scoped>\n",
       "    .dataframe tbody tr th:only-of-type {\n",
       "        vertical-align: middle;\n",
       "    }\n",
       "\n",
       "    .dataframe tbody tr th {\n",
       "        vertical-align: top;\n",
       "    }\n",
       "\n",
       "    .dataframe thead th {\n",
       "        text-align: right;\n",
       "    }\n",
       "</style>\n",
       "<table border=\"1\" class=\"dataframe\">\n",
       "  <thead>\n",
       "    <tr style=\"text-align: right;\">\n",
       "      <th></th>\n",
       "      <th>yhat</th>\n",
       "      <th>yhat_lower</th>\n",
       "      <th>yhat_upper</th>\n",
       "      <th>y</th>\n",
       "    </tr>\n",
       "    <tr>\n",
       "      <th>ds</th>\n",
       "      <th></th>\n",
       "      <th></th>\n",
       "      <th></th>\n",
       "      <th></th>\n",
       "    </tr>\n",
       "  </thead>\n",
       "  <tbody>\n",
       "    <tr>\n",
       "      <th>2022-05-01</th>\n",
       "      <td>11.997976</td>\n",
       "      <td>7.840502</td>\n",
       "      <td>15.882593</td>\n",
       "      <td>9.133333</td>\n",
       "    </tr>\n",
       "    <tr>\n",
       "      <th>2022-05-02</th>\n",
       "      <td>13.207147</td>\n",
       "      <td>9.228000</td>\n",
       "      <td>17.244428</td>\n",
       "      <td>10.127689</td>\n",
       "    </tr>\n",
       "    <tr>\n",
       "      <th>2022-05-03</th>\n",
       "      <td>14.802318</td>\n",
       "      <td>10.748548</td>\n",
       "      <td>18.970358</td>\n",
       "      <td>12.832981</td>\n",
       "    </tr>\n",
       "    <tr>\n",
       "      <th>2022-05-04</th>\n",
       "      <td>13.314665</td>\n",
       "      <td>9.113521</td>\n",
       "      <td>17.138742</td>\n",
       "      <td>13.408419</td>\n",
       "    </tr>\n",
       "    <tr>\n",
       "      <th>2022-05-05</th>\n",
       "      <td>12.600297</td>\n",
       "      <td>8.919347</td>\n",
       "      <td>16.804979</td>\n",
       "      <td>16.205698</td>\n",
       "    </tr>\n",
       "    <tr>\n",
       "      <th>2022-05-06</th>\n",
       "      <td>13.803676</td>\n",
       "      <td>9.951107</td>\n",
       "      <td>17.963050</td>\n",
       "      <td>13.217573</td>\n",
       "    </tr>\n",
       "    <tr>\n",
       "      <th>2022-05-07</th>\n",
       "      <td>12.668301</td>\n",
       "      <td>8.831365</td>\n",
       "      <td>16.486287</td>\n",
       "      <td>14.511111</td>\n",
       "    </tr>\n",
       "    <tr>\n",
       "      <th>2022-05-08</th>\n",
       "      <td>10.356939</td>\n",
       "      <td>6.238693</td>\n",
       "      <td>14.397748</td>\n",
       "      <td>13.686806</td>\n",
       "    </tr>\n",
       "    <tr>\n",
       "      <th>2022-05-09</th>\n",
       "      <td>11.566111</td>\n",
       "      <td>7.540384</td>\n",
       "      <td>15.435195</td>\n",
       "      <td>13.878472</td>\n",
       "    </tr>\n",
       "    <tr>\n",
       "      <th>2022-05-10</th>\n",
       "      <td>13.161281</td>\n",
       "      <td>9.048116</td>\n",
       "      <td>17.000943</td>\n",
       "      <td>10.299514</td>\n",
       "    </tr>\n",
       "    <tr>\n",
       "      <th>2022-05-11</th>\n",
       "      <td>11.673628</td>\n",
       "      <td>7.533838</td>\n",
       "      <td>15.500849</td>\n",
       "      <td>10.430556</td>\n",
       "    </tr>\n",
       "    <tr>\n",
       "      <th>2022-05-12</th>\n",
       "      <td>10.959260</td>\n",
       "      <td>6.816343</td>\n",
       "      <td>14.978120</td>\n",
       "      <td>13.337266</td>\n",
       "    </tr>\n",
       "    <tr>\n",
       "      <th>2022-05-13</th>\n",
       "      <td>12.162639</td>\n",
       "      <td>7.805906</td>\n",
       "      <td>15.946637</td>\n",
       "      <td>16.961057</td>\n",
       "    </tr>\n",
       "    <tr>\n",
       "      <th>2022-05-14</th>\n",
       "      <td>11.027264</td>\n",
       "      <td>7.159503</td>\n",
       "      <td>15.289042</td>\n",
       "      <td>10.860125</td>\n",
       "    </tr>\n",
       "    <tr>\n",
       "      <th>2022-05-15</th>\n",
       "      <td>8.715902</td>\n",
       "      <td>4.583035</td>\n",
       "      <td>12.825189</td>\n",
       "      <td>10.702778</td>\n",
       "    </tr>\n",
       "    <tr>\n",
       "      <th>2022-05-16</th>\n",
       "      <td>9.925074</td>\n",
       "      <td>6.045972</td>\n",
       "      <td>14.135944</td>\n",
       "      <td>12.968728</td>\n",
       "    </tr>\n",
       "    <tr>\n",
       "      <th>2022-05-17</th>\n",
       "      <td>11.520245</td>\n",
       "      <td>7.534177</td>\n",
       "      <td>15.563675</td>\n",
       "      <td>15.097917</td>\n",
       "    </tr>\n",
       "    <tr>\n",
       "      <th>2022-05-18</th>\n",
       "      <td>10.032592</td>\n",
       "      <td>5.877753</td>\n",
       "      <td>13.916138</td>\n",
       "      <td>4.164583</td>\n",
       "    </tr>\n",
       "    <tr>\n",
       "      <th>2022-05-19</th>\n",
       "      <td>9.318223</td>\n",
       "      <td>4.976684</td>\n",
       "      <td>13.473266</td>\n",
       "      <td>4.411397</td>\n",
       "    </tr>\n",
       "    <tr>\n",
       "      <th>2022-05-20</th>\n",
       "      <td>10.521602</td>\n",
       "      <td>6.169235</td>\n",
       "      <td>14.751035</td>\n",
       "      <td>6.315753</td>\n",
       "    </tr>\n",
       "    <tr>\n",
       "      <th>2022-05-21</th>\n",
       "      <td>9.386227</td>\n",
       "      <td>5.097638</td>\n",
       "      <td>13.515250</td>\n",
       "      <td>7.715972</td>\n",
       "    </tr>\n",
       "    <tr>\n",
       "      <th>2022-05-22</th>\n",
       "      <td>7.074866</td>\n",
       "      <td>3.143295</td>\n",
       "      <td>10.958792</td>\n",
       "      <td>4.626129</td>\n",
       "    </tr>\n",
       "    <tr>\n",
       "      <th>2022-05-23</th>\n",
       "      <td>8.284037</td>\n",
       "      <td>4.255493</td>\n",
       "      <td>12.248301</td>\n",
       "      <td>6.012500</td>\n",
       "    </tr>\n",
       "    <tr>\n",
       "      <th>2022-05-24</th>\n",
       "      <td>9.879208</td>\n",
       "      <td>6.099793</td>\n",
       "      <td>13.790178</td>\n",
       "      <td>11.139777</td>\n",
       "    </tr>\n",
       "    <tr>\n",
       "      <th>2022-05-25</th>\n",
       "      <td>8.391555</td>\n",
       "      <td>4.265591</td>\n",
       "      <td>12.424462</td>\n",
       "      <td>15.414465</td>\n",
       "    </tr>\n",
       "    <tr>\n",
       "      <th>2022-05-26</th>\n",
       "      <td>7.677187</td>\n",
       "      <td>3.723431</td>\n",
       "      <td>11.770664</td>\n",
       "      <td>6.605556</td>\n",
       "    </tr>\n",
       "    <tr>\n",
       "      <th>2022-05-27</th>\n",
       "      <td>8.880566</td>\n",
       "      <td>4.857530</td>\n",
       "      <td>12.793772</td>\n",
       "      <td>7.048611</td>\n",
       "    </tr>\n",
       "    <tr>\n",
       "      <th>2022-05-28</th>\n",
       "      <td>7.745191</td>\n",
       "      <td>3.816478</td>\n",
       "      <td>11.993229</td>\n",
       "      <td>9.288194</td>\n",
       "    </tr>\n",
       "    <tr>\n",
       "      <th>2022-05-29</th>\n",
       "      <td>5.433829</td>\n",
       "      <td>1.439936</td>\n",
       "      <td>9.401554</td>\n",
       "      <td>5.781250</td>\n",
       "    </tr>\n",
       "    <tr>\n",
       "      <th>2022-05-30</th>\n",
       "      <td>6.643000</td>\n",
       "      <td>2.735135</td>\n",
       "      <td>10.616456</td>\n",
       "      <td>7.974306</td>\n",
       "    </tr>\n",
       "    <tr>\n",
       "      <th>2022-05-31</th>\n",
       "      <td>8.238171</td>\n",
       "      <td>4.153257</td>\n",
       "      <td>12.015736</td>\n",
       "      <td>11.398611</td>\n",
       "    </tr>\n",
       "  </tbody>\n",
       "</table>\n",
       "</div>"
      ],
      "text/plain": [
       "                 yhat  yhat_lower  yhat_upper          y\n",
       "ds                                                      \n",
       "2022-05-01  11.997976    7.840502   15.882593   9.133333\n",
       "2022-05-02  13.207147    9.228000   17.244428  10.127689\n",
       "2022-05-03  14.802318   10.748548   18.970358  12.832981\n",
       "2022-05-04  13.314665    9.113521   17.138742  13.408419\n",
       "2022-05-05  12.600297    8.919347   16.804979  16.205698\n",
       "2022-05-06  13.803676    9.951107   17.963050  13.217573\n",
       "2022-05-07  12.668301    8.831365   16.486287  14.511111\n",
       "2022-05-08  10.356939    6.238693   14.397748  13.686806\n",
       "2022-05-09  11.566111    7.540384   15.435195  13.878472\n",
       "2022-05-10  13.161281    9.048116   17.000943  10.299514\n",
       "2022-05-11  11.673628    7.533838   15.500849  10.430556\n",
       "2022-05-12  10.959260    6.816343   14.978120  13.337266\n",
       "2022-05-13  12.162639    7.805906   15.946637  16.961057\n",
       "2022-05-14  11.027264    7.159503   15.289042  10.860125\n",
       "2022-05-15   8.715902    4.583035   12.825189  10.702778\n",
       "2022-05-16   9.925074    6.045972   14.135944  12.968728\n",
       "2022-05-17  11.520245    7.534177   15.563675  15.097917\n",
       "2022-05-18  10.032592    5.877753   13.916138   4.164583\n",
       "2022-05-19   9.318223    4.976684   13.473266   4.411397\n",
       "2022-05-20  10.521602    6.169235   14.751035   6.315753\n",
       "2022-05-21   9.386227    5.097638   13.515250   7.715972\n",
       "2022-05-22   7.074866    3.143295   10.958792   4.626129\n",
       "2022-05-23   8.284037    4.255493   12.248301   6.012500\n",
       "2022-05-24   9.879208    6.099793   13.790178  11.139777\n",
       "2022-05-25   8.391555    4.265591   12.424462  15.414465\n",
       "2022-05-26   7.677187    3.723431   11.770664   6.605556\n",
       "2022-05-27   8.880566    4.857530   12.793772   7.048611\n",
       "2022-05-28   7.745191    3.816478   11.993229   9.288194\n",
       "2022-05-29   5.433829    1.439936    9.401554   5.781250\n",
       "2022-05-30   6.643000    2.735135   10.616456   7.974306\n",
       "2022-05-31   8.238171    4.153257   12.015736  11.398611"
      ]
     },
     "execution_count": 24,
     "metadata": {},
     "output_type": "execute_result"
    }
   ],
   "source": [
    "cmp_df = make_comparison_dataframe(df, forecast)\n",
    "cmp_df"
   ]
  },
  {
   "cell_type": "code",
   "execution_count": 25,
   "metadata": {},
   "outputs": [
    {
     "data": {
      "text/html": [
       "<div>\n",
       "<style scoped>\n",
       "    .dataframe tbody tr th:only-of-type {\n",
       "        vertical-align: middle;\n",
       "    }\n",
       "\n",
       "    .dataframe tbody tr th {\n",
       "        vertical-align: top;\n",
       "    }\n",
       "\n",
       "    .dataframe thead th {\n",
       "        text-align: right;\n",
       "    }\n",
       "</style>\n",
       "<table border=\"1\" class=\"dataframe\">\n",
       "  <thead>\n",
       "    <tr style=\"text-align: right;\">\n",
       "      <th></th>\n",
       "      <th>yhat</th>\n",
       "      <th>yhat_lower</th>\n",
       "      <th>yhat_upper</th>\n",
       "      <th>y</th>\n",
       "      <th>outlier_detected</th>\n",
       "    </tr>\n",
       "    <tr>\n",
       "      <th>ds</th>\n",
       "      <th></th>\n",
       "      <th></th>\n",
       "      <th></th>\n",
       "      <th></th>\n",
       "      <th></th>\n",
       "    </tr>\n",
       "  </thead>\n",
       "  <tbody>\n",
       "    <tr>\n",
       "      <th>2022-05-01</th>\n",
       "      <td>11.997976</td>\n",
       "      <td>7.840502</td>\n",
       "      <td>15.882593</td>\n",
       "      <td>9.133333</td>\n",
       "      <td>0</td>\n",
       "    </tr>\n",
       "    <tr>\n",
       "      <th>2022-05-02</th>\n",
       "      <td>13.207147</td>\n",
       "      <td>9.228000</td>\n",
       "      <td>17.244428</td>\n",
       "      <td>10.127689</td>\n",
       "      <td>0</td>\n",
       "    </tr>\n",
       "    <tr>\n",
       "      <th>2022-05-03</th>\n",
       "      <td>14.802318</td>\n",
       "      <td>10.748548</td>\n",
       "      <td>18.970358</td>\n",
       "      <td>12.832981</td>\n",
       "      <td>0</td>\n",
       "    </tr>\n",
       "    <tr>\n",
       "      <th>2022-05-04</th>\n",
       "      <td>13.314665</td>\n",
       "      <td>9.113521</td>\n",
       "      <td>17.138742</td>\n",
       "      <td>13.408419</td>\n",
       "      <td>0</td>\n",
       "    </tr>\n",
       "    <tr>\n",
       "      <th>2022-05-05</th>\n",
       "      <td>12.600297</td>\n",
       "      <td>8.919347</td>\n",
       "      <td>16.804979</td>\n",
       "      <td>16.205698</td>\n",
       "      <td>0</td>\n",
       "    </tr>\n",
       "    <tr>\n",
       "      <th>2022-05-06</th>\n",
       "      <td>13.803676</td>\n",
       "      <td>9.951107</td>\n",
       "      <td>17.963050</td>\n",
       "      <td>13.217573</td>\n",
       "      <td>0</td>\n",
       "    </tr>\n",
       "    <tr>\n",
       "      <th>2022-05-07</th>\n",
       "      <td>12.668301</td>\n",
       "      <td>8.831365</td>\n",
       "      <td>16.486287</td>\n",
       "      <td>14.511111</td>\n",
       "      <td>0</td>\n",
       "    </tr>\n",
       "    <tr>\n",
       "      <th>2022-05-08</th>\n",
       "      <td>10.356939</td>\n",
       "      <td>6.238693</td>\n",
       "      <td>14.397748</td>\n",
       "      <td>13.686806</td>\n",
       "      <td>0</td>\n",
       "    </tr>\n",
       "    <tr>\n",
       "      <th>2022-05-09</th>\n",
       "      <td>11.566111</td>\n",
       "      <td>7.540384</td>\n",
       "      <td>15.435195</td>\n",
       "      <td>13.878472</td>\n",
       "      <td>0</td>\n",
       "    </tr>\n",
       "    <tr>\n",
       "      <th>2022-05-10</th>\n",
       "      <td>13.161281</td>\n",
       "      <td>9.048116</td>\n",
       "      <td>17.000943</td>\n",
       "      <td>10.299514</td>\n",
       "      <td>0</td>\n",
       "    </tr>\n",
       "    <tr>\n",
       "      <th>2022-05-11</th>\n",
       "      <td>11.673628</td>\n",
       "      <td>7.533838</td>\n",
       "      <td>15.500849</td>\n",
       "      <td>10.430556</td>\n",
       "      <td>0</td>\n",
       "    </tr>\n",
       "    <tr>\n",
       "      <th>2022-05-12</th>\n",
       "      <td>10.959260</td>\n",
       "      <td>6.816343</td>\n",
       "      <td>14.978120</td>\n",
       "      <td>13.337266</td>\n",
       "      <td>0</td>\n",
       "    </tr>\n",
       "    <tr>\n",
       "      <th>2022-05-13</th>\n",
       "      <td>12.162639</td>\n",
       "      <td>7.805906</td>\n",
       "      <td>15.946637</td>\n",
       "      <td>16.961057</td>\n",
       "      <td>1</td>\n",
       "    </tr>\n",
       "    <tr>\n",
       "      <th>2022-05-14</th>\n",
       "      <td>11.027264</td>\n",
       "      <td>7.159503</td>\n",
       "      <td>15.289042</td>\n",
       "      <td>10.860125</td>\n",
       "      <td>0</td>\n",
       "    </tr>\n",
       "    <tr>\n",
       "      <th>2022-05-15</th>\n",
       "      <td>8.715902</td>\n",
       "      <td>4.583035</td>\n",
       "      <td>12.825189</td>\n",
       "      <td>10.702778</td>\n",
       "      <td>0</td>\n",
       "    </tr>\n",
       "    <tr>\n",
       "      <th>2022-05-16</th>\n",
       "      <td>9.925074</td>\n",
       "      <td>6.045972</td>\n",
       "      <td>14.135944</td>\n",
       "      <td>12.968728</td>\n",
       "      <td>0</td>\n",
       "    </tr>\n",
       "    <tr>\n",
       "      <th>2022-05-17</th>\n",
       "      <td>11.520245</td>\n",
       "      <td>7.534177</td>\n",
       "      <td>15.563675</td>\n",
       "      <td>15.097917</td>\n",
       "      <td>0</td>\n",
       "    </tr>\n",
       "    <tr>\n",
       "      <th>2022-05-18</th>\n",
       "      <td>10.032592</td>\n",
       "      <td>5.877753</td>\n",
       "      <td>13.916138</td>\n",
       "      <td>4.164583</td>\n",
       "      <td>1</td>\n",
       "    </tr>\n",
       "    <tr>\n",
       "      <th>2022-05-19</th>\n",
       "      <td>9.318223</td>\n",
       "      <td>4.976684</td>\n",
       "      <td>13.473266</td>\n",
       "      <td>4.411397</td>\n",
       "      <td>1</td>\n",
       "    </tr>\n",
       "    <tr>\n",
       "      <th>2022-05-20</th>\n",
       "      <td>10.521602</td>\n",
       "      <td>6.169235</td>\n",
       "      <td>14.751035</td>\n",
       "      <td>6.315753</td>\n",
       "      <td>0</td>\n",
       "    </tr>\n",
       "    <tr>\n",
       "      <th>2022-05-21</th>\n",
       "      <td>9.386227</td>\n",
       "      <td>5.097638</td>\n",
       "      <td>13.515250</td>\n",
       "      <td>7.715972</td>\n",
       "      <td>0</td>\n",
       "    </tr>\n",
       "    <tr>\n",
       "      <th>2022-05-22</th>\n",
       "      <td>7.074866</td>\n",
       "      <td>3.143295</td>\n",
       "      <td>10.958792</td>\n",
       "      <td>4.626129</td>\n",
       "      <td>0</td>\n",
       "    </tr>\n",
       "    <tr>\n",
       "      <th>2022-05-23</th>\n",
       "      <td>8.284037</td>\n",
       "      <td>4.255493</td>\n",
       "      <td>12.248301</td>\n",
       "      <td>6.012500</td>\n",
       "      <td>0</td>\n",
       "    </tr>\n",
       "    <tr>\n",
       "      <th>2022-05-24</th>\n",
       "      <td>9.879208</td>\n",
       "      <td>6.099793</td>\n",
       "      <td>13.790178</td>\n",
       "      <td>11.139777</td>\n",
       "      <td>0</td>\n",
       "    </tr>\n",
       "    <tr>\n",
       "      <th>2022-05-25</th>\n",
       "      <td>8.391555</td>\n",
       "      <td>4.265591</td>\n",
       "      <td>12.424462</td>\n",
       "      <td>15.414465</td>\n",
       "      <td>1</td>\n",
       "    </tr>\n",
       "    <tr>\n",
       "      <th>2022-05-26</th>\n",
       "      <td>7.677187</td>\n",
       "      <td>3.723431</td>\n",
       "      <td>11.770664</td>\n",
       "      <td>6.605556</td>\n",
       "      <td>0</td>\n",
       "    </tr>\n",
       "    <tr>\n",
       "      <th>2022-05-27</th>\n",
       "      <td>8.880566</td>\n",
       "      <td>4.857530</td>\n",
       "      <td>12.793772</td>\n",
       "      <td>7.048611</td>\n",
       "      <td>0</td>\n",
       "    </tr>\n",
       "    <tr>\n",
       "      <th>2022-05-28</th>\n",
       "      <td>7.745191</td>\n",
       "      <td>3.816478</td>\n",
       "      <td>11.993229</td>\n",
       "      <td>9.288194</td>\n",
       "      <td>0</td>\n",
       "    </tr>\n",
       "    <tr>\n",
       "      <th>2022-05-29</th>\n",
       "      <td>5.433829</td>\n",
       "      <td>1.439936</td>\n",
       "      <td>9.401554</td>\n",
       "      <td>5.781250</td>\n",
       "      <td>0</td>\n",
       "    </tr>\n",
       "    <tr>\n",
       "      <th>2022-05-30</th>\n",
       "      <td>6.643000</td>\n",
       "      <td>2.735135</td>\n",
       "      <td>10.616456</td>\n",
       "      <td>7.974306</td>\n",
       "      <td>0</td>\n",
       "    </tr>\n",
       "    <tr>\n",
       "      <th>2022-05-31</th>\n",
       "      <td>8.238171</td>\n",
       "      <td>4.153257</td>\n",
       "      <td>12.015736</td>\n",
       "      <td>11.398611</td>\n",
       "      <td>0</td>\n",
       "    </tr>\n",
       "  </tbody>\n",
       "</table>\n",
       "</div>"
      ],
      "text/plain": [
       "                 yhat  yhat_lower  yhat_upper          y  outlier_detected\n",
       "ds                                                                        \n",
       "2022-05-01  11.997976    7.840502   15.882593   9.133333                 0\n",
       "2022-05-02  13.207147    9.228000   17.244428  10.127689                 0\n",
       "2022-05-03  14.802318   10.748548   18.970358  12.832981                 0\n",
       "2022-05-04  13.314665    9.113521   17.138742  13.408419                 0\n",
       "2022-05-05  12.600297    8.919347   16.804979  16.205698                 0\n",
       "2022-05-06  13.803676    9.951107   17.963050  13.217573                 0\n",
       "2022-05-07  12.668301    8.831365   16.486287  14.511111                 0\n",
       "2022-05-08  10.356939    6.238693   14.397748  13.686806                 0\n",
       "2022-05-09  11.566111    7.540384   15.435195  13.878472                 0\n",
       "2022-05-10  13.161281    9.048116   17.000943  10.299514                 0\n",
       "2022-05-11  11.673628    7.533838   15.500849  10.430556                 0\n",
       "2022-05-12  10.959260    6.816343   14.978120  13.337266                 0\n",
       "2022-05-13  12.162639    7.805906   15.946637  16.961057                 1\n",
       "2022-05-14  11.027264    7.159503   15.289042  10.860125                 0\n",
       "2022-05-15   8.715902    4.583035   12.825189  10.702778                 0\n",
       "2022-05-16   9.925074    6.045972   14.135944  12.968728                 0\n",
       "2022-05-17  11.520245    7.534177   15.563675  15.097917                 0\n",
       "2022-05-18  10.032592    5.877753   13.916138   4.164583                 1\n",
       "2022-05-19   9.318223    4.976684   13.473266   4.411397                 1\n",
       "2022-05-20  10.521602    6.169235   14.751035   6.315753                 0\n",
       "2022-05-21   9.386227    5.097638   13.515250   7.715972                 0\n",
       "2022-05-22   7.074866    3.143295   10.958792   4.626129                 0\n",
       "2022-05-23   8.284037    4.255493   12.248301   6.012500                 0\n",
       "2022-05-24   9.879208    6.099793   13.790178  11.139777                 0\n",
       "2022-05-25   8.391555    4.265591   12.424462  15.414465                 1\n",
       "2022-05-26   7.677187    3.723431   11.770664   6.605556                 0\n",
       "2022-05-27   8.880566    4.857530   12.793772   7.048611                 0\n",
       "2022-05-28   7.745191    3.816478   11.993229   9.288194                 0\n",
       "2022-05-29   5.433829    1.439936    9.401554   5.781250                 0\n",
       "2022-05-30   6.643000    2.735135   10.616456   7.974306                 0\n",
       "2022-05-31   8.238171    4.153257   12.015736  11.398611                 0"
      ]
     },
     "execution_count": 25,
     "metadata": {},
     "output_type": "execute_result"
    }
   ],
   "source": [
    "# add new column with default value\n",
    "cmp_df['outlier_detected'] = 0\n",
    "for i in range(len(cmp_df)):\n",
    "    # detect outliers\n",
    "    if (cmp_df['y'][i] > cmp_df['yhat_upper'][i] or cmp_df['y'][i] < cmp_df['yhat_lower'][i]):\n",
    "        cmp_df['outlier_detected'][i] = 1\n",
    "    else:\n",
    "        cmp_df['outlier_detected'][i] = 0\n",
    "\n",
    "cmp_df"
   ]
  },
  {
   "cell_type": "code",
   "execution_count": 26,
   "metadata": {},
   "outputs": [
    {
     "data": {
      "application/vnd.plotly.v1+json": {
       "config": {
        "plotlyServerURL": "https://plot.ly"
       },
       "data": [
        {
         "line": {
          "color": "rgb(75,0,130)"
         },
         "marker": {
          "color": [
           "rgb(75,0,130)",
           "rgb(75,0,130)",
           "rgb(75,0,130)",
           "rgb(75,0,130)",
           "rgb(75,0,130)",
           "rgb(75,0,130)",
           "rgb(75,0,130)",
           "rgb(75,0,130)",
           "rgb(75,0,130)",
           "rgb(75,0,130)",
           "rgb(75,0,130)",
           "rgb(75,0,130)",
           "rgb(75,0,130)",
           "rgb(75,0,130)",
           "rgb(75,0,130)",
           "rgb(75,0,130)",
           "rgb(75,0,130)",
           "rgb(75,0,130)",
           "rgb(75,0,130)",
           "rgb(75,0,130)",
           "rgb(75,0,130)",
           "rgb(75,0,130)",
           "rgb(75,0,130)",
           "rgb(75,0,130)",
           "rgb(75,0,130)",
           "rgb(75,0,130)",
           "rgb(75,0,130)",
           "rgb(75,0,130)",
           "rgb(75,0,130)",
           "rgb(75,0,130)",
           "rgb(75,0,130)"
          ]
         },
         "mode": "lines+markers",
         "name": "y(actual value)",
         "type": "scatter",
         "x": [
          "2022-05-01T00:00:00",
          "2022-05-02T00:00:00",
          "2022-05-03T00:00:00",
          "2022-05-04T00:00:00",
          "2022-05-05T00:00:00",
          "2022-05-06T00:00:00",
          "2022-05-07T00:00:00",
          "2022-05-08T00:00:00",
          "2022-05-09T00:00:00",
          "2022-05-10T00:00:00",
          "2022-05-11T00:00:00",
          "2022-05-12T00:00:00",
          "2022-05-13T00:00:00",
          "2022-05-14T00:00:00",
          "2022-05-15T00:00:00",
          "2022-05-16T00:00:00",
          "2022-05-17T00:00:00",
          "2022-05-18T00:00:00",
          "2022-05-19T00:00:00",
          "2022-05-20T00:00:00",
          "2022-05-21T00:00:00",
          "2022-05-22T00:00:00",
          "2022-05-23T00:00:00",
          "2022-05-24T00:00:00",
          "2022-05-25T00:00:00",
          "2022-05-26T00:00:00",
          "2022-05-27T00:00:00",
          "2022-05-28T00:00:00",
          "2022-05-29T00:00:00",
          "2022-05-30T00:00:00",
          "2022-05-31T00:00:00"
         ],
         "y": [
          9.133333333333333,
          10.127689104788342,
          12.832980972515855,
          13.408419497784342,
          16.205698401667824,
          13.217573221757322,
          14.511111111111111,
          13.686805555555555,
          13.878472222222221,
          10.299513551077137,
          10.430555555555555,
          13.337265787647468,
          16.96105702364395,
          10.860125260960334,
          10.702777777777778,
          12.968728283530229,
          15.097916666666666,
          4.164583333333334,
          4.411396803335649,
          6.315752949340736,
          7.715972222222222,
          4.626129256428075,
          6.0125,
          11.139777468706537,
          15.414464534075105,
          6.605555555555555,
          7.048611111111111,
          9.288194444444445,
          5.78125,
          7.9743055555555555,
          11.39861111111111
         ]
        }
       ],
       "layout": {
        "showlegend": true,
        "template": {
         "data": {
          "bar": [
           {
            "error_x": {
             "color": "#2a3f5f"
            },
            "error_y": {
             "color": "#2a3f5f"
            },
            "marker": {
             "line": {
              "color": "#E5ECF6",
              "width": 0.5
             },
             "pattern": {
              "fillmode": "overlay",
              "size": 10,
              "solidity": 0.2
             }
            },
            "type": "bar"
           }
          ],
          "barpolar": [
           {
            "marker": {
             "line": {
              "color": "#E5ECF6",
              "width": 0.5
             },
             "pattern": {
              "fillmode": "overlay",
              "size": 10,
              "solidity": 0.2
             }
            },
            "type": "barpolar"
           }
          ],
          "carpet": [
           {
            "aaxis": {
             "endlinecolor": "#2a3f5f",
             "gridcolor": "white",
             "linecolor": "white",
             "minorgridcolor": "white",
             "startlinecolor": "#2a3f5f"
            },
            "baxis": {
             "endlinecolor": "#2a3f5f",
             "gridcolor": "white",
             "linecolor": "white",
             "minorgridcolor": "white",
             "startlinecolor": "#2a3f5f"
            },
            "type": "carpet"
           }
          ],
          "choropleth": [
           {
            "colorbar": {
             "outlinewidth": 0,
             "ticks": ""
            },
            "type": "choropleth"
           }
          ],
          "contour": [
           {
            "colorbar": {
             "outlinewidth": 0,
             "ticks": ""
            },
            "colorscale": [
             [
              0,
              "#0d0887"
             ],
             [
              0.1111111111111111,
              "#46039f"
             ],
             [
              0.2222222222222222,
              "#7201a8"
             ],
             [
              0.3333333333333333,
              "#9c179e"
             ],
             [
              0.4444444444444444,
              "#bd3786"
             ],
             [
              0.5555555555555556,
              "#d8576b"
             ],
             [
              0.6666666666666666,
              "#ed7953"
             ],
             [
              0.7777777777777778,
              "#fb9f3a"
             ],
             [
              0.8888888888888888,
              "#fdca26"
             ],
             [
              1,
              "#f0f921"
             ]
            ],
            "type": "contour"
           }
          ],
          "contourcarpet": [
           {
            "colorbar": {
             "outlinewidth": 0,
             "ticks": ""
            },
            "type": "contourcarpet"
           }
          ],
          "heatmap": [
           {
            "colorbar": {
             "outlinewidth": 0,
             "ticks": ""
            },
            "colorscale": [
             [
              0,
              "#0d0887"
             ],
             [
              0.1111111111111111,
              "#46039f"
             ],
             [
              0.2222222222222222,
              "#7201a8"
             ],
             [
              0.3333333333333333,
              "#9c179e"
             ],
             [
              0.4444444444444444,
              "#bd3786"
             ],
             [
              0.5555555555555556,
              "#d8576b"
             ],
             [
              0.6666666666666666,
              "#ed7953"
             ],
             [
              0.7777777777777778,
              "#fb9f3a"
             ],
             [
              0.8888888888888888,
              "#fdca26"
             ],
             [
              1,
              "#f0f921"
             ]
            ],
            "type": "heatmap"
           }
          ],
          "heatmapgl": [
           {
            "colorbar": {
             "outlinewidth": 0,
             "ticks": ""
            },
            "colorscale": [
             [
              0,
              "#0d0887"
             ],
             [
              0.1111111111111111,
              "#46039f"
             ],
             [
              0.2222222222222222,
              "#7201a8"
             ],
             [
              0.3333333333333333,
              "#9c179e"
             ],
             [
              0.4444444444444444,
              "#bd3786"
             ],
             [
              0.5555555555555556,
              "#d8576b"
             ],
             [
              0.6666666666666666,
              "#ed7953"
             ],
             [
              0.7777777777777778,
              "#fb9f3a"
             ],
             [
              0.8888888888888888,
              "#fdca26"
             ],
             [
              1,
              "#f0f921"
             ]
            ],
            "type": "heatmapgl"
           }
          ],
          "histogram": [
           {
            "marker": {
             "pattern": {
              "fillmode": "overlay",
              "size": 10,
              "solidity": 0.2
             }
            },
            "type": "histogram"
           }
          ],
          "histogram2d": [
           {
            "colorbar": {
             "outlinewidth": 0,
             "ticks": ""
            },
            "colorscale": [
             [
              0,
              "#0d0887"
             ],
             [
              0.1111111111111111,
              "#46039f"
             ],
             [
              0.2222222222222222,
              "#7201a8"
             ],
             [
              0.3333333333333333,
              "#9c179e"
             ],
             [
              0.4444444444444444,
              "#bd3786"
             ],
             [
              0.5555555555555556,
              "#d8576b"
             ],
             [
              0.6666666666666666,
              "#ed7953"
             ],
             [
              0.7777777777777778,
              "#fb9f3a"
             ],
             [
              0.8888888888888888,
              "#fdca26"
             ],
             [
              1,
              "#f0f921"
             ]
            ],
            "type": "histogram2d"
           }
          ],
          "histogram2dcontour": [
           {
            "colorbar": {
             "outlinewidth": 0,
             "ticks": ""
            },
            "colorscale": [
             [
              0,
              "#0d0887"
             ],
             [
              0.1111111111111111,
              "#46039f"
             ],
             [
              0.2222222222222222,
              "#7201a8"
             ],
             [
              0.3333333333333333,
              "#9c179e"
             ],
             [
              0.4444444444444444,
              "#bd3786"
             ],
             [
              0.5555555555555556,
              "#d8576b"
             ],
             [
              0.6666666666666666,
              "#ed7953"
             ],
             [
              0.7777777777777778,
              "#fb9f3a"
             ],
             [
              0.8888888888888888,
              "#fdca26"
             ],
             [
              1,
              "#f0f921"
             ]
            ],
            "type": "histogram2dcontour"
           }
          ],
          "mesh3d": [
           {
            "colorbar": {
             "outlinewidth": 0,
             "ticks": ""
            },
            "type": "mesh3d"
           }
          ],
          "parcoords": [
           {
            "line": {
             "colorbar": {
              "outlinewidth": 0,
              "ticks": ""
             }
            },
            "type": "parcoords"
           }
          ],
          "pie": [
           {
            "automargin": true,
            "type": "pie"
           }
          ],
          "scatter": [
           {
            "fillpattern": {
             "fillmode": "overlay",
             "size": 10,
             "solidity": 0.2
            },
            "type": "scatter"
           }
          ],
          "scatter3d": [
           {
            "line": {
             "colorbar": {
              "outlinewidth": 0,
              "ticks": ""
             }
            },
            "marker": {
             "colorbar": {
              "outlinewidth": 0,
              "ticks": ""
             }
            },
            "type": "scatter3d"
           }
          ],
          "scattercarpet": [
           {
            "marker": {
             "colorbar": {
              "outlinewidth": 0,
              "ticks": ""
             }
            },
            "type": "scattercarpet"
           }
          ],
          "scattergeo": [
           {
            "marker": {
             "colorbar": {
              "outlinewidth": 0,
              "ticks": ""
             }
            },
            "type": "scattergeo"
           }
          ],
          "scattergl": [
           {
            "marker": {
             "colorbar": {
              "outlinewidth": 0,
              "ticks": ""
             }
            },
            "type": "scattergl"
           }
          ],
          "scattermapbox": [
           {
            "marker": {
             "colorbar": {
              "outlinewidth": 0,
              "ticks": ""
             }
            },
            "type": "scattermapbox"
           }
          ],
          "scatterpolar": [
           {
            "marker": {
             "colorbar": {
              "outlinewidth": 0,
              "ticks": ""
             }
            },
            "type": "scatterpolar"
           }
          ],
          "scatterpolargl": [
           {
            "marker": {
             "colorbar": {
              "outlinewidth": 0,
              "ticks": ""
             }
            },
            "type": "scatterpolargl"
           }
          ],
          "scatterternary": [
           {
            "marker": {
             "colorbar": {
              "outlinewidth": 0,
              "ticks": ""
             }
            },
            "type": "scatterternary"
           }
          ],
          "surface": [
           {
            "colorbar": {
             "outlinewidth": 0,
             "ticks": ""
            },
            "colorscale": [
             [
              0,
              "#0d0887"
             ],
             [
              0.1111111111111111,
              "#46039f"
             ],
             [
              0.2222222222222222,
              "#7201a8"
             ],
             [
              0.3333333333333333,
              "#9c179e"
             ],
             [
              0.4444444444444444,
              "#bd3786"
             ],
             [
              0.5555555555555556,
              "#d8576b"
             ],
             [
              0.6666666666666666,
              "#ed7953"
             ],
             [
              0.7777777777777778,
              "#fb9f3a"
             ],
             [
              0.8888888888888888,
              "#fdca26"
             ],
             [
              1,
              "#f0f921"
             ]
            ],
            "type": "surface"
           }
          ],
          "table": [
           {
            "cells": {
             "fill": {
              "color": "#EBF0F8"
             },
             "line": {
              "color": "white"
             }
            },
            "header": {
             "fill": {
              "color": "#C8D4E3"
             },
             "line": {
              "color": "white"
             }
            },
            "type": "table"
           }
          ]
         },
         "layout": {
          "annotationdefaults": {
           "arrowcolor": "#2a3f5f",
           "arrowhead": 0,
           "arrowwidth": 1
          },
          "autotypenumbers": "strict",
          "coloraxis": {
           "colorbar": {
            "outlinewidth": 0,
            "ticks": ""
           }
          },
          "colorscale": {
           "diverging": [
            [
             0,
             "#8e0152"
            ],
            [
             0.1,
             "#c51b7d"
            ],
            [
             0.2,
             "#de77ae"
            ],
            [
             0.3,
             "#f1b6da"
            ],
            [
             0.4,
             "#fde0ef"
            ],
            [
             0.5,
             "#f7f7f7"
            ],
            [
             0.6,
             "#e6f5d0"
            ],
            [
             0.7,
             "#b8e186"
            ],
            [
             0.8,
             "#7fbc41"
            ],
            [
             0.9,
             "#4d9221"
            ],
            [
             1,
             "#276419"
            ]
           ],
           "sequential": [
            [
             0,
             "#0d0887"
            ],
            [
             0.1111111111111111,
             "#46039f"
            ],
            [
             0.2222222222222222,
             "#7201a8"
            ],
            [
             0.3333333333333333,
             "#9c179e"
            ],
            [
             0.4444444444444444,
             "#bd3786"
            ],
            [
             0.5555555555555556,
             "#d8576b"
            ],
            [
             0.6666666666666666,
             "#ed7953"
            ],
            [
             0.7777777777777778,
             "#fb9f3a"
            ],
            [
             0.8888888888888888,
             "#fdca26"
            ],
            [
             1,
             "#f0f921"
            ]
           ],
           "sequentialminus": [
            [
             0,
             "#0d0887"
            ],
            [
             0.1111111111111111,
             "#46039f"
            ],
            [
             0.2222222222222222,
             "#7201a8"
            ],
            [
             0.3333333333333333,
             "#9c179e"
            ],
            [
             0.4444444444444444,
             "#bd3786"
            ],
            [
             0.5555555555555556,
             "#d8576b"
            ],
            [
             0.6666666666666666,
             "#ed7953"
            ],
            [
             0.7777777777777778,
             "#fb9f3a"
            ],
            [
             0.8888888888888888,
             "#fdca26"
            ],
            [
             1,
             "#f0f921"
            ]
           ]
          },
          "colorway": [
           "#636efa",
           "#EF553B",
           "#00cc96",
           "#ab63fa",
           "#FFA15A",
           "#19d3f3",
           "#FF6692",
           "#B6E880",
           "#FF97FF",
           "#FECB52"
          ],
          "font": {
           "color": "#2a3f5f"
          },
          "geo": {
           "bgcolor": "white",
           "lakecolor": "white",
           "landcolor": "#E5ECF6",
           "showlakes": true,
           "showland": true,
           "subunitcolor": "white"
          },
          "hoverlabel": {
           "align": "left"
          },
          "hovermode": "closest",
          "mapbox": {
           "style": "light"
          },
          "paper_bgcolor": "white",
          "plot_bgcolor": "#E5ECF6",
          "polar": {
           "angularaxis": {
            "gridcolor": "white",
            "linecolor": "white",
            "ticks": ""
           },
           "bgcolor": "#E5ECF6",
           "radialaxis": {
            "gridcolor": "white",
            "linecolor": "white",
            "ticks": ""
           }
          },
          "scene": {
           "xaxis": {
            "backgroundcolor": "#E5ECF6",
            "gridcolor": "white",
            "gridwidth": 2,
            "linecolor": "white",
            "showbackground": true,
            "ticks": "",
            "zerolinecolor": "white"
           },
           "yaxis": {
            "backgroundcolor": "#E5ECF6",
            "gridcolor": "white",
            "gridwidth": 2,
            "linecolor": "white",
            "showbackground": true,
            "ticks": "",
            "zerolinecolor": "white"
           },
           "zaxis": {
            "backgroundcolor": "#E5ECF6",
            "gridcolor": "white",
            "gridwidth": 2,
            "linecolor": "white",
            "showbackground": true,
            "ticks": "",
            "zerolinecolor": "white"
           }
          },
          "shapedefaults": {
           "line": {
            "color": "#2a3f5f"
           }
          },
          "ternary": {
           "aaxis": {
            "gridcolor": "white",
            "linecolor": "white",
            "ticks": ""
           },
           "baxis": {
            "gridcolor": "white",
            "linecolor": "white",
            "ticks": ""
           },
           "bgcolor": "#E5ECF6",
           "caxis": {
            "gridcolor": "white",
            "linecolor": "white",
            "ticks": ""
           }
          },
          "title": {
           "x": 0.05
          },
          "xaxis": {
           "automargin": true,
           "gridcolor": "white",
           "linecolor": "white",
           "ticks": "",
           "title": {
            "standoff": 15
           },
           "zerolinecolor": "white",
           "zerolinewidth": 2
          },
          "yaxis": {
           "automargin": true,
           "gridcolor": "white",
           "linecolor": "white",
           "ticks": "",
           "title": {
            "standoff": 15
           },
           "zerolinecolor": "white",
           "zerolinewidth": 2
          }
         }
        },
        "title": {
         "text": "pm10 values for May 2022"
        },
        "xaxis": {
         "title": {
          "text": "Day"
         }
        },
        "yaxis": {
         "title": {
          "text": "pm10"
         }
        }
       }
      }
     },
     "metadata": {},
     "output_type": "display_data"
    }
   ],
   "source": [
    "# actual value\n",
    "fig_data = go.Figure()\n",
    "fig_data.add_trace(go.Scatter(\n",
    "    x=group_by_df['day'],\n",
    "    y=cmp_df['y'],\n",
    "    name='y(actual value)',\n",
    "    mode='lines+markers',\n",
    "    line=dict(\n",
    "        color='rgb(75,0,130)'),\n",
    "    marker=dict(color=np.where(cmp_df['outlier_detected'] == 1, 'rgb(75,0,130)', 'rgb(75,0,130)'))))\n",
    "\n",
    "fig_data.update_layout(title='pm10 values for May 2022', yaxis_title=sensor_name, xaxis_title='Day',\n",
    "                  showlegend=True)\n",
    "fig_data.show()"
   ]
  },
  {
   "cell_type": "code",
   "execution_count": 27,
   "metadata": {},
   "outputs": [],
   "source": [
    "# plot forecast with upper and lower bound\n",
    "fig = go.Figure()"
   ]
  },
  {
   "cell_type": "code",
   "execution_count": 28,
   "metadata": {},
   "outputs": [
    {
     "data": {
      "application/vnd.plotly.v1+json": {
       "config": {
        "plotlyServerURL": "https://plot.ly"
       },
       "data": [
        {
         "line": {
          "color": "rgb(95,158,160)"
         },
         "marker": {
          "color": "rgb(95,158,160)"
         },
         "mode": "lines+markers",
         "name": "yhat(predicted value)",
         "type": "scatter",
         "x": [
          "2022-05-01T00:00:00",
          "2022-05-02T00:00:00",
          "2022-05-03T00:00:00",
          "2022-05-04T00:00:00",
          "2022-05-05T00:00:00",
          "2022-05-06T00:00:00",
          "2022-05-07T00:00:00",
          "2022-05-08T00:00:00",
          "2022-05-09T00:00:00",
          "2022-05-10T00:00:00",
          "2022-05-11T00:00:00",
          "2022-05-12T00:00:00",
          "2022-05-13T00:00:00",
          "2022-05-14T00:00:00",
          "2022-05-15T00:00:00",
          "2022-05-16T00:00:00",
          "2022-05-17T00:00:00",
          "2022-05-18T00:00:00",
          "2022-05-19T00:00:00",
          "2022-05-20T00:00:00",
          "2022-05-21T00:00:00",
          "2022-05-22T00:00:00",
          "2022-05-23T00:00:00",
          "2022-05-24T00:00:00",
          "2022-05-25T00:00:00",
          "2022-05-26T00:00:00",
          "2022-05-27T00:00:00",
          "2022-05-28T00:00:00",
          "2022-05-29T00:00:00",
          "2022-05-30T00:00:00",
          "2022-05-31T00:00:00"
         ],
         "y": [
          11.99797581430209,
          13.207147473889886,
          14.802318080098367,
          13.314665163348455,
          12.600296894598019,
          13.803675924691449,
          12.668300889886558,
          10.35693913289267,
          11.566110763651565,
          13.16128133775733,
          11.673628408986703,
          10.959260140075795,
          12.16263917272337,
          11.027264156460253,
          8.71590242433738,
          9.925074078326446,
          11.520244655487982,
          10.03259170527218,
          9.318223415048232,
          10.521602432030159,
          9.386227382519987,
          7.074865614345244,
          8.284037240902947,
          9.879207805697433,
          8.391554860278628,
          7.67718656128038,
          8.880565562532725,
          7.745190513020123,
          5.433828744849041,
          6.643000371406733,
          8.238170936199399
         ]
        }
       ],
       "layout": {
        "showlegend": true,
        "template": {
         "data": {
          "bar": [
           {
            "error_x": {
             "color": "#2a3f5f"
            },
            "error_y": {
             "color": "#2a3f5f"
            },
            "marker": {
             "line": {
              "color": "#E5ECF6",
              "width": 0.5
             },
             "pattern": {
              "fillmode": "overlay",
              "size": 10,
              "solidity": 0.2
             }
            },
            "type": "bar"
           }
          ],
          "barpolar": [
           {
            "marker": {
             "line": {
              "color": "#E5ECF6",
              "width": 0.5
             },
             "pattern": {
              "fillmode": "overlay",
              "size": 10,
              "solidity": 0.2
             }
            },
            "type": "barpolar"
           }
          ],
          "carpet": [
           {
            "aaxis": {
             "endlinecolor": "#2a3f5f",
             "gridcolor": "white",
             "linecolor": "white",
             "minorgridcolor": "white",
             "startlinecolor": "#2a3f5f"
            },
            "baxis": {
             "endlinecolor": "#2a3f5f",
             "gridcolor": "white",
             "linecolor": "white",
             "minorgridcolor": "white",
             "startlinecolor": "#2a3f5f"
            },
            "type": "carpet"
           }
          ],
          "choropleth": [
           {
            "colorbar": {
             "outlinewidth": 0,
             "ticks": ""
            },
            "type": "choropleth"
           }
          ],
          "contour": [
           {
            "colorbar": {
             "outlinewidth": 0,
             "ticks": ""
            },
            "colorscale": [
             [
              0,
              "#0d0887"
             ],
             [
              0.1111111111111111,
              "#46039f"
             ],
             [
              0.2222222222222222,
              "#7201a8"
             ],
             [
              0.3333333333333333,
              "#9c179e"
             ],
             [
              0.4444444444444444,
              "#bd3786"
             ],
             [
              0.5555555555555556,
              "#d8576b"
             ],
             [
              0.6666666666666666,
              "#ed7953"
             ],
             [
              0.7777777777777778,
              "#fb9f3a"
             ],
             [
              0.8888888888888888,
              "#fdca26"
             ],
             [
              1,
              "#f0f921"
             ]
            ],
            "type": "contour"
           }
          ],
          "contourcarpet": [
           {
            "colorbar": {
             "outlinewidth": 0,
             "ticks": ""
            },
            "type": "contourcarpet"
           }
          ],
          "heatmap": [
           {
            "colorbar": {
             "outlinewidth": 0,
             "ticks": ""
            },
            "colorscale": [
             [
              0,
              "#0d0887"
             ],
             [
              0.1111111111111111,
              "#46039f"
             ],
             [
              0.2222222222222222,
              "#7201a8"
             ],
             [
              0.3333333333333333,
              "#9c179e"
             ],
             [
              0.4444444444444444,
              "#bd3786"
             ],
             [
              0.5555555555555556,
              "#d8576b"
             ],
             [
              0.6666666666666666,
              "#ed7953"
             ],
             [
              0.7777777777777778,
              "#fb9f3a"
             ],
             [
              0.8888888888888888,
              "#fdca26"
             ],
             [
              1,
              "#f0f921"
             ]
            ],
            "type": "heatmap"
           }
          ],
          "heatmapgl": [
           {
            "colorbar": {
             "outlinewidth": 0,
             "ticks": ""
            },
            "colorscale": [
             [
              0,
              "#0d0887"
             ],
             [
              0.1111111111111111,
              "#46039f"
             ],
             [
              0.2222222222222222,
              "#7201a8"
             ],
             [
              0.3333333333333333,
              "#9c179e"
             ],
             [
              0.4444444444444444,
              "#bd3786"
             ],
             [
              0.5555555555555556,
              "#d8576b"
             ],
             [
              0.6666666666666666,
              "#ed7953"
             ],
             [
              0.7777777777777778,
              "#fb9f3a"
             ],
             [
              0.8888888888888888,
              "#fdca26"
             ],
             [
              1,
              "#f0f921"
             ]
            ],
            "type": "heatmapgl"
           }
          ],
          "histogram": [
           {
            "marker": {
             "pattern": {
              "fillmode": "overlay",
              "size": 10,
              "solidity": 0.2
             }
            },
            "type": "histogram"
           }
          ],
          "histogram2d": [
           {
            "colorbar": {
             "outlinewidth": 0,
             "ticks": ""
            },
            "colorscale": [
             [
              0,
              "#0d0887"
             ],
             [
              0.1111111111111111,
              "#46039f"
             ],
             [
              0.2222222222222222,
              "#7201a8"
             ],
             [
              0.3333333333333333,
              "#9c179e"
             ],
             [
              0.4444444444444444,
              "#bd3786"
             ],
             [
              0.5555555555555556,
              "#d8576b"
             ],
             [
              0.6666666666666666,
              "#ed7953"
             ],
             [
              0.7777777777777778,
              "#fb9f3a"
             ],
             [
              0.8888888888888888,
              "#fdca26"
             ],
             [
              1,
              "#f0f921"
             ]
            ],
            "type": "histogram2d"
           }
          ],
          "histogram2dcontour": [
           {
            "colorbar": {
             "outlinewidth": 0,
             "ticks": ""
            },
            "colorscale": [
             [
              0,
              "#0d0887"
             ],
             [
              0.1111111111111111,
              "#46039f"
             ],
             [
              0.2222222222222222,
              "#7201a8"
             ],
             [
              0.3333333333333333,
              "#9c179e"
             ],
             [
              0.4444444444444444,
              "#bd3786"
             ],
             [
              0.5555555555555556,
              "#d8576b"
             ],
             [
              0.6666666666666666,
              "#ed7953"
             ],
             [
              0.7777777777777778,
              "#fb9f3a"
             ],
             [
              0.8888888888888888,
              "#fdca26"
             ],
             [
              1,
              "#f0f921"
             ]
            ],
            "type": "histogram2dcontour"
           }
          ],
          "mesh3d": [
           {
            "colorbar": {
             "outlinewidth": 0,
             "ticks": ""
            },
            "type": "mesh3d"
           }
          ],
          "parcoords": [
           {
            "line": {
             "colorbar": {
              "outlinewidth": 0,
              "ticks": ""
             }
            },
            "type": "parcoords"
           }
          ],
          "pie": [
           {
            "automargin": true,
            "type": "pie"
           }
          ],
          "scatter": [
           {
            "fillpattern": {
             "fillmode": "overlay",
             "size": 10,
             "solidity": 0.2
            },
            "type": "scatter"
           }
          ],
          "scatter3d": [
           {
            "line": {
             "colorbar": {
              "outlinewidth": 0,
              "ticks": ""
             }
            },
            "marker": {
             "colorbar": {
              "outlinewidth": 0,
              "ticks": ""
             }
            },
            "type": "scatter3d"
           }
          ],
          "scattercarpet": [
           {
            "marker": {
             "colorbar": {
              "outlinewidth": 0,
              "ticks": ""
             }
            },
            "type": "scattercarpet"
           }
          ],
          "scattergeo": [
           {
            "marker": {
             "colorbar": {
              "outlinewidth": 0,
              "ticks": ""
             }
            },
            "type": "scattergeo"
           }
          ],
          "scattergl": [
           {
            "marker": {
             "colorbar": {
              "outlinewidth": 0,
              "ticks": ""
             }
            },
            "type": "scattergl"
           }
          ],
          "scattermapbox": [
           {
            "marker": {
             "colorbar": {
              "outlinewidth": 0,
              "ticks": ""
             }
            },
            "type": "scattermapbox"
           }
          ],
          "scatterpolar": [
           {
            "marker": {
             "colorbar": {
              "outlinewidth": 0,
              "ticks": ""
             }
            },
            "type": "scatterpolar"
           }
          ],
          "scatterpolargl": [
           {
            "marker": {
             "colorbar": {
              "outlinewidth": 0,
              "ticks": ""
             }
            },
            "type": "scatterpolargl"
           }
          ],
          "scatterternary": [
           {
            "marker": {
             "colorbar": {
              "outlinewidth": 0,
              "ticks": ""
             }
            },
            "type": "scatterternary"
           }
          ],
          "surface": [
           {
            "colorbar": {
             "outlinewidth": 0,
             "ticks": ""
            },
            "colorscale": [
             [
              0,
              "#0d0887"
             ],
             [
              0.1111111111111111,
              "#46039f"
             ],
             [
              0.2222222222222222,
              "#7201a8"
             ],
             [
              0.3333333333333333,
              "#9c179e"
             ],
             [
              0.4444444444444444,
              "#bd3786"
             ],
             [
              0.5555555555555556,
              "#d8576b"
             ],
             [
              0.6666666666666666,
              "#ed7953"
             ],
             [
              0.7777777777777778,
              "#fb9f3a"
             ],
             [
              0.8888888888888888,
              "#fdca26"
             ],
             [
              1,
              "#f0f921"
             ]
            ],
            "type": "surface"
           }
          ],
          "table": [
           {
            "cells": {
             "fill": {
              "color": "#EBF0F8"
             },
             "line": {
              "color": "white"
             }
            },
            "header": {
             "fill": {
              "color": "#C8D4E3"
             },
             "line": {
              "color": "white"
             }
            },
            "type": "table"
           }
          ]
         },
         "layout": {
          "annotationdefaults": {
           "arrowcolor": "#2a3f5f",
           "arrowhead": 0,
           "arrowwidth": 1
          },
          "autotypenumbers": "strict",
          "coloraxis": {
           "colorbar": {
            "outlinewidth": 0,
            "ticks": ""
           }
          },
          "colorscale": {
           "diverging": [
            [
             0,
             "#8e0152"
            ],
            [
             0.1,
             "#c51b7d"
            ],
            [
             0.2,
             "#de77ae"
            ],
            [
             0.3,
             "#f1b6da"
            ],
            [
             0.4,
             "#fde0ef"
            ],
            [
             0.5,
             "#f7f7f7"
            ],
            [
             0.6,
             "#e6f5d0"
            ],
            [
             0.7,
             "#b8e186"
            ],
            [
             0.8,
             "#7fbc41"
            ],
            [
             0.9,
             "#4d9221"
            ],
            [
             1,
             "#276419"
            ]
           ],
           "sequential": [
            [
             0,
             "#0d0887"
            ],
            [
             0.1111111111111111,
             "#46039f"
            ],
            [
             0.2222222222222222,
             "#7201a8"
            ],
            [
             0.3333333333333333,
             "#9c179e"
            ],
            [
             0.4444444444444444,
             "#bd3786"
            ],
            [
             0.5555555555555556,
             "#d8576b"
            ],
            [
             0.6666666666666666,
             "#ed7953"
            ],
            [
             0.7777777777777778,
             "#fb9f3a"
            ],
            [
             0.8888888888888888,
             "#fdca26"
            ],
            [
             1,
             "#f0f921"
            ]
           ],
           "sequentialminus": [
            [
             0,
             "#0d0887"
            ],
            [
             0.1111111111111111,
             "#46039f"
            ],
            [
             0.2222222222222222,
             "#7201a8"
            ],
            [
             0.3333333333333333,
             "#9c179e"
            ],
            [
             0.4444444444444444,
             "#bd3786"
            ],
            [
             0.5555555555555556,
             "#d8576b"
            ],
            [
             0.6666666666666666,
             "#ed7953"
            ],
            [
             0.7777777777777778,
             "#fb9f3a"
            ],
            [
             0.8888888888888888,
             "#fdca26"
            ],
            [
             1,
             "#f0f921"
            ]
           ]
          },
          "colorway": [
           "#636efa",
           "#EF553B",
           "#00cc96",
           "#ab63fa",
           "#FFA15A",
           "#19d3f3",
           "#FF6692",
           "#B6E880",
           "#FF97FF",
           "#FECB52"
          ],
          "font": {
           "color": "#2a3f5f"
          },
          "geo": {
           "bgcolor": "white",
           "lakecolor": "white",
           "landcolor": "#E5ECF6",
           "showlakes": true,
           "showland": true,
           "subunitcolor": "white"
          },
          "hoverlabel": {
           "align": "left"
          },
          "hovermode": "closest",
          "mapbox": {
           "style": "light"
          },
          "paper_bgcolor": "white",
          "plot_bgcolor": "#E5ECF6",
          "polar": {
           "angularaxis": {
            "gridcolor": "white",
            "linecolor": "white",
            "ticks": ""
           },
           "bgcolor": "#E5ECF6",
           "radialaxis": {
            "gridcolor": "white",
            "linecolor": "white",
            "ticks": ""
           }
          },
          "scene": {
           "xaxis": {
            "backgroundcolor": "#E5ECF6",
            "gridcolor": "white",
            "gridwidth": 2,
            "linecolor": "white",
            "showbackground": true,
            "ticks": "",
            "zerolinecolor": "white"
           },
           "yaxis": {
            "backgroundcolor": "#E5ECF6",
            "gridcolor": "white",
            "gridwidth": 2,
            "linecolor": "white",
            "showbackground": true,
            "ticks": "",
            "zerolinecolor": "white"
           },
           "zaxis": {
            "backgroundcolor": "#E5ECF6",
            "gridcolor": "white",
            "gridwidth": 2,
            "linecolor": "white",
            "showbackground": true,
            "ticks": "",
            "zerolinecolor": "white"
           }
          },
          "shapedefaults": {
           "line": {
            "color": "#2a3f5f"
           }
          },
          "ternary": {
           "aaxis": {
            "gridcolor": "white",
            "linecolor": "white",
            "ticks": ""
           },
           "baxis": {
            "gridcolor": "white",
            "linecolor": "white",
            "ticks": ""
           },
           "bgcolor": "#E5ECF6",
           "caxis": {
            "gridcolor": "white",
            "linecolor": "white",
            "ticks": ""
           }
          },
          "title": {
           "x": 0.05
          },
          "xaxis": {
           "automargin": true,
           "gridcolor": "white",
           "linecolor": "white",
           "ticks": "",
           "title": {
            "standoff": 15
           },
           "zerolinecolor": "white",
           "zerolinewidth": 2
          },
          "yaxis": {
           "automargin": true,
           "gridcolor": "white",
           "linecolor": "white",
           "ticks": "",
           "title": {
            "standoff": 15
           },
           "zerolinecolor": "white",
           "zerolinewidth": 2
          }
         }
        },
        "title": {
         "text": "pm10 values for May 2022"
        },
        "xaxis": {
         "title": {
          "text": "Day"
         }
        },
        "yaxis": {
         "title": {
          "text": "pm10"
         }
        }
       }
      }
     },
     "metadata": {},
     "output_type": "display_data"
    }
   ],
   "source": [
    "# predicted value\n",
    "fig.add_trace(go.Scatter(\n",
    "    x=group_by_df['day'],\n",
    "    y=cmp_df['yhat'],\n",
    "    name='yhat(predicted value)',\n",
    "    mode='lines+markers',\n",
    "    line=dict(\n",
    "        color='rgb(95,158,160)'),\n",
    "    marker=dict(\n",
    "        color='rgb(95,158,160)')\n",
    "))\n",
    "\n",
    "fig.update_layout(title='pm10 values for May 2022', yaxis_title=sensor_name, xaxis_title='Day',\n",
    "                  showlegend=True)\n",
    "fig.show()"
   ]
  },
  {
   "cell_type": "code",
   "execution_count": 29,
   "metadata": {},
   "outputs": [
    {
     "data": {
      "application/vnd.plotly.v1+json": {
       "config": {
        "plotlyServerURL": "https://plot.ly"
       },
       "data": [
        {
         "line": {
          "color": "rgb(95,158,160)"
         },
         "marker": {
          "color": "rgb(95,158,160)"
         },
         "mode": "lines+markers",
         "name": "yhat(predicted value)",
         "type": "scatter",
         "x": [
          "2022-05-01T00:00:00",
          "2022-05-02T00:00:00",
          "2022-05-03T00:00:00",
          "2022-05-04T00:00:00",
          "2022-05-05T00:00:00",
          "2022-05-06T00:00:00",
          "2022-05-07T00:00:00",
          "2022-05-08T00:00:00",
          "2022-05-09T00:00:00",
          "2022-05-10T00:00:00",
          "2022-05-11T00:00:00",
          "2022-05-12T00:00:00",
          "2022-05-13T00:00:00",
          "2022-05-14T00:00:00",
          "2022-05-15T00:00:00",
          "2022-05-16T00:00:00",
          "2022-05-17T00:00:00",
          "2022-05-18T00:00:00",
          "2022-05-19T00:00:00",
          "2022-05-20T00:00:00",
          "2022-05-21T00:00:00",
          "2022-05-22T00:00:00",
          "2022-05-23T00:00:00",
          "2022-05-24T00:00:00",
          "2022-05-25T00:00:00",
          "2022-05-26T00:00:00",
          "2022-05-27T00:00:00",
          "2022-05-28T00:00:00",
          "2022-05-29T00:00:00",
          "2022-05-30T00:00:00",
          "2022-05-31T00:00:00"
         ],
         "y": [
          11.99797581430209,
          13.207147473889886,
          14.802318080098367,
          13.314665163348455,
          12.600296894598019,
          13.803675924691449,
          12.668300889886558,
          10.35693913289267,
          11.566110763651565,
          13.16128133775733,
          11.673628408986703,
          10.959260140075795,
          12.16263917272337,
          11.027264156460253,
          8.71590242433738,
          9.925074078326446,
          11.520244655487982,
          10.03259170527218,
          9.318223415048232,
          10.521602432030159,
          9.386227382519987,
          7.074865614345244,
          8.284037240902947,
          9.879207805697433,
          8.391554860278628,
          7.67718656128038,
          8.880565562532725,
          7.745190513020123,
          5.433828744849041,
          6.643000371406733,
          8.238170936199399
         ]
        },
        {
         "line": {
          "color": "rgb(75,0,130)"
         },
         "marker": {
          "color": [
           "rgb(75,0,130)",
           "rgb(75,0,130)",
           "rgb(75,0,130)",
           "rgb(75,0,130)",
           "rgb(75,0,130)",
           "rgb(75,0,130)",
           "rgb(75,0,130)",
           "rgb(75,0,130)",
           "rgb(75,0,130)",
           "rgb(75,0,130)",
           "rgb(75,0,130)",
           "rgb(75,0,130)",
           "red",
           "rgb(75,0,130)",
           "rgb(75,0,130)",
           "rgb(75,0,130)",
           "rgb(75,0,130)",
           "red",
           "red",
           "rgb(75,0,130)",
           "rgb(75,0,130)",
           "rgb(75,0,130)",
           "rgb(75,0,130)",
           "rgb(75,0,130)",
           "red",
           "rgb(75,0,130)",
           "rgb(75,0,130)",
           "rgb(75,0,130)",
           "rgb(75,0,130)",
           "rgb(75,0,130)",
           "rgb(75,0,130)"
          ]
         },
         "mode": "lines+markers",
         "name": "y(actual value)",
         "type": "scatter",
         "x": [
          "2022-05-01T00:00:00",
          "2022-05-02T00:00:00",
          "2022-05-03T00:00:00",
          "2022-05-04T00:00:00",
          "2022-05-05T00:00:00",
          "2022-05-06T00:00:00",
          "2022-05-07T00:00:00",
          "2022-05-08T00:00:00",
          "2022-05-09T00:00:00",
          "2022-05-10T00:00:00",
          "2022-05-11T00:00:00",
          "2022-05-12T00:00:00",
          "2022-05-13T00:00:00",
          "2022-05-14T00:00:00",
          "2022-05-15T00:00:00",
          "2022-05-16T00:00:00",
          "2022-05-17T00:00:00",
          "2022-05-18T00:00:00",
          "2022-05-19T00:00:00",
          "2022-05-20T00:00:00",
          "2022-05-21T00:00:00",
          "2022-05-22T00:00:00",
          "2022-05-23T00:00:00",
          "2022-05-24T00:00:00",
          "2022-05-25T00:00:00",
          "2022-05-26T00:00:00",
          "2022-05-27T00:00:00",
          "2022-05-28T00:00:00",
          "2022-05-29T00:00:00",
          "2022-05-30T00:00:00",
          "2022-05-31T00:00:00"
         ],
         "y": [
          9.133333333333333,
          10.127689104788342,
          12.832980972515855,
          13.408419497784342,
          16.205698401667824,
          13.217573221757322,
          14.511111111111111,
          13.686805555555555,
          13.878472222222221,
          10.299513551077137,
          10.430555555555555,
          13.337265787647468,
          16.96105702364395,
          10.860125260960334,
          10.702777777777778,
          12.968728283530229,
          15.097916666666666,
          4.164583333333334,
          4.411396803335649,
          6.315752949340736,
          7.715972222222222,
          4.626129256428075,
          6.0125,
          11.139777468706537,
          15.414464534075105,
          6.605555555555555,
          7.048611111111111,
          9.288194444444445,
          5.78125,
          7.9743055555555555,
          11.39861111111111
         ]
        }
       ],
       "layout": {
        "showlegend": true,
        "template": {
         "data": {
          "bar": [
           {
            "error_x": {
             "color": "#2a3f5f"
            },
            "error_y": {
             "color": "#2a3f5f"
            },
            "marker": {
             "line": {
              "color": "#E5ECF6",
              "width": 0.5
             },
             "pattern": {
              "fillmode": "overlay",
              "size": 10,
              "solidity": 0.2
             }
            },
            "type": "bar"
           }
          ],
          "barpolar": [
           {
            "marker": {
             "line": {
              "color": "#E5ECF6",
              "width": 0.5
             },
             "pattern": {
              "fillmode": "overlay",
              "size": 10,
              "solidity": 0.2
             }
            },
            "type": "barpolar"
           }
          ],
          "carpet": [
           {
            "aaxis": {
             "endlinecolor": "#2a3f5f",
             "gridcolor": "white",
             "linecolor": "white",
             "minorgridcolor": "white",
             "startlinecolor": "#2a3f5f"
            },
            "baxis": {
             "endlinecolor": "#2a3f5f",
             "gridcolor": "white",
             "linecolor": "white",
             "minorgridcolor": "white",
             "startlinecolor": "#2a3f5f"
            },
            "type": "carpet"
           }
          ],
          "choropleth": [
           {
            "colorbar": {
             "outlinewidth": 0,
             "ticks": ""
            },
            "type": "choropleth"
           }
          ],
          "contour": [
           {
            "colorbar": {
             "outlinewidth": 0,
             "ticks": ""
            },
            "colorscale": [
             [
              0,
              "#0d0887"
             ],
             [
              0.1111111111111111,
              "#46039f"
             ],
             [
              0.2222222222222222,
              "#7201a8"
             ],
             [
              0.3333333333333333,
              "#9c179e"
             ],
             [
              0.4444444444444444,
              "#bd3786"
             ],
             [
              0.5555555555555556,
              "#d8576b"
             ],
             [
              0.6666666666666666,
              "#ed7953"
             ],
             [
              0.7777777777777778,
              "#fb9f3a"
             ],
             [
              0.8888888888888888,
              "#fdca26"
             ],
             [
              1,
              "#f0f921"
             ]
            ],
            "type": "contour"
           }
          ],
          "contourcarpet": [
           {
            "colorbar": {
             "outlinewidth": 0,
             "ticks": ""
            },
            "type": "contourcarpet"
           }
          ],
          "heatmap": [
           {
            "colorbar": {
             "outlinewidth": 0,
             "ticks": ""
            },
            "colorscale": [
             [
              0,
              "#0d0887"
             ],
             [
              0.1111111111111111,
              "#46039f"
             ],
             [
              0.2222222222222222,
              "#7201a8"
             ],
             [
              0.3333333333333333,
              "#9c179e"
             ],
             [
              0.4444444444444444,
              "#bd3786"
             ],
             [
              0.5555555555555556,
              "#d8576b"
             ],
             [
              0.6666666666666666,
              "#ed7953"
             ],
             [
              0.7777777777777778,
              "#fb9f3a"
             ],
             [
              0.8888888888888888,
              "#fdca26"
             ],
             [
              1,
              "#f0f921"
             ]
            ],
            "type": "heatmap"
           }
          ],
          "heatmapgl": [
           {
            "colorbar": {
             "outlinewidth": 0,
             "ticks": ""
            },
            "colorscale": [
             [
              0,
              "#0d0887"
             ],
             [
              0.1111111111111111,
              "#46039f"
             ],
             [
              0.2222222222222222,
              "#7201a8"
             ],
             [
              0.3333333333333333,
              "#9c179e"
             ],
             [
              0.4444444444444444,
              "#bd3786"
             ],
             [
              0.5555555555555556,
              "#d8576b"
             ],
             [
              0.6666666666666666,
              "#ed7953"
             ],
             [
              0.7777777777777778,
              "#fb9f3a"
             ],
             [
              0.8888888888888888,
              "#fdca26"
             ],
             [
              1,
              "#f0f921"
             ]
            ],
            "type": "heatmapgl"
           }
          ],
          "histogram": [
           {
            "marker": {
             "pattern": {
              "fillmode": "overlay",
              "size": 10,
              "solidity": 0.2
             }
            },
            "type": "histogram"
           }
          ],
          "histogram2d": [
           {
            "colorbar": {
             "outlinewidth": 0,
             "ticks": ""
            },
            "colorscale": [
             [
              0,
              "#0d0887"
             ],
             [
              0.1111111111111111,
              "#46039f"
             ],
             [
              0.2222222222222222,
              "#7201a8"
             ],
             [
              0.3333333333333333,
              "#9c179e"
             ],
             [
              0.4444444444444444,
              "#bd3786"
             ],
             [
              0.5555555555555556,
              "#d8576b"
             ],
             [
              0.6666666666666666,
              "#ed7953"
             ],
             [
              0.7777777777777778,
              "#fb9f3a"
             ],
             [
              0.8888888888888888,
              "#fdca26"
             ],
             [
              1,
              "#f0f921"
             ]
            ],
            "type": "histogram2d"
           }
          ],
          "histogram2dcontour": [
           {
            "colorbar": {
             "outlinewidth": 0,
             "ticks": ""
            },
            "colorscale": [
             [
              0,
              "#0d0887"
             ],
             [
              0.1111111111111111,
              "#46039f"
             ],
             [
              0.2222222222222222,
              "#7201a8"
             ],
             [
              0.3333333333333333,
              "#9c179e"
             ],
             [
              0.4444444444444444,
              "#bd3786"
             ],
             [
              0.5555555555555556,
              "#d8576b"
             ],
             [
              0.6666666666666666,
              "#ed7953"
             ],
             [
              0.7777777777777778,
              "#fb9f3a"
             ],
             [
              0.8888888888888888,
              "#fdca26"
             ],
             [
              1,
              "#f0f921"
             ]
            ],
            "type": "histogram2dcontour"
           }
          ],
          "mesh3d": [
           {
            "colorbar": {
             "outlinewidth": 0,
             "ticks": ""
            },
            "type": "mesh3d"
           }
          ],
          "parcoords": [
           {
            "line": {
             "colorbar": {
              "outlinewidth": 0,
              "ticks": ""
             }
            },
            "type": "parcoords"
           }
          ],
          "pie": [
           {
            "automargin": true,
            "type": "pie"
           }
          ],
          "scatter": [
           {
            "fillpattern": {
             "fillmode": "overlay",
             "size": 10,
             "solidity": 0.2
            },
            "type": "scatter"
           }
          ],
          "scatter3d": [
           {
            "line": {
             "colorbar": {
              "outlinewidth": 0,
              "ticks": ""
             }
            },
            "marker": {
             "colorbar": {
              "outlinewidth": 0,
              "ticks": ""
             }
            },
            "type": "scatter3d"
           }
          ],
          "scattercarpet": [
           {
            "marker": {
             "colorbar": {
              "outlinewidth": 0,
              "ticks": ""
             }
            },
            "type": "scattercarpet"
           }
          ],
          "scattergeo": [
           {
            "marker": {
             "colorbar": {
              "outlinewidth": 0,
              "ticks": ""
             }
            },
            "type": "scattergeo"
           }
          ],
          "scattergl": [
           {
            "marker": {
             "colorbar": {
              "outlinewidth": 0,
              "ticks": ""
             }
            },
            "type": "scattergl"
           }
          ],
          "scattermapbox": [
           {
            "marker": {
             "colorbar": {
              "outlinewidth": 0,
              "ticks": ""
             }
            },
            "type": "scattermapbox"
           }
          ],
          "scatterpolar": [
           {
            "marker": {
             "colorbar": {
              "outlinewidth": 0,
              "ticks": ""
             }
            },
            "type": "scatterpolar"
           }
          ],
          "scatterpolargl": [
           {
            "marker": {
             "colorbar": {
              "outlinewidth": 0,
              "ticks": ""
             }
            },
            "type": "scatterpolargl"
           }
          ],
          "scatterternary": [
           {
            "marker": {
             "colorbar": {
              "outlinewidth": 0,
              "ticks": ""
             }
            },
            "type": "scatterternary"
           }
          ],
          "surface": [
           {
            "colorbar": {
             "outlinewidth": 0,
             "ticks": ""
            },
            "colorscale": [
             [
              0,
              "#0d0887"
             ],
             [
              0.1111111111111111,
              "#46039f"
             ],
             [
              0.2222222222222222,
              "#7201a8"
             ],
             [
              0.3333333333333333,
              "#9c179e"
             ],
             [
              0.4444444444444444,
              "#bd3786"
             ],
             [
              0.5555555555555556,
              "#d8576b"
             ],
             [
              0.6666666666666666,
              "#ed7953"
             ],
             [
              0.7777777777777778,
              "#fb9f3a"
             ],
             [
              0.8888888888888888,
              "#fdca26"
             ],
             [
              1,
              "#f0f921"
             ]
            ],
            "type": "surface"
           }
          ],
          "table": [
           {
            "cells": {
             "fill": {
              "color": "#EBF0F8"
             },
             "line": {
              "color": "white"
             }
            },
            "header": {
             "fill": {
              "color": "#C8D4E3"
             },
             "line": {
              "color": "white"
             }
            },
            "type": "table"
           }
          ]
         },
         "layout": {
          "annotationdefaults": {
           "arrowcolor": "#2a3f5f",
           "arrowhead": 0,
           "arrowwidth": 1
          },
          "autotypenumbers": "strict",
          "coloraxis": {
           "colorbar": {
            "outlinewidth": 0,
            "ticks": ""
           }
          },
          "colorscale": {
           "diverging": [
            [
             0,
             "#8e0152"
            ],
            [
             0.1,
             "#c51b7d"
            ],
            [
             0.2,
             "#de77ae"
            ],
            [
             0.3,
             "#f1b6da"
            ],
            [
             0.4,
             "#fde0ef"
            ],
            [
             0.5,
             "#f7f7f7"
            ],
            [
             0.6,
             "#e6f5d0"
            ],
            [
             0.7,
             "#b8e186"
            ],
            [
             0.8,
             "#7fbc41"
            ],
            [
             0.9,
             "#4d9221"
            ],
            [
             1,
             "#276419"
            ]
           ],
           "sequential": [
            [
             0,
             "#0d0887"
            ],
            [
             0.1111111111111111,
             "#46039f"
            ],
            [
             0.2222222222222222,
             "#7201a8"
            ],
            [
             0.3333333333333333,
             "#9c179e"
            ],
            [
             0.4444444444444444,
             "#bd3786"
            ],
            [
             0.5555555555555556,
             "#d8576b"
            ],
            [
             0.6666666666666666,
             "#ed7953"
            ],
            [
             0.7777777777777778,
             "#fb9f3a"
            ],
            [
             0.8888888888888888,
             "#fdca26"
            ],
            [
             1,
             "#f0f921"
            ]
           ],
           "sequentialminus": [
            [
             0,
             "#0d0887"
            ],
            [
             0.1111111111111111,
             "#46039f"
            ],
            [
             0.2222222222222222,
             "#7201a8"
            ],
            [
             0.3333333333333333,
             "#9c179e"
            ],
            [
             0.4444444444444444,
             "#bd3786"
            ],
            [
             0.5555555555555556,
             "#d8576b"
            ],
            [
             0.6666666666666666,
             "#ed7953"
            ],
            [
             0.7777777777777778,
             "#fb9f3a"
            ],
            [
             0.8888888888888888,
             "#fdca26"
            ],
            [
             1,
             "#f0f921"
            ]
           ]
          },
          "colorway": [
           "#636efa",
           "#EF553B",
           "#00cc96",
           "#ab63fa",
           "#FFA15A",
           "#19d3f3",
           "#FF6692",
           "#B6E880",
           "#FF97FF",
           "#FECB52"
          ],
          "font": {
           "color": "#2a3f5f"
          },
          "geo": {
           "bgcolor": "white",
           "lakecolor": "white",
           "landcolor": "#E5ECF6",
           "showlakes": true,
           "showland": true,
           "subunitcolor": "white"
          },
          "hoverlabel": {
           "align": "left"
          },
          "hovermode": "closest",
          "mapbox": {
           "style": "light"
          },
          "paper_bgcolor": "white",
          "plot_bgcolor": "#E5ECF6",
          "polar": {
           "angularaxis": {
            "gridcolor": "white",
            "linecolor": "white",
            "ticks": ""
           },
           "bgcolor": "#E5ECF6",
           "radialaxis": {
            "gridcolor": "white",
            "linecolor": "white",
            "ticks": ""
           }
          },
          "scene": {
           "xaxis": {
            "backgroundcolor": "#E5ECF6",
            "gridcolor": "white",
            "gridwidth": 2,
            "linecolor": "white",
            "showbackground": true,
            "ticks": "",
            "zerolinecolor": "white"
           },
           "yaxis": {
            "backgroundcolor": "#E5ECF6",
            "gridcolor": "white",
            "gridwidth": 2,
            "linecolor": "white",
            "showbackground": true,
            "ticks": "",
            "zerolinecolor": "white"
           },
           "zaxis": {
            "backgroundcolor": "#E5ECF6",
            "gridcolor": "white",
            "gridwidth": 2,
            "linecolor": "white",
            "showbackground": true,
            "ticks": "",
            "zerolinecolor": "white"
           }
          },
          "shapedefaults": {
           "line": {
            "color": "#2a3f5f"
           }
          },
          "ternary": {
           "aaxis": {
            "gridcolor": "white",
            "linecolor": "white",
            "ticks": ""
           },
           "baxis": {
            "gridcolor": "white",
            "linecolor": "white",
            "ticks": ""
           },
           "bgcolor": "#E5ECF6",
           "caxis": {
            "gridcolor": "white",
            "linecolor": "white",
            "ticks": ""
           }
          },
          "title": {
           "x": 0.05
          },
          "xaxis": {
           "automargin": true,
           "gridcolor": "white",
           "linecolor": "white",
           "ticks": "",
           "title": {
            "standoff": 15
           },
           "zerolinecolor": "white",
           "zerolinewidth": 2
          },
          "yaxis": {
           "automargin": true,
           "gridcolor": "white",
           "linecolor": "white",
           "ticks": "",
           "title": {
            "standoff": 15
           },
           "zerolinecolor": "white",
           "zerolinewidth": 2
          }
         }
        },
        "title": {
         "text": "pm10 values for May 2022 and prediction values"
        },
        "xaxis": {
         "title": {
          "text": "Day"
         }
        },
        "yaxis": {
         "title": {
          "text": "pm10"
         }
        }
       }
      }
     },
     "metadata": {},
     "output_type": "display_data"
    }
   ],
   "source": [
    "# actual value\n",
    "fig.add_trace(go.Scatter(\n",
    "    x=group_by_df['day'],\n",
    "    y=cmp_df['y'],\n",
    "    name='y(actual value)',\n",
    "    mode='lines+markers',\n",
    "    line=dict(\n",
    "        color='rgb(75,0,130)'),\n",
    "    marker=dict(color=np.where(cmp_df['outlier_detected'] == 1, 'red', 'rgb(75,0,130)'))))\n",
    "\n",
    "fig.update_layout(title='pm10 values for May 2022 and prediction values', yaxis_title=sensor_name, xaxis_title='Day',\n",
    "                  showlegend=True)\n",
    "fig.show()"
   ]
  },
  {
   "cell_type": "code",
   "execution_count": 30,
   "metadata": {},
   "outputs": [
    {
     "data": {
      "application/vnd.plotly.v1+json": {
       "config": {
        "plotlyServerURL": "https://plot.ly"
       },
       "data": [
        {
         "line": {
          "color": "rgb(95,158,160)"
         },
         "marker": {
          "color": "rgb(95,158,160)"
         },
         "mode": "lines+markers",
         "name": "yhat(predicted value)",
         "type": "scatter",
         "x": [
          "2022-05-01T00:00:00",
          "2022-05-02T00:00:00",
          "2022-05-03T00:00:00",
          "2022-05-04T00:00:00",
          "2022-05-05T00:00:00",
          "2022-05-06T00:00:00",
          "2022-05-07T00:00:00",
          "2022-05-08T00:00:00",
          "2022-05-09T00:00:00",
          "2022-05-10T00:00:00",
          "2022-05-11T00:00:00",
          "2022-05-12T00:00:00",
          "2022-05-13T00:00:00",
          "2022-05-14T00:00:00",
          "2022-05-15T00:00:00",
          "2022-05-16T00:00:00",
          "2022-05-17T00:00:00",
          "2022-05-18T00:00:00",
          "2022-05-19T00:00:00",
          "2022-05-20T00:00:00",
          "2022-05-21T00:00:00",
          "2022-05-22T00:00:00",
          "2022-05-23T00:00:00",
          "2022-05-24T00:00:00",
          "2022-05-25T00:00:00",
          "2022-05-26T00:00:00",
          "2022-05-27T00:00:00",
          "2022-05-28T00:00:00",
          "2022-05-29T00:00:00",
          "2022-05-30T00:00:00",
          "2022-05-31T00:00:00"
         ],
         "y": [
          11.99797581430209,
          13.207147473889886,
          14.802318080098367,
          13.314665163348455,
          12.600296894598019,
          13.803675924691449,
          12.668300889886558,
          10.35693913289267,
          11.566110763651565,
          13.16128133775733,
          11.673628408986703,
          10.959260140075795,
          12.16263917272337,
          11.027264156460253,
          8.71590242433738,
          9.925074078326446,
          11.520244655487982,
          10.03259170527218,
          9.318223415048232,
          10.521602432030159,
          9.386227382519987,
          7.074865614345244,
          8.284037240902947,
          9.879207805697433,
          8.391554860278628,
          7.67718656128038,
          8.880565562532725,
          7.745190513020123,
          5.433828744849041,
          6.643000371406733,
          8.238170936199399
         ]
        },
        {
         "line": {
          "color": "rgb(75,0,130)"
         },
         "marker": {
          "color": [
           "rgb(75,0,130)",
           "rgb(75,0,130)",
           "rgb(75,0,130)",
           "rgb(75,0,130)",
           "rgb(75,0,130)",
           "rgb(75,0,130)",
           "rgb(75,0,130)",
           "rgb(75,0,130)",
           "rgb(75,0,130)",
           "rgb(75,0,130)",
           "rgb(75,0,130)",
           "rgb(75,0,130)",
           "red",
           "rgb(75,0,130)",
           "rgb(75,0,130)",
           "rgb(75,0,130)",
           "rgb(75,0,130)",
           "red",
           "red",
           "rgb(75,0,130)",
           "rgb(75,0,130)",
           "rgb(75,0,130)",
           "rgb(75,0,130)",
           "rgb(75,0,130)",
           "red",
           "rgb(75,0,130)",
           "rgb(75,0,130)",
           "rgb(75,0,130)",
           "rgb(75,0,130)",
           "rgb(75,0,130)",
           "rgb(75,0,130)"
          ]
         },
         "mode": "lines+markers",
         "name": "y(actual value)",
         "type": "scatter",
         "x": [
          "2022-05-01T00:00:00",
          "2022-05-02T00:00:00",
          "2022-05-03T00:00:00",
          "2022-05-04T00:00:00",
          "2022-05-05T00:00:00",
          "2022-05-06T00:00:00",
          "2022-05-07T00:00:00",
          "2022-05-08T00:00:00",
          "2022-05-09T00:00:00",
          "2022-05-10T00:00:00",
          "2022-05-11T00:00:00",
          "2022-05-12T00:00:00",
          "2022-05-13T00:00:00",
          "2022-05-14T00:00:00",
          "2022-05-15T00:00:00",
          "2022-05-16T00:00:00",
          "2022-05-17T00:00:00",
          "2022-05-18T00:00:00",
          "2022-05-19T00:00:00",
          "2022-05-20T00:00:00",
          "2022-05-21T00:00:00",
          "2022-05-22T00:00:00",
          "2022-05-23T00:00:00",
          "2022-05-24T00:00:00",
          "2022-05-25T00:00:00",
          "2022-05-26T00:00:00",
          "2022-05-27T00:00:00",
          "2022-05-28T00:00:00",
          "2022-05-29T00:00:00",
          "2022-05-30T00:00:00",
          "2022-05-31T00:00:00"
         ],
         "y": [
          9.133333333333333,
          10.127689104788342,
          12.832980972515855,
          13.408419497784342,
          16.205698401667824,
          13.217573221757322,
          14.511111111111111,
          13.686805555555555,
          13.878472222222221,
          10.299513551077137,
          10.430555555555555,
          13.337265787647468,
          16.96105702364395,
          10.860125260960334,
          10.702777777777778,
          12.968728283530229,
          15.097916666666666,
          4.164583333333334,
          4.411396803335649,
          6.315752949340736,
          7.715972222222222,
          4.626129256428075,
          6.0125,
          11.139777468706537,
          15.414464534075105,
          6.605555555555555,
          7.048611111111111,
          9.288194444444445,
          5.78125,
          7.9743055555555555,
          11.39861111111111
         ]
        },
        {
         "line": {
          "color": "rgb(205,92,92)"
         },
         "marker": {
          "color": "rgb(205,92,92)"
         },
         "mode": "lines+markers",
         "name": "yhat_lower",
         "type": "scatter",
         "x": [
          "2022-05-01T00:00:00",
          "2022-05-02T00:00:00",
          "2022-05-03T00:00:00",
          "2022-05-04T00:00:00",
          "2022-05-05T00:00:00",
          "2022-05-06T00:00:00",
          "2022-05-07T00:00:00",
          "2022-05-08T00:00:00",
          "2022-05-09T00:00:00",
          "2022-05-10T00:00:00",
          "2022-05-11T00:00:00",
          "2022-05-12T00:00:00",
          "2022-05-13T00:00:00",
          "2022-05-14T00:00:00",
          "2022-05-15T00:00:00",
          "2022-05-16T00:00:00",
          "2022-05-17T00:00:00",
          "2022-05-18T00:00:00",
          "2022-05-19T00:00:00",
          "2022-05-20T00:00:00",
          "2022-05-21T00:00:00",
          "2022-05-22T00:00:00",
          "2022-05-23T00:00:00",
          "2022-05-24T00:00:00",
          "2022-05-25T00:00:00",
          "2022-05-26T00:00:00",
          "2022-05-27T00:00:00",
          "2022-05-28T00:00:00",
          "2022-05-29T00:00:00",
          "2022-05-30T00:00:00",
          "2022-05-31T00:00:00"
         ],
         "y": [
          7.840502228042428,
          9.228000262150667,
          10.748547514255518,
          9.11352132636862,
          8.919346747542505,
          9.951106614766166,
          8.831365231958303,
          6.238692924274097,
          7.540384082864816,
          9.048116094686065,
          7.533837857033113,
          6.816343347062842,
          7.805906219080285,
          7.159502948175432,
          4.583034632154813,
          6.045971764618169,
          7.534176668561909,
          5.877752957883757,
          4.976683655997388,
          6.169234612658609,
          5.097638138018423,
          3.1432951336498935,
          4.25549324422867,
          6.099793390551093,
          4.26559051534105,
          3.7234314168135985,
          4.8575300488904505,
          3.8164782628272698,
          1.4399361452467383,
          2.7351347204354055,
          4.153257343889881
         ]
        }
       ],
       "layout": {
        "showlegend": true,
        "template": {
         "data": {
          "bar": [
           {
            "error_x": {
             "color": "#2a3f5f"
            },
            "error_y": {
             "color": "#2a3f5f"
            },
            "marker": {
             "line": {
              "color": "#E5ECF6",
              "width": 0.5
             },
             "pattern": {
              "fillmode": "overlay",
              "size": 10,
              "solidity": 0.2
             }
            },
            "type": "bar"
           }
          ],
          "barpolar": [
           {
            "marker": {
             "line": {
              "color": "#E5ECF6",
              "width": 0.5
             },
             "pattern": {
              "fillmode": "overlay",
              "size": 10,
              "solidity": 0.2
             }
            },
            "type": "barpolar"
           }
          ],
          "carpet": [
           {
            "aaxis": {
             "endlinecolor": "#2a3f5f",
             "gridcolor": "white",
             "linecolor": "white",
             "minorgridcolor": "white",
             "startlinecolor": "#2a3f5f"
            },
            "baxis": {
             "endlinecolor": "#2a3f5f",
             "gridcolor": "white",
             "linecolor": "white",
             "minorgridcolor": "white",
             "startlinecolor": "#2a3f5f"
            },
            "type": "carpet"
           }
          ],
          "choropleth": [
           {
            "colorbar": {
             "outlinewidth": 0,
             "ticks": ""
            },
            "type": "choropleth"
           }
          ],
          "contour": [
           {
            "colorbar": {
             "outlinewidth": 0,
             "ticks": ""
            },
            "colorscale": [
             [
              0,
              "#0d0887"
             ],
             [
              0.1111111111111111,
              "#46039f"
             ],
             [
              0.2222222222222222,
              "#7201a8"
             ],
             [
              0.3333333333333333,
              "#9c179e"
             ],
             [
              0.4444444444444444,
              "#bd3786"
             ],
             [
              0.5555555555555556,
              "#d8576b"
             ],
             [
              0.6666666666666666,
              "#ed7953"
             ],
             [
              0.7777777777777778,
              "#fb9f3a"
             ],
             [
              0.8888888888888888,
              "#fdca26"
             ],
             [
              1,
              "#f0f921"
             ]
            ],
            "type": "contour"
           }
          ],
          "contourcarpet": [
           {
            "colorbar": {
             "outlinewidth": 0,
             "ticks": ""
            },
            "type": "contourcarpet"
           }
          ],
          "heatmap": [
           {
            "colorbar": {
             "outlinewidth": 0,
             "ticks": ""
            },
            "colorscale": [
             [
              0,
              "#0d0887"
             ],
             [
              0.1111111111111111,
              "#46039f"
             ],
             [
              0.2222222222222222,
              "#7201a8"
             ],
             [
              0.3333333333333333,
              "#9c179e"
             ],
             [
              0.4444444444444444,
              "#bd3786"
             ],
             [
              0.5555555555555556,
              "#d8576b"
             ],
             [
              0.6666666666666666,
              "#ed7953"
             ],
             [
              0.7777777777777778,
              "#fb9f3a"
             ],
             [
              0.8888888888888888,
              "#fdca26"
             ],
             [
              1,
              "#f0f921"
             ]
            ],
            "type": "heatmap"
           }
          ],
          "heatmapgl": [
           {
            "colorbar": {
             "outlinewidth": 0,
             "ticks": ""
            },
            "colorscale": [
             [
              0,
              "#0d0887"
             ],
             [
              0.1111111111111111,
              "#46039f"
             ],
             [
              0.2222222222222222,
              "#7201a8"
             ],
             [
              0.3333333333333333,
              "#9c179e"
             ],
             [
              0.4444444444444444,
              "#bd3786"
             ],
             [
              0.5555555555555556,
              "#d8576b"
             ],
             [
              0.6666666666666666,
              "#ed7953"
             ],
             [
              0.7777777777777778,
              "#fb9f3a"
             ],
             [
              0.8888888888888888,
              "#fdca26"
             ],
             [
              1,
              "#f0f921"
             ]
            ],
            "type": "heatmapgl"
           }
          ],
          "histogram": [
           {
            "marker": {
             "pattern": {
              "fillmode": "overlay",
              "size": 10,
              "solidity": 0.2
             }
            },
            "type": "histogram"
           }
          ],
          "histogram2d": [
           {
            "colorbar": {
             "outlinewidth": 0,
             "ticks": ""
            },
            "colorscale": [
             [
              0,
              "#0d0887"
             ],
             [
              0.1111111111111111,
              "#46039f"
             ],
             [
              0.2222222222222222,
              "#7201a8"
             ],
             [
              0.3333333333333333,
              "#9c179e"
             ],
             [
              0.4444444444444444,
              "#bd3786"
             ],
             [
              0.5555555555555556,
              "#d8576b"
             ],
             [
              0.6666666666666666,
              "#ed7953"
             ],
             [
              0.7777777777777778,
              "#fb9f3a"
             ],
             [
              0.8888888888888888,
              "#fdca26"
             ],
             [
              1,
              "#f0f921"
             ]
            ],
            "type": "histogram2d"
           }
          ],
          "histogram2dcontour": [
           {
            "colorbar": {
             "outlinewidth": 0,
             "ticks": ""
            },
            "colorscale": [
             [
              0,
              "#0d0887"
             ],
             [
              0.1111111111111111,
              "#46039f"
             ],
             [
              0.2222222222222222,
              "#7201a8"
             ],
             [
              0.3333333333333333,
              "#9c179e"
             ],
             [
              0.4444444444444444,
              "#bd3786"
             ],
             [
              0.5555555555555556,
              "#d8576b"
             ],
             [
              0.6666666666666666,
              "#ed7953"
             ],
             [
              0.7777777777777778,
              "#fb9f3a"
             ],
             [
              0.8888888888888888,
              "#fdca26"
             ],
             [
              1,
              "#f0f921"
             ]
            ],
            "type": "histogram2dcontour"
           }
          ],
          "mesh3d": [
           {
            "colorbar": {
             "outlinewidth": 0,
             "ticks": ""
            },
            "type": "mesh3d"
           }
          ],
          "parcoords": [
           {
            "line": {
             "colorbar": {
              "outlinewidth": 0,
              "ticks": ""
             }
            },
            "type": "parcoords"
           }
          ],
          "pie": [
           {
            "automargin": true,
            "type": "pie"
           }
          ],
          "scatter": [
           {
            "fillpattern": {
             "fillmode": "overlay",
             "size": 10,
             "solidity": 0.2
            },
            "type": "scatter"
           }
          ],
          "scatter3d": [
           {
            "line": {
             "colorbar": {
              "outlinewidth": 0,
              "ticks": ""
             }
            },
            "marker": {
             "colorbar": {
              "outlinewidth": 0,
              "ticks": ""
             }
            },
            "type": "scatter3d"
           }
          ],
          "scattercarpet": [
           {
            "marker": {
             "colorbar": {
              "outlinewidth": 0,
              "ticks": ""
             }
            },
            "type": "scattercarpet"
           }
          ],
          "scattergeo": [
           {
            "marker": {
             "colorbar": {
              "outlinewidth": 0,
              "ticks": ""
             }
            },
            "type": "scattergeo"
           }
          ],
          "scattergl": [
           {
            "marker": {
             "colorbar": {
              "outlinewidth": 0,
              "ticks": ""
             }
            },
            "type": "scattergl"
           }
          ],
          "scattermapbox": [
           {
            "marker": {
             "colorbar": {
              "outlinewidth": 0,
              "ticks": ""
             }
            },
            "type": "scattermapbox"
           }
          ],
          "scatterpolar": [
           {
            "marker": {
             "colorbar": {
              "outlinewidth": 0,
              "ticks": ""
             }
            },
            "type": "scatterpolar"
           }
          ],
          "scatterpolargl": [
           {
            "marker": {
             "colorbar": {
              "outlinewidth": 0,
              "ticks": ""
             }
            },
            "type": "scatterpolargl"
           }
          ],
          "scatterternary": [
           {
            "marker": {
             "colorbar": {
              "outlinewidth": 0,
              "ticks": ""
             }
            },
            "type": "scatterternary"
           }
          ],
          "surface": [
           {
            "colorbar": {
             "outlinewidth": 0,
             "ticks": ""
            },
            "colorscale": [
             [
              0,
              "#0d0887"
             ],
             [
              0.1111111111111111,
              "#46039f"
             ],
             [
              0.2222222222222222,
              "#7201a8"
             ],
             [
              0.3333333333333333,
              "#9c179e"
             ],
             [
              0.4444444444444444,
              "#bd3786"
             ],
             [
              0.5555555555555556,
              "#d8576b"
             ],
             [
              0.6666666666666666,
              "#ed7953"
             ],
             [
              0.7777777777777778,
              "#fb9f3a"
             ],
             [
              0.8888888888888888,
              "#fdca26"
             ],
             [
              1,
              "#f0f921"
             ]
            ],
            "type": "surface"
           }
          ],
          "table": [
           {
            "cells": {
             "fill": {
              "color": "#EBF0F8"
             },
             "line": {
              "color": "white"
             }
            },
            "header": {
             "fill": {
              "color": "#C8D4E3"
             },
             "line": {
              "color": "white"
             }
            },
            "type": "table"
           }
          ]
         },
         "layout": {
          "annotationdefaults": {
           "arrowcolor": "#2a3f5f",
           "arrowhead": 0,
           "arrowwidth": 1
          },
          "autotypenumbers": "strict",
          "coloraxis": {
           "colorbar": {
            "outlinewidth": 0,
            "ticks": ""
           }
          },
          "colorscale": {
           "diverging": [
            [
             0,
             "#8e0152"
            ],
            [
             0.1,
             "#c51b7d"
            ],
            [
             0.2,
             "#de77ae"
            ],
            [
             0.3,
             "#f1b6da"
            ],
            [
             0.4,
             "#fde0ef"
            ],
            [
             0.5,
             "#f7f7f7"
            ],
            [
             0.6,
             "#e6f5d0"
            ],
            [
             0.7,
             "#b8e186"
            ],
            [
             0.8,
             "#7fbc41"
            ],
            [
             0.9,
             "#4d9221"
            ],
            [
             1,
             "#276419"
            ]
           ],
           "sequential": [
            [
             0,
             "#0d0887"
            ],
            [
             0.1111111111111111,
             "#46039f"
            ],
            [
             0.2222222222222222,
             "#7201a8"
            ],
            [
             0.3333333333333333,
             "#9c179e"
            ],
            [
             0.4444444444444444,
             "#bd3786"
            ],
            [
             0.5555555555555556,
             "#d8576b"
            ],
            [
             0.6666666666666666,
             "#ed7953"
            ],
            [
             0.7777777777777778,
             "#fb9f3a"
            ],
            [
             0.8888888888888888,
             "#fdca26"
            ],
            [
             1,
             "#f0f921"
            ]
           ],
           "sequentialminus": [
            [
             0,
             "#0d0887"
            ],
            [
             0.1111111111111111,
             "#46039f"
            ],
            [
             0.2222222222222222,
             "#7201a8"
            ],
            [
             0.3333333333333333,
             "#9c179e"
            ],
            [
             0.4444444444444444,
             "#bd3786"
            ],
            [
             0.5555555555555556,
             "#d8576b"
            ],
            [
             0.6666666666666666,
             "#ed7953"
            ],
            [
             0.7777777777777778,
             "#fb9f3a"
            ],
            [
             0.8888888888888888,
             "#fdca26"
            ],
            [
             1,
             "#f0f921"
            ]
           ]
          },
          "colorway": [
           "#636efa",
           "#EF553B",
           "#00cc96",
           "#ab63fa",
           "#FFA15A",
           "#19d3f3",
           "#FF6692",
           "#B6E880",
           "#FF97FF",
           "#FECB52"
          ],
          "font": {
           "color": "#2a3f5f"
          },
          "geo": {
           "bgcolor": "white",
           "lakecolor": "white",
           "landcolor": "#E5ECF6",
           "showlakes": true,
           "showland": true,
           "subunitcolor": "white"
          },
          "hoverlabel": {
           "align": "left"
          },
          "hovermode": "closest",
          "mapbox": {
           "style": "light"
          },
          "paper_bgcolor": "white",
          "plot_bgcolor": "#E5ECF6",
          "polar": {
           "angularaxis": {
            "gridcolor": "white",
            "linecolor": "white",
            "ticks": ""
           },
           "bgcolor": "#E5ECF6",
           "radialaxis": {
            "gridcolor": "white",
            "linecolor": "white",
            "ticks": ""
           }
          },
          "scene": {
           "xaxis": {
            "backgroundcolor": "#E5ECF6",
            "gridcolor": "white",
            "gridwidth": 2,
            "linecolor": "white",
            "showbackground": true,
            "ticks": "",
            "zerolinecolor": "white"
           },
           "yaxis": {
            "backgroundcolor": "#E5ECF6",
            "gridcolor": "white",
            "gridwidth": 2,
            "linecolor": "white",
            "showbackground": true,
            "ticks": "",
            "zerolinecolor": "white"
           },
           "zaxis": {
            "backgroundcolor": "#E5ECF6",
            "gridcolor": "white",
            "gridwidth": 2,
            "linecolor": "white",
            "showbackground": true,
            "ticks": "",
            "zerolinecolor": "white"
           }
          },
          "shapedefaults": {
           "line": {
            "color": "#2a3f5f"
           }
          },
          "ternary": {
           "aaxis": {
            "gridcolor": "white",
            "linecolor": "white",
            "ticks": ""
           },
           "baxis": {
            "gridcolor": "white",
            "linecolor": "white",
            "ticks": ""
           },
           "bgcolor": "#E5ECF6",
           "caxis": {
            "gridcolor": "white",
            "linecolor": "white",
            "ticks": ""
           }
          },
          "title": {
           "x": 0.05
          },
          "xaxis": {
           "automargin": true,
           "gridcolor": "white",
           "linecolor": "white",
           "ticks": "",
           "title": {
            "standoff": 15
           },
           "zerolinecolor": "white",
           "zerolinewidth": 2
          },
          "yaxis": {
           "automargin": true,
           "gridcolor": "white",
           "linecolor": "white",
           "ticks": "",
           "title": {
            "standoff": 15
           },
           "zerolinecolor": "white",
           "zerolinewidth": 2
          }
         }
        },
        "title": {
         "text": "pm10 values for May 2022 and prediction values"
        },
        "xaxis": {
         "title": {
          "text": "Day"
         }
        },
        "yaxis": {
         "title": {
          "text": "pm10"
         }
        }
       }
      }
     },
     "metadata": {},
     "output_type": "display_data"
    }
   ],
   "source": [
    "# lower bound of predicted value\n",
    "fig.add_trace(go.Scatter(\n",
    "    x=group_by_df['day'],\n",
    "    y=cmp_df['yhat_lower'],\n",
    "    name='yhat_lower',\n",
    "    mode='lines+markers',\n",
    "    line=dict(\n",
    "        color='rgb(205,92,92)'),\n",
    "    marker=dict(\n",
    "        color='rgb(205,92,92)')\n",
    "\n",
    "))"
   ]
  },
  {
   "cell_type": "code",
   "execution_count": 31,
   "metadata": {},
   "outputs": [
    {
     "data": {
      "application/vnd.plotly.v1+json": {
       "config": {
        "plotlyServerURL": "https://plot.ly"
       },
       "data": [
        {
         "line": {
          "color": "rgb(95,158,160)"
         },
         "marker": {
          "color": "rgb(95,158,160)"
         },
         "mode": "lines+markers",
         "name": "yhat(predicted value)",
         "type": "scatter",
         "x": [
          "2022-05-01T00:00:00",
          "2022-05-02T00:00:00",
          "2022-05-03T00:00:00",
          "2022-05-04T00:00:00",
          "2022-05-05T00:00:00",
          "2022-05-06T00:00:00",
          "2022-05-07T00:00:00",
          "2022-05-08T00:00:00",
          "2022-05-09T00:00:00",
          "2022-05-10T00:00:00",
          "2022-05-11T00:00:00",
          "2022-05-12T00:00:00",
          "2022-05-13T00:00:00",
          "2022-05-14T00:00:00",
          "2022-05-15T00:00:00",
          "2022-05-16T00:00:00",
          "2022-05-17T00:00:00",
          "2022-05-18T00:00:00",
          "2022-05-19T00:00:00",
          "2022-05-20T00:00:00",
          "2022-05-21T00:00:00",
          "2022-05-22T00:00:00",
          "2022-05-23T00:00:00",
          "2022-05-24T00:00:00",
          "2022-05-25T00:00:00",
          "2022-05-26T00:00:00",
          "2022-05-27T00:00:00",
          "2022-05-28T00:00:00",
          "2022-05-29T00:00:00",
          "2022-05-30T00:00:00",
          "2022-05-31T00:00:00"
         ],
         "y": [
          11.99797581430209,
          13.207147473889886,
          14.802318080098367,
          13.314665163348455,
          12.600296894598019,
          13.803675924691449,
          12.668300889886558,
          10.35693913289267,
          11.566110763651565,
          13.16128133775733,
          11.673628408986703,
          10.959260140075795,
          12.16263917272337,
          11.027264156460253,
          8.71590242433738,
          9.925074078326446,
          11.520244655487982,
          10.03259170527218,
          9.318223415048232,
          10.521602432030159,
          9.386227382519987,
          7.074865614345244,
          8.284037240902947,
          9.879207805697433,
          8.391554860278628,
          7.67718656128038,
          8.880565562532725,
          7.745190513020123,
          5.433828744849041,
          6.643000371406733,
          8.238170936199399
         ]
        },
        {
         "line": {
          "color": "rgb(75,0,130)"
         },
         "marker": {
          "color": [
           "rgb(75,0,130)",
           "rgb(75,0,130)",
           "rgb(75,0,130)",
           "rgb(75,0,130)",
           "rgb(75,0,130)",
           "rgb(75,0,130)",
           "rgb(75,0,130)",
           "rgb(75,0,130)",
           "rgb(75,0,130)",
           "rgb(75,0,130)",
           "rgb(75,0,130)",
           "rgb(75,0,130)",
           "red",
           "rgb(75,0,130)",
           "rgb(75,0,130)",
           "rgb(75,0,130)",
           "rgb(75,0,130)",
           "red",
           "red",
           "rgb(75,0,130)",
           "rgb(75,0,130)",
           "rgb(75,0,130)",
           "rgb(75,0,130)",
           "rgb(75,0,130)",
           "red",
           "rgb(75,0,130)",
           "rgb(75,0,130)",
           "rgb(75,0,130)",
           "rgb(75,0,130)",
           "rgb(75,0,130)",
           "rgb(75,0,130)"
          ]
         },
         "mode": "lines+markers",
         "name": "y(actual value)",
         "type": "scatter",
         "x": [
          "2022-05-01T00:00:00",
          "2022-05-02T00:00:00",
          "2022-05-03T00:00:00",
          "2022-05-04T00:00:00",
          "2022-05-05T00:00:00",
          "2022-05-06T00:00:00",
          "2022-05-07T00:00:00",
          "2022-05-08T00:00:00",
          "2022-05-09T00:00:00",
          "2022-05-10T00:00:00",
          "2022-05-11T00:00:00",
          "2022-05-12T00:00:00",
          "2022-05-13T00:00:00",
          "2022-05-14T00:00:00",
          "2022-05-15T00:00:00",
          "2022-05-16T00:00:00",
          "2022-05-17T00:00:00",
          "2022-05-18T00:00:00",
          "2022-05-19T00:00:00",
          "2022-05-20T00:00:00",
          "2022-05-21T00:00:00",
          "2022-05-22T00:00:00",
          "2022-05-23T00:00:00",
          "2022-05-24T00:00:00",
          "2022-05-25T00:00:00",
          "2022-05-26T00:00:00",
          "2022-05-27T00:00:00",
          "2022-05-28T00:00:00",
          "2022-05-29T00:00:00",
          "2022-05-30T00:00:00",
          "2022-05-31T00:00:00"
         ],
         "y": [
          9.133333333333333,
          10.127689104788342,
          12.832980972515855,
          13.408419497784342,
          16.205698401667824,
          13.217573221757322,
          14.511111111111111,
          13.686805555555555,
          13.878472222222221,
          10.299513551077137,
          10.430555555555555,
          13.337265787647468,
          16.96105702364395,
          10.860125260960334,
          10.702777777777778,
          12.968728283530229,
          15.097916666666666,
          4.164583333333334,
          4.411396803335649,
          6.315752949340736,
          7.715972222222222,
          4.626129256428075,
          6.0125,
          11.139777468706537,
          15.414464534075105,
          6.605555555555555,
          7.048611111111111,
          9.288194444444445,
          5.78125,
          7.9743055555555555,
          11.39861111111111
         ]
        },
        {
         "line": {
          "color": "rgb(205,92,92)"
         },
         "marker": {
          "color": "rgb(205,92,92)"
         },
         "mode": "lines+markers",
         "name": "yhat_lower",
         "type": "scatter",
         "x": [
          "2022-05-01T00:00:00",
          "2022-05-02T00:00:00",
          "2022-05-03T00:00:00",
          "2022-05-04T00:00:00",
          "2022-05-05T00:00:00",
          "2022-05-06T00:00:00",
          "2022-05-07T00:00:00",
          "2022-05-08T00:00:00",
          "2022-05-09T00:00:00",
          "2022-05-10T00:00:00",
          "2022-05-11T00:00:00",
          "2022-05-12T00:00:00",
          "2022-05-13T00:00:00",
          "2022-05-14T00:00:00",
          "2022-05-15T00:00:00",
          "2022-05-16T00:00:00",
          "2022-05-17T00:00:00",
          "2022-05-18T00:00:00",
          "2022-05-19T00:00:00",
          "2022-05-20T00:00:00",
          "2022-05-21T00:00:00",
          "2022-05-22T00:00:00",
          "2022-05-23T00:00:00",
          "2022-05-24T00:00:00",
          "2022-05-25T00:00:00",
          "2022-05-26T00:00:00",
          "2022-05-27T00:00:00",
          "2022-05-28T00:00:00",
          "2022-05-29T00:00:00",
          "2022-05-30T00:00:00",
          "2022-05-31T00:00:00"
         ],
         "y": [
          7.840502228042428,
          9.228000262150667,
          10.748547514255518,
          9.11352132636862,
          8.919346747542505,
          9.951106614766166,
          8.831365231958303,
          6.238692924274097,
          7.540384082864816,
          9.048116094686065,
          7.533837857033113,
          6.816343347062842,
          7.805906219080285,
          7.159502948175432,
          4.583034632154813,
          6.045971764618169,
          7.534176668561909,
          5.877752957883757,
          4.976683655997388,
          6.169234612658609,
          5.097638138018423,
          3.1432951336498935,
          4.25549324422867,
          6.099793390551093,
          4.26559051534105,
          3.7234314168135985,
          4.8575300488904505,
          3.8164782628272698,
          1.4399361452467383,
          2.7351347204354055,
          4.153257343889881
         ]
        },
        {
         "line": {
          "color": "rgb(65,105,225)"
         },
         "marker": {
          "color": "rgb(65,105,225)"
         },
         "mode": "lines+markers",
         "name": "yhat_upper",
         "type": "scatter",
         "x": [
          "2022-05-01T00:00:00",
          "2022-05-02T00:00:00",
          "2022-05-03T00:00:00",
          "2022-05-04T00:00:00",
          "2022-05-05T00:00:00",
          "2022-05-06T00:00:00",
          "2022-05-07T00:00:00",
          "2022-05-08T00:00:00",
          "2022-05-09T00:00:00",
          "2022-05-10T00:00:00",
          "2022-05-11T00:00:00",
          "2022-05-12T00:00:00",
          "2022-05-13T00:00:00",
          "2022-05-14T00:00:00",
          "2022-05-15T00:00:00",
          "2022-05-16T00:00:00",
          "2022-05-17T00:00:00",
          "2022-05-18T00:00:00",
          "2022-05-19T00:00:00",
          "2022-05-20T00:00:00",
          "2022-05-21T00:00:00",
          "2022-05-22T00:00:00",
          "2022-05-23T00:00:00",
          "2022-05-24T00:00:00",
          "2022-05-25T00:00:00",
          "2022-05-26T00:00:00",
          "2022-05-27T00:00:00",
          "2022-05-28T00:00:00",
          "2022-05-29T00:00:00",
          "2022-05-30T00:00:00",
          "2022-05-31T00:00:00"
         ],
         "y": [
          15.882592889338767,
          17.244427906287733,
          18.970357505362838,
          17.138742363915437,
          16.80497941716126,
          17.963049821361302,
          16.486286993959727,
          14.397748423182772,
          15.435194995063938,
          17.000943074840674,
          15.50084937131431,
          14.97811966305477,
          15.946636722807845,
          15.289041962146872,
          12.82518946475595,
          14.135943873859919,
          15.563675011555231,
          13.916137890042954,
          13.473266458873983,
          14.751035170080723,
          13.515250057164497,
          10.9587924465568,
          12.248300976815605,
          13.790178482497954,
          12.424462023855208,
          11.77066400974255,
          12.793772220408623,
          11.993229399942674,
          9.401553988273816,
          10.61645641963412,
          12.015736034353107
         ]
        }
       ],
       "layout": {
        "showlegend": true,
        "template": {
         "data": {
          "bar": [
           {
            "error_x": {
             "color": "#2a3f5f"
            },
            "error_y": {
             "color": "#2a3f5f"
            },
            "marker": {
             "line": {
              "color": "#E5ECF6",
              "width": 0.5
             },
             "pattern": {
              "fillmode": "overlay",
              "size": 10,
              "solidity": 0.2
             }
            },
            "type": "bar"
           }
          ],
          "barpolar": [
           {
            "marker": {
             "line": {
              "color": "#E5ECF6",
              "width": 0.5
             },
             "pattern": {
              "fillmode": "overlay",
              "size": 10,
              "solidity": 0.2
             }
            },
            "type": "barpolar"
           }
          ],
          "carpet": [
           {
            "aaxis": {
             "endlinecolor": "#2a3f5f",
             "gridcolor": "white",
             "linecolor": "white",
             "minorgridcolor": "white",
             "startlinecolor": "#2a3f5f"
            },
            "baxis": {
             "endlinecolor": "#2a3f5f",
             "gridcolor": "white",
             "linecolor": "white",
             "minorgridcolor": "white",
             "startlinecolor": "#2a3f5f"
            },
            "type": "carpet"
           }
          ],
          "choropleth": [
           {
            "colorbar": {
             "outlinewidth": 0,
             "ticks": ""
            },
            "type": "choropleth"
           }
          ],
          "contour": [
           {
            "colorbar": {
             "outlinewidth": 0,
             "ticks": ""
            },
            "colorscale": [
             [
              0,
              "#0d0887"
             ],
             [
              0.1111111111111111,
              "#46039f"
             ],
             [
              0.2222222222222222,
              "#7201a8"
             ],
             [
              0.3333333333333333,
              "#9c179e"
             ],
             [
              0.4444444444444444,
              "#bd3786"
             ],
             [
              0.5555555555555556,
              "#d8576b"
             ],
             [
              0.6666666666666666,
              "#ed7953"
             ],
             [
              0.7777777777777778,
              "#fb9f3a"
             ],
             [
              0.8888888888888888,
              "#fdca26"
             ],
             [
              1,
              "#f0f921"
             ]
            ],
            "type": "contour"
           }
          ],
          "contourcarpet": [
           {
            "colorbar": {
             "outlinewidth": 0,
             "ticks": ""
            },
            "type": "contourcarpet"
           }
          ],
          "heatmap": [
           {
            "colorbar": {
             "outlinewidth": 0,
             "ticks": ""
            },
            "colorscale": [
             [
              0,
              "#0d0887"
             ],
             [
              0.1111111111111111,
              "#46039f"
             ],
             [
              0.2222222222222222,
              "#7201a8"
             ],
             [
              0.3333333333333333,
              "#9c179e"
             ],
             [
              0.4444444444444444,
              "#bd3786"
             ],
             [
              0.5555555555555556,
              "#d8576b"
             ],
             [
              0.6666666666666666,
              "#ed7953"
             ],
             [
              0.7777777777777778,
              "#fb9f3a"
             ],
             [
              0.8888888888888888,
              "#fdca26"
             ],
             [
              1,
              "#f0f921"
             ]
            ],
            "type": "heatmap"
           }
          ],
          "heatmapgl": [
           {
            "colorbar": {
             "outlinewidth": 0,
             "ticks": ""
            },
            "colorscale": [
             [
              0,
              "#0d0887"
             ],
             [
              0.1111111111111111,
              "#46039f"
             ],
             [
              0.2222222222222222,
              "#7201a8"
             ],
             [
              0.3333333333333333,
              "#9c179e"
             ],
             [
              0.4444444444444444,
              "#bd3786"
             ],
             [
              0.5555555555555556,
              "#d8576b"
             ],
             [
              0.6666666666666666,
              "#ed7953"
             ],
             [
              0.7777777777777778,
              "#fb9f3a"
             ],
             [
              0.8888888888888888,
              "#fdca26"
             ],
             [
              1,
              "#f0f921"
             ]
            ],
            "type": "heatmapgl"
           }
          ],
          "histogram": [
           {
            "marker": {
             "pattern": {
              "fillmode": "overlay",
              "size": 10,
              "solidity": 0.2
             }
            },
            "type": "histogram"
           }
          ],
          "histogram2d": [
           {
            "colorbar": {
             "outlinewidth": 0,
             "ticks": ""
            },
            "colorscale": [
             [
              0,
              "#0d0887"
             ],
             [
              0.1111111111111111,
              "#46039f"
             ],
             [
              0.2222222222222222,
              "#7201a8"
             ],
             [
              0.3333333333333333,
              "#9c179e"
             ],
             [
              0.4444444444444444,
              "#bd3786"
             ],
             [
              0.5555555555555556,
              "#d8576b"
             ],
             [
              0.6666666666666666,
              "#ed7953"
             ],
             [
              0.7777777777777778,
              "#fb9f3a"
             ],
             [
              0.8888888888888888,
              "#fdca26"
             ],
             [
              1,
              "#f0f921"
             ]
            ],
            "type": "histogram2d"
           }
          ],
          "histogram2dcontour": [
           {
            "colorbar": {
             "outlinewidth": 0,
             "ticks": ""
            },
            "colorscale": [
             [
              0,
              "#0d0887"
             ],
             [
              0.1111111111111111,
              "#46039f"
             ],
             [
              0.2222222222222222,
              "#7201a8"
             ],
             [
              0.3333333333333333,
              "#9c179e"
             ],
             [
              0.4444444444444444,
              "#bd3786"
             ],
             [
              0.5555555555555556,
              "#d8576b"
             ],
             [
              0.6666666666666666,
              "#ed7953"
             ],
             [
              0.7777777777777778,
              "#fb9f3a"
             ],
             [
              0.8888888888888888,
              "#fdca26"
             ],
             [
              1,
              "#f0f921"
             ]
            ],
            "type": "histogram2dcontour"
           }
          ],
          "mesh3d": [
           {
            "colorbar": {
             "outlinewidth": 0,
             "ticks": ""
            },
            "type": "mesh3d"
           }
          ],
          "parcoords": [
           {
            "line": {
             "colorbar": {
              "outlinewidth": 0,
              "ticks": ""
             }
            },
            "type": "parcoords"
           }
          ],
          "pie": [
           {
            "automargin": true,
            "type": "pie"
           }
          ],
          "scatter": [
           {
            "fillpattern": {
             "fillmode": "overlay",
             "size": 10,
             "solidity": 0.2
            },
            "type": "scatter"
           }
          ],
          "scatter3d": [
           {
            "line": {
             "colorbar": {
              "outlinewidth": 0,
              "ticks": ""
             }
            },
            "marker": {
             "colorbar": {
              "outlinewidth": 0,
              "ticks": ""
             }
            },
            "type": "scatter3d"
           }
          ],
          "scattercarpet": [
           {
            "marker": {
             "colorbar": {
              "outlinewidth": 0,
              "ticks": ""
             }
            },
            "type": "scattercarpet"
           }
          ],
          "scattergeo": [
           {
            "marker": {
             "colorbar": {
              "outlinewidth": 0,
              "ticks": ""
             }
            },
            "type": "scattergeo"
           }
          ],
          "scattergl": [
           {
            "marker": {
             "colorbar": {
              "outlinewidth": 0,
              "ticks": ""
             }
            },
            "type": "scattergl"
           }
          ],
          "scattermapbox": [
           {
            "marker": {
             "colorbar": {
              "outlinewidth": 0,
              "ticks": ""
             }
            },
            "type": "scattermapbox"
           }
          ],
          "scatterpolar": [
           {
            "marker": {
             "colorbar": {
              "outlinewidth": 0,
              "ticks": ""
             }
            },
            "type": "scatterpolar"
           }
          ],
          "scatterpolargl": [
           {
            "marker": {
             "colorbar": {
              "outlinewidth": 0,
              "ticks": ""
             }
            },
            "type": "scatterpolargl"
           }
          ],
          "scatterternary": [
           {
            "marker": {
             "colorbar": {
              "outlinewidth": 0,
              "ticks": ""
             }
            },
            "type": "scatterternary"
           }
          ],
          "surface": [
           {
            "colorbar": {
             "outlinewidth": 0,
             "ticks": ""
            },
            "colorscale": [
             [
              0,
              "#0d0887"
             ],
             [
              0.1111111111111111,
              "#46039f"
             ],
             [
              0.2222222222222222,
              "#7201a8"
             ],
             [
              0.3333333333333333,
              "#9c179e"
             ],
             [
              0.4444444444444444,
              "#bd3786"
             ],
             [
              0.5555555555555556,
              "#d8576b"
             ],
             [
              0.6666666666666666,
              "#ed7953"
             ],
             [
              0.7777777777777778,
              "#fb9f3a"
             ],
             [
              0.8888888888888888,
              "#fdca26"
             ],
             [
              1,
              "#f0f921"
             ]
            ],
            "type": "surface"
           }
          ],
          "table": [
           {
            "cells": {
             "fill": {
              "color": "#EBF0F8"
             },
             "line": {
              "color": "white"
             }
            },
            "header": {
             "fill": {
              "color": "#C8D4E3"
             },
             "line": {
              "color": "white"
             }
            },
            "type": "table"
           }
          ]
         },
         "layout": {
          "annotationdefaults": {
           "arrowcolor": "#2a3f5f",
           "arrowhead": 0,
           "arrowwidth": 1
          },
          "autotypenumbers": "strict",
          "coloraxis": {
           "colorbar": {
            "outlinewidth": 0,
            "ticks": ""
           }
          },
          "colorscale": {
           "diverging": [
            [
             0,
             "#8e0152"
            ],
            [
             0.1,
             "#c51b7d"
            ],
            [
             0.2,
             "#de77ae"
            ],
            [
             0.3,
             "#f1b6da"
            ],
            [
             0.4,
             "#fde0ef"
            ],
            [
             0.5,
             "#f7f7f7"
            ],
            [
             0.6,
             "#e6f5d0"
            ],
            [
             0.7,
             "#b8e186"
            ],
            [
             0.8,
             "#7fbc41"
            ],
            [
             0.9,
             "#4d9221"
            ],
            [
             1,
             "#276419"
            ]
           ],
           "sequential": [
            [
             0,
             "#0d0887"
            ],
            [
             0.1111111111111111,
             "#46039f"
            ],
            [
             0.2222222222222222,
             "#7201a8"
            ],
            [
             0.3333333333333333,
             "#9c179e"
            ],
            [
             0.4444444444444444,
             "#bd3786"
            ],
            [
             0.5555555555555556,
             "#d8576b"
            ],
            [
             0.6666666666666666,
             "#ed7953"
            ],
            [
             0.7777777777777778,
             "#fb9f3a"
            ],
            [
             0.8888888888888888,
             "#fdca26"
            ],
            [
             1,
             "#f0f921"
            ]
           ],
           "sequentialminus": [
            [
             0,
             "#0d0887"
            ],
            [
             0.1111111111111111,
             "#46039f"
            ],
            [
             0.2222222222222222,
             "#7201a8"
            ],
            [
             0.3333333333333333,
             "#9c179e"
            ],
            [
             0.4444444444444444,
             "#bd3786"
            ],
            [
             0.5555555555555556,
             "#d8576b"
            ],
            [
             0.6666666666666666,
             "#ed7953"
            ],
            [
             0.7777777777777778,
             "#fb9f3a"
            ],
            [
             0.8888888888888888,
             "#fdca26"
            ],
            [
             1,
             "#f0f921"
            ]
           ]
          },
          "colorway": [
           "#636efa",
           "#EF553B",
           "#00cc96",
           "#ab63fa",
           "#FFA15A",
           "#19d3f3",
           "#FF6692",
           "#B6E880",
           "#FF97FF",
           "#FECB52"
          ],
          "font": {
           "color": "#2a3f5f"
          },
          "geo": {
           "bgcolor": "white",
           "lakecolor": "white",
           "landcolor": "#E5ECF6",
           "showlakes": true,
           "showland": true,
           "subunitcolor": "white"
          },
          "hoverlabel": {
           "align": "left"
          },
          "hovermode": "closest",
          "mapbox": {
           "style": "light"
          },
          "paper_bgcolor": "white",
          "plot_bgcolor": "#E5ECF6",
          "polar": {
           "angularaxis": {
            "gridcolor": "white",
            "linecolor": "white",
            "ticks": ""
           },
           "bgcolor": "#E5ECF6",
           "radialaxis": {
            "gridcolor": "white",
            "linecolor": "white",
            "ticks": ""
           }
          },
          "scene": {
           "xaxis": {
            "backgroundcolor": "#E5ECF6",
            "gridcolor": "white",
            "gridwidth": 2,
            "linecolor": "white",
            "showbackground": true,
            "ticks": "",
            "zerolinecolor": "white"
           },
           "yaxis": {
            "backgroundcolor": "#E5ECF6",
            "gridcolor": "white",
            "gridwidth": 2,
            "linecolor": "white",
            "showbackground": true,
            "ticks": "",
            "zerolinecolor": "white"
           },
           "zaxis": {
            "backgroundcolor": "#E5ECF6",
            "gridcolor": "white",
            "gridwidth": 2,
            "linecolor": "white",
            "showbackground": true,
            "ticks": "",
            "zerolinecolor": "white"
           }
          },
          "shapedefaults": {
           "line": {
            "color": "#2a3f5f"
           }
          },
          "ternary": {
           "aaxis": {
            "gridcolor": "white",
            "linecolor": "white",
            "ticks": ""
           },
           "baxis": {
            "gridcolor": "white",
            "linecolor": "white",
            "ticks": ""
           },
           "bgcolor": "#E5ECF6",
           "caxis": {
            "gridcolor": "white",
            "linecolor": "white",
            "ticks": ""
           }
          },
          "title": {
           "x": 0.05
          },
          "xaxis": {
           "automargin": true,
           "gridcolor": "white",
           "linecolor": "white",
           "ticks": "",
           "title": {
            "standoff": 15
           },
           "zerolinecolor": "white",
           "zerolinewidth": 2
          },
          "yaxis": {
           "automargin": true,
           "gridcolor": "white",
           "linecolor": "white",
           "ticks": "",
           "title": {
            "standoff": 15
           },
           "zerolinecolor": "white",
           "zerolinewidth": 2
          }
         }
        },
        "title": {
         "text": "Comparison between predicted values and real ones, including upper and lower values"
        },
        "xaxis": {
         "title": {
          "text": "Day"
         }
        },
        "yaxis": {
         "title": {
          "text": "pm10"
         }
        }
       }
      }
     },
     "metadata": {},
     "output_type": "display_data"
    }
   ],
   "source": [
    "# upper bound of predicted value\n",
    "fig.add_trace(go.Scatter(\n",
    "    x=group_by_df['day'],\n",
    "    y=cmp_df['yhat_upper'],\n",
    "    name='yhat_upper',\n",
    "    mode='lines+markers',\n",
    "    line=dict(\n",
    "        color='rgb(65,105,225)'),\n",
    "    marker=dict(\n",
    "        color='rgb(65,105,225)')\n",
    "))\n",
    "\n",
    "fig.update_layout(title='Comparison between predicted values and real ones, including upper and lower values', yaxis_title=sensor_name, xaxis_title='Day',\n",
    "                  showlegend=True)\n",
    "fig.show()"
   ]
  },
  {
   "cell_type": "code",
   "execution_count": 32,
   "metadata": {},
   "outputs": [],
   "source": [
    "def mean_absolute_percentage_error(y_true, y_pred):\n",
    "    y_true, y_pred = np.array(y_true), np.array(y_pred)\n",
    "    return np.mean(np.abs((y_true - y_pred) / y_true)) * 100"
   ]
  },
  {
   "cell_type": "code",
   "execution_count": 33,
   "metadata": {},
   "outputs": [
    {
     "name": "stdout",
     "output_type": "stream",
     "text": [
      "Forecast Errors:  [2.8646424809687563, 3.0794583691015447, 1.9693371075825112, 0.09375433443588754, 3.6054015070698053, 0.5861027029341273, 1.8428102212245534, 3.329866422662885, 2.3123614585706562, 2.8617677866801934, 1.2430728534311477, 2.3780056475716727, 4.798417850920579, 0.16713889549991912, 1.9868753534403982, 3.043654205203783, 3.5776720111786844, 5.8680083719388465, 4.9068266117125825, 4.205849482689423, 1.6702551602977653, 2.448736357917169, 2.271537240902947, 1.260569663009104, 7.022909673796477, 1.071631005724825, 1.8319544514216144, 1.5430039314243214, 0.3474212551509588, 1.3313051841488228, 3.1604401749117113]\n",
      "MAX Forecast Error: 7.022909673796477\n",
      "MIN Forecast Error: 0.09375433443588754\n"
     ]
    }
   ],
   "source": [
    "cmp_df = cmp_df.dropna()\n",
    "\n",
    "forecast_errors = [abs(cmp_df['y'][i] - cmp_df['yhat'][i]) for i in range(len(cmp_df))]\n",
    "print('Forecast Errors: ', forecast_errors)\n",
    "print('MAX Forecast Error: %s' % max(forecast_errors))\n",
    "print('MIN Forecast Error: %s' % min(forecast_errors))"
   ]
  },
  {
   "cell_type": "code",
   "execution_count": 34,
   "metadata": {},
   "outputs": [
    {
     "name": "stdout",
     "output_type": "stream",
     "text": [
      "MSE is  9.000845968384828\n",
      "rmse is  3.000140991417708\n",
      "r2 score  0.32014919901643213\n"
     ]
    }
   ],
   "source": [
    "rmse = np.sqrt(mean_squared_error(cmp_df['y'], cmp_df['yhat']))\n",
    "print(\"MSE is \", mean_squared_error(cmp_df['y'], cmp_df['yhat']))\n",
    "print(\"rmse is \", rmse)\n",
    "print(\"r2 score \", r2_score(cmp_df['y'], cmp_df['yhat']))  # around 1"
   ]
  },
  {
   "cell_type": "code",
   "execution_count": 35,
   "metadata": {},
   "outputs": [
    {
     "name": "stdout",
     "output_type": "stream",
     "text": [
      "denominator 160.9614768289398\n"
     ]
    },
    {
     "data": {
      "application/vnd.plotly.v1+json": {
       "config": {
        "plotlyServerURL": "https://plot.ly"
       },
       "data": [
        {
         "mode": "markers",
         "name": "yhat and y correlation",
         "type": "scattergl",
         "x": [
          11.99797581430209,
          13.207147473889886,
          14.802318080098367,
          13.314665163348455,
          12.600296894598019,
          13.803675924691449,
          12.668300889886558,
          10.35693913289267,
          11.566110763651565,
          13.16128133775733,
          11.673628408986703,
          10.959260140075795,
          12.16263917272337,
          11.027264156460253,
          8.71590242433738,
          9.925074078326446,
          11.520244655487982,
          10.03259170527218,
          9.318223415048232,
          10.521602432030159,
          9.386227382519987,
          7.074865614345244,
          8.284037240902947,
          9.879207805697433,
          8.391554860278628,
          7.67718656128038,
          8.880565562532725,
          7.745190513020123,
          5.433828744849041,
          6.643000371406733,
          8.238170936199399
         ],
         "y": [
          9.133333333333333,
          10.127689104788342,
          12.832980972515855,
          13.408419497784342,
          16.205698401667824,
          13.217573221757322,
          14.511111111111111,
          13.686805555555555,
          13.878472222222221,
          10.299513551077137,
          10.430555555555555,
          13.337265787647468,
          16.96105702364395,
          10.860125260960334,
          10.702777777777778,
          12.968728283530229,
          15.097916666666666,
          4.164583333333334,
          4.411396803335649,
          6.315752949340736,
          7.715972222222222,
          4.626129256428075,
          6.0125,
          11.139777468706537,
          15.414464534075105,
          6.605555555555555,
          7.048611111111111,
          9.288194444444445,
          5.78125,
          7.9743055555555555,
          11.39861111111111
         ]
        },
        {
         "line": {
          "color": "red"
         },
         "name": "Line of best fit",
         "type": "scattergl",
         "x": [
          11.99797581430209,
          13.207147473889886,
          14.802318080098367,
          13.314665163348455,
          12.600296894598019,
          13.803675924691449,
          12.668300889886558,
          10.35693913289267,
          11.566110763651565,
          13.16128133775733,
          11.673628408986703,
          10.959260140075795,
          12.16263917272337,
          11.027264156460253,
          8.71590242433738,
          9.925074078326446,
          11.520244655487982,
          10.03259170527218,
          9.318223415048232,
          10.521602432030159,
          9.386227382519987,
          7.074865614345244,
          8.284037240902947,
          9.879207805697433,
          8.391554860278628,
          7.67718656128038,
          8.880565562532725,
          7.745190513020123,
          5.433828744849041,
          6.643000371406733,
          8.238170936199399
         ],
         "y": [
          11.998453433172966,
          13.09912705134651,
          14.551164228051519,
          13.196997261366455,
          12.546728706989356,
          13.64212946385016,
          12.60863075617401,
          10.504665708857498,
          11.605339300788936,
          13.057376448271782,
          11.70320947064461,
          11.05294091612144,
          12.148341675307208,
          11.114842984509092,
          9.010877959831937,
          10.111551572909121,
          11.563588723173547,
          10.20942172602546,
          9.55915315210165,
          10.654553897027437,
          9.621055175965498,
          7.517090118471382,
          8.617763706578597,
          10.069800845585657,
          8.715633852804139,
          8.065365270893341,
          9.160766001500948,
          8.127267280436797,
          6.023302222946013,
          7.123975811053218,
          8.576012950058622
         ]
        }
       ],
       "layout": {
        "template": {
         "data": {
          "bar": [
           {
            "error_x": {
             "color": "#2a3f5f"
            },
            "error_y": {
             "color": "#2a3f5f"
            },
            "marker": {
             "line": {
              "color": "#E5ECF6",
              "width": 0.5
             },
             "pattern": {
              "fillmode": "overlay",
              "size": 10,
              "solidity": 0.2
             }
            },
            "type": "bar"
           }
          ],
          "barpolar": [
           {
            "marker": {
             "line": {
              "color": "#E5ECF6",
              "width": 0.5
             },
             "pattern": {
              "fillmode": "overlay",
              "size": 10,
              "solidity": 0.2
             }
            },
            "type": "barpolar"
           }
          ],
          "carpet": [
           {
            "aaxis": {
             "endlinecolor": "#2a3f5f",
             "gridcolor": "white",
             "linecolor": "white",
             "minorgridcolor": "white",
             "startlinecolor": "#2a3f5f"
            },
            "baxis": {
             "endlinecolor": "#2a3f5f",
             "gridcolor": "white",
             "linecolor": "white",
             "minorgridcolor": "white",
             "startlinecolor": "#2a3f5f"
            },
            "type": "carpet"
           }
          ],
          "choropleth": [
           {
            "colorbar": {
             "outlinewidth": 0,
             "ticks": ""
            },
            "type": "choropleth"
           }
          ],
          "contour": [
           {
            "colorbar": {
             "outlinewidth": 0,
             "ticks": ""
            },
            "colorscale": [
             [
              0,
              "#0d0887"
             ],
             [
              0.1111111111111111,
              "#46039f"
             ],
             [
              0.2222222222222222,
              "#7201a8"
             ],
             [
              0.3333333333333333,
              "#9c179e"
             ],
             [
              0.4444444444444444,
              "#bd3786"
             ],
             [
              0.5555555555555556,
              "#d8576b"
             ],
             [
              0.6666666666666666,
              "#ed7953"
             ],
             [
              0.7777777777777778,
              "#fb9f3a"
             ],
             [
              0.8888888888888888,
              "#fdca26"
             ],
             [
              1,
              "#f0f921"
             ]
            ],
            "type": "contour"
           }
          ],
          "contourcarpet": [
           {
            "colorbar": {
             "outlinewidth": 0,
             "ticks": ""
            },
            "type": "contourcarpet"
           }
          ],
          "heatmap": [
           {
            "colorbar": {
             "outlinewidth": 0,
             "ticks": ""
            },
            "colorscale": [
             [
              0,
              "#0d0887"
             ],
             [
              0.1111111111111111,
              "#46039f"
             ],
             [
              0.2222222222222222,
              "#7201a8"
             ],
             [
              0.3333333333333333,
              "#9c179e"
             ],
             [
              0.4444444444444444,
              "#bd3786"
             ],
             [
              0.5555555555555556,
              "#d8576b"
             ],
             [
              0.6666666666666666,
              "#ed7953"
             ],
             [
              0.7777777777777778,
              "#fb9f3a"
             ],
             [
              0.8888888888888888,
              "#fdca26"
             ],
             [
              1,
              "#f0f921"
             ]
            ],
            "type": "heatmap"
           }
          ],
          "heatmapgl": [
           {
            "colorbar": {
             "outlinewidth": 0,
             "ticks": ""
            },
            "colorscale": [
             [
              0,
              "#0d0887"
             ],
             [
              0.1111111111111111,
              "#46039f"
             ],
             [
              0.2222222222222222,
              "#7201a8"
             ],
             [
              0.3333333333333333,
              "#9c179e"
             ],
             [
              0.4444444444444444,
              "#bd3786"
             ],
             [
              0.5555555555555556,
              "#d8576b"
             ],
             [
              0.6666666666666666,
              "#ed7953"
             ],
             [
              0.7777777777777778,
              "#fb9f3a"
             ],
             [
              0.8888888888888888,
              "#fdca26"
             ],
             [
              1,
              "#f0f921"
             ]
            ],
            "type": "heatmapgl"
           }
          ],
          "histogram": [
           {
            "marker": {
             "pattern": {
              "fillmode": "overlay",
              "size": 10,
              "solidity": 0.2
             }
            },
            "type": "histogram"
           }
          ],
          "histogram2d": [
           {
            "colorbar": {
             "outlinewidth": 0,
             "ticks": ""
            },
            "colorscale": [
             [
              0,
              "#0d0887"
             ],
             [
              0.1111111111111111,
              "#46039f"
             ],
             [
              0.2222222222222222,
              "#7201a8"
             ],
             [
              0.3333333333333333,
              "#9c179e"
             ],
             [
              0.4444444444444444,
              "#bd3786"
             ],
             [
              0.5555555555555556,
              "#d8576b"
             ],
             [
              0.6666666666666666,
              "#ed7953"
             ],
             [
              0.7777777777777778,
              "#fb9f3a"
             ],
             [
              0.8888888888888888,
              "#fdca26"
             ],
             [
              1,
              "#f0f921"
             ]
            ],
            "type": "histogram2d"
           }
          ],
          "histogram2dcontour": [
           {
            "colorbar": {
             "outlinewidth": 0,
             "ticks": ""
            },
            "colorscale": [
             [
              0,
              "#0d0887"
             ],
             [
              0.1111111111111111,
              "#46039f"
             ],
             [
              0.2222222222222222,
              "#7201a8"
             ],
             [
              0.3333333333333333,
              "#9c179e"
             ],
             [
              0.4444444444444444,
              "#bd3786"
             ],
             [
              0.5555555555555556,
              "#d8576b"
             ],
             [
              0.6666666666666666,
              "#ed7953"
             ],
             [
              0.7777777777777778,
              "#fb9f3a"
             ],
             [
              0.8888888888888888,
              "#fdca26"
             ],
             [
              1,
              "#f0f921"
             ]
            ],
            "type": "histogram2dcontour"
           }
          ],
          "mesh3d": [
           {
            "colorbar": {
             "outlinewidth": 0,
             "ticks": ""
            },
            "type": "mesh3d"
           }
          ],
          "parcoords": [
           {
            "line": {
             "colorbar": {
              "outlinewidth": 0,
              "ticks": ""
             }
            },
            "type": "parcoords"
           }
          ],
          "pie": [
           {
            "automargin": true,
            "type": "pie"
           }
          ],
          "scatter": [
           {
            "fillpattern": {
             "fillmode": "overlay",
             "size": 10,
             "solidity": 0.2
            },
            "type": "scatter"
           }
          ],
          "scatter3d": [
           {
            "line": {
             "colorbar": {
              "outlinewidth": 0,
              "ticks": ""
             }
            },
            "marker": {
             "colorbar": {
              "outlinewidth": 0,
              "ticks": ""
             }
            },
            "type": "scatter3d"
           }
          ],
          "scattercarpet": [
           {
            "marker": {
             "colorbar": {
              "outlinewidth": 0,
              "ticks": ""
             }
            },
            "type": "scattercarpet"
           }
          ],
          "scattergeo": [
           {
            "marker": {
             "colorbar": {
              "outlinewidth": 0,
              "ticks": ""
             }
            },
            "type": "scattergeo"
           }
          ],
          "scattergl": [
           {
            "marker": {
             "colorbar": {
              "outlinewidth": 0,
              "ticks": ""
             }
            },
            "type": "scattergl"
           }
          ],
          "scattermapbox": [
           {
            "marker": {
             "colorbar": {
              "outlinewidth": 0,
              "ticks": ""
             }
            },
            "type": "scattermapbox"
           }
          ],
          "scatterpolar": [
           {
            "marker": {
             "colorbar": {
              "outlinewidth": 0,
              "ticks": ""
             }
            },
            "type": "scatterpolar"
           }
          ],
          "scatterpolargl": [
           {
            "marker": {
             "colorbar": {
              "outlinewidth": 0,
              "ticks": ""
             }
            },
            "type": "scatterpolargl"
           }
          ],
          "scatterternary": [
           {
            "marker": {
             "colorbar": {
              "outlinewidth": 0,
              "ticks": ""
             }
            },
            "type": "scatterternary"
           }
          ],
          "surface": [
           {
            "colorbar": {
             "outlinewidth": 0,
             "ticks": ""
            },
            "colorscale": [
             [
              0,
              "#0d0887"
             ],
             [
              0.1111111111111111,
              "#46039f"
             ],
             [
              0.2222222222222222,
              "#7201a8"
             ],
             [
              0.3333333333333333,
              "#9c179e"
             ],
             [
              0.4444444444444444,
              "#bd3786"
             ],
             [
              0.5555555555555556,
              "#d8576b"
             ],
             [
              0.6666666666666666,
              "#ed7953"
             ],
             [
              0.7777777777777778,
              "#fb9f3a"
             ],
             [
              0.8888888888888888,
              "#fdca26"
             ],
             [
              1,
              "#f0f921"
             ]
            ],
            "type": "surface"
           }
          ],
          "table": [
           {
            "cells": {
             "fill": {
              "color": "#EBF0F8"
             },
             "line": {
              "color": "white"
             }
            },
            "header": {
             "fill": {
              "color": "#C8D4E3"
             },
             "line": {
              "color": "white"
             }
            },
            "type": "table"
           }
          ]
         },
         "layout": {
          "annotationdefaults": {
           "arrowcolor": "#2a3f5f",
           "arrowhead": 0,
           "arrowwidth": 1
          },
          "autotypenumbers": "strict",
          "coloraxis": {
           "colorbar": {
            "outlinewidth": 0,
            "ticks": ""
           }
          },
          "colorscale": {
           "diverging": [
            [
             0,
             "#8e0152"
            ],
            [
             0.1,
             "#c51b7d"
            ],
            [
             0.2,
             "#de77ae"
            ],
            [
             0.3,
             "#f1b6da"
            ],
            [
             0.4,
             "#fde0ef"
            ],
            [
             0.5,
             "#f7f7f7"
            ],
            [
             0.6,
             "#e6f5d0"
            ],
            [
             0.7,
             "#b8e186"
            ],
            [
             0.8,
             "#7fbc41"
            ],
            [
             0.9,
             "#4d9221"
            ],
            [
             1,
             "#276419"
            ]
           ],
           "sequential": [
            [
             0,
             "#0d0887"
            ],
            [
             0.1111111111111111,
             "#46039f"
            ],
            [
             0.2222222222222222,
             "#7201a8"
            ],
            [
             0.3333333333333333,
             "#9c179e"
            ],
            [
             0.4444444444444444,
             "#bd3786"
            ],
            [
             0.5555555555555556,
             "#d8576b"
            ],
            [
             0.6666666666666666,
             "#ed7953"
            ],
            [
             0.7777777777777778,
             "#fb9f3a"
            ],
            [
             0.8888888888888888,
             "#fdca26"
            ],
            [
             1,
             "#f0f921"
            ]
           ],
           "sequentialminus": [
            [
             0,
             "#0d0887"
            ],
            [
             0.1111111111111111,
             "#46039f"
            ],
            [
             0.2222222222222222,
             "#7201a8"
            ],
            [
             0.3333333333333333,
             "#9c179e"
            ],
            [
             0.4444444444444444,
             "#bd3786"
            ],
            [
             0.5555555555555556,
             "#d8576b"
            ],
            [
             0.6666666666666666,
             "#ed7953"
            ],
            [
             0.7777777777777778,
             "#fb9f3a"
            ],
            [
             0.8888888888888888,
             "#fdca26"
            ],
            [
             1,
             "#f0f921"
            ]
           ]
          },
          "colorway": [
           "#636efa",
           "#EF553B",
           "#00cc96",
           "#ab63fa",
           "#FFA15A",
           "#19d3f3",
           "#FF6692",
           "#B6E880",
           "#FF97FF",
           "#FECB52"
          ],
          "font": {
           "color": "#2a3f5f"
          },
          "geo": {
           "bgcolor": "white",
           "lakecolor": "white",
           "landcolor": "#E5ECF6",
           "showlakes": true,
           "showland": true,
           "subunitcolor": "white"
          },
          "hoverlabel": {
           "align": "left"
          },
          "hovermode": "closest",
          "mapbox": {
           "style": "light"
          },
          "paper_bgcolor": "white",
          "plot_bgcolor": "#E5ECF6",
          "polar": {
           "angularaxis": {
            "gridcolor": "white",
            "linecolor": "white",
            "ticks": ""
           },
           "bgcolor": "#E5ECF6",
           "radialaxis": {
            "gridcolor": "white",
            "linecolor": "white",
            "ticks": ""
           }
          },
          "scene": {
           "xaxis": {
            "backgroundcolor": "#E5ECF6",
            "gridcolor": "white",
            "gridwidth": 2,
            "linecolor": "white",
            "showbackground": true,
            "ticks": "",
            "zerolinecolor": "white"
           },
           "yaxis": {
            "backgroundcolor": "#E5ECF6",
            "gridcolor": "white",
            "gridwidth": 2,
            "linecolor": "white",
            "showbackground": true,
            "ticks": "",
            "zerolinecolor": "white"
           },
           "zaxis": {
            "backgroundcolor": "#E5ECF6",
            "gridcolor": "white",
            "gridwidth": 2,
            "linecolor": "white",
            "showbackground": true,
            "ticks": "",
            "zerolinecolor": "white"
           }
          },
          "shapedefaults": {
           "line": {
            "color": "#2a3f5f"
           }
          },
          "ternary": {
           "aaxis": {
            "gridcolor": "white",
            "linecolor": "white",
            "ticks": ""
           },
           "baxis": {
            "gridcolor": "white",
            "linecolor": "white",
            "ticks": ""
           },
           "bgcolor": "#E5ECF6",
           "caxis": {
            "gridcolor": "white",
            "linecolor": "white",
            "ticks": ""
           }
          },
          "title": {
           "x": 0.05
          },
          "xaxis": {
           "automargin": true,
           "gridcolor": "white",
           "linecolor": "white",
           "ticks": "",
           "title": {
            "standoff": 15
           },
           "zerolinecolor": "white",
           "zerolinewidth": 2
          },
          "yaxis": {
           "automargin": true,
           "gridcolor": "white",
           "linecolor": "white",
           "ticks": "",
           "title": {
            "standoff": 15
           },
           "zerolinecolor": "white",
           "zerolinewidth": 2
          }
         }
        },
        "xaxis": {
         "title": {
          "text": "yhat"
         }
        },
        "yaxis": {
         "title": {
          "text": "y"
         }
        }
       }
      }
     },
     "metadata": {},
     "output_type": "display_data"
    }
   ],
   "source": [
    "def correlation_line(df, x, y):\n",
    "    scatter_data = go.Scattergl(\n",
    "        x=df[x],\n",
    "        y=df[y],\n",
    "        mode='markers',\n",
    "        name=x + ' and ' + y + ' correlation'\n",
    "    )\n",
    "\n",
    "    layout = go.Layout(\n",
    "        xaxis=dict(\n",
    "            title=x\n",
    "        ),\n",
    "        yaxis=dict(\n",
    "            title=y)\n",
    "    )\n",
    "\n",
    "    # calculate best fit line\n",
    "    denominator = (df[x] ** 2).sum() - df[x].mean() * df[x].sum()\n",
    "    print('denominator', denominator)\n",
    "    m = ((df[y] * df[x]).sum() - df[y].mean() * df[x].sum()) / denominator\n",
    "    b = ((df[y].mean() * ((df[x] ** 2).sum())) - df[x].mean() * ((df[y] * df[x]).sum())) / denominator\n",
    "    best_fit_line = m * df[x] + b\n",
    "\n",
    "    best_fit_line = go.Scattergl(\n",
    "        x=df[x],\n",
    "        y=best_fit_line,\n",
    "        name='Line of best fit',\n",
    "        line=dict(\n",
    "            color='red'\n",
    "        )\n",
    "    )\n",
    "\n",
    "    data = [scatter_data, best_fit_line]\n",
    "    figure = go.Figure(data=data, layout=layout)\n",
    "\n",
    "    figure.show()\n",
    "\n",
    "\n",
    "# yhat and y\n",
    "correlation_line(cmp_df, cmp_df.columns[0], cmp_df.columns[3])"
   ]
  }
 ],
 "metadata": {
  "interpreter": {
   "hash": "849485514d9dddafe09fed9138dee4c541e2b3a3bca84d80af14cdace2d88e2f"
  },
  "kernelspec": {
   "display_name": "Python 3.8.13 ('myenv')",
   "language": "python",
   "name": "python3"
  },
  "language_info": {
   "codemirror_mode": {
    "name": "ipython",
    "version": 3
   },
   "file_extension": ".py",
   "mimetype": "text/x-python",
   "name": "python",
   "nbconvert_exporter": "python",
   "pygments_lexer": "ipython3",
   "version": "3.8.13"
  },
  "orig_nbformat": 4
 },
 "nbformat": 4,
 "nbformat_minor": 2
}
