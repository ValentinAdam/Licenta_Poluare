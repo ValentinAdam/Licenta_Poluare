{
 "cells": [
  {
   "cell_type": "code",
   "execution_count": 1,
   "metadata": {},
   "outputs": [],
   "source": [
    "import pandas as pd"
   ]
  },
  {
   "cell_type": "code",
   "execution_count": 2,
   "metadata": {},
   "outputs": [],
   "source": [
    "import requests"
   ]
  },
  {
   "cell_type": "code",
   "execution_count": 6,
   "metadata": {},
   "outputs": [],
   "source": [
    "from requests.auth import HTTPBasicAuth\n",
    "auth = HTTPBasicAuth('elastic', 'AWbtmGda2Q7BI2bYpdjyF4qd')\n",
    "url = 'https://8f9677360fc34e2eb943d737b2597c7b.us-east-1.aws.found.io:9243/brasov-dev/'\n"
   ]
  },
  {
   "cell_type": "code",
   "execution_count": 8,
   "metadata": {},
   "outputs": [],
   "source": [
    "r = requests.get(url=url, auth=auth)"
   ]
  },
  {
   "cell_type": "code",
   "execution_count": 9,
   "metadata": {},
   "outputs": [
    {
     "data": {
      "text/plain": [
       "<Response [200]>"
      ]
     },
     "execution_count": 9,
     "metadata": {},
     "output_type": "execute_result"
    }
   ],
   "source": [
    "r"
   ]
  },
  {
   "cell_type": "code",
   "execution_count": 10,
   "metadata": {},
   "outputs": [],
   "source": [
    "json = r.json()"
   ]
  },
  {
   "cell_type": "code",
   "execution_count": 11,
   "metadata": {},
   "outputs": [
    {
     "data": {
      "text/plain": [
       "{'brasov-dev': {'aliases': {},\n",
       "  'mappings': {'properties': {'LocationLat': {'type': 'double'},\n",
       "    'LocationLong': {'type': 'double'},\n",
       "    'Measurement': {'type': 'text'},\n",
       "    'Sensor': {'type': 'text'},\n",
       "    'Source': {'type': 'text'},\n",
       "    'TimeStamp': {'type': 'date', 'format': 'epoch_millis'},\n",
       "    'Value': {'type': 'double'}}},\n",
       "  'settings': {'index': {'number_of_shards': '1',\n",
       "    'blocks': {'read_only_allow_delete': 'false'},\n",
       "    'provided_name': 'brasov-dev',\n",
       "    'creation_date': '1610817549020',\n",
       "    'number_of_replicas': '1',\n",
       "    'uuid': 'OVyiC0qrR6CQ0fF5EVyaSA',\n",
       "    'version': {'created': '7050099'}}}}}"
      ]
     },
     "execution_count": 11,
     "metadata": {},
     "output_type": "execute_result"
    }
   ],
   "source": [
    "json"
   ]
  },
  {
   "cell_type": "code",
   "execution_count": 12,
   "metadata": {},
   "outputs": [
    {
     "data": {
      "text/plain": [
       "dict_keys(['brasov-dev'])"
      ]
     },
     "execution_count": 12,
     "metadata": {},
     "output_type": "execute_result"
    }
   ],
   "source": [
    "json.keys()"
   ]
  },
  {
   "cell_type": "code",
   "execution_count": 13,
   "metadata": {},
   "outputs": [
    {
     "data": {
      "text/plain": [
       "{'aliases': {},\n",
       " 'mappings': {'properties': {'LocationLat': {'type': 'double'},\n",
       "   'LocationLong': {'type': 'double'},\n",
       "   'Measurement': {'type': 'text'},\n",
       "   'Sensor': {'type': 'text'},\n",
       "   'Source': {'type': 'text'},\n",
       "   'TimeStamp': {'type': 'date', 'format': 'epoch_millis'},\n",
       "   'Value': {'type': 'double'}}},\n",
       " 'settings': {'index': {'number_of_shards': '1',\n",
       "   'blocks': {'read_only_allow_delete': 'false'},\n",
       "   'provided_name': 'brasov-dev',\n",
       "   'creation_date': '1610817549020',\n",
       "   'number_of_replicas': '1',\n",
       "   'uuid': 'OVyiC0qrR6CQ0fF5EVyaSA',\n",
       "   'version': {'created': '7050099'}}}}"
      ]
     },
     "execution_count": 13,
     "metadata": {},
     "output_type": "execute_result"
    }
   ],
   "source": [
    "json['brasov-dev']"
   ]
  },
  {
   "cell_type": "code",
   "execution_count": 14,
   "metadata": {},
   "outputs": [],
   "source": [
    "df = pd.DataFrame(json['brasov-dev'])"
   ]
  },
  {
   "cell_type": "code",
   "execution_count": 15,
   "metadata": {},
   "outputs": [
    {
     "data": {
      "text/html": [
       "<div>\n",
       "<style scoped>\n",
       "    .dataframe tbody tr th:only-of-type {\n",
       "        vertical-align: middle;\n",
       "    }\n",
       "\n",
       "    .dataframe tbody tr th {\n",
       "        vertical-align: top;\n",
       "    }\n",
       "\n",
       "    .dataframe thead th {\n",
       "        text-align: right;\n",
       "    }\n",
       "</style>\n",
       "<table border=\"1\" class=\"dataframe\">\n",
       "  <thead>\n",
       "    <tr style=\"text-align: right;\">\n",
       "      <th></th>\n",
       "      <th>aliases</th>\n",
       "      <th>mappings</th>\n",
       "      <th>settings</th>\n",
       "    </tr>\n",
       "  </thead>\n",
       "  <tbody>\n",
       "    <tr>\n",
       "      <th>properties</th>\n",
       "      <td>NaN</td>\n",
       "      <td>{'LocationLat': {'type': 'double'}, 'LocationL...</td>\n",
       "      <td>NaN</td>\n",
       "    </tr>\n",
       "    <tr>\n",
       "      <th>index</th>\n",
       "      <td>NaN</td>\n",
       "      <td>NaN</td>\n",
       "      <td>{'number_of_shards': '1', 'blocks': {'read_onl...</td>\n",
       "    </tr>\n",
       "  </tbody>\n",
       "</table>\n",
       "</div>"
      ],
      "text/plain": [
       "            aliases                                           mappings  \\\n",
       "properties      NaN  {'LocationLat': {'type': 'double'}, 'LocationL...   \n",
       "index           NaN                                                NaN   \n",
       "\n",
       "                                                     settings  \n",
       "properties                                                NaN  \n",
       "index       {'number_of_shards': '1', 'blocks': {'read_onl...  "
      ]
     },
     "execution_count": 15,
     "metadata": {},
     "output_type": "execute_result"
    }
   ],
   "source": [
    "df"
   ]
  }
 ],
 "metadata": {
  "interpreter": {
   "hash": "b89b5cfaba6639976dc87ff2fec6d58faec662063367e2c229c520fe71072417"
  },
  "kernelspec": {
   "display_name": "Python 3.10.1 64-bit",
   "language": "python",
   "name": "python3"
  },
  "language_info": {
   "codemirror_mode": {
    "name": "ipython",
    "version": 3
   },
   "file_extension": ".py",
   "mimetype": "text/x-python",
   "name": "python",
   "nbconvert_exporter": "python",
   "pygments_lexer": "ipython3",
   "version": "3.10.1"
  },
  "orig_nbformat": 4
 },
 "nbformat": 4,
 "nbformat_minor": 2
}
